{
 "cells": [
  {
   "cell_type": "code",
   "execution_count": 1,
   "id": "5df4d014-8c65-41a3-a616-79e2c526b94d",
   "metadata": {
    "tags": []
   },
   "outputs": [],
   "source": [
    "import os\n",
    "import shutil\n",
    "os.environ['OMPI_MCA_rmaps_base_oversubscribe'] = '1'\n",
    "n_threads = 96\n",
    "os.environ['USE_PYGEOS'] = '0'\n",
    "os.environ['PROJ_LIB'] = '/opt/conda/share/proj/'\n",
    "os.environ['NUMEXPR_MAX_THREADS'] = f'{n_threads}'\n",
    "os.environ['NUMEXPR_NUM_THREADS'] = f'{n_threads}'\n",
    "os.environ['OMP_THREAD_LIMIT'] = f'{n_threads}'\n",
    "os.environ[\"OMP_NUM_THREADS\"] = f'{n_threads}'\n",
    "os.environ[\"OPENBLAS_NUM_THREADS\"] = f'{n_threads}' # export OPENBLAS_NUM_THREADS=4 \n",
    "os.environ[\"MKL_NUM_THREADS\"] = f'{n_threads}' # export MKL_NUM_THREADS=6\n",
    "os.environ[\"VECLIB_MAXIMUM_THREADS\"] = f'{n_threads}' # export VECLIB_MAXIMUM_THREADS=4\n",
    "import numpy as np\n",
    "import skmap_bindings as sb\n",
    "import time"
   ]
  },
  {
   "cell_type": "code",
   "execution_count": 2,
   "id": "f9f2816f-469a-4af5-b520-cb647885750f",
   "metadata": {
    "tags": []
   },
   "outputs": [
    {
     "name": "stdout",
     "output_type": "stream",
     "text": [
      "[[1. 1.]\n",
      " [1. 1.]\n",
      " [1. 2.]\n",
      " [0. 2.]\n",
      " [1. 0.]]\n",
      "[[0. 1. 0. 1. 0.]\n",
      " [0. 1. 0. 1. 0.]\n",
      " [0. 1. 0. 0. 1.]\n",
      " [1. 0. 0. 0. 1.]\n",
      " [0. 1. 1. 0. 0.]]\n"
     ]
    }
   ],
   "source": [
    "n_class_1 = 2\n",
    "n_class_2 = 3\n",
    "n_pix = 5\n",
    "lc_mat = np.empty((n_pix, 2), dtype=np.float32)\n",
    "indicators_mat = np.empty((n_pix, n_class_1 + n_class_2), dtype=np.float32)\n",
    "\n",
    "lc_mat[:,0] = np.random.randint(0, n_class_1, n_pix).astype(np.float32)\n",
    "lc_mat[:,1] = np.random.randint(0, n_class_2, n_pix).astype(np.float32)\n",
    "print(lc_mat)\n",
    "\n",
    "# Extact indicators for each LC (the parallelization is per pixels chunk so it will be fast)\n",
    "# Parameters: data_in [matrix<float>], n_threads [uint], data_out[matrix<float>], col_in_select [uint], col_out_select [vector<uint>], classes [vector<uint>]\n",
    "sb.extractIndicators(lc_mat, n_threads, indicators_mat, 0, range(0, n_class_1), range(0, n_class_1))\n",
    "sb.extractIndicators(lc_mat, n_threads, indicators_mat, 1, range(n_class_1, n_class_1+n_class_2), range(0, n_class_2))\n",
    "print(indicators_mat)"
   ]
  },
  {
   "cell_type": "code",
   "execution_count": 3,
   "id": "e1d90a20-23b5-40fe-81e5-4ae10bd4c002",
   "metadata": {
    "tags": []
   },
   "outputs": [
    {
     "data": {
      "text/plain": [
       "array([[ 37.,  67.],\n",
       "       [ 63.,  65.],\n",
       "       [ 12., 110.],\n",
       "       ...,\n",
       "       [ 30., 103.],\n",
       "       [ 38.,  14.],\n",
       "       [ 65., 108.]], dtype=float32)"
      ]
     },
     "execution_count": 3,
     "metadata": {},
     "output_type": "execute_result"
    }
   ],
   "source": [
    "n_class_1 = 70\n",
    "n_class_2 = 120\n",
    "n_pix = 4000*4000\n",
    "\n",
    "lc_mat = np.empty((n_pix, 2), dtype=np.float32)\n",
    "indicators_mat = np.empty((n_pix, n_class_1 + n_class_2), dtype=np.float32)\n",
    "\n",
    "lc_mat[:,0] = np.random.randint(0, n_class_1, n_pix).astype(np.float32)\n",
    "lc_mat[:,1] = np.random.randint(0, n_class_2, n_pix).astype(np.float32)\n",
    "lc_mat"
   ]
  },
  {
   "cell_type": "code",
   "execution_count": 4,
   "id": "fc238b68-786a-492a-88f9-3e15e9e312a0",
   "metadata": {
    "tags": []
   },
   "outputs": [
    {
     "name": "stdout",
     "output_type": "stream",
     "text": [
      "Time on real case application: 6.54 s\n"
     ]
    }
   ],
   "source": [
    "start = time.time()\n",
    "sb.extractIndicators(lc_mat, n_threads, indicators_mat, 0, range(0, n_class_1), range(0, n_class_1))\n",
    "sb.extractIndicators(lc_mat, n_threads, indicators_mat, 1, range(n_class_1, n_class_1+n_class_2), range(0, n_class_2))\n",
    "print(f\"Time on real case application: {(time.time() - start):.2f} s\")"
   ]
  },
  {
   "cell_type": "code",
   "execution_count": null,
   "id": "e98b87ce-6754-44e1-b0a2-04243c2d860f",
   "metadata": {},
   "outputs": [],
   "source": []
  }
 ],
 "metadata": {
  "kernelspec": {
   "display_name": "Python 3 (ipykernel)",
   "language": "python",
   "name": "python3"
  },
  "language_info": {
   "codemirror_mode": {
    "name": "ipython",
    "version": 3
   },
   "file_extension": ".py",
   "mimetype": "text/x-python",
   "name": "python",
   "nbconvert_exporter": "python",
   "pygments_lexer": "ipython3",
   "version": "3.8.16"
  }
 },
 "nbformat": 4,
 "nbformat_minor": 5
}
