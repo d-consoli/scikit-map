{
 "cells": [
  {
   "cell_type": "code",
   "execution_count": 1,
   "id": "aee6de34-177a-4271-815a-caafda596831",
   "metadata": {},
   "outputs": [],
   "source": [
    "from skmap.io import RasterData\n",
    "from skmap.io import process\n",
    "import numpy as np\n",
    "from skmap.misc import ttprint\n",
    "import pandas as pd\n",
    "import traceback\n",
    "import sys\n",
    "from rasterio.windows import Window\n",
    "from typing import Callable, Iterator, List,  Union\n",
    "from osgeo import gdal, gdal_array\n",
    "import numpy as np\n",
    "from datetime import datetime\n",
    "import skmap_bindings\n",
    "import pandas as pd\n",
    "import numpy as np\n",
    "from pathlib import Path\n",
    "import random\n",
    "\n",
    "gdal_opts = {\n",
    " 'GDAL_HTTP_VERSION': '1.0',\n",
    " 'CPL_VSIL_CURL_ALLOWED_EXTENSIONS': '.tif',\n",
    "}\n",
    "n_threads = 96"
   ]
  },
  {
   "cell_type": "code",
   "execution_count": 2,
   "id": "dcc099b7-1d73-41f7-91c5-cdd38984b15d",
   "metadata": {},
   "outputs": [
    {
     "name": "stderr",
     "output_type": "stream",
     "text": [
      "/tmp/ipykernel_2592/2902411329.py:12: SettingWithCopyWarning: \n",
      "A value is trying to be set on a copy of a slice from a DataFrame\n",
      "\n",
      "See the caveats in the documentation: https://pandas.pydata.org/pandas-docs/stable/user_guide/indexing.html#returning-a-view-versus-a-copy\n",
      "  df['dt2'].iloc[df.shape[0]-1] = pd.to_datetime('20231231', format='%Y%m%d')\n"
     ]
    },
    {
     "data": {
      "text/plain": [
       "['../data/c_gls_GDMP300-RT5_201907310000_GLOBE_PROBAV_V1.0.1_gdp.tiff',\n",
       " '../data/c_gls_GDMP300-RT5_201908100000_GLOBE_PROBAV_V1.0.1_gdp.tiff',\n",
       " '../data/c_gls_GDMP300-RT5_201908200000_GLOBE_PROBAV_V1.0.1_gdp.tiff']"
      ]
     },
     "execution_count": 2,
     "metadata": {},
     "output_type": "execute_result"
    }
   ],
   "source": [
    "import pandas as pd\n",
    "import numpy as np\n",
    "from pathlib import Path\n",
    "df = pd.read_csv(\"/mnt/nibble/VITO_GDP/new_list.in\", header=None)\n",
    "df = df.rename(columns={0: 'file'})\n",
    "df['date'] = df['file'].apply(lambda f: f.split('_')[3][0:8])\n",
    "# df['file'] = df['file'].apply(lambda f: f\"http://192.168.49.30:8333/tmp-global-geomorpho/GDP/{f}\" )\n",
    "df['file'] = df['file'].apply(lambda f: f\"../data/{f}\" )\n",
    "df = df.sort_values('date')\n",
    "df['dt1'] = pd.to_datetime(df['date'], format='%Y%m%d')\n",
    "df['dt2'] = np.roll(df['dt1'],-1)\n",
    "df['dt2'].iloc[df.shape[0]-1] = pd.to_datetime('20231231', format='%Y%m%d')\n",
    "\n",
    "df['file'] = df['file'].apply(lambda x: x.replace('192.168.49.30', f'192.168.49.{30+random.randint(0,13)}'))\n",
    "\n",
    "files_list = df['file'].tolist()[200:208]\n",
    "files_list[0:3]"
   ]
  },
  {
   "cell_type": "code",
   "execution_count": 3,
   "id": "eb92ebfe-4fd5-45d7-8491-a45b078b2908",
   "metadata": {},
   "outputs": [],
   "source": [
    "percentiles = [25., 50., 75.]\n",
    "bands_list = [1,]\n",
    "n_rasters = len(files_list)\n",
    "file_order = np.arange(n_rasters)\n",
    "x_off = 0\n",
    "y_off = 0\n",
    "# x_size, y_size = (100, 100)\n",
    "x_size, y_size = (120960, 47040)\n",
    "shape = (n_rasters, x_size * y_size)\n",
    "array = np.empty(shape, dtype=np.float32)\n",
    "array_t = np.empty((shape[1], shape[0]), dtype=np.float32)\n",
    "array_perc_t = np.empty((shape[1], len(percentiles)), dtype=np.float32)"
   ]
  },
  {
   "cell_type": "code",
   "execution_count": 4,
   "id": "2ac966f6-8ee7-43ea-836a-ec1a9b1c2ca5",
   "metadata": {},
   "outputs": [
    {
     "name": "stdout",
     "output_type": "stream",
     "text": [
      "CPU times: user 30.7 ms, sys: 18.6 ms, total: 49.3 ms\n",
      "Wall time: 7.6 ms\n"
     ]
    }
   ],
   "source": [
    "%%time\n",
    "skmap_bindings.readData(array, n_threads, files_list, file_order, x_off, y_off, x_size, y_size, bands_list, gdal_opts)"
   ]
  },
  {
   "cell_type": "code",
   "execution_count": 5,
   "id": "70b53e10-9e84-4429-afe0-413fe21f0856",
   "metadata": {},
   "outputs": [
    {
     "name": "stdout",
     "output_type": "stream",
     "text": [
      "CPU times: user 166 µs, sys: 26 µs, total: 192 µs\n",
      "Wall time: 67.7 µs\n"
     ]
    }
   ],
   "source": [
    "%%time\n",
    "skmap_bindings.transposeArray(array, n_threads, array_t)"
   ]
  },
  {
   "cell_type": "code",
   "execution_count": 6,
   "id": "001e1efc-7ad5-43a8-b1a4-92f435e9a596",
   "metadata": {},
   "outputs": [
    {
     "name": "stdout",
     "output_type": "stream",
     "text": [
      "CPU times: user 4.4 ms, sys: 0 ns, total: 4.4 ms\n",
      "Wall time: 580 µs\n"
     ]
    }
   ],
   "source": [
    "%%time\n",
    "skmap_bindings.computePercentiles(array_t, 3, array_perc_t, percentiles)"
   ]
  },
  {
   "cell_type": "code",
   "execution_count": 7,
   "id": "2bd64b5c-d729-4169-9750-1d953696dd11",
   "metadata": {
    "tags": []
   },
   "outputs": [
    {
     "name": "stdout",
     "output_type": "stream",
     "text": [
      "[[23. 15. 23. 33. 27. 34. 58. 84.]\n",
      " [23. 15. 23. 33. 27. 34. 58. 84.]\n",
      " [23. 15. 23. 22. 18. 34. 59. 84.]\n",
      " [23.  7. 12. 22. 18. 23. 44. 63.]\n",
      " [12.  7. 12. 11.  9. 23. 29. 63.]\n",
      " [12.  7. 12. 22. 18. 23. 44. 63.]\n",
      " [23.  7. 12. 22. 18. 23. 29. 63.]\n",
      " [12.  7. 12. 22. 18. 23. 29. 63.]\n",
      " [12.  7. 12. 22. 18. 23. 29. 42.]\n",
      " [12.  8. 12. 22.  9. 12. 30. 63.]]\n",
      "[[23.   30.   40.  ]\n",
      " [23.   30.   40.  ]\n",
      " [21.   23.   40.25]\n",
      " [16.5  22.5  28.25]\n",
      " [10.5  12.   24.5 ]\n",
      " [12.   20.   28.25]\n",
      " [16.5  22.5  24.5 ]\n",
      " [12.   20.   24.5 ]\n",
      " [12.   20.   24.5 ]\n",
      " [11.25 12.   24.  ]]\n"
     ]
    }
   ],
   "source": [
    "print(array_t[0:10,:])\n",
    "print(array_perc_t[0:10,:])"
   ]
  },
  {
   "cell_type": "code",
   "execution_count": null,
   "id": "73075f62-a56c-4e7d-8a7c-348473055891",
   "metadata": {},
   "outputs": [],
   "source": []
  }
 ],
 "metadata": {
  "kernelspec": {
   "display_name": "Python 3 (ipykernel)",
   "language": "python",
   "name": "python3"
  },
  "language_info": {
   "codemirror_mode": {
    "name": "ipython",
    "version": 3
   },
   "file_extension": ".py",
   "mimetype": "text/x-python",
   "name": "python",
   "nbconvert_exporter": "python",
   "pygments_lexer": "ipython3",
   "version": "3.8.16"
  }
 },
 "nbformat": 4,
 "nbformat_minor": 5
}
