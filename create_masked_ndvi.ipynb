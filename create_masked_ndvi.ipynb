{
 "cells": [
  {
   "cell_type": "code",
   "execution_count": 1,
   "id": "aee6de34-177a-4271-815a-caafda596831",
   "metadata": {},
   "outputs": [],
   "source": [
    "import numpy as np\n",
    "import pandas as pd\n",
    "import sys\n",
    "from datetime import datetime\n",
    "import skmap_bindings\n",
    "from pathlib import Path\n",
    "import time\n",
    "import os\n",
    "import random\n",
    "os.environ['PROJ_LIB'] = '/opt/conda/share/proj/'\n",
    "\n",
    "gdal_opts = {\n",
    " 'GDAL_HTTP_VERSION': '1.0',\n",
    " 'CPL_VSIL_CURL_ALLOWED_EXTENSIONS': '.tif',\n",
    "}\n",
    "n_threads = 96\n",
    "bands_list = [1,]\n",
    "x_off = 0\n",
    "y_off = 0\n",
    "x_size, y_size = (4004, 4004)\n",
    "nodata_val = 255\n",
    "compression_command = f\"gdal_translate -a_nodata {nodata_val} -co COMPRESS=deflate -co TILED=TRUE -co BLOCKXSIZE=1024 -co BLOCKYSIZE=1024 -co NUM_THREADS=8\"\n",
    "date = '20220701_20220831'\n",
    "tmp_write_dir = f'../tmp_{date}'\n",
    "band_scaling = 0.004\n",
    "result_scaling = 125.\n",
    "result_offset = 125.\n",
    "climping = [0., 250.]"
   ]
  },
  {
   "cell_type": "code",
   "execution_count": 2,
   "id": "fe2977f9-83d7-4c10-9364-ee1a75c2eb15",
   "metadata": {
    "tags": []
   },
   "outputs": [],
   "source": [
    "with open('../global_tiles_s1.csv') as file:\n",
    "    tiles = [f'{line.rstrip()}' for line in file]\n",
    "\n",
    "# tiles = ['110E_00S', '112E_00S', '100E_00S',]    \n",
    "n_tiles = len(tiles)"
   ]
  },
  {
   "cell_type": "code",
   "execution_count": 3,
   "id": "4e7068d6-4d71-48f6-92ee-a01cd53ccc7c",
   "metadata": {
    "tags": []
   },
   "outputs": [
    {
     "name": "stdout",
     "output_type": "stream",
     "text": [
      "Processing chunk from 15000 to 15096\n",
      "Processing chunk from 15096 to 15192\n",
      "Processing chunk from 15192 to 15288\n",
      "Processing chunk from 15288 to 15384\n",
      "Processing chunk from 15384 to 15480\n",
      "Processing chunk from 15480 to 15576\n",
      "Processing chunk from 15576 to 15672\n",
      "Processing chunk from 15672 to 15768\n",
      "Processing chunk from 15768 to 15864\n",
      "Processing chunk from 15864 to 15960\n",
      "Processing chunk from 15960 to 16056\n",
      "Processing chunk from 16056 to 16152\n",
      "Processing chunk from 16152 to 16248\n",
      "Processing chunk from 16248 to 16344\n",
      "Processing chunk from 16344 to 16440\n",
      "Processing chunk from 16440 to 16536\n",
      "Processing chunk from 16536 to 16632\n",
      "Processing chunk from 16632 to 16728\n",
      "Processing chunk from 16728 to 16824\n",
      "Processing chunk from 16824 to 16920\n",
      "Processing chunk from 16920 to 17016\n",
      "Processing chunk from 17016 to 17112\n",
      "Processing chunk from 17112 to 17208\n",
      "Processing chunk from 17208 to 17304\n",
      "Processing chunk from 17304 to 17400\n",
      "Processing chunk from 17400 to 17496\n",
      "Processing chunk from 17496 to 17592\n",
      "Processing chunk from 17592 to 17688\n",
      "Processing chunk from 17688 to 17784\n",
      "Processing chunk from 17784 to 17880\n",
      "Processing chunk from 17880 to 17976\n",
      "Processing chunk from 17976 to 18072\n",
      "Processing chunk from 18072 to 18168\n",
      "Processing chunk from 18168 to 18264\n",
      "Processing chunk from 18264 to 18360\n",
      "Processing chunk from 18360 to 18456\n",
      "Processing chunk from 18456 to 18552\n",
      "Processing chunk from 18552 to 18648\n",
      "Processing chunk from 18648 to 18667\n"
     ]
    }
   ],
   "source": [
    "# for i in range(0, n_tiles, n_threads):\n",
    "# for i in range(7968, 16000, n_threads):\n",
    "for i in range(15000, n_tiles, n_threads):\n",
    "    tiles_chunk = tiles[i:min(i+n_threads, n_tiles)]\n",
    "    n_chunk = len(tiles_chunk)\n",
    "    print(f\"Processing chunk from {i} to {min(i+n_threads, n_tiles)}\", flush=True)\n",
    "    start = time.time()\n",
    "    files_mask = [f'../../GPW/global_landmask/gpw_landmask_{tile}_ultimate.tif' for tile in tiles_chunk]\n",
    "    files_out = [f'ndvi_{date}_{tile}_landmasked' for tile in tiles_chunk]\n",
    "    files_red = [f'http://192.168.49.30:8333/prod-landsat-ard2/{tile}/seasconv/red_glad.SeasConv.ard2_m_30m_s_{date}_go_epsg.4326_v20230908.tif' for tile in tiles_chunk]\n",
    "    files_nir = [f'http://192.168.49.30:8333/prod-landsat-ard2/{tile}/seasconv/nir_glad.SeasConv.ard2_m_30m_s_{date}_go_epsg.4326_v20230908.tif' for tile in tiles_chunk]\n",
    "    mask = np.empty((n_chunk, x_size * y_size), dtype=np.float32)\n",
    "    mask_idx = range(n_chunk)\n",
    "    nir_red_ndvi = np.empty((3*n_chunk, x_size * y_size), dtype=np.float32)\n",
    "    nir_idx = range(n_chunk)\n",
    "    red_idx = range(n_chunk,2*n_chunk)\n",
    "    ndvi_idx = range(2*n_chunk,3*n_chunk)\n",
    "\n",
    "    skmap_bindings.readData(mask, n_threads, files_mask, mask_idx, x_off, y_off, x_size, y_size, bands_list, gdal_opts)\n",
    "    skmap_bindings.readData(nir_red_ndvi, n_threads, files_nir, nir_idx, x_off, y_off, x_size, y_size, bands_list, gdal_opts)\n",
    "    skmap_bindings.readData(nir_red_ndvi, n_threads, files_red, red_idx, x_off, y_off, x_size, y_size, bands_list, gdal_opts)\n",
    "\n",
    "    skmap_bindings.computeNormalizedDifference(nir_red_ndvi, n_threads,\n",
    "                                                nir_idx, red_idx, ndvi_idx,\n",
    "                                                band_scaling, band_scaling, result_scaling, result_offset, climping)\n",
    "\n",
    "    skmap_bindings.maskData(nir_red_ndvi, n_threads, ndvi_idx, mask, 0., 255.)\n",
    "\n",
    "    nir_red_ndvi[ndvi_idx,:][mask[:,:] == 0.] = 255.\n",
    "    skmap_bindings.writeByteData(nir_red_ndvi, n_threads, gdal_opts, files_red, tmp_write_dir, files_out, ndvi_idx,\n",
    "        x_off, y_off, x_size, y_size, nodata_val, compression_command)\n",
    "    # print(f\"Processed files in {time.time() - start:.2f} s\", flush=True)"
   ]
  },
  {
   "cell_type": "code",
   "execution_count": null,
   "id": "3a717dbe-2c60-47c4-a13d-86ea92411e82",
   "metadata": {},
   "outputs": [],
   "source": []
  }
 ],
 "metadata": {
  "kernelspec": {
   "display_name": "Python 3 (ipykernel)",
   "language": "python",
   "name": "python3"
  },
  "language_info": {
   "codemirror_mode": {
    "name": "ipython",
    "version": 3
   },
   "file_extension": ".py",
   "mimetype": "text/x-python",
   "name": "python",
   "nbconvert_exporter": "python",
   "pygments_lexer": "ipython3",
   "version": "3.8.16"
  }
 },
 "nbformat": 4,
 "nbformat_minor": 5
}
