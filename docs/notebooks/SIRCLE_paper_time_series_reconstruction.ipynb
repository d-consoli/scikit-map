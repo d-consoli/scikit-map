{
 "cells": [
  {
   "cell_type": "markdown",
   "id": "322f8703-3ed7-4812-817b-403edd7a753d",
   "metadata": {},
   "source": [
    "# Download data on Zenodo: reference in the paper"
   ]
  },
  {
   "cell_type": "markdown",
   "id": "728097b2-d929-40f5-9bd4-c22212295ee0",
   "metadata": {},
   "source": [
    "# Read the data"
   ]
  },
  {
   "cell_type": "code",
   "execution_count": 1,
   "id": "e41470f3-fe40-468a-b832-2165215a629e",
   "metadata": {
    "tags": []
   },
   "outputs": [],
   "source": [
    "import pyreadr\n",
    "import os\n",
    "os.environ['USE_PYGEOS'] = '0'\n",
    "os.environ['PROJ_LIB'] = '/opt/conda/share/proj/'\n",
    "import geopandas as gpd\n",
    "import numpy as np"
   ]
  },
  {
   "cell_type": "code",
   "execution_count": 2,
   "id": "ad392cba-5374-4d7b-a723-91aef6a3f7c2",
   "metadata": {
    "tags": []
   },
   "outputs": [],
   "source": [
    "strata = gpd.read_file('extracted_agg_points_wgs84.gpkg')['Stratum'].to_numpy()\n",
    "group_1c = (strata == 1)\n",
    "group_ge2c = (strata == 2)\n",
    "group_0c = (strata > 2)"
   ]
  },
  {
   "cell_type": "code",
   "execution_count": 3,
   "id": "04a830d9-0f98-4800-a53e-20abd497be29",
   "metadata": {
    "tags": []
   },
   "outputs": [
    {
     "name": "stdout",
     "output_type": "stream",
     "text": [
      "2599\n",
      "2599\n",
      "46780\n",
      "51978\n",
      "(51978,)\n"
     ]
    }
   ],
   "source": [
    "count_1c = np.sum(group_1c.astype(int))\n",
    "print(count_1c)\n",
    "count_ge2c = np.sum(group_ge2c.astype(int))\n",
    "print(count_ge2c)\n",
    "count_0c = np.sum(group_0c.astype(int))\n",
    "print(count_0c)\n",
    "print(count_1c+count_ge2c+count_0c)\n",
    "print(strata.shape)"
   ]
  },
  {
   "cell_type": "code",
   "execution_count": 6,
   "id": "e6c88ed0-f05d-40b5-861a-1467b8073243",
   "metadata": {
    "tags": []
   },
   "outputs": [],
   "source": [
    "bands = ['blue', 'green', 'nir', 'red', 'swir1', 'swir2', 'thermal']\n",
    "merged_agg_data_1c = np.full((count_1c*7,156), np.nan, dtype=np.double) \n",
    "merged_agg_data_ge2c = np.full((count_ge2c*7,156), np.nan, dtype=np.double) \n",
    "merged_agg_data_0c = np.full((count_0c*7,156), np.nan, dtype=np.double) \n",
    "merged_ARCO_data_1c = np.empty((count_1c*7,156), dtype=np.double) \n",
    "merged_ARCO_data_ge2c = np.empty((count_ge2c*7,156), dtype=np.double) \n",
    "merged_ARCO_data_0c = np.empty((count_0c*7,156), dtype=np.double) \n",
    "\n",
    "data = pyreadr.read_r('clear_agg.rds')[None].to_numpy()\n",
    "clear_1c = data[group_1c]\n",
    "clear_ge2c = data[group_ge2c]\n",
    "clear_0c = data[group_0c]\n",
    "mask_1c = (clear_1c == 1)\n",
    "mask_ge2c = (clear_ge2c == 1)\n",
    "mask_0c = (clear_0c == 1)\n",
    "np.save('clear_1c', clear_1c)\n",
    "np.save('clear_ge2c', clear_ge2c)\n",
    "np.save('clear_0c', clear_0c)\n",
    "\n",
    "\n",
    "for i, band in enumerate(bands):\n",
    "    data = pyreadr.read_r(f'{band}_agg.rds')[None].to_numpy()\n",
    "    data_1c = data[group_1c]\n",
    "    data_ge2c = data[group_ge2c]\n",
    "    data_0c = data[group_0c]\n",
    "    \n",
    "    merged_agg_data_1c[i*count_1c:(i+1)*count_1c,:][mask_1c] = data_1c[mask_1c]\n",
    "    merged_agg_data_ge2c[i*count_ge2c:(i+1)*count_ge2c,:][mask_ge2c] = data_ge2c[mask_ge2c]\n",
    "    merged_agg_data_0c[i*count_0c:(i+1)*count_0c,:][mask_0c] = data_0c[mask_0c]\n",
    "    \n",
    "np.save('merged_agg_data_1c', merged_agg_data_1c)\n",
    "np.save('merged_agg_data_ge2c', merged_agg_data_ge2c)\n",
    "np.save('merged_agg_data_0c', merged_agg_data_0c)\n"
   ]
  },
  {
   "cell_type": "markdown",
   "id": "95e73c17-71bd-4af1-815e-d9bba3cc42c7",
   "metadata": {},
   "source": [
    "# Compare performance of time series reconstruction methods"
   ]
  },
  {
   "cell_type": "code",
   "execution_count": 7,
   "id": "e54f4f74-0ea5-4973-84b9-4a2ed446b890",
   "metadata": {
    "tags": []
   },
   "outputs": [],
   "source": [
    "import matplotlib.pyplot as plt\n",
    "import sys\n",
    "import numpy as np\n",
    "import os\n",
    "sys.path.insert(0, os.path.abspath('../../'))\n",
    "from skmap.data import toy\n",
    "from skmap.io import process\n",
    "import importlib\n",
    "import time\n",
    "importlib.reload(process)\n",
    "from tqdm.notebook import tqdm\n",
    "from scipy.signal import savgol_coeffs\n",
    "plt.rcParams.update({'font.size': 24})"
   ]
  },
  {
   "cell_type": "code",
   "execution_count": 8,
   "id": "0548e9d3-e45b-4d6b-8638-3bb98267f644",
   "metadata": {
    "tags": []
   },
   "outputs": [],
   "source": [
    "def add_nan_elements(A, fraction_of_nan):\n",
    "    B = np.copy(A)\n",
    "    non_nan_indices = np.where(~np.isnan(A))\n",
    "    total_non_nan_elements = len(non_nan_indices[0])\n",
    "    nan_elements_count = int(total_non_nan_elements * fraction_of_nan)\n",
    "    chosen_indices = np.random.choice(total_non_nan_elements, nan_elements_count, replace=False)\n",
    "    nan_indices = (non_nan_indices[0][chosen_indices], non_nan_indices[1][chosen_indices], non_nan_indices[2][chosen_indices])\n",
    "    B[nan_indices] = np.nan\n",
    "    return B"
   ]
  },
  {
   "cell_type": "code",
   "execution_count": 9,
   "id": "c746d220-704e-4183-9f82-6c5c1198fc6c",
   "metadata": {
    "tags": []
   },
   "outputs": [],
   "source": [
    "def get_SWAG_weights(att_env, att_seas, season_size, n_imag):\n",
    "    conv_mat_row = np.zeros((n_imag))\n",
    "    base_func = np.zeros((season_size,))\n",
    "    period_y = season_size/2.0\n",
    "    slope_y = att_seas/10/period_y\n",
    "    for i in np.arange(season_size):\n",
    "        if i <= period_y:\n",
    "            base_func[i] = -slope_y*i\n",
    "        else:\n",
    "            base_func[i] = slope_y*(i-period_y)-att_seas/10\n",
    "    # Compute the envelop to attenuate temporarly far images\n",
    "    env_func = np.zeros((n_imag,))\n",
    "    delta_e = n_imag\n",
    "    slope_e = att_env/10/delta_e\n",
    "    for i in np.arange(delta_e):\n",
    "        env_func[i] = -slope_e*i\n",
    "        conv_mat_row = 10.0**(np.resize(base_func,n_imag) + env_func)\n",
    "    return conv_mat_row"
   ]
  },
  {
   "cell_type": "code",
   "execution_count": 10,
   "id": "f383bba2-874a-45f7-911a-ff6cf7102f70",
   "metadata": {
    "tags": []
   },
   "outputs": [
    {
     "data": {
      "image/png": "[encoded data removed]",
      "text/plain": [
       "<Figure size 640x480 with 1 Axes>"
      ]
     },
     "metadata": {},
     "output_type": "display_data"
    }
   ],
   "source": [
    "def standard_LI(data):\n",
    "    out_data = data.copy()\n",
    "    for i in range(data.shape[0]):\n",
    "        for j in range(data.shape[1]):\n",
    "            prev_avail_pix = -1\n",
    "            next_avail_pix = -1\n",
    "            for k in range(data.shape[2]):\n",
    "                if np.isnan(data[i,j,k]):\n",
    "                    if (prev_avail_pix>-1) and (next_avail_pix>-1):\n",
    "                        delta_x = next_avail_pix - prev_avail_pix\n",
    "                        delta_y = data[i,j,next_avail_pix] - data[i,j,prev_avail_pix]\n",
    "                        m = delta_y / float(delta_x)\n",
    "                        out_data[i,j,k] = data[i,j,prev_avail_pix] + m * float(k - prev_avail_pix)\n",
    "                else:\n",
    "                    prev_avail_pix = k\n",
    "                    for n in range(k+1, data.shape[2]):\n",
    "                        if ~np.isnan(data[i,j,n]):\n",
    "                            next_avail_pix = n\n",
    "                            break\n",
    "    return out_data\n",
    "\n",
    "n = 20\n",
    "t = range(n)\n",
    "test_data = np.zeros((1,1,n))\n",
    "test_data[0,0,0:5] = np.nan\n",
    "test_data[0,0,5:8] = 1.\n",
    "test_data[0,0,8:15] = np.nan\n",
    "test_data[0,0,15:16] = 5.\n",
    "test_data[0,0,16:19] = np.nan\n",
    "test_data[0,0,19] = 3.\n",
    "test_SLI = standard_LI(test_data)\n",
    "plt.plot(t, test_SLI[0,0,:])\n",
    "plt.plot(t, test_data[0,0,:],'-x')\n",
    "plt.show()"
   ]
  },
  {
   "cell_type": "code",
   "execution_count": 11,
   "id": "947346d7-71c1-4c09-a341-5f83ea6f188a",
   "metadata": {
    "tags": []
   },
   "outputs": [],
   "source": [
    "def compute_CVRMSE(out_vec, data, data_ref):\n",
    "    mask_cmp = np.isnan(data) & ~np.isnan(data_ref)\n",
    "    for out_i in out_vec:\n",
    "        mask_cmp = mask_cmp & ~np.isnan(out_i)\n",
    "\n",
    "    rerr = []\n",
    "    for out_i in out_vec:\n",
    "        diff = np.array(data_ref[mask_cmp] - out_i[mask_cmp])\n",
    "        RMSE = np.sqrt(np.mean((diff) ** 2))\n",
    "        mean_ref = np.abs(np.mean(np.array(data_ref[mask_cmp], dtype=np.double)))\n",
    "        CVRMSE = RMSE / mean_ref\n",
    "        rerr.append(CVRMSE)\n",
    "    return rerr"
   ]
  },
  {
   "cell_type": "code",
   "execution_count": 12,
   "id": "3b425340-f9c8-41ab-bdbe-21db78c53aa6",
   "metadata": {
    "tags": []
   },
   "outputs": [],
   "source": [
    "def compute_NDVI(data_ref_nir, data_ref_red):\n",
    "    data_ref = (data_ref_nir/250. - data_ref_red/250.) / (data_ref_nir/250. + data_ref_red/250.)\n",
    "    data_ref[data_ref == np.infty] = np.nan\n",
    "    data_ref[data_ref == -np.infty] = np.nan\n",
    "    data_ref = data_ref * 125. + 125.\n",
    "    data_ref[data_ref < 0.] = 0.\n",
    "    data_ref[data_ref > 250.] = 250.\n",
    "    return data_ref"
   ]
  },
  {
   "cell_type": "code",
   "execution_count": 13,
   "id": "72cc8361-ba35-4547-b512-32577aa0adc0",
   "metadata": {
    "tags": []
   },
   "outputs": [],
   "source": [
    "merged_agg_data_1c = np.load('merged_agg_data_1c.npy')\n",
    "merged_agg_data_ge2c = np.load('merged_agg_data_ge2c.npy')\n",
    "merged_agg_data_0c = np.load('merged_agg_data_0c.npy')"
   ]
  },
  {
   "cell_type": "code",
   "execution_count": null,
   "id": "85830a05-4baf-46af-9119-bf255ce70bb1",
   "metadata": {
    "tags": []
   },
   "outputs": [
    {
     "name": "stderr",
     "output_type": "stream",
     "text": [
      "/tmp/ipykernel_272137/1914262335.py:12: RuntimeWarning: invalid value encountered in scalar divide\n",
      "  m = delta_y / float(delta_x)\n"
     ]
    }
   ],
   "source": [
    "%%time\n",
    "nan_fraction_vec = np.linspace(0,1,13)[1:-2]\n",
    "n_methods = 5\n",
    "n_bands = 7\n",
    "n_iter = 3\n",
    "CVRMSE_mat = np.zeros((len(nan_fraction_vec), n_methods, n_bands+2, n_iter), np.double)\n",
    "tot_nan_fracs = np.zeros((len(nan_fraction_vec), n_bands+2, n_iter), np.double)\n",
    "\n",
    "use_future = 0\n",
    "w_l = 2\n",
    "p_o = 2\n",
    "coef = savgol_coeffs(w_l*2+1, p_o, use='dot')\n",
    "n_t_tot_1c = merged_agg_data_1c.shape[0]\n",
    "n_t_tot_0c = merged_agg_data_0c.shape[0]\n",
    "n_t_tot_ge2c = merged_agg_data_ge2c.shape[0]\n",
    "n_t_1c = int(n_t_tot_1c/n_bands)\n",
    "n_t_0c = int(n_t_tot_0c/n_bands)\n",
    "n_t_ge2c = int(n_t_tot_ge2c/n_bands)\n",
    "n_s = merged_agg_data_1c.shape[1]\n",
    "for it in range(n_iter):\n",
    "    for k in range(n_bands+2):\n",
    "    # for k in [n_bands,]:\n",
    "        if k >= n_bands:\n",
    "            data_tmp = np.concatenate((merged_agg_data_1c[3*n_t_1c:(3+1)*n_t_1c,:], \\\n",
    "                                       merged_agg_data_ge2c[3*n_t_ge2c:(3+1)*n_t_ge2c,:], \\\n",
    "                                       merged_agg_data_0c[3*n_t_0c:(3+1)*n_t_0c,:]), axis=0)\n",
    "            n_t = data_tmp.shape[0]      \n",
    "            data_ref_red = np.zeros((1, n_t, n_s))\n",
    "            data_ref_red[0,:,:] = data_tmp.copy()\n",
    "            data_tmp = np.concatenate((merged_agg_data_1c[2*n_t_1c:(2+1)*n_t_1c,:], \\\n",
    "                                       merged_agg_data_ge2c[2*n_t_ge2c:(2+1)*n_t_ge2c,:], \\\n",
    "                                       merged_agg_data_0c[2*n_t_0c:(2+1)*n_t_0c,:]), axis=0)\n",
    "            n_t = data_tmp.shape[0]      \n",
    "            data_ref_nir = np.zeros((1, n_t, n_s))\n",
    "            data_ref_nir[0,:,:] = data_tmp.copy()\n",
    "            \n",
    "            data_ref = compute_NDVI(data_ref_nir, data_ref_red)\n",
    "            \n",
    "            \n",
    "        else:\n",
    "            data_tmp = np.concatenate((merged_agg_data_1c[k*n_t_1c:(k+1)*n_t_1c,:], \\\n",
    "                                       merged_agg_data_ge2c[k*n_t_ge2c:(k+1)*n_t_ge2c,:], \\\n",
    "                                       merged_agg_data_0c[k*n_t_0c:(k+1)*n_t_0c,:]), axis=0)\n",
    "            n_t = data_tmp.shape[0]      \n",
    "            data_ref = np.zeros((1, n_t, n_s))\n",
    "            data_ref[0,:,:] = data_tmp.copy()\n",
    "            \n",
    "\n",
    "        for i, nan_fraction in enumerate(nan_fraction_vec):\n",
    "            \n",
    "            if k == n_bands + 1:\n",
    "                \n",
    "                data_red = add_nan_elements(data_ref_red, nan_fraction)\n",
    "                data_nir = data_ref_nir.copy()\n",
    "                data_nir[np.isnan(data_red)] = np.nan\n",
    "                tot_nan_fracs[i,k,it] = np.sum(np.isnan(data_red).astype(int))/data_red.size\n",
    "\n",
    "                out_SLI_red = standard_LI(data_red)\n",
    "                out_SLI_nir = standard_LI(data_nir)\n",
    "                out_SLI = compute_NDVI(out_SLI_nir, out_SLI_red)\n",
    "                \n",
    "                wv_f_LI = 1-np.arange(1,n_s)/n_s\n",
    "                wv_p_LI = wv_f_LI.copy()[::-1]\n",
    "                sircleTransformer_LI = process.SircleTransformer(wv_0=1, wv_f=wv_f_LI, wv_p=wv_p_LI, backend=\"dense\", use_mask=True, return_den=True)\n",
    "                out_LI_red, _ = sircleTransformer_LI._run(data_red)\n",
    "                out_LI_nir, _ = sircleTransformer_LI._run(data_nir)\n",
    "                out_LI = compute_NDVI(out_LI_nir, out_LI_red)\n",
    "\n",
    "                wv_p_MR = get_SWAG_weights(130, 0, 6, n_s)[1:][::-1]\n",
    "                wv_f_MR = get_SWAG_weights(130, 0, 6, n_s)[1:]*use_future\n",
    "                sircleTransformer_MR = process.SircleTransformer(wv_0=1, wv_f=wv_f_MR, wv_p=wv_p_MR, backend=\"dense\", use_mask=True, return_den=True)\n",
    "                out_MR_red, _ = sircleTransformer_MR._run(data_red)\n",
    "                out_MR_nir, _ = sircleTransformer_MR._run(data_nir)\n",
    "                out_MR = compute_NDVI(out_MR_nir, out_MR_red)\n",
    "                \n",
    "\n",
    "                wv_0_SG = coef[w_l]\n",
    "                wv_f_SG = coef[w_l+1:]\n",
    "                wv_p_SG = coef[0:w_l]\n",
    "                sircleTransformer_SG = process.SircleTransformer(wv_0=wv_0_SG, wv_f=wv_f_SG, wv_p=wv_p_SG, backend=\"sparse\", use_mask=False)\n",
    "                out_SG_red = sircleTransformer_SG._run(out_MR_red)\n",
    "                out_SG_nir = sircleTransformer_SG._run(out_MR_nir)\n",
    "                out_SG = compute_NDVI(out_SG_nir, out_SG_red)\n",
    "\n",
    "                wv_p_prod = get_SWAG_weights(46, 45, 6, n_s)[1:][::-1]\n",
    "                wv_f_prod = get_SWAG_weights(46, 45, 6, n_s)[1:]*use_future\n",
    "                sircleTransformer_prod = process.SircleTransformer(wv_0=1, wv_f=wv_f_prod, wv_p=wv_p_prod, backend=\"dense\", use_mask=True, return_den=True)\n",
    "                out_prod_red, _ = sircleTransformer_prod._run(data_red)\n",
    "                out_prod_nir, _ = sircleTransformer_prod._run(data_nir)\n",
    "                out_prod = compute_NDVI(out_prod_nir, out_prod_red)\n",
    "\n",
    "                wv_0_SG2 = coef[w_l]\n",
    "                wv_f_SG2 = coef[w_l+1:]\n",
    "                wv_p_SG2 = coef[0:w_l]\n",
    "                sircleTransformer_SG2 = process.SircleTransformer(wv_0=wv_0_SG2, wv_f=wv_f_SG2, wv_p=wv_p_SG2, backend=\"sparse\", use_mask=False)\n",
    "                out_SG2_red = sircleTransformer_SG2._run(out_prod_red)\n",
    "                out_SG2_nir = sircleTransformer_SG2._run(out_prod_nir)\n",
    "                out_SG2 = compute_NDVI(out_SG2_nir, out_SG2_red)\n",
    "\n",
    "                out_vec = (out_LI, out_SG, out_SG2, out_prod, out_SLI)\n",
    "                CVRMSE_mat[i,:,k,it] = compute_CVRMSE(out_vec, data_red, data_ref)\n",
    "                \n",
    "                \n",
    "            else:\n",
    "            \n",
    "                data = add_nan_elements(data_ref, nan_fraction)\n",
    "                tot_nan_fracs[i,k,it] = np.sum(np.isnan(data).astype(int))/data.size\n",
    "                \n",
    "                out_SLI = standard_LI(data)\n",
    "\n",
    "                wv_f_LI = 1-np.arange(1,n_s)/n_s\n",
    "                wv_p_LI = wv_f_LI.copy()[::-1]\n",
    "                sircleTransformer_LI = process.SircleTransformer(wv_0=1, wv_f=wv_f_LI, wv_p=wv_p_LI, backend=\"dense\", use_mask=True, return_den=True)\n",
    "                out_LI, mask_LI = sircleTransformer_LI._run(data)\n",
    "\n",
    "                wv_p_MR = get_SWAG_weights(130, 0, 6, n_s)[1:][::-1]\n",
    "                wv_f_MR = get_SWAG_weights(130, 0, 6, n_s)[1:]*use_future\n",
    "                sircleTransformer_MR = process.SircleTransformer(wv_0=1, wv_f=wv_f_MR, wv_p=wv_p_MR, backend=\"dense\", use_mask=True, return_den=True)\n",
    "                out_MR, mask_MR = sircleTransformer_MR._run(data)\n",
    "\n",
    "                wv_0_SG = coef[w_l]\n",
    "                wv_f_SG = coef[w_l+1:]\n",
    "                wv_p_SG = coef[0:w_l]\n",
    "                sircleTransformer_SG = process.SircleTransformer(wv_0=wv_0_SG, wv_f=wv_f_SG, wv_p=wv_p_SG, backend=\"sparse\", use_mask=False)\n",
    "                out_SG = sircleTransformer_SG._run(out_MR)\n",
    "\n",
    "                wv_p_prod = get_SWAG_weights(46, 45, 6, n_s)[1:][::-1]\n",
    "                wv_f_prod = get_SWAG_weights(46, 45, 6, n_s)[1:]*use_future\n",
    "                sircleTransformer_prod = process.SircleTransformer(wv_0=1, wv_f=wv_f_prod, wv_p=wv_p_prod, backend=\"dense\", use_mask=True, return_den=True)\n",
    "                out_prod, mask_prod = sircleTransformer_prod._run(data)\n",
    "\n",
    "                wv_0_SG2 = coef[w_l]\n",
    "                wv_f_SG2 = coef[w_l+1:]\n",
    "                wv_p_SG2 = coef[0:w_l]\n",
    "                sircleTransformer_SG2 = process.SircleTransformer(wv_0=wv_0_SG2, wv_f=wv_f_SG2, wv_p=wv_p_SG2, backend=\"sparse\", use_mask=False)\n",
    "                out_SG2 = sircleTransformer_SG2._run(out_prod)\n",
    "\n",
    "                out_vec = (out_LI, out_SG, out_SG2, out_prod, out_SLI)\n",
    "\n",
    "                CVRMSE_mat[i,:,k,it] = compute_CVRMSE(out_vec, data, data_ref)\n",
    "CVRMSE_mat = np.mean(CVRMSE_mat, -1)\n",
    "tot_nan_fracs = np.mean(tot_nan_fracs, -1)\n",
    "                \n",
    "CVRMSE_mean = np.mean(CVRMSE_mat, -1)\n",
    "CVRMSE_std = np.std(CVRMSE_mat, -1)"
   ]
  },
  {
   "cell_type": "code",
   "execution_count": null,
   "id": "fc2df8e4-d4df-49f3-bb81-dfb8f10adef6",
   "metadata": {
    "tags": []
   },
   "outputs": [],
   "source": [
    "print('LI, MR-SG, ARCO-SG, ARCO, SLI')\n",
    "print('CVRMSE mean, 10% artificial gaps')\n",
    "print(CVRMSE_mean[0,:])\n",
    "print('CVRMSE std, 10% artificial gaps')\n",
    "print(CVRMSE_std[0,:])"
   ]
  },
  {
   "cell_type": "code",
   "execution_count": null,
   "id": "d7128d81-ce3f-4205-a01b-8ac9d99ca545",
   "metadata": {
    "tags": []
   },
   "outputs": [],
   "source": [
    "np.save('CVRMSE_mat_1', CVRMSE_mat)\n",
    "np.save('CVRMSE_mean_1', CVRMSE_mean)\n",
    "np.save('CVRMSE_std_1', CVRMSE_std)\n",
    "np.save('tot_nan_fracs_1', tot_nan_fracs)\n",
    "np.save('data_tmp_1', data_tmp)"
   ]
  },
  {
   "cell_type": "code",
   "execution_count": null,
   "id": "fe980723-9274-4766-b0d2-2c0d1c63020f",
   "metadata": {
    "tags": []
   },
   "outputs": [],
   "source": [
    "CVRMSE_mat = np.load('CVRMSE_mat_1.npy')\n",
    "CVRMSE_mean = np.load('CVRMSE_mean_1.npy')\n",
    "CVRMSE_std = np.load('CVRMSE_std_1.npy')\n",
    "tot_nan_fracs = np.load('tot_nan_fracs_1.npy')\n",
    "data_tmp = np.load('data_tmp_1.npy')"
   ]
  },
  {
   "cell_type": "code",
   "execution_count": null,
   "id": "07c62a3c-01df-47a8-826e-2a8cdd9a46eb",
   "metadata": {
    "tags": []
   },
   "outputs": [],
   "source": [
    "import matplotlib.lines as mlines\n",
    "ms = 17\n",
    "lw = 2.5\n",
    "mw = 2\n",
    "plt.rcParams.update({'font.size': 24})\n",
    "plt.figure(figsize=(18,6))\n",
    "SLI = mlines.Line2D([], [], color='blueviolet', marker='s', linestyle='None',\n",
    "                          markersize=ms, label='Standard LI')\n",
    "LI = mlines.Line2D([], [], color='indianred', marker='o', linestyle='None',\n",
    "                          markersize=ms, label='SIRCLE-LI')\n",
    "SWAG_SG = mlines.Line2D([], [], color='cornflowerblue', marker='o', linestyle='None',\n",
    "                          markersize=ms, label='SWAG-SG')\n",
    "SWAG = mlines.Line2D([], [], color='forestgreen', marker='o', linestyle='None',\n",
    "                          markersize=ms, label='SWAG')\n",
    "MR_SG = mlines.Line2D([], [], color='orange', marker='o', linestyle='None',\n",
    "                          markersize=ms, label='MR-SG')\n",
    "\n",
    "handles = [SLI, LI, MR_SG, SWAG, SWAG_SG]\n",
    "handles.append(mlines.Line2D([], [], color='k', linestyle='--', label='Orig. gap frac.'))\n",
    "    \n",
    "plt.legend(handles=handles, loc='upper center', bbox_to_anchor=(0.5, 1.6), ncol=3, fancybox=True, shadow=True)\n",
    "plt.savefig(f'legend.svg', format='svg', bbox_inches=\"tight\")\n",
    "\n",
    "plt.show()"
   ]
  },
  {
   "cell_type": "code",
   "execution_count": null,
   "id": "16b08a98-095d-4f49-bf2a-08c00eff37d0",
   "metadata": {
    "tags": []
   },
   "outputs": [],
   "source": [
    "from matplotlib.ticker import FormatStrFormatter\n",
    "from matplotlib.ticker import ScalarFormatter\n",
    "import matplotlib\n",
    "orig_gap_fraq = np.sum(np.isnan(data_tmp).astype(int))/data_tmp.size\n",
    "bands = ['Blue', 'Green', 'NIR', 'Red', 'SWIR1', 'SWIR2', 'Thermal', 'NDVI (compute NDVI first)', 'NDVI (reconstruct first)']\n",
    "color_list = ['navy', 'lawngreen', 'darkorange', 'firebrick', 'gold', 'darkslategray', 'darkviolet', 'white', 'white']\n",
    "ymin = 0.01\n",
    "ymax = 1\n",
    "ms = 17\n",
    "lw = 2.5\n",
    "mw = 2\n",
    "n_bands = 7\n",
    "for k in range(n_bands+2):\n",
    "# # For NIR, Red and NDVI use:\n",
    "# for k in [2,3,7,8]:\n",
    "    band = bands[k]\n",
    "    plt.rcParams.update({'font.size': 24})\n",
    "    plt.figure(figsize=(8,5))\n",
    "    plt.semilogy(tot_nan_fracs[:,k], CVRMSE_mat[:,0,k], '.',  mfc='none', mec='k', markersize=ms, linestyle='--', linewidth=lw, markeredgewidth=mw, color = 'indianred')\n",
    "    plt.plot(tot_nan_fracs[:,k], CVRMSE_mat[:,1,k], '.',  mfc='none', mec='k', markersize=ms, linestyle='--', linewidth=lw, markeredgewidth=mw, color = 'orange')\n",
    "    plt.plot(tot_nan_fracs[:,k], CVRMSE_mat[:,2,k], '.',  mfc='none', mec='k', markersize=ms, linestyle='--', linewidth=lw, markeredgewidth=mw, color = 'cornflowerblue')\n",
    "    plt.plot(tot_nan_fracs[:,k], CVRMSE_mat[:,3,k], '.',  mfc='none', mec='k', markersize=ms, linestyle='--', linewidth=lw, markeredgewidth=mw, color = 'forestgreen')\n",
    "    plt.plot(tot_nan_fracs[:,k], CVRMSE_mat[:,4,k], '.',  mfc='none', mec='k', markersize=ms, linestyle='--', linewidth=lw, markeredgewidth=mw, color = 'blueviolet')\n",
    "    plt.vlines(orig_gap_fraq, np.min(CVRMSE_mat[:,:,k]), np.max(CVRMSE_mat[:,:,k]), colors='k', linestyles='--')\n",
    "    plt.xlabel('Total gaps fraction')\n",
    "    from matplotlib.ticker import ScalarFormatter\n",
    "    plt.gca().yaxis.set_major_formatter(ScalarFormatter())\n",
    "    plt.gca().yaxis.set_minor_formatter(ScalarFormatter());\n",
    "    plt.gca().yaxis.set_major_formatter(plt.FormatStrFormatter('%.2f'))\n",
    "    plt.gca().yaxis.set_minor_formatter(plt.FormatStrFormatter('%.2f'));\n",
    "    plt.ylabel('CVRMSE')\n",
    "    plt.title(band, y=1.0,)\n",
    "    plt.grid(True, which=\"both\", ls=\"-\")\n",
    "    plt.savefig(f'CVRMSE_{band}.svg', format='svg', bbox_inches=\"tight\")\n",
    "    plt.show()\n"
   ]
  },
  {
   "cell_type": "markdown",
   "id": "16c0726a-afd6-4044-afa9-9be4c30681d9",
   "metadata": {},
   "source": [
    "# Stratified comparison"
   ]
  },
  {
   "cell_type": "code",
   "execution_count": null,
   "id": "9d67b57a-96c5-4571-b81f-459167dbaf75",
   "metadata": {
    "tags": []
   },
   "outputs": [],
   "source": [
    "import pyreadr\n",
    "import geopandas as gpd\n",
    "import numpy as np\n",
    "import matplotlib.pyplot as plt\n",
    "import sys\n",
    "import numpy as np\n",
    "import os\n",
    "sys.path.insert(0, os.path.abspath('../../'))\n",
    "from skmap.data import toy\n",
    "from skmap.io import process\n",
    "import importlib\n",
    "import time\n",
    "importlib.reload(process)\n",
    "from tqdm.notebook import tqdm\n",
    "from scipy.signal import savgol_coeffs"
   ]
  },
  {
   "cell_type": "code",
   "execution_count": null,
   "id": "0cef1deb-25d0-47d4-9d0a-558e24c0d91e",
   "metadata": {
    "tags": []
   },
   "outputs": [],
   "source": [
    "strata = gpd.read_file('extracted_agg_points_wgs84.gpkg')['Stratum'].to_numpy()\n",
    "u_strata = np.unique(strata)\n",
    "u_strata = np.delete(u_strata, 1, 0)"
   ]
  },
  {
   "cell_type": "code",
   "execution_count": null,
   "id": "e0007c52-e9b8-4df3-8856-50f46cdabfc6",
   "metadata": {
    "tags": []
   },
   "outputs": [],
   "source": [
    "def add_nan_elements(A, fraction_of_nan):\n",
    "    B = np.copy(A)\n",
    "    non_nan_indices = np.where(~np.isnan(A))\n",
    "    total_non_nan_elements = len(non_nan_indices[0])\n",
    "    nan_elements_count = int(total_non_nan_elements * fraction_of_nan)\n",
    "    chosen_indices = np.random.choice(total_non_nan_elements, nan_elements_count, replace=False)\n",
    "    nan_indices = (non_nan_indices[0][chosen_indices], non_nan_indices[1][chosen_indices], non_nan_indices[2][chosen_indices])\n",
    "    B[nan_indices] = np.nan\n",
    "    return B"
   ]
  },
  {
   "cell_type": "code",
   "execution_count": null,
   "id": "218db39a-650c-4a23-b375-319d0cf00b61",
   "metadata": {
    "tags": []
   },
   "outputs": [],
   "source": [
    "def compute_CVRMSE(out_vec, data, data_ref):\n",
    "    mask_cmp = np.isnan(data) & ~np.isnan(data_ref)\n",
    "    for out_i in out_vec:\n",
    "        mask_cmp = mask_cmp & ~np.isnan(out_i)\n",
    "\n",
    "    rerr = []\n",
    "    for out_i in out_vec:\n",
    "        diff = np.array(data_ref[mask_cmp] - out_i[mask_cmp])\n",
    "        RMSE = np.sqrt(np.mean((diff) ** 2))\n",
    "        mean_ref = np.mean(np.array(data_ref[mask_cmp], dtype=np.double))\n",
    "        CVRMSE = RMSE / mean_ref\n",
    "        rerr.append(CVRMSE)\n",
    "    return rerr"
   ]
  },
  {
   "cell_type": "code",
   "execution_count": null,
   "id": "b8fd8f0a-a1f6-447e-b13f-6b653956c4da",
   "metadata": {
    "tags": []
   },
   "outputs": [],
   "source": [
    "def get_SWAG_weights(att_env, att_seas, season_size, n_imag):\n",
    "    conv_mat_row = np.zeros((n_imag))\n",
    "    base_func = np.zeros((season_size,))\n",
    "    period_y = season_size/2.0\n",
    "    slope_y = att_seas/10/period_y\n",
    "    for i in np.arange(season_size):\n",
    "        if i <= period_y:\n",
    "            base_func[i] = -slope_y*i\n",
    "        else:\n",
    "            base_func[i] = slope_y*(i-period_y)-att_seas/10\n",
    "    # Compute the envelop to attenuate temporarly far images\n",
    "    env_func = np.zeros((n_imag,))\n",
    "    delta_e = n_imag\n",
    "    slope_e = att_env/10/delta_e\n",
    "    for i in np.arange(delta_e):\n",
    "        env_func[i] = -slope_e*i\n",
    "        conv_mat_row = 10.0**(np.resize(base_func,n_imag) + env_func)\n",
    "    return conv_mat_row"
   ]
  },
  {
   "cell_type": "code",
   "execution_count": null,
   "id": "f5a1a682-904c-41f6-b935-2ab716601b58",
   "metadata": {
    "tags": []
   },
   "outputs": [],
   "source": [
    "bands = ['blue', 'green', 'nir', 'red', 'swir1', 'swir2', 'thermal']\n",
    "\n",
    "n_strata = len(u_strata)\n",
    "CVRMSE_mat = np.zeros((7,n_strata))\n",
    "CVRMSE_mat_SG = np.zeros((7,n_strata))\n",
    "tot_nan_fracs = np.zeros((n_strata,))\n",
    "\n",
    "nan_fraction = 0.1\n",
    "clear_mat = pyreadr.read_r('clear.rds')[None].to_numpy()\n",
    "for i, band in enumerate(bands):\n",
    "    band_mat = pyreadr.read_r(f'{band}.rds')[None].to_numpy()\n",
    "    print(f\"Band {band}\")\n",
    "    print(f\"Stratum: \", end=\"\")\n",
    "    for j, stratum in enumerate(u_strata):\n",
    "        print(f\"{stratum}, \", end=\"\")\n",
    "        if stratum == 1:\n",
    "            agg_nogap_mask_1 = (clear_mat[strata==1,:] == 250)    \n",
    "            data_tmp_1 = band_mat[strata==1,:]\n",
    "            n_t = data_tmp_1.shape[0]\n",
    "            n_s = data_tmp_1.shape[1]\n",
    "            agg_nogap_mask_2 = (clear_mat[strata==2,:] == 250)    \n",
    "            data_tmp_2 = band_mat[strata==2,:]\n",
    "            agg_nogap_mask = np.zeros((n_t, n_s), bool)\n",
    "            data_tmp = np.zeros((n_t, n_s), np.double)\n",
    "            cut = int(n_t*0.97)\n",
    "            agg_nogap_mask[0:cut,:] = agg_nogap_mask_1[0:cut,:]\n",
    "            agg_nogap_mask[cut:,:] = agg_nogap_mask_2[0:n_t-cut,:]\n",
    "            data_tmp[0:cut,:] = data_tmp_1[0:cut,:]\n",
    "            data_tmp[cut:,:] = data_tmp_2[0:n_t-cut,:]\n",
    "        else:\n",
    "            agg_nogap_mask = (clear_mat[strata==stratum,:] == 250)    \n",
    "            data_tmp = band_mat[strata==stratum,:]            \n",
    "        data_tmp[~agg_nogap_mask] = np.nan\n",
    "        n_t = data_tmp.shape[0]\n",
    "        n_s = data_tmp.shape[1]\n",
    "        data_ref = np.zeros((1, n_t, n_s))\n",
    "        data_ref[0,:,:] = data_tmp.copy()\n",
    "        data = add_nan_elements(data_ref, nan_fraction)\n",
    "        tot_nan_fracs[j] = np.sum(np.isnan(data).astype(int))/data.size\n",
    "\n",
    "        wv_p_prod = get_SWAG_weights(46, 45, 6, n_s)[1:][::-1]\n",
    "        wv_f_prod = get_SWAG_weights(46, 45, 6, n_s)[1:]*0.0\n",
    "        sircleTransformer_prod = process.SircleTransformer(wv_0=1, wv_f=wv_f_prod, wv_p=wv_p_prod, backend=\"dense\", use_mask=True)\n",
    "        out_prod = sircleTransformer_prod._run(data)\n",
    "        \n",
    "        CVRMSE_mat[i,j] = compute_CVRMSE((out_prod,), data, data_ref)[0]\n",
    "    print(f\" \")\n",
    "\n",
    "    \n",
    "    \n"
   ]
  },
  {
   "cell_type": "markdown",
   "id": "84eb7146-618e-4fb5-9bd8-df5a9b783f89",
   "metadata": {},
   "source": [
    "## Legend of ESA-CCI at https://maps.elie.ucl.ac.be/CCI/viewer/download/CCI-LC_Maps_Legend.pdf"
   ]
  },
  {
   "cell_type": "code",
   "execution_count": null,
   "id": "0da2e32a-eed5-4fe9-9050-60121a173810",
   "metadata": {
    "tags": []
   },
   "outputs": [],
   "source": [
    "import matplotlib.lines as mlines\n",
    "plt.rcParams['mathtext.fontset'] = 'cm'\n",
    "plt.rcParams.update({'font.size': 24})\n",
    "fig = plt.figure(figsize=(14,12))\n",
    "grid = plt.GridSpec(1, 2, width_ratios=[6, 1])\n",
    "ax1 = plt.subplot(grid[0])\n",
    "ax2 = plt.subplot(grid[1])\n",
    "order = np.argsort(tot_nan_fracs)[::-1]\n",
    "range_arr = np.arange(order.size)  \n",
    "tmp = order[np.where(order==0)[0][0]]\n",
    "order[range_arr != 0 ] = order[range_arr != np.where(order==0)[0][0]]\n",
    "order[0] = tmp\n",
    "ms = 17\n",
    "mw = 2\n",
    "bands = ['Blue', 'Green', 'NIR', 'Red', 'SWIR1', 'SWIR2', 'Thermal']\n",
    "marker_list = ['o', '^', 'P', 's', '*', 'x', 'd']\n",
    "color_list = ['navy', 'lawngreen', 'darkorange', 'firebrick', 'gold', 'darkslategray', 'darkviolet']\n",
    "# ticks = ['1','2','10','20','30','50','60','70','80','90','100','120','130','140','150','160','180','190','200','220']\n",
    "ticks_orig = ['Land cover change','Rainfed crop','Irrigated crop','Mosaic crop-nat.veg.','Everg. broadl. tree','Dec. broadl. tree','Everg. needl. tree','Dec. needl. tree', \\\n",
    "         'Mix broadl.-needl.','Mosaic t.-shrub-herb.','Shrubland','Grassland','Lichens-mosses','Sparse vegetation','Flooded tree cover','Flooded schrub-herb.','Urban areas','Bare areas','Permanent snow-ice']\n",
    "handles = []\n",
    "ticks = []\n",
    "\n",
    "for i, band in enumerate(bands):\n",
    "    handles.append(mlines.Line2D([], [], color=color_list[i], marker=marker_list[i], linestyle='None', markeredgewidth=mw, \n",
    "                          markersize=ms,  mfc='none', label=bands[i]))\n",
    "    for k, j in enumerate(order):\n",
    "        if i == 0:\n",
    "            ticks.append(ticks_orig[j])\n",
    "        ax1.plot(CVRMSE_mat[i,j], k, marker=marker_list[i],  markersize=ms,  mfc='none', color=color_list[i], markeredgewidth=mw)\n",
    "ax1.set_xlabel('CVRMSE')\n",
    "ax1.hlines(0.5,0,1.5,'k',linestyles='dashed')\n",
    "ax1.set_yticks(range(n_strata), ticks, fontdict=None, minor=False)\n",
    "ax1.legend(handles=handles, loc='upper center', bbox_to_anchor=(0.80, 1),\n",
    "          ncol=1, fancybox=True, shadow=True)\n",
    "ax1.grid()\n",
    "plt.subplot(1, 2, 2)\n",
    "n = len(tot_nan_fracs[order])\n",
    "ax2.plot(tot_nan_fracs[order], range(n), color='k', linewidth=0.7)\n",
    "ax2.fill_betweenx(range(n), tot_nan_fracs[order]*100, 0.0, color='#fc8d59',  label='% gaps')\n",
    "ax2.fill_betweenx(range(n), tot_nan_fracs[order]*100, 100, color='#91cf60', label='% valid')\n",
    "ax2.set_yticks([])\n",
    "ax2.hlines(0.5,0,1,'k',linestyles='dashed')\n",
    "ax2.set_xlabel('Gaps')\n",
    "leg = ax2.legend(loc='upper center', bbox_to_anchor=(0.5, -0.018), ncol=1, fancybox=False, shadow=False, borderpad=0.1)\n",
    "leg.get_frame().set_linewidth(0.0)\n",
    "leg.get_frame().set_alpha(None)\n",
    "plt.tight_layout()\n",
    "plt.savefig('ESACCI_CVRMSE.pdf', format=\"pdf\", bbox_inches=\"tight\")\n",
    "plt.show()"
   ]
  }
 ],
 "metadata": {
  "kernelspec": {
   "display_name": "Python 3 (ipykernel)",
   "language": "python",
   "name": "python3"
  },
  "language_info": {
   "codemirror_mode": {
    "name": "ipython",
    "version": 3
   },
   "file_extension": ".py",
   "mimetype": "text/x-python",
   "name": "python",
   "nbconvert_exporter": "python",
   "pygments_lexer": "ipython3",
   "version": "3.8.16"
  }
 },
 "nbformat": 4,
 "nbformat_minor": 5
}
