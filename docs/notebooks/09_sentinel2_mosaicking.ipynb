{
 "cells": [
  {
   "cell_type": "markdown",
   "metadata": {},
   "source": [
    "# Sentinel 2 Mosaics\n",
    "\n",
    "This tutorial covers the complete pipeline for producing seamless mosaics of Sentinel 2 imagery using the `s2mosaic` module from `eumap` and AWS.\n",
    "\n",
    "This is done in 3 phases:\n",
    "1. For each S2 tile that overlaps the ROI, a composite is made from all images that fall in designated time range. This composite can be the median or any other percentile (25%, 75%, ...), but all pixels that are marked as cloud or cloud shadow are excluded first.\n",
    "2. A mosaic of all tiles that are acquired along the same orbital track is made (overlapping pixels from different tiles are averaged), for each orbital track that intersects the ROI.\n",
    "3. The orbit-wise mosaics are stitched together by calculating a weighted mean along regions where they overlap. The distance of each pixel from their respective orbital track is taken as the weight.  \n",
    "\n",
    "For this tutorial to work you will need to register for an AWS account and configure AWS CLI tools: [https://docs.aws.amazon.com/cli/latest/userguide/cli-chap-configure.html](https://docs.aws.amazon.com/cli/latest/userguide/cli-chap-configure.html)"
   ]
  },
  {
   "cell_type": "code",
   "execution_count": null,
   "metadata": {},
   "outputs": [],
   "source": [
    "import eumap\n",
    "import eumap.datasets.eo.s2mosaic\n",
    "from eumap.datasets.eo.s2mosaic.satmos_client import JobSchedulerLocal, SatMosClient\n",
    "from eumap.datasets.eo.s2mosaic.mosaic_maker import MosaicMaker\n",
    "\n",
    "from datetime import datetime"
   ]
  },
  {
   "cell_type": "markdown",
   "metadata": {},
   "source": [
    "## 1. S2 tile composites"
   ]
  },
  {
   "cell_type": "markdown",
   "metadata": {},
   "source": [
    "To complete the compositing phase we need to define a time period and obtain a list of S2 scenes as well as a list of the S2 tiles that overlap our ROI.\n",
    "Here we will set some temporary folders for intermediate results and define a timeframe and spatial coverage of mosaic."
   ]
  },
  {
   "cell_type": "code",
   "execution_count": 5,
   "metadata": {},
   "outputs": [],
   "source": [
    "source = 's2l2a'\n",
    "name = 'summer2019'\n",
    "band = 'B08'                                        # we will calculate only the blue S2 band\n",
    "\n",
    "scenes_csv = '09_scenes_tutorial.csv'               # file with all scenes (images)\n",
    "folder_data = '/data/gh/tutorial/data'              # temporary folder for downloading scenes\n",
    "folder_tmp = '/data/gh/tutorial/tmp'                # temporary folder for creating tiffs\n",
    "folder_tiles = '/data/gh/tutorial/tiles'            # output folder for tiles composites\n",
    "bucket = '/data/gh/'                                # name of the output s3 bucket\n",
    "folder_out_parent = 'tutorial/tiles'\n",
    "\n",
    "mosaic_name = f'{source}_{name}_{band}'             # name of the mosaic\n",
    "date_from = datetime(2019, 6, 21)\n",
    "date_to = datetime(2019, 9, 23)\n",
    "s2tiles = ['32UME','32UNE','32UPE','32UQE','33UUV', # these S2 tiles define area of mosaic\n",
    "           '32UMD','32UND','32UPD','32UQD','33UUU',\n",
    "           '32UMC','32UNC','32UPC','32UQC','33UUT']\n",
    "nworkers = 4                                        # number of parallel workers"
   ]
  },
  {
   "cell_type": "markdown",
   "metadata": {},
   "source": [
    "The `JobSchedulerLocal` object takes care of queueing jobs, while `SatMosClient` takes care of parallelization."
   ]
  },
  {
   "cell_type": "code",
   "execution_count": 7,
   "metadata": {},
   "outputs": [],
   "source": [
    "job_scheduler = JobSchedulerLocal(\n",
    "    source=source, \n",
    "    out_folder_prefix = mosaic_name, \n",
    "    band = band,\n",
    "    scenes_csv = scenes_csv,\n",
    "    from_date = date_from, to_date=date_to,\n",
    "    bucket = bucket, \n",
    "    debug = True,\n",
    "    data_folder = folder_data,\n",
    "    tmp_folder = folder_tmp,\n",
    "    out_parent_folder = folder_out_parent,\n",
    "    tiles = s2tiles\n",
    ")\n",
    "\n",
    "client = SatMosClient(job_scheduler, nworkers=nworkers)"
   ]
  },
  {
   "cell_type": "markdown",
   "metadata": {},
   "source": [
    "Once we have all of this defined we can run the client. For the job defined above the processing can take up to 3 hours. Results are tiles in `/data/gh/tutorial/s2l2a_summer2019_B08`. There is 4 folders: CNT, P25, P50, P75. CNT means number of source images for each pixel (excluding clouds), while the rest are the 25th, 50th and 75th percentiles."
   ]
  },
  {
   "cell_type": "code",
   "execution_count": 8,
   "metadata": {},
   "outputs": [
    {
     "name": "stdout",
     "output_type": "stream",
     "text": [
      "STARTING: index=1, s2l2a_summer2019_B08, 32UME\n",
      "New job: avail:58.1074333190918 GB, n_jobs: 1\n",
      "STARTING: index=2, s2l2a_summer2019_B08, 32UNE\n",
      "New job: avail:54.0652961730957 GB, n_jobs: 2\n",
      "FINISHED TEST: success=True, report=OK\n",
      "STARTING: index=3, s2l2a_summer2019_B08, 32UPE\n",
      "New job: avail:41.1991081237793 GB, n_jobs: 2\n",
      "FINISHED TEST: success=True, report=OK\n",
      "STARTING: index=4, s2l2a_summer2019_B08, 32UQE\n",
      "New job: avail:57.94245529174805 GB, n_jobs: 2\n",
      "FINISHED TEST: success=True, report=OK\n",
      "STARTING: index=5, s2l2a_summer2019_B08, 33UUV\n",
      "New job: avail:46.87162780761719 GB, n_jobs: 2\n",
      "FINISHED TEST: success=True, report=OK\n",
      "STARTING: index=6, s2l2a_summer2019_B08, 32UMD\n",
      "New job: avail:58.21084976196289 GB, n_jobs: 2\n",
      "FINISHED TEST: success=True, report=OK\n",
      "STARTING: index=7, s2l2a_summer2019_B08, 32UND\n",
      "New job: avail:52.733768463134766 GB, n_jobs: 2\n",
      "FINISHED TEST: success=True, report=OK\n",
      "STARTING: index=8, s2l2a_summer2019_B08, 32UPD\n",
      "New job: avail:58.11817169189453 GB, n_jobs: 2\n",
      "FINISHED TEST: success=True, report=OK\n",
      "STARTING: index=9, s2l2a_summer2019_B08, 32UQD\n",
      "New job: avail:46.91321563720703 GB, n_jobs: 2\n",
      "FINISHED TEST: success=True, report=OK\n",
      "STARTING: index=10, s2l2a_summer2019_B08, 33UUU\n",
      "New job: avail:58.18669509887695 GB, n_jobs: 2\n",
      "FINISHED TEST: success=True, report=OK\n",
      "STARTING: index=11, s2l2a_summer2019_B08, 32UMC\n",
      "New job: avail:47.37238311767578 GB, n_jobs: 2\n",
      "FINISHED TEST: success=True, report=OK\n",
      "STARTING: index=12, s2l2a_summer2019_B08, 32UNC\n",
      "New job: avail:58.22690963745117 GB, n_jobs: 2\n",
      "FINISHED TEST: success=True, report=OK\n",
      "STARTING: index=13, s2l2a_summer2019_B08, 32UPC\n",
      "New job: avail:47.235713958740234 GB, n_jobs: 2\n",
      "FINISHED TEST: success=True, report=OK\n",
      "STARTING: index=14, s2l2a_summer2019_B08, 32UQC\n",
      "New job: avail:58.154666900634766 GB, n_jobs: 2\n",
      "FINISHED TEST: success=True, report=OK\n",
      "STARTING: index=15, s2l2a_summer2019_B08, 33UUT\n",
      "New job: avail:47.84326934814453 GB, n_jobs: 2\n",
      "FINISHED TEST: success=True, report=OK\n",
      "FINISHED TEST: success=True, report=OK\n",
      "No jobs for me !!!\n"
     ]
    }
   ],
   "source": [
    "\n",
    "client.run()\n"
   ]
  },
  {
   "cell_type": "markdown",
   "metadata": {},
   "source": [
    "### 2. Relative orbits\n",
    "\n",
    "S2 scenes that are acquired along the same orbital track are very likely imaged in similar conditions so we can mosaic them by simply averaging the overlaps."
   ]
  },
  {
   "cell_type": "code",
   "execution_count": 12,
   "metadata": {},
   "outputs": [],
   "source": [
    "bucket = None   # input tiles are stored locally\n",
    "folder_tmp = '/data/gh/tutorial/tmp'\n",
    "\n",
    "nworkers = 20\n",
    "\n",
    "dxy = 30        #output resolution\n",
    "crs = '+proj=laea +lat_0=52 +lon_0=10 +x_0=4321000 +y_0=3210000 +ellps=GRS80 +units=m +no_defs'\n",
    "resampling_method = 'average'   # 'average', 'nearest', 'cubic'"
   ]
  },
  {
   "cell_type": "code",
   "execution_count": 13,
   "metadata": {},
   "outputs": [],
   "source": [
    "mosaic_maker = MosaicMaker(\n",
    "    nworkers=nworkers,\n",
    "    dst_crs = crs,\n",
    "    dxy = dxy,\n",
    "    bucket = bucket,\n",
    "    tmp_folder=folder_tmp,\n",
    "    debug=True\n",
    ")"
   ]
  },
  {
   "cell_type": "markdown",
   "metadata": {},
   "source": [
    "Now we can run `MosaicMaker`, which takes composites from the tiles folder and stitches together ones along the same orbital track.\n",
    "This may take a few minutes to finish, depending on 'nworkers'."
   ]
  },
  {
   "cell_type": "code",
   "execution_count": 17,
   "metadata": {},
   "outputs": [
    {
     "name": "stdout",
     "output_type": "stream",
     "text": [
      "/data/gh/tutorial/tiles/s2l2a_summer2019_B08/CNT/\n",
      "[2022-06-29 18:10:40] mosaic: /data/gh/tutorial/tiles/s2l2a_summer2019_B08/CNT/\n",
      "[2022-06-29 18:10:40] number of orbits: 5\n"
     ]
    },
    {
     "name": "stderr",
     "output_type": "stream",
     "text": [
      "1/5 /data/gh/tutorial/orbits/s2l2a_summer2019_B08/CNT/R051.tif, 1 files:  20%|██        | 1/5 [00:00<00:00, 5890.88it/s]\n",
      "\u001b[A\n",
      "\u001b[A\n",
      "Window 0: 100%|██████████| 1/1 [00:01<00:00,  1.89s/it]\n",
      "2/5 /data/gh/tutorial/orbits/s2l2a_summer2019_B08/CNT/R022.tif, 6 files:  40%|████      | 2/5 [00:02<00:03,  1.00s/it]  \n",
      "\u001b[A\n",
      "\u001b[A\n",
      "\u001b[A\n",
      "\u001b[A\n",
      "Window 1: 100%|██████████| 2/2 [00:07<00:00,  3.82s/it]\n",
      "3/5 /data/gh/tutorial/orbits/s2l2a_summer2019_B08/CNT/R008.tif, 6 files:  60%|██████    | 3/5 [00:10<00:07,  3.97s/it]\n",
      "\u001b[A\n",
      "\u001b[A\n",
      "\u001b[A\n",
      "\u001b[A\n",
      "Window 1: 100%|██████████| 2/2 [00:07<00:00,  3.82s/it]\n",
      "4/5 /data/gh/tutorial/orbits/s2l2a_summer2019_B08/CNT/R065.tif, 12 files:  80%|████████  | 4/5 [00:18<00:05,  5.50s/it]\n",
      "\u001b[A\n",
      "\u001b[A\n",
      "\u001b[A\n",
      "\u001b[A\n",
      "\u001b[A\n",
      "\u001b[A\n",
      "\u001b[A\n",
      "\u001b[A\n",
      "Window 1: 100%|██████████| 4/4 [00:11<00:00,  2.99s/it]\n",
      "5/5 /data/gh/tutorial/orbits/s2l2a_summer2019_B08/CNT/R108.tif, 13 files: 100%|██████████| 5/5 [00:31<00:00,  8.06s/it]\n",
      "\u001b[A\n",
      "\u001b[A\n",
      "\u001b[A\n",
      "\u001b[A\n",
      "\u001b[A\n",
      "\u001b[A\n",
      "\u001b[A\n",
      "\u001b[A\n",
      "Window 1: 100%|██████████| 4/4 [00:15<00:00,  3.87s/it]\n",
      "5/5 /data/gh/tutorial/orbits/s2l2a_summer2019_B08/CNT/R108.tif, 13 files: 100%|██████████| 5/5 [00:47<00:00,  9.51s/it]"
     ]
    },
    {
     "name": "stdout",
     "output_type": "stream",
     "text": [
      "/data/gh/tutorial/tiles/s2l2a_summer2019_B08/P25/\n",
      "[2022-06-29 18:11:28] mosaic: /data/gh/tutorial/tiles/s2l2a_summer2019_B08/P25/\n",
      "[2022-06-29 18:11:28] number of orbits: 5\n"
     ]
    },
    {
     "name": "stderr",
     "output_type": "stream",
     "text": [
      "\n",
      "1/5 /data/gh/tutorial/orbits/s2l2a_summer2019_B08/P25/R051.tif, 1 files:  20%|██        | 1/5 [00:00<00:00, 10058.28it/s]\n",
      "\u001b[A\n",
      "\u001b[A\n",
      "Window 0: 100%|██████████| 1/1 [00:01<00:00,  1.37s/it]\n",
      "2/5 /data/gh/tutorial/orbits/s2l2a_summer2019_B08/P25/R022.tif, 6 files:  40%|████      | 2/5 [00:01<00:02,  1.37it/s]   \n",
      "\u001b[A\n",
      "\u001b[A\n",
      "\u001b[A\n",
      "\u001b[A\n",
      "Window 1: 100%|██████████| 2/2 [00:09<00:00,  4.78s/it]\n",
      "3/5 /data/gh/tutorial/orbits/s2l2a_summer2019_B08/P25/R008.tif, 6 files:  60%|██████    | 3/5 [00:11<00:09,  4.61s/it]\n",
      "\u001b[A\n",
      "\u001b[A\n",
      "\u001b[A\n",
      "\u001b[A\n",
      "Window 0: 100%|██████████| 2/2 [00:09<00:00,  4.74s/it]\n",
      "4/5 /data/gh/tutorial/orbits/s2l2a_summer2019_B08/P25/R065.tif, 12 files:  80%|████████  | 4/5 [00:21<00:06,  6.61s/it]\n",
      "\u001b[A\n",
      "\u001b[A\n",
      "\u001b[A\n",
      "\u001b[A\n",
      "\u001b[A\n",
      "\u001b[A\n",
      "\u001b[A\n",
      "\u001b[A\n",
      "Window 1: 100%|██████████| 4/4 [00:16<00:00,  4.22s/it]\n",
      "5/5 /data/gh/tutorial/orbits/s2l2a_summer2019_B08/P25/R108.tif, 13 files: 100%|██████████| 5/5 [00:39<00:00, 10.50s/it]\n",
      "\u001b[A\n",
      "\u001b[A\n",
      "\u001b[A\n",
      "\u001b[A\n",
      "\u001b[A\n",
      "\u001b[A\n",
      "\u001b[A\n",
      "\u001b[A\n",
      "Window 1: 100%|██████████| 4/4 [00:17<00:00,  4.42s/it]\n",
      "5/5 /data/gh/tutorial/orbits/s2l2a_summer2019_B08/P25/R108.tif, 13 files: 100%|██████████| 5/5 [00:57<00:00, 11.59s/it]"
     ]
    },
    {
     "name": "stdout",
     "output_type": "stream",
     "text": [
      "/data/gh/tutorial/tiles/s2l2a_summer2019_B08/P50/\n",
      "[2022-06-29 18:12:26] mosaic: /data/gh/tutorial/tiles/s2l2a_summer2019_B08/P50/\n",
      "[2022-06-29 18:12:26] number of orbits: 5\n"
     ]
    },
    {
     "name": "stderr",
     "output_type": "stream",
     "text": [
      "\n",
      "1/5 /data/gh/tutorial/orbits/s2l2a_summer2019_B08/P50/R051.tif, 1 files:  20%|██        | 1/5 [00:00<00:00, 12557.80it/s]\n",
      "\u001b[A\n",
      "\u001b[A\n",
      "Window 0: 100%|██████████| 1/1 [00:01<00:00,  1.39s/it]\n",
      "2/5 /data/gh/tutorial/orbits/s2l2a_summer2019_B08/P50/R022.tif, 6 files:  40%|████      | 2/5 [00:01<00:02,  1.35it/s]   \n",
      "\u001b[A\n",
      "\u001b[A\n",
      "\u001b[A\n",
      "\u001b[A\n",
      "Window 1: 100%|██████████| 2/2 [00:09<00:00,  4.78s/it]\n",
      "3/5 /data/gh/tutorial/orbits/s2l2a_summer2019_B08/P50/R008.tif, 6 files:  60%|██████    | 3/5 [00:11<00:09,  4.63s/it]\n",
      "\u001b[A\n",
      "\u001b[A\n",
      "\u001b[A\n",
      "\u001b[A\n",
      "Window 0: 100%|██████████| 2/2 [00:09<00:00,  4.69s/it]\n",
      "4/5 /data/gh/tutorial/orbits/s2l2a_summer2019_B08/P50/R065.tif, 12 files:  80%|████████  | 4/5 [00:21<00:06,  6.58s/it]\n",
      "\u001b[A\n",
      "\u001b[A\n",
      "\u001b[A\n",
      "\u001b[A\n",
      "\u001b[A\n",
      "\u001b[A\n",
      "\u001b[A\n",
      "\u001b[A\n",
      "Window 3: 100%|██████████| 4/4 [00:17<00:00,  4.28s/it]\n",
      "5/5 /data/gh/tutorial/orbits/s2l2a_summer2019_B08/P50/R108.tif, 13 files: 100%|██████████| 5/5 [00:39<00:00, 10.57s/it]\n",
      "\u001b[A\n",
      "\u001b[A\n",
      "\u001b[A\n",
      "\u001b[A\n",
      "\u001b[A\n",
      "\u001b[A\n",
      "\u001b[A\n",
      "\u001b[A\n",
      "Window 1: 100%|██████████| 4/4 [00:17<00:00,  4.45s/it]\n",
      "5/5 /data/gh/tutorial/orbits/s2l2a_summer2019_B08/P50/R108.tif, 13 files: 100%|██████████| 5/5 [00:58<00:00, 11.65s/it]"
     ]
    },
    {
     "name": "stdout",
     "output_type": "stream",
     "text": [
      "/data/gh/tutorial/tiles/s2l2a_summer2019_B08/P75/\n",
      "[2022-06-29 18:13:24] mosaic: /data/gh/tutorial/tiles/s2l2a_summer2019_B08/P75/\n",
      "[2022-06-29 18:13:24] number of orbits: 5\n"
     ]
    },
    {
     "name": "stderr",
     "output_type": "stream",
     "text": [
      "\n",
      "1/5 /data/gh/tutorial/orbits/s2l2a_summer2019_B08/P75/R051.tif, 1 files:  20%|██        | 1/5 [00:00<00:00, 12192.74it/s]\n",
      "\u001b[A\n",
      "\u001b[A\n",
      "Window 0: 100%|██████████| 1/1 [00:01<00:00,  1.35s/it]\n",
      "2/5 /data/gh/tutorial/orbits/s2l2a_summer2019_B08/P75/R022.tif, 6 files:  40%|████      | 2/5 [00:01<00:02,  1.38it/s]   \n",
      "\u001b[A\n",
      "\u001b[A\n",
      "\u001b[A\n",
      "\u001b[A\n",
      "Window 1: 100%|██████████| 2/2 [00:09<00:00,  4.81s/it]\n",
      "3/5 /data/gh/tutorial/orbits/s2l2a_summer2019_B08/P75/R008.tif, 6 files:  60%|██████    | 3/5 [00:11<00:09,  4.63s/it]\n",
      "\u001b[A\n",
      "\u001b[A\n",
      "\u001b[A\n",
      "\u001b[A\n",
      "Window 0: 100%|██████████| 2/2 [00:09<00:00,  4.82s/it]\n",
      "4/5 /data/gh/tutorial/orbits/s2l2a_summer2019_B08/P75/R065.tif, 12 files:  80%|████████  | 4/5 [00:21<00:06,  6.68s/it]\n",
      "\u001b[A\n",
      "\u001b[A\n",
      "\u001b[A\n",
      "\u001b[A\n",
      "\u001b[A\n",
      "\u001b[A\n",
      "\u001b[A\n",
      "\u001b[A\n",
      "Window 1: 100%|██████████| 4/4 [00:17<00:00,  4.29s/it]\n",
      "5/5 /data/gh/tutorial/orbits/s2l2a_summer2019_B08/P75/R108.tif, 13 files: 100%|██████████| 5/5 [00:39<00:00, 10.65s/it]\n",
      "\u001b[A\n",
      "\u001b[A\n",
      "\u001b[A\n",
      "\u001b[A\n",
      "\u001b[A\n",
      "\u001b[A\n",
      "\u001b[A\n",
      "\u001b[A\n",
      "Window 1: 100%|██████████| 4/4 [00:17<00:00,  4.46s/it]\n",
      "5/5 /data/gh/tutorial/orbits/s2l2a_summer2019_B08/P75/R108.tif, 13 files: 100%|██████████| 5/5 [00:58<00:00, 11.72s/it]\n"
     ]
    }
   ],
   "source": [
    "for p in ['CNT','P25','P50','P75']:\n",
    "    folder_input = f'/data/gh/tutorial/tiles/s2l2a_summer2019_B08/{p}/'\n",
    "    folder_output = f'/data/gh/tutorial/orbits/s2l2a_summer2019_B08/{p}/'\n",
    "    print(folder_input)\n",
    "    mosaic_maker.mosaic_orbits_tiled(folder_input, folder_output, resampling_method=resampling_method)"
   ]
  },
  {
   "cell_type": "markdown",
   "metadata": {},
   "source": [
    "### 3. Final stitching\n",
    "\n",
    "First we need to find the extent of the final mosaic."
   ]
  },
  {
   "cell_type": "code",
   "execution_count": 18,
   "metadata": {},
   "outputs": [],
   "source": [
    "left, bottom = 4154000, 3145000\n",
    "right, top = 4564000, 3446000\n",
    "extent = [left, bottom, right, top]"
   ]
  },
  {
   "cell_type": "markdown",
   "metadata": {},
   "source": [
    "Then we can run the stitching method for each statistic."
   ]
  },
  {
   "cell_type": "code",
   "execution_count": 19,
   "metadata": {},
   "outputs": [
    {
     "name": "stdout",
     "output_type": "stream",
     "text": [
      "/data/gh/tutorial/orbits/s2l2a_summer2019_B08/CNT/\n",
      "[2022-06-29 18:14:40] /data/gh/tutorial/final/s2l2a_summer2019_B08_CNT.tif\n",
      "[2022-06-29 18:14:40] Downloading orbit files ...\n"
     ]
    },
    {
     "name": "stderr",
     "output_type": "stream",
     "text": [
      "/data/gh/tutorial/orbits/s2l2a_summer2019_B08/CNT/R051.tif: : 4it [00:00, 3013.69it/s]"
     ]
    },
    {
     "name": "stdout",
     "output_type": "stream",
     "text": [
      "[2022-06-29 18:14:40] \n",
      "\n",
      "Done.\n",
      "[2022-06-29 18:14:40]   mosaic\n"
     ]
    },
    {
     "name": "stderr",
     "output_type": "stream",
     "text": [
      "\n",
      "/data/gh/tutorial/orbits/s2l2a_summer2019_B08/CNT/R051.tif: : 5it [00:00, 895.03it/s] \n",
      "\n",
      "\u001b[A\n",
      "\u001b[A\n",
      "\u001b[A\n",
      "Window 2: 100%|██████████| 2/2 [00:09<00:00,  4.87s/it]"
     ]
    },
    {
     "name": "stdout",
     "output_type": "stream",
     "text": [
      "[2022-06-29 18:14:50] None\n",
      "/data/gh/tutorial/orbits/s2l2a_summer2019_B08/P25/\n",
      "[2022-06-29 18:14:50] /data/gh/tutorial/final/s2l2a_summer2019_B08_P25.tif\n",
      "[2022-06-29 18:14:50] Downloading orbit files ...\n"
     ]
    },
    {
     "name": "stderr",
     "output_type": "stream",
     "text": [
      "\n",
      "/data/gh/tutorial/orbits/s2l2a_summer2019_B08/P25/R051.tif: : 4it [00:00, 3110.35it/s]"
     ]
    },
    {
     "name": "stdout",
     "output_type": "stream",
     "text": [
      "[2022-06-29 18:14:50] \n",
      "\n",
      "Done.\n",
      "[2022-06-29 18:14:50]   mosaic\n"
     ]
    },
    {
     "name": "stderr",
     "output_type": "stream",
     "text": [
      "\n",
      "/data/gh/tutorial/orbits/s2l2a_summer2019_B08/P25/R051.tif: : 5it [00:00, 769.03it/s] \n",
      "\n",
      "\u001b[A\n",
      "\u001b[A\n",
      "\u001b[A\n",
      "Window 2: 100%|██████████| 2/2 [00:08<00:00,  4.46s/it]"
     ]
    },
    {
     "name": "stdout",
     "output_type": "stream",
     "text": [
      "[2022-06-29 18:14:59] None\n",
      "/data/gh/tutorial/orbits/s2l2a_summer2019_B08/P50/\n",
      "[2022-06-29 18:14:59] /data/gh/tutorial/final/s2l2a_summer2019_B08_P50.tif\n",
      "[2022-06-29 18:14:59] Downloading orbit files ...\n"
     ]
    },
    {
     "name": "stderr",
     "output_type": "stream",
     "text": [
      "\n",
      "/data/gh/tutorial/orbits/s2l2a_summer2019_B08/P50/R051.tif: : 4it [00:00, 2367.66it/s]"
     ]
    },
    {
     "name": "stdout",
     "output_type": "stream",
     "text": [
      "[2022-06-29 18:14:59] \n",
      "\n",
      "Done.\n",
      "[2022-06-29 18:14:59]   mosaic\n"
     ]
    },
    {
     "name": "stderr",
     "output_type": "stream",
     "text": [
      "\n",
      "/data/gh/tutorial/orbits/s2l2a_summer2019_B08/P50/R051.tif: : 5it [00:00, 664.10it/s] \n",
      "\n",
      "\u001b[A\n",
      "\u001b[A\n",
      "Window 1: 100%|██████████| 2/2 [00:08<00:00,  4.38s/it]"
     ]
    },
    {
     "name": "stdout",
     "output_type": "stream",
     "text": [
      "[2022-06-29 18:15:08] None\n",
      "/data/gh/tutorial/orbits/s2l2a_summer2019_B08/P75/\n",
      "[2022-06-29 18:15:08] /data/gh/tutorial/final/s2l2a_summer2019_B08_P75.tif\n",
      "[2022-06-29 18:15:08] Downloading orbit files ...\n"
     ]
    },
    {
     "name": "stderr",
     "output_type": "stream",
     "text": [
      "\n",
      "/data/gh/tutorial/orbits/s2l2a_summer2019_B08/P75/R051.tif: : 4it [00:00, 2264.74it/s]"
     ]
    },
    {
     "name": "stdout",
     "output_type": "stream",
     "text": [
      "[2022-06-29 18:15:08] \n",
      "\n",
      "Done.\n",
      "[2022-06-29 18:15:08]   mosaic\n"
     ]
    },
    {
     "name": "stderr",
     "output_type": "stream",
     "text": [
      "\n",
      "/data/gh/tutorial/orbits/s2l2a_summer2019_B08/P75/R051.tif: : 5it [00:00, 769.15it/s] \n",
      "\n",
      "\u001b[A\n",
      "\u001b[A\n",
      "Window 1: 100%|██████████| 2/2 [00:08<00:00,  4.47s/it]"
     ]
    },
    {
     "name": "stdout",
     "output_type": "stream",
     "text": [
      "[2022-06-29 18:15:17] None\n"
     ]
    },
    {
     "name": "stderr",
     "output_type": "stream",
     "text": [
      "\n"
     ]
    }
   ],
   "source": [
    "\n",
    "for p in ['CNT','P25','P50','P75']:\n",
    "    folder_input = f'/data/gh/tutorial/orbits/s2l2a_summer2019_B08/{p}/'\n",
    "    file_output = f'/data/gh/tutorial/final/s2l2a_summer2019_B08_{p}.tif'\n",
    "    print(folder_input)\n",
    "    mosaic_maker.mosaic_final_tiled(folder_input, file_output, extent=extent)"
   ]
  }
 ],
 "metadata": {
  "kernelspec": {
   "display_name": "Python 3 (ipykernel)",
   "language": "python",
   "name": "python3"
  },
  "language_info": {
   "codemirror_mode": {
    "name": "ipython",
    "version": 3
   },
   "file_extension": ".py",
   "mimetype": "text/x-python",
   "name": "python",
   "nbconvert_exporter": "python",
   "pygments_lexer": "ipython3",
   "version": "3.9.2"
  },
  "vscode": {
   "interpreter": {
    "hash": "c1c3471995ea41299991ff87c2f2661c7786907464a5368ef846b83f9a309518"
   }
  }
 },
 "nbformat": 4,
 "nbformat_minor": 2
}
