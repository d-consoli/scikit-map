{
 "cells": [
  {
   "cell_type": "markdown",
   "id": "728097b2-d929-40f5-9bd4-c22212295ee0",
   "metadata": {},
   "source": [
    "## Raster Data"
   ]
  },
  {
   "cell_type": "markdown",
   "id": "06cc5053-c6b4-4faa-91c3-be5c618969b4",
   "metadata": {},
   "source": [
    "In scikit-map, the class RasterData is responsible for implement reading, processing and writing operations. The library provides a NDVI toy dataset that you can access by:"
   ]
  },
  {
   "cell_type": "code",
   "execution_count": 11,
   "id": "a05d77eb-4167-41ec-8712-39514a7df73c",
   "metadata": {},
   "outputs": [
    {
     "name": "stdout",
     "output_type": "stream",
     "text": [
      "[17:35:55] RasterData with 24 rasters (band: 1) and 1 group(s)\n",
      "[17:35:55] Reading 24 raster file(s) using 4 workers\n",
      "[17:35:55] Read array shape: (256, 256, 24)\n",
      "[17:35:55] Running SircleTransformer on (256, 256, 24) for ndvi group\n",
      "[[1.  1.  1.  2.  0.  0.  0.  0.  0.  0.  0.  0.  0.  0.5 0.5]\n",
      " [0.5 1.  1.  1.  2.  0.  0.  0.  0.  0.  0.  0.  0.  0.  0.5]\n",
      " [0.5 0.5 1.  1.  1.  2.  0.  0.  0.  0.  0.  0.  0.  0.  0. ]\n",
      " [0.  0.5 0.5 1.  1.  1.  2.  0.  0.  0.  0.  0.  0.  0.  0. ]\n",
      " [0.  0.  0.5 0.5 1.  1.  1.  2.  0.  0.  0.  0.  0.  0.  0. ]\n",
      " [0.  0.  0.  0.5 0.5 1.  1.  1.  2.  0.  0.  0.  0.  0.  0. ]\n",
      " [0.  0.  0.  0.  0.5 0.5 1.  1.  1.  2.  0.  0.  0.  0.  0. ]\n",
      " [0.  0.  0.  0.  0.  0.5 0.5 1.  1.  1.  2.  0.  0.  0.  0. ]\n",
      " [0.  0.  0.  0.  0.  0.  0.5 0.5 1.  1.  1.  2.  0.  0.  0. ]\n",
      " [0.  0.  0.  0.  0.  0.  0.  0.5 0.5 1.  1.  1.  2.  0.  0. ]\n",
      " [0.  0.  0.  0.  0.  0.  0.  0.  0.5 0.5 1.  1.  1.  2.  0. ]\n",
      " [0.  0.  0.  0.  0.  0.  0.  0.  0.  0.5 0.5 1.  1.  1.  2. ]\n",
      " [2.  0.  0.  0.  0.  0.  0.  0.  0.  0.  0.5 0.5 1.  1.  1. ]\n",
      " [1.  2.  0.  0.  0.  0.  0.  0.  0.  0.  0.  0.5 0.5 1.  1. ]\n",
      " [1.  1.  2.  0.  0.  0.  0.  0.  0.  0.  0.  0.  0.5 0.5 1. ]]\n",
      "[17:35:55] Dropping data and info for ndvi group\n",
      "[17:35:55] Execution time for SircleTransformer: 0.04 segs\n"
     ]
    }
   ],
   "source": [
    "import matplotlib.pyplot as plt\n",
    "import sys\n",
    "import numpy as np\n",
    "import os\n",
    "sys.path.insert(0, os.path.abspath('../../'))\n",
    "from skmap.data import toy\n",
    "rdata = toy.ndvi_rdata(gappy=True)\n",
    "\n",
    "from skmap.io import process\n",
    "import importlib\n",
    "importlib.reload(process)\n",
    "n_imag = rdata.array.shape[2]\n",
    "seasconv = process.SeasConvFill(season_size=4)\n",
    "half_conv_vect = seasconv._compute_conv_mat_row(n_imag)\n",
    "conv_vect_past = half_conv_vect # default vector for the weights of the past\n",
    "conv_vect_future = half_conv_vect * 0 # Setting to 0 the weights for future images (the first images should stay gap)\n",
    "rdata = rdata.run(process.SircleTransformer(w_0=1, w_f=np.array([0.5, 0.5]), w_p=np.array([2, 1, 1]), ), drop_input=True)\n"
   ]
  },
  {
   "cell_type": "code",
   "execution_count": null,
   "id": "65a2e190-14fd-4ee3-8f93-353c439c66d0",
   "metadata": {},
   "outputs": [],
   "source": [
    "rdata.array[:,:,0:4] = np.nan\n",
    "rdata.plot(cmap='RdYlGn', img_title_text='date')"
   ]
  },
  {
   "cell_type": "markdown",
   "id": "de766eb6-023b-4ae4-819a-43f21d2ec03f",
   "metadata": {},
   "source": [
    "Same but with no future images"
   ]
  },
  {
   "cell_type": "code",
   "execution_count": 5,
   "id": "85fb809c-0230-4b34-9272-eb3ff0518101",
   "metadata": {},
   "outputs": [
    {
     "data": {
      "text/plain": [
       "(256, 256, 24)"
      ]
     },
     "execution_count": 5,
     "metadata": {},
     "output_type": "execute_result"
    }
   ],
   "source": [
    "rdata.array.shape"
   ]
  },
  {
   "cell_type": "code",
   "execution_count": null,
   "id": "c62ca267-dc5f-4ff5-bf4d-85386582d484",
   "metadata": {},
   "outputs": [],
   "source": []
  }
 ],
 "metadata": {
  "kernelspec": {
   "display_name": "Python 3 (ipykernel)",
   "language": "python",
   "name": "python3"
  },
  "language_info": {
   "codemirror_mode": {
    "name": "ipython",
    "version": 3
   },
   "file_extension": ".py",
   "mimetype": "text/x-python",
   "name": "python",
   "nbconvert_exporter": "python",
   "pygments_lexer": "ipython3",
   "version": "3.8.16"
  }
 },
 "nbformat": 4,
 "nbformat_minor": 5
}
