{
 "cells": [
  {
   "cell_type": "markdown",
   "id": "728097b2-d929-40f5-9bd4-c22212295ee0",
   "metadata": {},
   "source": [
    "## Raster Data"
   ]
  },
  {
   "cell_type": "markdown",
   "id": "06cc5053-c6b4-4faa-91c3-be5c618969b4",
   "metadata": {},
   "source": [
    "In scikit-map, the class RasterData is responsible for implement reading, processing and writing operations. The library provides a NDVI toy dataset that you can access by:"
   ]
  },
  {
   "cell_type": "code",
   "execution_count": 123,
   "id": "a05d77eb-4167-41ec-8712-39514a7df73c",
   "metadata": {},
   "outputs": [],
   "source": [
    "import matplotlib.pyplot as plt\n",
    "import sys\n",
    "import numpy as np\n",
    "import os\n",
    "sys.path.insert(0, os.path.abspath('../../'))\n",
    "from skmap.data import toy\n",
    "from skmap.io import process\n",
    "import importlib\n",
    "importlib.reload(process)\n",
    "data = np.random.rand(1,2,15)\n",
    "sircleTransformer = process.SircleTransformer(w_0=1, w_f=np.array([0.5, 0.5]), w_p=np.array([2, 1, 1]), backend=\"dense\")\n",
    "out_dense = sircleTransformer._run(data)\n",
    "sircleTransformer = process.SircleTransformer(w_0=1, w_f=np.array([0.5, 0.5]), w_p=np.array([2, 1, 1]), backend=\"sparse\")\n",
    "out_sparse = sircleTransformer._run(data)\n",
    "sircleTransformer = process.SircleTransformer(w_0=1, w_f=np.array([0.5, 0.5]), w_p=np.array([2, 1, 1]), backend=\"FFT\")\n",
    "out_fft = sircleTransformer._run(data)\n",
    "sircleTransformer = process.SircleTransformer(w_0=1, w_f=np.array([0.5, 0.5]), w_p=np.array([2, 1, 1]), backend=\"iterative\")\n",
    "out_iter = sircleTransformer._run(data)\n",
    "\n",
    "\n"
   ]
  },
  {
   "cell_type": "markdown",
   "id": "de766eb6-023b-4ae4-819a-43f21d2ec03f",
   "metadata": {},
   "source": [
    "Same but with no future images"
   ]
  },
  {
   "cell_type": "code",
   "execution_count": 124,
   "id": "85fb809c-0230-4b34-9272-eb3ff0518101",
   "metadata": {},
   "outputs": [],
   "source": [
    "V_e = np.zeros((10, 3), dtype=np.float64, order='F')"
   ]
  },
  {
   "cell_type": "code",
   "execution_count": 125,
   "id": "c62ca267-dc5f-4ff5-bf4d-85386582d484",
   "metadata": {},
   "outputs": [
    {
     "data": {
      "text/plain": [
       "array([0.75769417, 1.42400666, 1.74734931, 2.78023693, 2.98670158,\n",
       "       3.23069915, 3.31752645, 2.33775447, 3.61574512, 2.55791506,\n",
       "       3.56400742, 3.11846102, 2.91667801, 3.49702068, 2.19795098])"
      ]
     },
     "execution_count": 125,
     "metadata": {},
     "output_type": "execute_result"
    }
   ],
   "source": [
    "out_dense[0,1,:]"
   ]
  },
  {
   "cell_type": "code",
   "execution_count": 126,
   "id": "d6cf6571-38a0-468c-8d66-c8b9c5a4ad62",
   "metadata": {},
   "outputs": [
    {
     "data": {
      "text/plain": [
       "array([0.75769417, 1.42400666, 1.74734931, 2.78023693, 2.98670158,\n",
       "       3.23069915, 3.31752645, 2.33775447, 3.61574512, 2.55791506,\n",
       "       3.56400742, 3.11846102, 2.91667801, 3.49702068, 2.19795098])"
      ]
     },
     "execution_count": 126,
     "metadata": {},
     "output_type": "execute_result"
    }
   ],
   "source": [
    "out_fft[0,1,:]"
   ]
  },
  {
   "cell_type": "code",
   "execution_count": 127,
   "id": "714766d4-ac0c-4567-9c4c-56543f1a88b1",
   "metadata": {},
   "outputs": [
    {
     "data": {
      "text/plain": [
       "array([[0.85622671, 1.18990307, 1.61796426, 2.86632611, 2.79279626,\n",
       "        2.73910748, 3.70618478, 4.21706942, 4.52980163, 4.00102499,\n",
       "        3.22771855, 4.42825835, 3.03251076, 3.6295353 , 2.96302395],\n",
       "       [0.75769417, 1.42400666, 1.74734931, 2.78023693, 2.98670158,\n",
       "        3.23069915, 3.31752645, 2.33775447, 3.61574512, 2.55791506,\n",
       "        3.56400742, 3.11846102, 2.91667801, 3.49702068, 2.19795098]])"
      ]
     },
     "execution_count": 127,
     "metadata": {},
     "output_type": "execute_result"
    }
   ],
   "source": [
    "out_sparse[0,:,:]"
   ]
  },
  {
   "cell_type": "code",
   "execution_count": 128,
   "id": "a4d131cf-8221-4c95-9d3a-9779a215e35e",
   "metadata": {},
   "outputs": [
    {
     "data": {
      "text/plain": [
       "array([[0.85622671, 1.18990307, 1.61796426, 2.86632611, 2.79279626,\n",
       "        2.73910748, 3.70618478, 4.21706942, 4.52980163, 4.00102499,\n",
       "        3.22771855, 4.42825835, 3.03251076, 3.6295353 , 2.96302395],\n",
       "       [0.75769417, 1.42400666, 1.74734931, 2.78023693, 2.98670158,\n",
       "        3.23069915, 3.31752645, 2.33775447, 3.61574512, 2.55791506,\n",
       "        3.56400742, 3.11846102, 2.91667801, 3.49702068, 2.19795098]])"
      ]
     },
     "execution_count": 128,
     "metadata": {},
     "output_type": "execute_result"
    }
   ],
   "source": [
    "out_iter[0,:,:]"
   ]
  },
  {
   "cell_type": "code",
   "execution_count": 110,
   "id": "42395cb3-a678-47f0-8a60-0b83a8cc5763",
   "metadata": {},
   "outputs": [
    {
     "name": "stdout",
     "output_type": "stream",
     "text": [
      "FFT Result: [1.64445915 2.38651523 3.26200896 4.98402487 4.2551079  4.3747972\n",
      " 3.76027619 3.32954527 2.9531219  1.95083089 2.7680308  3.37976723\n",
      " 4.01446581 3.71763899 2.86477876 3.18611245 2.85165612 2.58671261]\n",
      "Normal Result: [1.64445915 2.38651523 3.26200896 4.98402487 4.2551079  4.3747972\n",
      " 3.76027619 3.32954527 2.9531219  1.95083089 2.7680308  3.37976723\n",
      " 4.01446581 3.71763899 2.86477876 3.18611245 2.85165612 2.58671261]\n",
      "Results are equal: True\n"
     ]
    }
   ],
   "source": [
    "import numpy as np \n",
    "from scipy.linalg import circulant\n",
    "from numpy.fft import fft, ifft\n",
    "\n",
    "def circulant_matrix_vector_product(v, w):\n",
    "    # Compute FFT of v and padded_w\n",
    "    W = circulant(w)\n",
    "    \n",
    "    fft_v = fft(v)\n",
    "    fft_w = fft(W[0,:])\n",
    "    \n",
    "    # Element-wise multiplication in the frequency domain\n",
    "    fft_result = fft_v * fft_w\n",
    "    \n",
    "    # Inverse FFT to get the result in the time domain\n",
    "    result = ifft(fft_result)\n",
    "    \n",
    "    return result.real  # Take the real part to handle numerical precision issues\n",
    "\n",
    "def circulant_matrix_vector_product_normal(v, w):\n",
    "#     n = len(v)\n",
    "#     m = len(w)\n",
    "#     if n != m:\n",
    "#         padded_w = np.concatenate((w, np.zeros(n - m)))\n",
    "#     else:\n",
    "#         padded_w = w\n",
    "    \n",
    "    # Create circulant matrix W\n",
    "    W = circulant(w)\n",
    "    \n",
    "    # Matrix-vector multiplication\n",
    "    result_normal = np.dot(v,W)\n",
    "    \n",
    "    return result_normal\n",
    "\n",
    "# Example usage:\n",
    "n_s = data.shape[2]\n",
    "n_e = n_s + max(3, 2)\n",
    "V_e = np.zeros((1,n_e), dtype=np.float64, order='F')\n",
    "V_e[:, 0:n_s] = data\n",
    "v = V_e[0,:]\n",
    "w = np.zeros((n_e,))\n",
    "w[0] = 1\n",
    "w[1:2+1] = np.array([0.5, 0.5])\n",
    "w[-3:] = np.array([2, 1, 1])\n",
    "result_fft = circulant_matrix_vector_product(v, w)\n",
    "result_normal = circulant_matrix_vector_product_normal(v, w)\n",
    "\n",
    "# Compare the results\n",
    "print(\"FFT Result:\", result_fft)\n",
    "print(\"Normal Result:\", result_normal)\n",
    "print(\"Results are equal:\", np.allclose(result_fft, result_normal))"
   ]
  },
  {
   "cell_type": "code",
   "execution_count": null,
   "id": "affcae2f-5588-4c4f-a6dc-2be670e6ad45",
   "metadata": {},
   "outputs": [],
   "source": []
  }
 ],
 "metadata": {
  "kernelspec": {
   "display_name": "Python 3 (ipykernel)",
   "language": "python",
   "name": "python3"
  },
  "language_info": {
   "codemirror_mode": {
    "name": "ipython",
    "version": 3
   },
   "file_extension": ".py",
   "mimetype": "text/x-python",
   "name": "python",
   "nbconvert_exporter": "python",
   "pygments_lexer": "ipython3",
   "version": "3.8.16"
  }
 },
 "nbformat": 4,
 "nbformat_minor": 5
}
