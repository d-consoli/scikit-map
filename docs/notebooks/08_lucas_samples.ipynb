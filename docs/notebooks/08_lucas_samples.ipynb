{
 "cells": [
  {
   "cell_type": "markdown",
   "id": "american-locator",
   "metadata": {},
   "source": [
    "# LUCAS Samples\n",
    "First of all, let's import `eumap` library."
   ]
  },
  {
   "cell_type": "code",
   "execution_count": 1,
   "id": "steady-consortium",
   "metadata": {},
   "outputs": [],
   "source": [
    "# To work with local eumap code\n",
    "# import sys\n",
    "# sys.path.append('../../')\n",
    "\n",
    "from eumap.datasets.lucas import LucasRequest, LucasIO"
   ]
  },
  {
   "cell_type": "markdown",
   "id": "hindu-radius",
   "metadata": {},
   "source": [
    "## Usage"
   ]
  },
  {
   "cell_type": "markdown",
   "id": "outdoor-favorite",
   "metadata": {},
   "source": [
    "### 1. Define request\n",
    "\n",
    "Request is defined by `LucasRequest` object. Bbox filter can be enabled by `bbox` property. Currently only [EPSG:3035](http://epsg.io/3035) is supported.\n",
    "\n",
    "For testing purpose a request can be created by `build()` method."
   ]
  },
  {
   "cell_type": "code",
   "execution_count": 2,
   "id": "general-spider",
   "metadata": {},
   "outputs": [
    {
     "data": {
      "text/plain": [
       "{'typename': 'lucas:lucas_points',\n",
       " 'filter': '<ogc:BBOX xmlns:ogc=\"http://www.opengis.net/ogc\"><ogc:PropertyName>geom</ogc:PropertyName><gml311:Envelope srsName=\"http://www.opengis.net/gml/srs/epsg.xml#3035\" xmlns:gml311=\"http://www.opengis.net/gml\"><gml311:lowerCorner>4504276 3020369</gml311:lowerCorner><gml311:upperCorner>4689608 3105290</gml311:upperCorner></gml311:Envelope></ogc:BBOX>'}"
      ]
     },
     "execution_count": 2,
     "metadata": {},
     "output_type": "execute_result"
    }
   ],
   "source": [
    "request = LucasRequest()\n",
    "request.bbox = (4504276, 3020369, 4689608, 3105290)\n",
    "\n",
    "request.build()"
   ]
  },
  {
   "cell_type": "markdown",
   "id": "moving-breed",
   "metadata": {},
   "source": [
    "### 2. Download data based on request\n",
    "\n",
    "LUCAS data is controlled by `LucasIO` (input/output) class. Data is downloaded by calling `download()` method based on prepared request. Number of downloaded features can be retrived by `num_of_features()` method."
   ]
  },
  {
   "cell_type": "code",
   "execution_count": 3,
   "id": "centered-first",
   "metadata": {},
   "outputs": [
    {
     "name": "stdout",
     "output_type": "stream",
     "text": [
      "2021-09-06 08:57:16,939 - LUCAS - INFO - io.__init__ - Using owslib version 0.22.0\n",
      "2021-09-06 08:57:17,148 - LUCAS - INFO - io.download - Connected to http://lincalc-02.fsv.cvut.cz/geoserver/wfs\n",
      "2021-09-06 08:57:17,152 - LUCAS - INFO - io.download - Request: {'srsname': 'http://www.opengis.net/gml/srs/epsg.xml#3035', 'typename': 'lucas:lucas_points', 'filter': '<ogc:BBOX xmlns:ogc=\"http://www.opengis.net/ogc\"><ogc:PropertyName>geom</ogc:PropertyName><gml311:Envelope srsName=\"http://www.opengis.net/gml/srs/epsg.xml#3035\" xmlns:gml311=\"http://www.opengis.net/gml\"><gml311:lowerCorner>4504276 3020369</gml311:lowerCorner><gml311:upperCorner>4689608 3105290</gml311:upperCorner></gml311:Envelope></ogc:BBOX>'}\n",
      "2021-09-06 08:57:17,726 - LUCAS - INFO - io.download - Download process successfuly finished. Size of downloaded data: 13781kb\n",
      "Number of downloaded points: 5219\n"
     ]
    }
   ],
   "source": [
    "lucasio = LucasIO()\n",
    "lucasio.download(request)\n",
    "\n",
    "print(\"Number of downloaded points:\", lucasio.num_of_features())"
   ]
  },
  {
   "cell_type": "markdown",
   "id": "dutch-pharmaceutical",
   "metadata": {},
   "source": [
    "### 3. Get data in specified format"
   ]
  },
  {
   "cell_type": "markdown",
   "id": "vertical-possibility",
   "metadata": {},
   "source": [
    "`LucasIO` object allows getting data in various data structures/formats.\n",
    "\n",
    "By calling `to_geopandas()` method the data is retrieved as [GeoDataFrame](https://geopandas.org/docs/reference/api/geopandas.GeoDataFrame.html) object."
   ]
  },
  {
   "cell_type": "markdown",
   "id": "naughty-cross",
   "metadata": {},
   "source": [
    "Method `to_gml()` returns byte array containing data in [OGC GML](https://www.ogc.org/standards/gml) format."
   ]
  },
  {
   "cell_type": "code",
   "execution_count": 4,
   "id": "right-mistress",
   "metadata": {},
   "outputs": [
    {
     "name": "stdout",
     "output_type": "stream",
     "text": [
      "<class 'str'> <?xml version=\"1.0\" encoding=\"utf-8\" ?>\n",
      "<ogr:FeatureCollection\n",
      "     xmlns:xsi=\"http://www.w3.org/2001/XMLSchema-instance\"\n",
      "     xsi:schemaLocation=\"http://ogr.maptools.org/ eumap_lucas_hmrlw_81.xsd\"\n",
      "     xmlns:ogr=\"http://ogr.maptools.org/\"\n"
     ]
    }
   ],
   "source": [
    "gml_str = lucasio.to_gml()\n",
    "\n",
    "print(type(gml_str), '\\n'.join(gml_str.splitlines()[:5]))"
   ]
  },
  {
   "cell_type": "markdown",
   "id": "hungarian-description",
   "metadata": {},
   "source": [
    "Method `to_gpkg()` stores data into [OGC GeoPackage](https://www.geopackage.org/) file."
   ]
  },
  {
   "cell_type": "code",
   "execution_count": 5,
   "id": "remarkable-thomson",
   "metadata": {},
   "outputs": [
    {
     "name": "stdout",
     "output_type": "stream",
     "text": [
      "True\n"
     ]
    }
   ],
   "source": [
    "gpkg_file = 'sample.gpkg'\n",
    "lucasio.to_gpkg(gpkg_file)\n",
    "\n",
    "from pathlib import Path\n",
    "print(Path(gpkg_file).exists())"
   ]
  },
  {
   "cell_type": "markdown",
   "id": "based-wallpaper",
   "metadata": {},
   "source": [
    "## Request examples\n",
    "\n",
    "Beside filtering by *bbox* `LucasRequest` also supports other methods described below.\n",
    "\n",
    "### Filter by property\n",
    "\n",
    "The filter below is equivalent to WHERE condition:\n",
    "\n",
    "```sql\n",
    "nuts0 = 'CZ'\n",
    "```"
   ]
  },
  {
   "cell_type": "code",
   "execution_count": 6,
   "id": "incorporate-recorder",
   "metadata": {},
   "outputs": [
    {
     "data": {
      "text/plain": [
       "{'typename': 'lucas:lucas_points',\n",
       " 'filter': '<ogc:PropertyIsEqualTo xmlns:ogc=\"http://www.opengis.net/ogc\"><ogc:PropertyName>nuts0</ogc:PropertyName><ogc:Literal>CZ</ogc:Literal></ogc:PropertyIsEqualTo>'}"
      ]
     },
     "execution_count": 6,
     "metadata": {},
     "output_type": "execute_result"
    }
   ],
   "source": [
    "from owslib.fes import PropertyIsEqualTo, Or\n",
    "\n",
    "request = LucasRequest() \n",
    "request.operator=PropertyIsEqualTo\n",
    "request.propertyname = 'nuts0'\n",
    "request.literal = 'CZ'\n",
    "\n",
    "request.build()"
   ]
  },
  {
   "cell_type": "markdown",
   "id": "humanitarian-quantum",
   "metadata": {},
   "source": [
    "#### Logical operators\n",
    "\n",
    "Logical operator is demostrated in the example below.\n",
    "\n",
    "```sql\n",
    "nuts0 = 'CZ' or nuts0 = 'SK'\n",
    "```"
   ]
  },
  {
   "cell_type": "code",
   "execution_count": 7,
   "id": "standing-commissioner",
   "metadata": {},
   "outputs": [
    {
     "data": {
      "text/plain": [
       "{'typename': 'lucas:lucas_points',\n",
       " 'filter': '<ogc:Or xmlns:ogc=\"http://www.opengis.net/ogc\"><ogc:PropertyIsEqualTo><ogc:PropertyName>nuts0</ogc:PropertyName><ogc:Literal>CZ</ogc:Literal></ogc:PropertyIsEqualTo><ogc:PropertyIsEqualTo><ogc:PropertyName>nuts0</ogc:PropertyName><ogc:Literal>SK</ogc:Literal></ogc:PropertyIsEqualTo></ogc:Or>'}"
      ]
     },
     "execution_count": 7,
     "metadata": {},
     "output_type": "execute_result"
    }
   ],
   "source": [
    "from owslib.fes import PropertyIsEqualTo, Or\n",
    "\n",
    "request = LucasRequest() \n",
    "request.operator=PropertyIsEqualTo\n",
    "request.propertyname = 'nuts0'\n",
    "request.literal = ['CZ', 'SK']\n",
    "request.logical = Or\n",
    "\n",
    "request.build()"
   ]
  },
  {
   "cell_type": "markdown",
   "id": "least-interaction",
   "metadata": {},
   "source": [
    "### Filter by years\n",
    "\n",
    "This filter is defined by `years` LucasRequest property."
   ]
  },
  {
   "cell_type": "code",
   "execution_count": 8,
   "id": "bizarre-toddler",
   "metadata": {},
   "outputs": [
    {
     "data": {
      "text/plain": [
       "{'typename': 'lucas:lucas_points',\n",
       " 'filter': '<ogc:And xmlns:ogc=\"http://www.opengis.net/ogc\"><ogc:BBOX><ogc:PropertyName>geom</ogc:PropertyName><gml311:Envelope srsName=\"http://www.opengis.net/gml/srs/epsg.xml#3035\" xmlns:gml311=\"http://www.opengis.net/gml\"><gml311:lowerCorner>4472010 2838000</gml311:lowerCorner><gml311:upperCorner>4960000 3112000</gml311:upperCorner></gml311:Envelope></ogc:BBOX><ogc:Or><ogc:PropertyIsEqualTo><ogc:PropertyName>survey_year</ogc:PropertyName><ogc:Literal>2006</ogc:Literal></ogc:PropertyIsEqualTo><ogc:PropertyIsEqualTo><ogc:PropertyName>survey_year</ogc:PropertyName><ogc:Literal>2009</ogc:Literal></ogc:PropertyIsEqualTo></ogc:Or></ogc:And>'}"
      ]
     },
     "execution_count": 8,
     "metadata": {},
     "output_type": "execute_result"
    }
   ],
   "source": [
    "request = LucasRequest()\n",
    "request.bbox = (4472010, 2838000, 4960000, 3112000)\n",
    "request.years = [2006, 2009]\n",
    "\n",
    "request.build()"
   ]
  },
  {
   "cell_type": "markdown",
   "id": "better-virtue",
   "metadata": {},
   "source": [
    "Combination of *property* and *year* filter is demonstrated below\n",
    "\n",
    "```sql\n",
    "(nuts0 = 'CZ' or nuts0 = 'SK') and (survey_year = 2006 or survey_year = 2009)\n",
    "```"
   ]
  },
  {
   "cell_type": "code",
   "execution_count": 9,
   "id": "median-wonder",
   "metadata": {},
   "outputs": [
    {
     "data": {
      "text/plain": [
       "{'typename': 'lucas:lucas_points',\n",
       " 'filter': '<ogc:And xmlns:ogc=\"http://www.opengis.net/ogc\"><ogc:Or><ogc:PropertyIsEqualTo><ogc:PropertyName>nuts0</ogc:PropertyName><ogc:Literal>CZ</ogc:Literal></ogc:PropertyIsEqualTo><ogc:PropertyIsEqualTo><ogc:PropertyName>nuts0</ogc:PropertyName><ogc:Literal>SK</ogc:Literal></ogc:PropertyIsEqualTo></ogc:Or><ogc:Or><ogc:PropertyIsEqualTo><ogc:PropertyName>survey_year</ogc:PropertyName><ogc:Literal>2006</ogc:Literal></ogc:PropertyIsEqualTo><ogc:PropertyIsEqualTo><ogc:PropertyName>survey_year</ogc:PropertyName><ogc:Literal>2009</ogc:Literal></ogc:PropertyIsEqualTo></ogc:Or></ogc:And>'}"
      ]
     },
     "execution_count": 9,
     "metadata": {},
     "output_type": "execute_result"
    }
   ],
   "source": [
    "from owslib.fes import PropertyIsEqualTo, Or\n",
    "\n",
    "request = LucasRequest() \n",
    "request.operator=PropertyIsEqualTo\n",
    "request.propertyname = 'nuts0'\n",
    "request.literal = ['CZ', 'SK']\n",
    "request.logical = Or\n",
    "\n",
    "request.years = [2006, 2009]\n",
    "\n",
    "request.build()"
   ]
  },
  {
   "cell_type": "markdown",
   "id": "considerable-prefix",
   "metadata": {},
   "source": [
    "### Filter by AOI\n",
    "\n",
    "Spatial filter can be also defined by polygon vertices. \n",
    "\n",
    "There is limit for the request length, so the number of vertices is also limited. Polygon can contain only about 190 vertices."
   ]
  },
  {
   "cell_type": "code",
   "execution_count": 10,
   "id": "polyphonic-valuation",
   "metadata": {},
   "outputs": [
    {
     "data": {
      "text/plain": [
       "{'typename': 'lucas:lucas_points',\n",
       " 'filter': '<Within>     <PropertyName>lucas:geom</PropertyName>     <gml:Polygon xmlns:gml=\"http://www.opengis.net/gml\" srsName=\"urn:ogc:def:crs:EPSG::3035\" gml:id=\"polygon_32.geom.0\">         <gml:exterior>             <gml:LinearRing>                 <gml:posList>3014669.3195414557 4640226.080241454 2981893.140187475 4628385.701013993 2965449.7283930806 4639492.816821902 2958781.6185918115 4658392.1858341275 2977549.274784839 4672892.4477362465 3004572.819247867 4661017.510044226 3014669.3195414557 4640226.080241454 </gml:posList>             </gml:LinearRing>         </gml:exterior>     </gml:Polygon></Within>'}"
      ]
     },
     "execution_count": 10,
     "metadata": {},
     "output_type": "execute_result"
    }
   ],
   "source": [
    "request = LucasRequest()\n",
    "request.aoi_polygon = '<Within>' \\\n",
    "                  '     <PropertyName>lucas:geom</PropertyName>' \\\n",
    "                  '     <gml:Polygon xmlns:gml=\"http://www.opengis.net/gml\" srsName=\"urn:ogc:def:crs:EPSG::3035\" gml:id=\"polygon_32.geom.0\">' \\\n",
    "                  '         <gml:exterior>' \\\n",
    "                  '             <gml:LinearRing>' \\\n",
    "                  '                 <gml:posList>3014669.3195414557 4640226.080241454 2981893.140187475 4628385.701013993 2965449.7283930806 4639492.816821902 2958781.6185918115 4658392.1858341275 2977549.274784839 4672892.4477362465 3004572.819247867 4661017.510044226 3014669.3195414557 4640226.080241454 </gml:posList>' \\\n",
    "                  '             </gml:LinearRing>' \\\n",
    "                  '         </gml:exterior>' \\\n",
    "                  '     </gml:Polygon>' \\\n",
    "                  '</Within>'\n",
    "\n",
    "request.build()"
   ]
  },
  {
   "cell_type": "markdown",
   "id": "miniature-sheep",
   "metadata": {},
   "source": [
    "### Groups\n",
    "\n",
    "Group determines which attributes will describe downloaded data. Tehre are 5 groups (co - Copernicus; fo - Forestry; in - Inspire; lc_lu - Land cover, Land use, lc_lu_so - Land cover, Land use, Soil). \n",
    "\n",
    "The file always contains obligatory attributes, which define mainly the location of the point.\n",
    "\n",
    "Combination of `bbox` and `group` (Land cover, Land use)."
   ]
  },
  {
   "cell_type": "code",
   "execution_count": 11,
   "id": "wired-telling",
   "metadata": {},
   "outputs": [
    {
     "data": {
      "text/plain": [
       "{'typename': 'lucas:lucas_points_lc_lu',\n",
       " 'filter': '<ogc:BBOX xmlns:ogc=\"http://www.opengis.net/ogc\"><ogc:PropertyName>geom</ogc:PropertyName><gml311:Envelope srsName=\"http://www.opengis.net/gml/srs/epsg.xml#3035\" xmlns:gml311=\"http://www.opengis.net/gml\"><gml311:lowerCorner>4504276 3020369</gml311:lowerCorner><gml311:upperCorner>4689608 3105290</gml311:upperCorner></gml311:Envelope></ogc:BBOX>'}"
      ]
     },
     "execution_count": 11,
     "metadata": {},
     "output_type": "execute_result"
    }
   ],
   "source": [
    "request = LucasRequest()\n",
    "request.bbox = (4504276, 3020369, 4689608, 3105290)\n",
    "request.group = 'lc_lu'\n",
    "\n",
    "request.build()"
   ]
  },
  {
   "cell_type": "markdown",
   "id": "dominican-blink",
   "metadata": {},
   "source": [
    "### Space-time aggregation\n",
    "\n",
    "Determine whether the data should be space-time aggregated. Space-time aggregation means that one record in the attribute table represents one point with all values measured in all years. On the other hand, when data are not space-time aggregated, every single record in the attribute table represents one survey.\n",
    "\n",
    "#### With property filter\n",
    "\n",
    "Combination of property filter and request for space-time aggregated data."
   ]
  },
  {
   "cell_type": "code",
   "execution_count": 12,
   "id": "caring-skating",
   "metadata": {},
   "outputs": [
    {
     "data": {
      "text/plain": [
       "{'typename': 'lucas:lucas_st_points',\n",
       " 'filter': '<ogc:PropertyIsEqualTo xmlns:ogc=\"http://www.opengis.net/ogc\"><ogc:PropertyName>nuts0</ogc:PropertyName><ogc:Literal>CZ</ogc:Literal></ogc:PropertyIsEqualTo>'}"
      ]
     },
     "execution_count": 12,
     "metadata": {},
     "output_type": "execute_result"
    }
   ],
   "source": [
    "from owslib.fes import PropertyIsEqualTo\n",
    "\n",
    "request = LucasRequest()\n",
    "request.operator=PropertyIsEqualTo\n",
    "request.propertyname = 'nuts0'\n",
    "request.literal = 'CZ'\n",
    "\n",
    "request.st_aggregated = True\n",
    "\n",
    "request.build()"
   ]
  },
  {
   "cell_type": "markdown",
   "id": "fluid-valuable",
   "metadata": {},
   "source": [
    "#### With filter by years and bbox\n",
    "\n",
    "Combination of filter by `years`, `bbox` and request for `space-time aggregated` data.\n",
    "Data will be described only by the attributes measured in required years. This means that the attribute table will be smaller and clear."
   ]
  },
  {
   "cell_type": "code",
   "execution_count": 13,
   "id": "weighted-protection",
   "metadata": {},
   "outputs": [
    {
     "data": {
      "text/plain": [
       "{'typename': 'lucas:lucas_st_points',\n",
       " 'filter': '<ogc:And xmlns:ogc=\"http://www.opengis.net/ogc\"><ogc:BBOX><ogc:PropertyName>geom</ogc:PropertyName><gml311:Envelope srsName=\"http://www.opengis.net/gml/srs/epsg.xml#3035\" xmlns:gml311=\"http://www.opengis.net/gml\"><gml311:lowerCorner>4624127 2998330</gml311:lowerCorner><gml311:upperCorner>4650393 3013986</gml311:upperCorner></gml311:Envelope></ogc:BBOX><ogc:Or><ogc:Not><ogc:PropertyIsNull><ogc:PropertyName>survey_date_2015</ogc:PropertyName></ogc:PropertyIsNull></ogc:Not><ogc:Not><ogc:PropertyIsNull><ogc:PropertyName>survey_date_2018</ogc:PropertyName></ogc:PropertyIsNull></ogc:Not></ogc:Or></ogc:And>'}"
      ]
     },
     "execution_count": 13,
     "metadata": {},
     "output_type": "execute_result"
    }
   ],
   "source": [
    "request = LucasRequest()\n",
    "request.years = [2015, 2018]\n",
    "\n",
    "request.bbox=(4624127, 2998330, 4650393, 3013986)\n",
    "\n",
    "request.st_aggregated = True\n",
    "\n",
    "request.build()"
   ]
  }
 ],
 "metadata": {
  "kernelspec": {
   "display_name": "Python 3",
   "language": "python",
   "name": "python3"
  },
  "language_info": {
   "codemirror_mode": {
    "name": "ipython",
    "version": 3
   },
   "file_extension": ".py",
   "mimetype": "text/x-python",
   "name": "python",
   "nbconvert_exporter": "python",
   "pygments_lexer": "ipython3",
   "version": "3.9.2"
  }
 },
 "nbformat": 4,
 "nbformat_minor": 5
}
