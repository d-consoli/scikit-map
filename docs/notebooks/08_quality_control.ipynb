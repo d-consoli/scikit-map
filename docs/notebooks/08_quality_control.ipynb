{
 "cells": [
  {
   "cell_type": "markdown",
   "metadata": {},
   "source": [
    "# Quality control of Geo-harmonizer datasets\n",
    "\n",
    "The `eumap` library provides a set of functions to check the quality of all spatial datasets produced throughout the Geo-harmonizer project. \n",
    "These are the same functions used by the developers and are adapted for users to run quality checks not only on \n",
    "one entire raster layer (with no proper infrastructure it may be too computationally intensive) but also on subset of it.\n",
    "\n",
    "These functions are contained in the module `qc` of the `eumap` package and can be used to check **accessibility**, **completeness** and\n",
    "**consistency** of the raster layers. The main component of the `qc` module is the `Test` class (full documentation can be found [here](https://eumap.readthedocs.io/en/latest/_autosummary/eumap.qc.Test.html#eumap.qc.Test)\n",
    "\n",
    "Let's import the module:"
   ]
  },
  {
   "cell_type": "code",
   "execution_count": 1,
   "metadata": {},
   "outputs": [
    {
     "data": {
      "text/plain": [
       "<eumap.qc.Test at 0x7f5f707f3ac0>"
      ]
     },
     "execution_count": 1,
     "metadata": {},
     "output_type": "execute_result"
    }
   ],
   "source": [
    "from eumap import qc\n",
    "\n",
    "bounds = (\n",
    "    4751935,\n",
    "    2420238,\n",
    "    4772117,\n",
    "    2444223,\n",
    ")\n",
    "\n",
    "test = qc.Test(\n",
    "    bounds=bounds,\n",
    "    crs='EPSG:3035', # optional\n",
    "    verbose=True,    # optional, defaults to False\n",
    ")\n",
    "\n",
    "test"
   ]
  },
  {
   "cell_type": "markdown",
   "metadata": {},
   "source": [
    "## Accessibility test\n",
    "\n",
    "First we check if the datasets we are interested in are **accessible** (a simple check on the url that allows users to access or\n",
    "download the files). We import the `Catalogue` object and search through our [GeoNetwork](https://data.opendatascience.eu) for the \n",
    "*potential natural vegetation* (\"*pnv*\") dataset. \n",
    "\n",
    "For more information on the `Catalogue` object, refer to the previous tutorial [7. Access to Geo-harmonizer datasets](https://eumap.readthedocs.io/en/latest/notebooks/07_catalogue.html)"
   ]
  },
  {
   "cell_type": "code",
   "execution_count": 2,
   "metadata": {},
   "outputs": [
    {
     "data": {
      "text/plain": [
       "title:    PNV - Probability distribution for Quercus ilex\n",
       "abstract: Overview:\n",
       "Potential Natural Vegetation (PNV): potential probability of occurrence for the Holm oak from 2018 to 2020\n",
       "\n",
       "Traceability (lineage):\n",
       "    This is an original dataset produced with a machine learning framework which used a combination of point datasets and raster datasets as inputs. Point dataset is a harmonized collection of tree occurrence data, comprising observations from National Forest Inventories (EU-Forest), GBIF and LUCAS. The complete dataset is available on Zenodo. Raster datasets used as input are: monthly time series air and surface temperature and precipitation from a reprocessed version of the Copernicus ERA5 dataset; long term averages of bioclimatic variables from CHELSA; elevation, slope and other elevation-derived metrics and long term monthly averages snow probability. For a more comprehensive list refer to Bonannella et al. (2022) (in review, preprint available at: https://doi.org/10.21203/rs.3.rs-1252972/v1). \n",
       "\n",
       "Scientific methodology:\n",
       "    Probability and uncertainty maps were the output of a spatiotemporal ensemble machine learning framework based on stacked regularization. Three base models (random forest, gradient boosted trees and generalized linear models) were first trained on the input dataset and their predictions were used to train an additional model (logistic regression) which provided the final predictions. More details on the whole workflow are available in the listed publication.\n",
       "\n",
       "Usability:\n",
       "    Probability maps are particularly useful when compared with existing products of potential distribution of species or when combined with maps of realized distribution: gaps in potential and realized distribution can be identified and used as information for future programs of tree planting or forest restoration.\n",
       "\n",
       "Uncertainty quantification:\n",
       "    Uncertainty is quantified by taking the standard deviation of the probabilities predicted by the three components of the spatiotemporal ensemble model.\n",
       "\n",
       "Data validation approaches:\n",
       "    Distribution maps were validated using a spatial 5-fold cross validation following the workflow detailed in the listed publication.\n",
       "\n",
       "Completeness:\n",
       "    The raster files perfectly cover the entire Geo-harmonizer region as defined by the landmask raster dataset available here.\n",
       "\n",
       "Consistency:\n",
       "    Areas which are outside of the calibration area of the point dataset (Iceland, Norway) usually have high uncertainty values. This is not only a problem of extrapolation but also of poor representation in the feature space available to the model of the conditions that are present in this countries.\n",
       "\n",
       "Positional accuracy:\n",
       "    The rasters have a spatial resolution of 30m.\n",
       "\n",
       "Temporal accuracy:\n",
       "    The maps cover the period 2018 - 2020\n",
       "\n",
       "Thematic accuracy:\n",
       "    Both probability and uncertainty maps contain values from 0 to 100: in the case of probability maps, they indicate the probability of occurrence of a single individual of the target species, while uncertainty maps indicate the standard deviation of the ensemble model.\n",
       "authors:  [{'name': 'Carmelo Bonannella', 'email': 'carmelo.bonannella@opengeohub.org'}]\n",
       "theme:    Vegetation"
      ]
     },
     "execution_count": 2,
     "metadata": {},
     "output_type": "execute_result"
    }
   ],
   "source": [
    "from eumap.datasets import Catalogue\n",
    "\n",
    "cat = Catalogue()\n",
    "\n",
    "asset = cat.search('pnv')[0]\n",
    "\n",
    "asset.meta"
   ]
  },
  {
   "cell_type": "markdown",
   "metadata": {},
   "source": [
    "From the \"*pnv*\" catalogue we extract the url of the first raster layer of the dataset, the potential distribution map of silver fir for\n",
    "the period 2018 - 2020: "
   ]
  },
  {
   "cell_type": "code",
   "execution_count": 3,
   "metadata": {},
   "outputs": [
    {
     "data": {
      "text/plain": [
       "'https://s3.eu-central-1.wasabisys.com/eumap/veg/veg_quercus.ilex_pnv.eml_p_30m_0..0cm_2018..2020_eumap_epsg3035_v0.2.tif'"
      ]
     },
     "execution_count": 3,
     "metadata": {},
     "output_type": "execute_result"
    }
   ],
   "source": [
    "str(asset) # assets are just strings with metadata so we can use them as a url string"
   ]
  },
  {
   "cell_type": "markdown",
   "metadata": {},
   "source": [
    "The raster url and the bounding box previously defined are the only information needed to run all the quality control checks. We can now run\n",
    "the **accessibility** check using the method with the same name:"
   ]
  },
  {
   "cell_type": "code",
   "execution_count": 4,
   "metadata": {},
   "outputs": [
    {
     "name": "stdout",
     "output_type": "stream",
     "text": [
      "Dataset accessible:\n",
      "https://s3.eu-central-1.wasabisys.com/eumap/veg/veg_quercus.ilex_pnv.eml_p_30m_0..0cm_2018..2020_eumap_epsg3035_v0.2.tif\n"
     ]
    },
    {
     "data": {
      "text/plain": [
       "True"
      ]
     },
     "execution_count": 4,
     "metadata": {},
     "output_type": "execute_result"
    }
   ],
   "source": [
    "accessible = test.accessibility(asset)\n",
    "\n",
    "accessible"
   ]
  },
  {
   "cell_type": "markdown",
   "metadata": {},
   "source": [
    "As we can see, the test results is `TRUE`, which means the file is available."
   ]
  },
  {
   "cell_type": "markdown",
   "metadata": {},
   "source": [
    "## Completeness test\n",
    "\n",
    "The second test checks for **completeness** of the raster layer: every pixel of the region of interested selected in the raster layer is \n",
    "compared with the landmask used for all the layers produced in the Geo-harmonizer project. The main landmask (30m spatial resolution) is derived from [Pflugmacher et al., (2019)](https://doi.pangaea.de/10.1594/PANGAEA.896282). We use the `raster_land_coverage` method: the output of the method\n",
    "is a number between `0` and `1`, representing the fraction of pixels of the raster layer tested being `nodata` across the landmask"
   ]
  },
  {
   "cell_type": "code",
   "execution_count": 5,
   "metadata": {},
   "outputs": [
    {
     "name": "stdout",
     "output_type": "stream",
     "text": [
      "reader using 3 threads\n",
      "Completeness 100.0% for dataset:\n",
      "https://s3.eu-central-1.wasabisys.com/eumap/veg/veg_quercus.ilex_pnv.eml_p_30m_0..0cm_2018..2020_eumap_epsg3035_v0.2.tif\n"
     ]
    },
    {
     "data": {
      "text/plain": [
       "1.0"
      ]
     },
     "execution_count": 5,
     "metadata": {},
     "output_type": "execute_result"
    }
   ],
   "source": [
    "coverage = test.raster_land_coverage(asset)\n",
    "\n",
    "coverage"
   ]
  },
  {
   "cell_type": "markdown",
   "metadata": {},
   "source": [
    "By default, the landmask excludes all those pixels falling in permanent ice/snow and wetlands. If we are interested\n",
    "in these specific areas, the method allows the user to include them during the quality control check:"
   ]
  },
  {
   "cell_type": "code",
   "execution_count": 6,
   "metadata": {},
   "outputs": [
    {
     "name": "stdout",
     "output_type": "stream",
     "text": [
      "reader using 2 threads\n",
      "Completeness 100.0% for dataset:\n",
      "https://s3.eu-central-1.wasabisys.com/eumap/veg/veg_quercus.ilex_pnv.eml_p_30m_0..0cm_2018..2020_eumap_epsg3035_v0.2.tif\n"
     ]
    },
    {
     "data": {
      "text/plain": [
       "1.0"
      ]
     },
     "execution_count": 6,
     "metadata": {},
     "output_type": "execute_result"
    }
   ],
   "source": [
    "coverage = test.raster_land_coverage(\n",
    "    asset,\n",
    "    include_ice=True, # include snow and ice in coverage check\n",
    ")\n",
    "\n",
    "coverage"
   ]
  },
  {
   "cell_type": "code",
   "execution_count": 7,
   "metadata": {},
   "outputs": [
    {
     "name": "stdout",
     "output_type": "stream",
     "text": [
      "reader using 3 threads\n",
      "Completeness 100.0% for dataset:\n",
      "https://s3.eu-central-1.wasabisys.com/eumap/veg/veg_quercus.ilex_pnv.eml_p_30m_0..0cm_2018..2020_eumap_epsg3035_v0.2.tif\n"
     ]
    },
    {
     "data": {
      "text/plain": [
       "1.0"
      ]
     },
     "execution_count": 7,
     "metadata": {},
     "output_type": "execute_result"
    }
   ],
   "source": [
    "coverage = test.raster_land_coverage(\n",
    "    asset,\n",
    "    include_ice=True,\n",
    "    include_wetlands=True, # include wetlands in coverage check\n",
    ")\n",
    "\n",
    "coverage"
   ]
  },
  {
   "cell_type": "markdown",
   "metadata": {},
   "source": [
    "## Consistency test\n",
    "\n",
    "The last test checks for **consistency** of the raster layer. This test will check that the information for the object of the analysis actually match with the ones publicly available on GeoNetwork  We use the `metadata_consistency` method: if the output of the test is `True`, the method will report title, description, theme and corre the output of the method\n",
    "reports the  a number between `0` and `1`, representing the fraction of pixels of the raster layer tested being `nodata` across the landmask"
   ]
  },
  {
   "cell_type": "code",
   "execution_count": 8,
   "metadata": {},
   "outputs": [
    {
     "name": "stdout",
     "output_type": "stream",
     "text": [
      "All metadata present: True\n"
     ]
    },
    {
     "data": {
      "text/plain": [
       "{'title': True, 'abstract': True, 'theme': True, 'authors': True}"
      ]
     },
     "execution_count": 8,
     "metadata": {},
     "output_type": "execute_result"
    }
   ],
   "source": [
    "metadata_present = test.metadata_consistency(asset)\n",
    "\n",
    "metadata_present"
   ]
  }
 ],
 "metadata": {
  "kernelspec": {
   "display_name": "Python 3",
   "language": "python",
   "name": "python3"
  },
  "language_info": {
   "codemirror_mode": {
    "name": "ipython",
    "version": 3
   },
   "file_extension": ".py",
   "mimetype": "text/x-python",
   "name": "python",
   "nbconvert_exporter": "python",
   "pygments_lexer": "ipython3",
   "version": "3.8.6"
  }
 },
 "nbformat": 4,
 "nbformat_minor": 4
}
