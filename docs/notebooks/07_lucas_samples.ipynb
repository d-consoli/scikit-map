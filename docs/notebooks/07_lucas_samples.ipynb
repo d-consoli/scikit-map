{
 "cells": [
  {
   "cell_type": "markdown",
   "id": "american-locator",
   "metadata": {},
   "source": [
    "# LUCAS Samples\n",
    "First of all, let's import `eumap` library."
   ]
  },
  {
   "cell_type": "code",
   "execution_count": 2,
   "id": "steady-consortium",
   "metadata": {},
   "outputs": [],
   "source": [
    "import sys\n",
    "sys.path.insert(0, '../..')\n",
    "\n",
    "from eumap.lucas import LucasRequest, LucasIO"
   ]
  },
  {
   "cell_type": "markdown",
   "id": "hindu-radius",
   "metadata": {},
   "source": [
    "## Usage"
   ]
  },
  {
   "cell_type": "markdown",
   "id": "outdoor-favorite",
   "metadata": {},
   "source": [
    "### 1. Define request\n",
    "\n",
    "Request is defined by `LucasRequest` object. Bbox filter can be enabled by `bbox` property. Currently only [EPSG:3035](http://epsg.io/3035) is supported.\n",
    "\n",
    "For testing purpose a request can be created by `build()` method."
   ]
  },
  {
   "cell_type": "code",
   "execution_count": 2,
   "id": "general-spider",
   "metadata": {},
   "outputs": [
    {
     "data": {
      "text/plain": [
       "{'filter': '<ogc:BBOX xmlns:ogc=\"http://www.opengis.net/ogc\"><ogc:PropertyName>geom</ogc:PropertyName><gml311:Envelope xmlns:gml311=\"http://www.opengis.net/gml\" srsName=\"http://www.opengis.net/gml/srs/epsg.xml#3035\"><gml311:lowerCorner>4504276 3020369</gml311:lowerCorner><gml311:upperCorner>4689608 3105290</gml311:upperCorner></gml311:Envelope></ogc:BBOX>'}"
      ]
     },
     "execution_count": 2,
     "metadata": {},
     "output_type": "execute_result"
    }
   ],
   "source": [
    "request = LucasRequest()\n",
    "request.bbox = (4504276, 3020369, 4689608, 3105290)\n",
    "\n",
    "request.build()"
   ]
  },
  {
   "cell_type": "markdown",
   "id": "moving-breed",
   "metadata": {},
   "source": [
    "### 2. Download data based on request\n",
    "\n",
    "LUCAS data is controlled by `LucasIO` (input/output) class. Data is downloaded by calling `download()` method based on prepared request. Number of downloaded features can be retrived by `num_of_features()` method."
   ]
  },
  {
   "cell_type": "code",
   "execution_count": 3,
   "id": "centered-first",
   "metadata": {},
   "outputs": [
    {
     "name": "stdout",
     "output_type": "stream",
     "text": [
      "2021-04-26 16:31:58,731 - LUCAS - INFO - io.__init__ - Using owslib version 0.22.0\n",
      "2021-04-26 16:31:59,043 - LUCAS - INFO - io.download - Connected to http://geo102.fsv.cvut.cz:8080/geoserver/wfs\n",
      "2021-04-26 16:31:59,047 - LUCAS - INFO - io.download - Request: {'srsname': 'http://www.opengis.net/gml/srs/epsg.xml#3035', 'typename': 'lucas_deploy:lucas_points_lc_lu', 'filter': '<ogc:BBOX xmlns:ogc=\"http://www.opengis.net/ogc\"><ogc:PropertyName>geom</ogc:PropertyName><gml311:Envelope xmlns:gml311=\"http://www.opengis.net/gml\" srsName=\"http://www.opengis.net/gml/srs/epsg.xml#3035\"><gml311:lowerCorner>4504276 3020369</gml311:lowerCorner><gml311:upperCorner>4689608 3105290</gml311:upperCorner></gml311:Envelope></ogc:BBOX>'}\n",
      "2021-04-26 16:32:00,579 - LUCAS - INFO - io.download - Download process successfuly finished. Size of downloaded data: 15831kb\n",
      "Number of downloaded points: 5219\n"
     ]
    }
   ],
   "source": [
    "lucasio = LucasIO()\n",
    "lucasio.download(request)\n",
    "\n",
    "print(\"Number of downloaded points:\", lucasio.num_of_features())"
   ]
  },
  {
   "cell_type": "markdown",
   "id": "dutch-pharmaceutical",
   "metadata": {},
   "source": [
    "### 3. Get data in specified format"
   ]
  },
  {
   "cell_type": "markdown",
   "id": "vertical-possibility",
   "metadata": {},
   "source": [
    "`LucasIO` object allows getting data in various data structures/formats.\n",
    "\n",
    "By calling `to_geopandas()` method the data is retrieved as [GeoDataFrame](https://geopandas.org/docs/reference/api/geopandas.GeoDataFrame.html) object."
   ]
  },
  {
   "cell_type": "code",
   "execution_count": 4,
   "id": "amateur-western",
   "metadata": {},
   "outputs": [
    {
     "name": "stderr",
     "output_type": "stream",
     "text": [
      "/usr/lib/python3/dist-packages/geopandas/geodataframe.py:422: RuntimeWarning: Sequential read of iterator was interrupted. Resetting iterator. This can negatively impact the performance.\n",
      "  for feature in features_lst:\n"
     ]
    },
    {
     "data": {
      "text/html": [
       "<div>\n",
       "<style scoped>\n",
       "    .dataframe tbody tr th:only-of-type {\n",
       "        vertical-align: middle;\n",
       "    }\n",
       "\n",
       "    .dataframe tbody tr th {\n",
       "        vertical-align: top;\n",
       "    }\n",
       "\n",
       "    .dataframe thead th {\n",
       "        text-align: right;\n",
       "    }\n",
       "</style>\n",
       "<table border=\"1\" class=\"dataframe\">\n",
       "  <thead>\n",
       "    <tr style=\"text-align: right;\">\n",
       "      <th></th>\n",
       "      <th>point_id</th>\n",
       "      <th>nuts0</th>\n",
       "      <th>nuts1</th>\n",
       "      <th>nuts2</th>\n",
       "      <th>nuts3</th>\n",
       "      <th>survey_date</th>\n",
       "      <th>car_latitude</th>\n",
       "      <th>car_longitude</th>\n",
       "      <th>car_ew</th>\n",
       "      <th>gps_proj</th>\n",
       "      <th>...</th>\n",
       "      <th>photo_point</th>\n",
       "      <th>photo_north</th>\n",
       "      <th>photo_east</th>\n",
       "      <th>photo_south</th>\n",
       "      <th>photo_west</th>\n",
       "      <th>crop_residues</th>\n",
       "      <th>transect</th>\n",
       "      <th>ex_ante</th>\n",
       "      <th>survey_year</th>\n",
       "      <th>geometry</th>\n",
       "    </tr>\n",
       "  </thead>\n",
       "  <tbody>\n",
       "    <tr>\n",
       "      <th>0</th>\n",
       "      <td>45143102</td>\n",
       "      <td>DE</td>\n",
       "      <td>DED</td>\n",
       "      <td>DED1</td>\n",
       "      <td>None</td>\n",
       "      <td>2006-05-23</td>\n",
       "      <td>NaN</td>\n",
       "      <td>NaN</td>\n",
       "      <td>NaN</td>\n",
       "      <td>1</td>\n",
       "      <td>...</td>\n",
       "      <td>NaN</td>\n",
       "      <td>NaN</td>\n",
       "      <td>NaN</td>\n",
       "      <td>NaN</td>\n",
       "      <td>NaN</td>\n",
       "      <td>NaN</td>\n",
       "      <td>None</td>\n",
       "      <td>NaN</td>\n",
       "      <td>2006</td>\n",
       "      <td>POINT (4514000.000 3102000.000)</td>\n",
       "    </tr>\n",
       "    <tr>\n",
       "      <th>1</th>\n",
       "      <td>45723100</td>\n",
       "      <td>DE</td>\n",
       "      <td>DED</td>\n",
       "      <td>DED2</td>\n",
       "      <td>None</td>\n",
       "      <td>2006-05-13</td>\n",
       "      <td>NaN</td>\n",
       "      <td>NaN</td>\n",
       "      <td>NaN</td>\n",
       "      <td>1</td>\n",
       "      <td>...</td>\n",
       "      <td>NaN</td>\n",
       "      <td>NaN</td>\n",
       "      <td>NaN</td>\n",
       "      <td>NaN</td>\n",
       "      <td>NaN</td>\n",
       "      <td>NaN</td>\n",
       "      <td>None</td>\n",
       "      <td>NaN</td>\n",
       "      <td>2006</td>\n",
       "      <td>POINT (4572000.000 3100000.000)</td>\n",
       "    </tr>\n",
       "    <tr>\n",
       "      <th>2</th>\n",
       "      <td>45903098</td>\n",
       "      <td>DE</td>\n",
       "      <td>DED</td>\n",
       "      <td>DED2</td>\n",
       "      <td>None</td>\n",
       "      <td>2006-06-03</td>\n",
       "      <td>NaN</td>\n",
       "      <td>NaN</td>\n",
       "      <td>NaN</td>\n",
       "      <td>1</td>\n",
       "      <td>...</td>\n",
       "      <td>NaN</td>\n",
       "      <td>NaN</td>\n",
       "      <td>NaN</td>\n",
       "      <td>NaN</td>\n",
       "      <td>NaN</td>\n",
       "      <td>NaN</td>\n",
       "      <td>None</td>\n",
       "      <td>NaN</td>\n",
       "      <td>2006</td>\n",
       "      <td>POINT (4590000.000 3098000.000)</td>\n",
       "    </tr>\n",
       "    <tr>\n",
       "      <th>3</th>\n",
       "      <td>45903082</td>\n",
       "      <td>DE</td>\n",
       "      <td>DED</td>\n",
       "      <td>DED2</td>\n",
       "      <td>None</td>\n",
       "      <td>2006-04-09</td>\n",
       "      <td>NaN</td>\n",
       "      <td>NaN</td>\n",
       "      <td>NaN</td>\n",
       "      <td>1</td>\n",
       "      <td>...</td>\n",
       "      <td>NaN</td>\n",
       "      <td>NaN</td>\n",
       "      <td>NaN</td>\n",
       "      <td>NaN</td>\n",
       "      <td>NaN</td>\n",
       "      <td>NaN</td>\n",
       "      <td>None</td>\n",
       "      <td>NaN</td>\n",
       "      <td>2006</td>\n",
       "      <td>POINT (4590000.000 3082000.000)</td>\n",
       "    </tr>\n",
       "    <tr>\n",
       "      <th>4</th>\n",
       "      <td>45843046</td>\n",
       "      <td>CZ</td>\n",
       "      <td>CZ0</td>\n",
       "      <td>CZ04</td>\n",
       "      <td>None</td>\n",
       "      <td>2006-05-17</td>\n",
       "      <td>NaN</td>\n",
       "      <td>NaN</td>\n",
       "      <td>NaN</td>\n",
       "      <td>1</td>\n",
       "      <td>...</td>\n",
       "      <td>NaN</td>\n",
       "      <td>NaN</td>\n",
       "      <td>NaN</td>\n",
       "      <td>NaN</td>\n",
       "      <td>NaN</td>\n",
       "      <td>NaN</td>\n",
       "      <td>None</td>\n",
       "      <td>NaN</td>\n",
       "      <td>2006</td>\n",
       "      <td>POINT (4584000.000 3046000.000)</td>\n",
       "    </tr>\n",
       "    <tr>\n",
       "      <th>...</th>\n",
       "      <td>...</td>\n",
       "      <td>...</td>\n",
       "      <td>...</td>\n",
       "      <td>...</td>\n",
       "      <td>...</td>\n",
       "      <td>...</td>\n",
       "      <td>...</td>\n",
       "      <td>...</td>\n",
       "      <td>...</td>\n",
       "      <td>...</td>\n",
       "      <td>...</td>\n",
       "      <td>...</td>\n",
       "      <td>...</td>\n",
       "      <td>...</td>\n",
       "      <td>...</td>\n",
       "      <td>...</td>\n",
       "      <td>...</td>\n",
       "      <td>...</td>\n",
       "      <td>...</td>\n",
       "      <td>...</td>\n",
       "      <td>...</td>\n",
       "    </tr>\n",
       "    <tr>\n",
       "      <th>5214</th>\n",
       "      <td>45103042</td>\n",
       "      <td>DE</td>\n",
       "      <td>DED</td>\n",
       "      <td>DED4</td>\n",
       "      <td>DED42</td>\n",
       "      <td>2018-12-18</td>\n",
       "      <td>88.888888</td>\n",
       "      <td>88.888888</td>\n",
       "      <td>8.0</td>\n",
       "      <td>8</td>\n",
       "      <td>...</td>\n",
       "      <td>2.0</td>\n",
       "      <td>2.0</td>\n",
       "      <td>2.0</td>\n",
       "      <td>2.0</td>\n",
       "      <td>2.0</td>\n",
       "      <td>2.0</td>\n",
       "      <td>None</td>\n",
       "      <td>0.0</td>\n",
       "      <td>2018</td>\n",
       "      <td>POINT (4510000.000 3042000.000)</td>\n",
       "    </tr>\n",
       "    <tr>\n",
       "      <th>5215</th>\n",
       "      <td>46423100</td>\n",
       "      <td>DE</td>\n",
       "      <td>DED</td>\n",
       "      <td>DED2</td>\n",
       "      <td>DED2D</td>\n",
       "      <td>2018-12-19</td>\n",
       "      <td>88.888888</td>\n",
       "      <td>88.888888</td>\n",
       "      <td>8.0</td>\n",
       "      <td>8</td>\n",
       "      <td>...</td>\n",
       "      <td>2.0</td>\n",
       "      <td>2.0</td>\n",
       "      <td>2.0</td>\n",
       "      <td>2.0</td>\n",
       "      <td>2.0</td>\n",
       "      <td>2.0</td>\n",
       "      <td>None</td>\n",
       "      <td>0.0</td>\n",
       "      <td>2018</td>\n",
       "      <td>POINT (4642000.000 3100000.000)</td>\n",
       "    </tr>\n",
       "    <tr>\n",
       "      <th>5216</th>\n",
       "      <td>45483028</td>\n",
       "      <td>CZ</td>\n",
       "      <td>CZ0</td>\n",
       "      <td>CZ04</td>\n",
       "      <td>CZ041</td>\n",
       "      <td>2018-09-20</td>\n",
       "      <td>88.888888</td>\n",
       "      <td>88.888888</td>\n",
       "      <td>8.0</td>\n",
       "      <td>8</td>\n",
       "      <td>...</td>\n",
       "      <td>2.0</td>\n",
       "      <td>2.0</td>\n",
       "      <td>2.0</td>\n",
       "      <td>2.0</td>\n",
       "      <td>2.0</td>\n",
       "      <td>2.0</td>\n",
       "      <td>None</td>\n",
       "      <td>0.0</td>\n",
       "      <td>2018</td>\n",
       "      <td>POINT (4548000.000 3028000.000)</td>\n",
       "    </tr>\n",
       "    <tr>\n",
       "      <th>5217</th>\n",
       "      <td>45443030</td>\n",
       "      <td>CZ</td>\n",
       "      <td>CZ0</td>\n",
       "      <td>CZ04</td>\n",
       "      <td>CZ041</td>\n",
       "      <td>2018-09-17</td>\n",
       "      <td>88.888888</td>\n",
       "      <td>88.888888</td>\n",
       "      <td>8.0</td>\n",
       "      <td>8</td>\n",
       "      <td>...</td>\n",
       "      <td>2.0</td>\n",
       "      <td>2.0</td>\n",
       "      <td>2.0</td>\n",
       "      <td>2.0</td>\n",
       "      <td>2.0</td>\n",
       "      <td>2.0</td>\n",
       "      <td>None</td>\n",
       "      <td>0.0</td>\n",
       "      <td>2018</td>\n",
       "      <td>POINT (4544000.000 3030000.000)</td>\n",
       "    </tr>\n",
       "    <tr>\n",
       "      <th>5218</th>\n",
       "      <td>45463026</td>\n",
       "      <td>CZ</td>\n",
       "      <td>CZ0</td>\n",
       "      <td>CZ04</td>\n",
       "      <td>CZ041</td>\n",
       "      <td>2018-09-17</td>\n",
       "      <td>88.888888</td>\n",
       "      <td>88.888888</td>\n",
       "      <td>8.0</td>\n",
       "      <td>8</td>\n",
       "      <td>...</td>\n",
       "      <td>2.0</td>\n",
       "      <td>2.0</td>\n",
       "      <td>2.0</td>\n",
       "      <td>2.0</td>\n",
       "      <td>2.0</td>\n",
       "      <td>2.0</td>\n",
       "      <td>None</td>\n",
       "      <td>0.0</td>\n",
       "      <td>2018</td>\n",
       "      <td>POINT (4546000.000 3026000.000)</td>\n",
       "    </tr>\n",
       "  </tbody>\n",
       "</table>\n",
       "<p>5219 rows × 67 columns</p>\n",
       "</div>"
      ],
      "text/plain": [
       "      point_id nuts0 nuts1 nuts2  nuts3 survey_date  car_latitude  \\\n",
       "0     45143102    DE   DED  DED1   None  2006-05-23           NaN   \n",
       "1     45723100    DE   DED  DED2   None  2006-05-13           NaN   \n",
       "2     45903098    DE   DED  DED2   None  2006-06-03           NaN   \n",
       "3     45903082    DE   DED  DED2   None  2006-04-09           NaN   \n",
       "4     45843046    CZ   CZ0  CZ04   None  2006-05-17           NaN   \n",
       "...        ...   ...   ...   ...    ...         ...           ...   \n",
       "5214  45103042    DE   DED  DED4  DED42  2018-12-18     88.888888   \n",
       "5215  46423100    DE   DED  DED2  DED2D  2018-12-19     88.888888   \n",
       "5216  45483028    CZ   CZ0  CZ04  CZ041  2018-09-20     88.888888   \n",
       "5217  45443030    CZ   CZ0  CZ04  CZ041  2018-09-17     88.888888   \n",
       "5218  45463026    CZ   CZ0  CZ04  CZ041  2018-09-17     88.888888   \n",
       "\n",
       "      car_longitude  car_ew  gps_proj  ...  photo_point  photo_north  \\\n",
       "0               NaN     NaN         1  ...          NaN          NaN   \n",
       "1               NaN     NaN         1  ...          NaN          NaN   \n",
       "2               NaN     NaN         1  ...          NaN          NaN   \n",
       "3               NaN     NaN         1  ...          NaN          NaN   \n",
       "4               NaN     NaN         1  ...          NaN          NaN   \n",
       "...             ...     ...       ...  ...          ...          ...   \n",
       "5214      88.888888     8.0         8  ...          2.0          2.0   \n",
       "5215      88.888888     8.0         8  ...          2.0          2.0   \n",
       "5216      88.888888     8.0         8  ...          2.0          2.0   \n",
       "5217      88.888888     8.0         8  ...          2.0          2.0   \n",
       "5218      88.888888     8.0         8  ...          2.0          2.0   \n",
       "\n",
       "      photo_east  photo_south  photo_west  crop_residues  transect  ex_ante  \\\n",
       "0            NaN          NaN         NaN            NaN      None      NaN   \n",
       "1            NaN          NaN         NaN            NaN      None      NaN   \n",
       "2            NaN          NaN         NaN            NaN      None      NaN   \n",
       "3            NaN          NaN         NaN            NaN      None      NaN   \n",
       "4            NaN          NaN         NaN            NaN      None      NaN   \n",
       "...          ...          ...         ...            ...       ...      ...   \n",
       "5214         2.0          2.0         2.0            2.0      None      0.0   \n",
       "5215         2.0          2.0         2.0            2.0      None      0.0   \n",
       "5216         2.0          2.0         2.0            2.0      None      0.0   \n",
       "5217         2.0          2.0         2.0            2.0      None      0.0   \n",
       "5218         2.0          2.0         2.0            2.0      None      0.0   \n",
       "\n",
       "      survey_year                         geometry  \n",
       "0            2006  POINT (4514000.000 3102000.000)  \n",
       "1            2006  POINT (4572000.000 3100000.000)  \n",
       "2            2006  POINT (4590000.000 3098000.000)  \n",
       "3            2006  POINT (4590000.000 3082000.000)  \n",
       "4            2006  POINT (4584000.000 3046000.000)  \n",
       "...           ...                              ...  \n",
       "5214         2018  POINT (4510000.000 3042000.000)  \n",
       "5215         2018  POINT (4642000.000 3100000.000)  \n",
       "5216         2018  POINT (4548000.000 3028000.000)  \n",
       "5217         2018  POINT (4544000.000 3030000.000)  \n",
       "5218         2018  POINT (4546000.000 3026000.000)  \n",
       "\n",
       "[5219 rows x 67 columns]"
      ]
     },
     "execution_count": 4,
     "metadata": {},
     "output_type": "execute_result"
    }
   ],
   "source": [
    "lucasio.to_geopandas()"
   ]
  },
  {
   "cell_type": "markdown",
   "id": "naughty-cross",
   "metadata": {},
   "source": [
    "Method `to_gml()` returns byte array containing data in [OGC GML](https://www.ogc.org/standards/gml) format."
   ]
  },
  {
   "cell_type": "code",
   "execution_count": 5,
   "id": "right-mistress",
   "metadata": {},
   "outputs": [
    {
     "name": "stdout",
     "output_type": "stream",
     "text": [
      "<class 'str'> <?xml version=\"1.0\" encoding=\"utf-8\" ?>\n",
      "<ogr:FeatureCollection\n",
      "     xmlns:xsi=\"http://www.w3.org/2001/XMLSchema-instance\"\n",
      "     xsi:schemaLocation=\"http://ogr.maptools.org/ eumap_lucas_bm3rswiv.xsd\"\n",
      "     xmlns:ogr=\"http://ogr.maptools.org/\"\n"
     ]
    }
   ],
   "source": [
    "gml_str = lucasio.to_gml()\n",
    "\n",
    "print(type(gml_str), '\\n'.join(gml_str.splitlines()[:5]))"
   ]
  },
  {
   "cell_type": "markdown",
   "id": "hungarian-description",
   "metadata": {},
   "source": [
    "Method `to_gpkg()` stores data into [OGC GeoPackage](https://www.geopackage.org/) file."
   ]
  },
  {
   "cell_type": "code",
   "execution_count": 6,
   "id": "remarkable-thomson",
   "metadata": {},
   "outputs": [
    {
     "name": "stdout",
     "output_type": "stream",
     "text": [
      "True\n"
     ]
    }
   ],
   "source": [
    "gpkg_file = 'sample.gpkg'\n",
    "lucasio.to_gpkg(gpkg_file)\n",
    "object\n",
    "from pathlib import Path\n",
    "print(Path(gpkg_file).exists())"
   ]
  },
  {
   "cell_type": "markdown",
   "id": "based-wallpaper",
   "metadata": {},
   "source": [
    "## Request examples\n",
    "\n",
    "Beside filtering by *bbox* `LucasRequest` also supports other methods described below.\n",
    "\n",
    "### Filter by property\n",
    "\n",
    "The filter below is equivalent to WHERE condition:\n",
    "\n",
    "```sql\n",
    "nuts0 = 'CZ'\n",
    "```"
   ]
  },
  {
   "cell_type": "code",
   "execution_count": 8,
   "id": "incorporate-recorder",
   "metadata": {},
   "outputs": [
    {
     "data": {
      "text/plain": [
       "{'filter': '<ogc:PropertyIsEqualTo xmlns:ogc=\"http://www.opengis.net/ogc\"><ogc:PropertyName>nuts0</ogc:PropertyName><ogc:Literal>CZ</ogc:Literal></ogc:PropertyIsEqualTo>'}"
      ]
     },
     "execution_count": 8,
     "metadata": {},
     "output_type": "execute_result"
    }
   ],
   "source": [
    "from owslib.fes import PropertyIsEqualTo, Or\n",
    "\n",
    "request = LucasRequest() \n",
    "request.operator=PropertyIsEqualTo\n",
    "request.propertyname = 'nuts0'\n",
    "request.literal = 'CZ'\n",
    "\n",
    "request.build()"
   ]
  },
  {
   "cell_type": "markdown",
   "id": "humanitarian-quantum",
   "metadata": {},
   "source": [
    "#### Logical operators\n",
    "\n",
    "Logical operator is demostrated in the example below.\n",
    "\n",
    "```sql\n",
    "nuts0 = 'CZ' or nuts0 = 'SK'\n",
    "```"
   ]
  },
  {
   "cell_type": "code",
   "execution_count": 9,
   "id": "standing-commissioner",
   "metadata": {},
   "outputs": [
    {
     "data": {
      "text/plain": [
       "{'filter': '<ogc:Or xmlns:ogc=\"http://www.opengis.net/ogc\"><ogc:PropertyIsEqualTo><ogc:PropertyName>nuts0</ogc:PropertyName><ogc:Literal>CZ</ogc:Literal></ogc:PropertyIsEqualTo><ogc:PropertyIsEqualTo><ogc:PropertyName>nuts0</ogc:PropertyName><ogc:Literal>SK</ogc:Literal></ogc:PropertyIsEqualTo></ogc:Or>'}"
      ]
     },
     "execution_count": 9,
     "metadata": {},
     "output_type": "execute_result"
    }
   ],
   "source": [
    "from owslib.fes import PropertyIsEqualTo, Or\n",
    "\n",
    "request = LucasRequest() \n",
    "request.operator=PropertyIsEqualTo\n",
    "request.propertyname = 'nuts0'\n",
    "request.literal = ['CZ', 'SK']\n",
    "request.logical = Or\n",
    "\n",
    "request.build()"
   ]
  },
  {
   "cell_type": "markdown",
   "id": "least-interaction",
   "metadata": {},
   "source": [
    "### Filter by years\n",
    "\n",
    "This filter is defined by `years` LucasRequest property."
   ]
  },
  {
   "cell_type": "code",
   "execution_count": 10,
   "id": "bizarre-toddler",
   "metadata": {},
   "outputs": [
    {
     "data": {
      "text/plain": [
       "{'filter': '<ogc:And xmlns:ogc=\"http://www.opengis.net/ogc\"><ogc:BBOX><ogc:PropertyName>geom</ogc:PropertyName><gml311:Envelope xmlns:gml311=\"http://www.opengis.net/gml\" srsName=\"http://www.opengis.net/gml/srs/epsg.xml#3035\"><gml311:lowerCorner>4472010 2838000</gml311:lowerCorner><gml311:upperCorner>4960000 3112000</gml311:upperCorner></gml311:Envelope></ogc:BBOX><ogc:Or><ogc:PropertyIsEqualTo><ogc:PropertyName>survey_year</ogc:PropertyName><ogc:Literal>2006</ogc:Literal></ogc:PropertyIsEqualTo><ogc:PropertyIsEqualTo><ogc:PropertyName>survey_year</ogc:PropertyName><ogc:Literal>2009</ogc:Literal></ogc:PropertyIsEqualTo></ogc:Or></ogc:And>'}"
      ]
     },
     "execution_count": 10,
     "metadata": {},
     "output_type": "execute_result"
    }
   ],
   "source": [
    "request = LucasRequest()\n",
    "request.bbox = (4472010, 2838000, 4960000, 3112000)\n",
    "request.years = [2006, 2009]\n",
    "\n",
    "request.build()"
   ]
  },
  {
   "cell_type": "markdown",
   "id": "better-virtue",
   "metadata": {},
   "source": [
    "Combination of *property* and *year* filter is demonstrated below\n",
    "\n",
    "```sql\n",
    "(nuts0 = 'CZ' or nuts0 = 'SK') and (survey_year = 2006 or survey_year = 2009)\n",
    "```"
   ]
  },
  {
   "cell_type": "code",
   "execution_count": 11,
   "id": "median-wonder",
   "metadata": {},
   "outputs": [
    {
     "data": {
      "text/plain": [
       "{'filter': '<ogc:And xmlns:ogc=\"http://www.opengis.net/ogc\"><ogc:Or><ogc:PropertyIsEqualTo><ogc:PropertyName>nuts0</ogc:PropertyName><ogc:Literal>CZ</ogc:Literal></ogc:PropertyIsEqualTo><ogc:PropertyIsEqualTo><ogc:PropertyName>nuts0</ogc:PropertyName><ogc:Literal>SK</ogc:Literal></ogc:PropertyIsEqualTo></ogc:Or><ogc:Or><ogc:PropertyIsEqualTo><ogc:PropertyName>survey_year</ogc:PropertyName><ogc:Literal>2006</ogc:Literal></ogc:PropertyIsEqualTo><ogc:PropertyIsEqualTo><ogc:PropertyName>survey_year</ogc:PropertyName><ogc:Literal>2009</ogc:Literal></ogc:PropertyIsEqualTo></ogc:Or></ogc:And>'}"
      ]
     },
     "execution_count": 11,
     "metadata": {},
     "output_type": "execute_result"
    }
   ],
   "source": [
    "from owslib.fes import PropertyIsEqualTo, Or\n",
    "\n",
    "request = LucasRequest() \n",
    "request.operator=PropertyIsEqualTo\n",
    "request.propertyname = 'nuts0'\n",
    "request.literal = ['CZ', 'SK']\n",
    "request.logical = Or\n",
    "\n",
    "request.years = [2006, 2009]\n",
    "\n",
    "request.build()"
   ]
  },
  {
   "cell_type": "markdown",
   "id": "considerable-prefix",
   "metadata": {},
   "source": [
    "### Filter by AOI\n",
    "\n",
    "Spatial filter can be also defined by polygon vertices. \n",
    "\n",
    "There is limit for the request length, so the number of vertices is also limited. Polygon can contain only about 190 vertices."
   ]
  },
  {
   "cell_type": "code",
   "execution_count": 4,
   "id": "polyphonic-valuation",
   "metadata": {},
   "outputs": [
    {
     "data": {
      "text/plain": [
       "{'typename': 'lucas_deploy:lucas_points',\n",
       " 'filter': '<Within>     <PropertyName>lucas:geom</PropertyName>     <gml:Polygon xmlns:gml=\"http://www.opengis.net/gml\" srsName=\"urn:ogc:def:crs:EPSG::3035\" gml:id=\"polygon_32.geom.0\">         <gml:exterior>             <gml:LinearRing>                 <gml:posList>3014669.3195414557 4640226.080241454 2981893.140187475 4628385.701013993 2965449.7283930806 4639492.816821902 2958781.6185918115 4658392.1858341275 2977549.274784839 4672892.4477362465 3004572.819247867 4661017.510044226 3014669.3195414557 4640226.080241454 </gml:posList>             </gml:LinearRing>         </gml:exterior>     </gml:Polygon></Within>'}"
      ]
     },
     "execution_count": 4,
     "metadata": {},
     "output_type": "execute_result"
    }
   ],
   "source": [
    "request = LucasRequest()\n",
    "request.aoi_polygon = '<Within>' \\\n",
    "                  '     <PropertyName>lucas:geom</PropertyName>' \\\n",
    "                  '     <gml:Polygon xmlns:gml=\"http://www.opengis.net/gml\" srsName=\"urn:ogc:def:crs:EPSG::3035\" gml:id=\"polygon_32.geom.0\">' \\\n",
    "                  '         <gml:exterior>' \\\n",
    "                  '             <gml:LinearRing>' \\\n",
    "                  '                 <gml:posList>3014669.3195414557 4640226.080241454 2981893.140187475 4628385.701013993 2965449.7283930806 4639492.816821902 2958781.6185918115 4658392.1858341275 2977549.274784839 4672892.4477362465 3004572.819247867 4661017.510044226 3014669.3195414557 4640226.080241454 </gml:posList>' \\\n",
    "                  '             </gml:LinearRing>' \\\n",
    "                  '         </gml:exterior>' \\\n",
    "                  '     </gml:Polygon>' \\\n",
    "                  '</Within>'\n",
    "\n",
    "request.build()"
   ]
  },
  {
   "cell_type": "markdown",
   "id": "miniature-sheep",
   "metadata": {},
   "source": [
    "### Groups\n",
    "\n",
    "Group determines which attributes will describe downloaded data. Tehre are 5 groups (co - Copernicus; fo - Forestry; in - Inspire; lc_lu - Land cover, Land use, lc_lu_so - Land cover, Land use, Soil). \n",
    "\n",
    "The file always contains obligatory attributes, which define mainly the location of the point.\n",
    "\n",
    "Combination of `bbox` and `group` (Land cover, Land use)."
   ]
  },
  {
   "cell_type": "code",
   "execution_count": 2,
   "id": "wired-telling",
   "metadata": {},
   "outputs": [
    {
     "data": {
      "text/plain": [
       "{'typename': 'lucas_deploy:lucas_points_lc_lu',\n",
       " 'filter': '<ogc:BBOX xmlns:ogc=\"http://www.opengis.net/ogc\"><ogc:PropertyName>geom</ogc:PropertyName><gml311:Envelope xmlns:gml311=\"http://www.opengis.net/gml\" srsName=\"http://www.opengis.net/gml/srs/epsg.xml#3035\"><gml311:lowerCorner>4504276 3020369</gml311:lowerCorner><gml311:upperCorner>4689608 3105290</gml311:upperCorner></gml311:Envelope></ogc:BBOX>'}"
      ]
     },
     "execution_count": 2,
     "metadata": {},
     "output_type": "execute_result"
    }
   ],
   "source": [
    "request = LucasRequest()\n",
    "request.bbox = (4504276, 3020369, 4689608, 3105290)\n",
    "request.group = 'lc_lu'\n",
    "\n",
    "request.build()"
   ]
  },
  {
   "cell_type": "markdown",
   "id": "dominican-blink",
   "metadata": {},
   "source": [
    "### Space-time aggregation\n",
    "\n",
    "Determine whether the data should be space-time aggregated. Space-time aggregation means that one record in the attribute table represents one point with all values measured in all years. On the other hand, when data are not space-time aggregated, every single record in the attribute table represents one survey.\n",
    "\n",
    "#### With property filter\n",
    "\n",
    "Combination of property filter and request for space-time aggregated data."
   ]
  },
  {
   "cell_type": "code",
   "execution_count": 6,
   "id": "caring-skating",
   "metadata": {},
   "outputs": [
    {
     "data": {
      "text/plain": [
       "{'typename': 'lucas_deploy:lucas_st_points',\n",
       " 'filter': '<ogc:PropertyIsEqualTo xmlns:ogc=\"http://www.opengis.net/ogc\"><ogc:PropertyName>nuts0</ogc:PropertyName><ogc:Literal>CZ</ogc:Literal></ogc:PropertyIsEqualTo>'}"
      ]
     },
     "execution_count": 6,
     "metadata": {},
     "output_type": "execute_result"
    }
   ],
   "source": [
    "from owslib.fes import PropertyIsEqualTo\n",
    "\n",
    "request = LucasRequest()\n",
    "request.operator=PropertyIsEqualTo\n",
    "request.propertyname = 'nuts0'\n",
    "request.literal = 'CZ'\n",
    "\n",
    "request.st_aggregated = True\n",
    "\n",
    "request.build()"
   ]
  },
  {
   "cell_type": "markdown",
   "id": "fluid-valuable",
   "metadata": {},
   "source": [
    "#### With filter by years and bbox\n",
    "\n",
    "Combination of filter by `years`, `bbox` and request for `space-time aggregated` data.\n",
    "Data will be described only by the attributes measured in required years. This means that the attribute table will be smaller and clear."
   ]
  },
  {
   "cell_type": "code",
   "execution_count": 7,
   "id": "weighted-protection",
   "metadata": {},
   "outputs": [
    {
     "data": {
      "text/plain": [
       "{'typename': 'lucas_deploy:lucas_st_points',\n",
       " 'filter': '<ogc:And xmlns:ogc=\"http://www.opengis.net/ogc\"><ogc:BBOX><ogc:PropertyName>geom</ogc:PropertyName><gml311:Envelope xmlns:gml311=\"http://www.opengis.net/gml\" srsName=\"http://www.opengis.net/gml/srs/epsg.xml#3035\"><gml311:lowerCorner>4624127 2998330</gml311:lowerCorner><gml311:upperCorner>4650393 3013986</gml311:upperCorner></gml311:Envelope></ogc:BBOX><ogc:Or><ogc:Not><ogc:PropertyIsNull><ogc:PropertyName>survey_date_2015</ogc:PropertyName></ogc:PropertyIsNull></ogc:Not><ogc:Not><ogc:PropertyIsNull><ogc:PropertyName>survey_date_2018</ogc:PropertyName></ogc:PropertyIsNull></ogc:Not></ogc:Or></ogc:And>'}"
      ]
     },
     "execution_count": 7,
     "metadata": {},
     "output_type": "execute_result"
    }
   ],
   "source": [
    "request = LucasRequest()\n",
    "request.years = [2015, 2018]\n",
    "\n",
    "request.bbox=(4624127, 2998330, 4650393, 3013986)\n",
    "\n",
    "request.st_aggregated = True\n",
    "\n",
    "request.build()"
   ]
  }
 ],
 "metadata": {
  "kernelspec": {
   "display_name": "Python 3",
   "language": "python",
   "name": "python3"
  },
  "language_info": {
   "codemirror_mode": {
    "name": "ipython",
    "version": 3
   },
   "file_extension": ".py",
   "mimetype": "text/x-python",
   "name": "python",
   "nbconvert_exporter": "python",
   "pygments_lexer": "ipython3",
   "version": "3.8.6"
  }
 },
 "nbformat": 4,
 "nbformat_minor": 5
}
