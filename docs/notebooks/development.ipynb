{
 "cells": [
  {
   "cell_type": "code",
   "execution_count": 1,
   "id": "b1ece4ec-c96a-4c28-ad25-94476d7af89d",
   "metadata": {},
   "outputs": [],
   "source": [
    "# To work with local eumap code\n",
    "import sys\n",
    "sys.path.insert(0, '../../')\n",
    "\n",
    "import pystac\n",
    "from eumap.misc import GoogleSheet\n",
    "from eumap.datasets.eo import STACGenerator"
   ]
  },
  {
   "cell_type": "code",
   "execution_count": 2,
   "id": "23121f2a-5fbe-40d7-9896-77a8a05db2bc",
   "metadata": {
    "tags": []
   },
   "outputs": [
    {
     "name": "stdout",
     "output_type": "stream",
     "text": [
      "[12:57:50] Accesing COG bounds (https://s3.eu-central-1.wasabisys.com/eumap/lcv/lcv_red_landsat.glad.ard_p50_30m_0..0cm_2017.12.02..2018.03.20_eumap_epsg3035_v1.1.tif)\n",
      "[12:57:50] Accesing COG bounds (https://s3.eu-central-1.wasabisys.com/eumap/lcv/lcv_red_landsat.glad.ard_p50_30m_0..0cm_2018.09.13..2018.12.01_eumap_epsg3035_v1.1.tif)\n",
      "[12:57:50] Accesing COG bounds (https://s3.eu-central-1.wasabisys.com/eumap/lcv/lcv_red_landsat.glad.ard_p50_30m_0..0cm_2018.12.02..2019.03.20_eumap_epsg3035_v1.1.tif)\n",
      "[12:57:50] Accesing COG bounds (https://s3.eu-central-1.wasabisys.com/eumap/lcv/lcv_red_landsat.glad.ard_p50_30m_0..0cm_2018.06.25..2018.09.12_eumap_epsg3035_v1.1.tif)\n",
      "[12:57:50] Accesing COG bounds (https://s3.eu-central-1.wasabisys.com/eumap/lcv/lcv_landcover.hcl_lucas.corine.eml_f_30m_0..0cm_2019_eumap_epsg3035_v0.2.tif)\n",
      "[12:57:50] Accesing COG bounds (https://s3.eu-central-1.wasabisys.com/eumap/lcv/lcv_red_landsat.glad.ard_p50_30m_0..0cm_2019.03.21..2019.06.24_eumap_epsg3035_v1.1.tif)\n",
      "[12:57:50] Accesing COG bounds (https://s3.eu-central-1.wasabisys.com/eumap/lcv/lcv_red_landsat.glad.ard_p50_30m_0..0cm_2019.12.02..2020.03.20_eumap_epsg3035_v1.1.tif)\n",
      "[12:57:50] Accesing COG bounds (https://s3.eu-central-1.wasabisys.com/eumap/lcv/lcv_red_landsat.glad.ard_p50_30m_0..0cm_2018.03.21..2018.06.24_eumap_epsg3035_v1.1.tif)\n",
      "[12:57:50] Accesing COG bounds (https://s3.eu-central-1.wasabisys.com/eumap/lcv/lcv_red_landsat.glad.ard_p50_30m_0..0cm_2019.06.25..2019.09.12_eumap_epsg3035_v1.1.tif)\n",
      "[12:57:50] Accesing COG bounds (https://s3.eu-central-1.wasabisys.com/eumap/lcv/lcv_red_landsat.glad.ard_p50_30m_0..0cm_2020.09.13..2020.12.01_eumap_epsg3035_v1.1.tif)\n",
      "[12:57:50] Accesing COG bounds (https://s3.eu-central-1.wasabisys.com/eumap/lcv/lcv_landcover.hcl_lucas.corine.eml_f_30m_0..0cm_2020_eumap_epsg3035_v0.2.tif)\n",
      "[12:57:50] Accesing COG bounds (https://s3.eu-central-1.wasabisys.com/eumap/lcv/lcv_red_landsat.glad.ard_p50_30m_0..0cm_2019.09.13..2019.12.01_eumap_epsg3035_v1.1.tif)\n",
      "[12:57:50] Accesing COG bounds (https://s3.eu-central-1.wasabisys.com/eumap/lcv/lcv_red_landsat.glad.ard_p50_30m_0..0cm_2020.06.25..2020.09.12_eumap_epsg3035_v1.1.tif)\n",
      "[12:57:50] Accesing COG bounds (https://s3.eu-central-1.wasabisys.com/eumap/lcv/lcv_landcover.hcl_lucas.corine.eml_f_30m_0..0cm_2018_eumap_epsg3035_v0.2.tif)\n",
      "[12:57:50] Accesing COG bounds (https://s3.eu-central-1.wasabisys.com/eumap/lcv/lcv_red_landsat.glad.ard_p50_30m_0..0cm_2020.03.21..2020.06.24_eumap_epsg3035_v1.1.tif)\n",
      "[12:57:54] Creating collection lcv_red_landsat.glad.ard_epsg3035 with 12\n",
      "[12:57:54] Creating collection lcv_landcover.hcl_lucas.corine.eml_eumap with 3\n",
      "[12:57:54] Generating 27 thumbnails for catalog odse_debug\n",
      "[12:57:56] Copying 62 files to s3.eu-central-1.wasabisys.com/stac/\n"
     ]
    }
   ],
   "source": [
    "s3_host = \"s3.eu-central-1.wasabisys.com\"\n",
    "s3_access_key = \"Y0T0SIIAZR73E09118CN\"\n",
    "s3_access_secret = \"580XEqA5ztqUNRWJHwdXrH1zIDVKXS0WOAEjlrnP\"\n",
    "s3_bucket_name = 'stac'\n",
    "\n",
    "key_file = '/home/opengeohub/leandro/Code/global-layers/input_layers/MOD13Q1/gaia-319808-913d36b5fca4.json'\n",
    "url = 'https://docs.google.com/spreadsheets/d/1NxvxdK2P8Y--RXMC_9S91eCoIjXi-gkJfdGX0KHDjDY'\n",
    "\n",
    "gsheet = GoogleSheet(key_file, url, verbose=False)\n",
    "stac_generator = STACGenerator(gsheet, verbose=True)\n",
    "stac_generator.save_and_publish_all(s3_host, s3_access_key, s3_access_secret, s3_bucket_name)\n",
    "#stac_generator.save_all()"
   ]
  },
  {
   "cell_type": "raw",
   "id": "9c1a4f32-1c03-4475-b0d1-14bbf49a5dfb",
   "metadata": {},
   "source": [
    "docker run -d -p 5432:5432   --name franklin-database   -e POSTGRES_PASSWORD=franklinsecret   -e POSTGRES_USER=benjamin   -e POSTGRES_DB=franklin   quay.io/azavea/postgis:3-postgres12.2-slim\n",
    "\n",
    "docker run   --link franklin-database:franklin-database   quay.io/azavea/franklin:latest   migrate   --db-user benjamin   --db-name franklin   --db-password franklinsecret   --db-host franklin-database\n",
    "\n",
    "docker run   --link franklin-database:franklin-database   -v $HOME/projects/franklin/data/:/opt/data/   quay.io/azavea/franklin:latest   import-catalog   --db-user benjamin   --db-name franklin   --db-password franklinsecret   --db-host franklin-database   --catalog-root https://s3.eu-central-1.wasabisys.com/stac/odse_debug/catalog.json\n",
    "\n",
    "docker run   --link franklin-database:franklin-database   -p 9091:9090   quay.io/azavea/franklin:latest   serve   --db-user benjamin   --db-name franklin   --db-password franklinsecret   --db-host franklin-database --external-port 9091"
   ]
  }
 ],
 "metadata": {
  "kernelspec": {
   "display_name": "Python 3 (ipykernel)",
   "language": "python",
   "name": "python3"
  },
  "language_info": {
   "codemirror_mode": {
    "name": "ipython",
    "version": 3
   },
   "file_extension": ".py",
   "mimetype": "text/x-python",
   "name": "python",
   "nbconvert_exporter": "python",
   "pygments_lexer": "ipython3",
   "version": "3.8.10"
  }
 },
 "nbformat": 4,
 "nbformat_minor": 5
}
