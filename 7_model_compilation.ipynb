{
 "cells": [
  {
   "cell_type": "code",
   "execution_count": 1,
   "id": "058646f4-f721-4301-aeee-9fb59ce0f1ac",
   "metadata": {
    "tags": []
   },
   "outputs": [],
   "source": [
    "import os\n",
    "os.environ['USE_PYGEOS'] = '0'\n",
    "os.environ['PROJ_LIB'] = '/opt/conda/share/proj/'\n",
    "n_cpus = os.cpu_count()\n",
    "n_threads = n_cpus\n",
    "os.environ['OMPI_MCA_rmaps_base_oversubscribe'] = '1'\n",
    "os.environ['USE_PYGEOS'] = '0'\n",
    "os.environ['PROJ_LIB'] = '/opt/conda/share/proj/'\n",
    "os.environ['NUMEXPR_MAX_THREADS'] = f'{n_threads}'\n",
    "os.environ['NUMEXPR_NUM_THREADS'] = f'{n_threads}'\n",
    "os.environ['OMP_THREAD_LIMIT'] = f'{n_threads}'\n",
    "os.environ[\"OPENBLAS_NUM_THREADS\"] = f'{n_threads}' \n",
    "os.environ[\"MKL_NUM_THREADS\"] = f'{n_threads}'\n",
    "os.environ[\"VECLIB_MAXIMUM_THREADS\"] = f'{n_threads}'\n",
    "os.environ[\"OMP_DYNAMIC\"] = f'TRUE'\n",
    "os.environ['TREELITE_BIND_THREADS'] = '0'\n",
    "os.environ[\"OMP_NUM_THREADS\"] = f'{n_threads}'\n",
    "os.environ[\"OPENBLAS_NUM_THREADS\"] = f'{n_threads}'\n",
    "os.environ[\"MKL_NUM_THREADS\"] = f'{n_threads}'\n",
    "os.environ[\"NUMEXPR_NUM_THREADS\"] = f'{n_threads}'\n",
    "import pathlib\n",
    "import tl2cgen\n",
    "import treelite\n",
    "import joblib\n",
    "import numpy as np\n",
    "import skmap_bindings as sb\n",
    "from sklearn.ensemble import RandomForestClassifier\n",
    "from sklearn.datasets import load_iris\n",
    "import treelite.sklearn\n",
    "import warnings\n",
    "import numpy as np\n",
    "import time\n",
    "import shutil\n",
    "\n",
    "folder_path = '/mnt/ripley/global_soc/scikit-map/global-soil-mapping'\n",
    "# prop_list = ['ocd', 'soc', 'bulk.density', 'ph.h2o' ,'coarse']\n",
    "prop_list = ['ocd', 'soc', 'bulk.density', 'ph.h2o']\n",
    "\n",
    "transforms_dict = {\n",
    "    'ocd': 'log1p',\n",
    "    'soc': 'log1p',\n",
    "    'bulk.density': None,\n",
    "    'ph.h2o': None,\n",
    "    'coarse': 'log1p'\n",
    "}\n",
    "version = '20250204'\n",
    "\n",
    "tmp_folder = 'tmp_compile'\n",
    "os.makedirs(tmp_folder, exist_ok=True)\n",
    "\n",
    "out_folder = f'/mnt/slurm/jobs/global_soc'\n",
    "nthread = 96"
   ]
  },
  {
   "cell_type": "markdown",
   "id": "c0bcc853-8d42-49be-93e0-0132c3fc55a5",
   "metadata": {},
   "source": [
    "# generate the production model with all the data we have"
   ]
  },
  {
   "cell_type": "code",
   "execution_count": 2,
   "id": "891eecae-7db8-4abf-8aca-2b40645203d8",
   "metadata": {
    "tags": []
   },
   "outputs": [
    {
     "name": "stdout",
     "output_type": "stream",
     "text": [
      "\n",
      "ocd--------------------------------------------------------------\n",
      "\n",
      "soc--------------------------------------------------------------\n",
      "\n",
      "bulk.density--------------------------------------------------------------\n",
      "\n",
      "ph.h2o--------------------------------------------------------------\n"
     ]
    }
   ],
   "source": [
    "for prop in prop_list:\n",
    "    print(f'\\n{prop}--------------------------------------------------------------')\n",
    "    model_rf = joblib.load(f'{folder_path}/production/model_rf.{prop}_production_v{version}.joblib')\n",
    "    treelite_model = treelite.sklearn.import_model(model_rf)\n",
    "    \n",
    "    \n",
    "    \n",
    "    covs_path = f'{out_folder}/model_rf.{prop}_production_v{version}.covs'\n",
    "    output_path = f'{out_folder}/model_rf.{prop}_production_v{version}.so'\n",
    "    os.makedirs(tmp_folder, exist_ok=True)\n",
    "    \n",
    "\n",
    "    with open(covs_path, \"w\") as file:\n",
    "        for item in list(model_rf.feature_names_in_):\n",
    "            file.write(item + \"\\n\")\n",
    "            \n",
    "    # tl2cgen.export_lib(treelite_model,\n",
    "    #                    libpath = output_path,\n",
    "    #                    nthread = nthread,\n",
    "    #                    verbose=True,\n",
    "    #                    toolchain=\"gcc\",\n",
    "    #                    # toolchain = '/opt/intel/oneapi/compiler/2024.0/bin/icx-cc -O3 -xCORE-AVX512 -qopt-zmm-usage=high',\n",
    "    #                    params={\n",
    "    #                         \"verbose\": 1,\n",
    "    #                         \"quantize\": 1,\n",
    "    #                         \"parallel_comp\": 96,\n",
    "    #                    })\n",
    "\n",
    "     tl2cgen.generate_c_code(treelite_model, tmp_folder, {\"verbose\": 1,\"quantize\": 1,\"parallel_comp\": 96}, verbose=True)\n",
    "     temp_libpath = tl2cgen.create_shared('/opt/intel/oneapi/compiler/2024.0/bin/icx-cc -O3 -xCORE-AVX512 -qopt-zmm-usage=high',\n",
    "                                          tmp_folder,\n",
    "                                          nthread = nthread,\n",
    "                                          verbose = True,\n",
    "                                          long_build_time_warning = False)\n",
    "     shutil.move(temp_libpath, output_path)\n",
    "     shutil.rmtree(tmp_folder)\n",
    "    "
   ]
  }
 ],
 "metadata": {
  "kernelspec": {
   "display_name": "Python 3 (ipykernel)",
   "language": "python",
   "name": "python3"
  },
  "language_info": {
   "codemirror_mode": {
    "name": "ipython",
    "version": 3
   },
   "file_extension": ".py",
   "mimetype": "text/x-python",
   "name": "python",
   "nbconvert_exporter": "python",
   "pygments_lexer": "ipython3",
   "version": "3.8.16"
  }
 },
 "nbformat": 4,
 "nbformat_minor": 5
}
