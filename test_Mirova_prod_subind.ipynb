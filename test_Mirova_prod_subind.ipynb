{
 "cells": [
  {
   "cell_type": "code",
   "execution_count": 1,
   "id": "8bbe17cb",
   "metadata": {
    "tags": []
   },
   "outputs": [],
   "source": [
    "import os\n",
    "import shutil\n",
    "os.environ['USE_PYGEOS'] = '0'\n",
    "os.environ['PROJ_LIB'] = '/opt/conda/share/proj/'\n",
    "os.environ['NUMEXPR_MAX_THREADS'] = '48'\n",
    "os.environ['NUMEXPR_NUM_THREADS'] = '48'\n",
    "os.environ['OMP_THREAD_LIMIT'] = '48'\n",
    "os.environ[\"OMP_NUM_THREADS\"] = \"48\"\n",
    "os.environ[\"OPENBLAS_NUM_THREADS\"] = \"48\" # export OPENBLAS_NUM_THREADS=4 \n",
    "os.environ[\"MKL_NUM_THREADS\"] = \"48\" # export MKL_NUM_THREADS=6\n",
    "os.environ[\"VECLIB_MAXIMUM_THREADS\"] = \"48\" # export VECLIB_MAXIMUM_THREADS=4\n",
    "import gc\n",
    "from datetime import datetime\n",
    "from osgeo import gdal, gdal_array\n",
    "from pathlib import Path\n",
    "from typing import Callable, Iterator, List,        Union\n",
    "import bottleneck as bn\n",
    "import geopandas as gpd\n",
    "import numpy as np\n",
    "import pandas as pd\n",
    "import skmap_bindings\n",
    "import tempfile\n",
    "import time\n",
    "import sys\n",
    "import csv\n",
    "from scipy.signal import savgol_coeffs\n",
    "import numpy as np\n",
    "from skmap.io import process\n",
    "import matplotlib.pyplot as plt\n",
    "import multiprocessing\n",
    "\n",
    "gdal_opts = {\n",
    " 'GDAL_HTTP_VERSION': '1.0',\n",
    " 'CPL_VSIL_CURL_ALLOWED_EXTENSIONS': '.tif',\n",
    "}\n",
    "\n",
    "co = ['TILED=YES', 'BIGTIFF=YES', 'COMPRESS=DEFLATE', 'BLOCKXSIZE=1024', 'BLOCKYSIZE=1024']\n",
    "\n",
    "executor = None\n",
    "\n",
    "def ttprint(*args, **kwargs):\n",
    "    from datetime import datetime\n",
    "    import sys\n",
    "\n",
    "    print(f'[{datetime.now():%H:%M:%S}] ', end='')\n",
    "    print(*args, **kwargs, flush=True)\n",
    "\n",
    "def make_tempdir(basedir='skmap', make_subdir = True):\n",
    "    tempdir = Path(TMP_DIR).joinpath(basedir)\n",
    "    if make_subdir: \n",
    "        name = Path(tempfile.NamedTemporaryFile().name).name\n",
    "        tempdir = tempdir.joinpath(name)\n",
    "    tempdir.mkdir(parents=True, exist_ok=True)\n",
    "    return tempdir\n",
    "\n",
    "def make_tempfile(basedir='skmap', prefix='', suffix='', make_subdir = False):\n",
    "    tempdir = make_tempdir(basedir, make_subdir=make_subdir)\n",
    "    return tempdir.joinpath(\n",
    "        Path(tempfile.NamedTemporaryFile(prefix=prefix, suffix=suffix).name).name\n",
    "    )\n",
    "\n",
    "x_size, y_size = (4800, 4800)\n",
    "x_off, y_off = (0,0)\n",
    "n_threads = multiprocessing.cpu_count()\n",
    "no_data, delc, mod_decl, stress, stable, incr = (0, 1, 2, 3, 4, 5)\n",
    "bands_list = [1,]\n",
    "\n",
    "data_dir = 'data_mirova'\n",
    "years = range(2000,2012)\n",
    "n_years = len(years)\n",
    "assert years[0] >= 2000, \"Data not available before 2000, the target year should be after 2015\"\n",
    "# @TODO check also that the max year is lower then the currnt one"
   ]
  },
  {
   "cell_type": "code",
   "execution_count": null,
   "id": "42f015d6-8546-4463-8a4f-5b4c75a16387",
   "metadata": {
    "tags": []
   },
   "outputs": [],
   "source": [
    "start = time.time()\n",
    "# Store file paths in a dictionary\n",
    "files_by_year = {year: [] for year in years}\n",
    "for filename in os.listdir(data_dir):\n",
    "    if filename.startswith('MOD13Q1.A') and filename.endswith('_ndvi.tif'):\n",
    "        year = int(filename[9:13])\n",
    "        if year in years:\n",
    "            file_path = os.path.join(data_dir, filename)\n",
    "            files_by_year[year].append(file_path)\n",
    "\n",
    "# Check that all files are there and compute the NDVI integrals\n",
    "NDVI_integrals = np.empty((n_years, x_size * y_size), dtype=np.float32)\n",
    "for i, year in enumerate(years):\n",
    "    n_year_files = len(files_by_year[year])\n",
    "    if year == 2000:\n",
    "        assert n_year_files == 20, f\"Error in the data download, not enough files for the year {year}\"\n",
    "    else:\n",
    "        assert n_year_files == 23, f\"Error in the data download, not enough files for the year {year}\"\n",
    "    NDVI_tmp = np.empty((n_year_files, x_size * y_size), dtype=np.float32)\n",
    "    NDVI_tmp_t = np.empty(NDVI_tmp.shape[::-1], dtype=np.float32)\n",
    "    skmap_bindings.readData(NDVI_tmp, n_threads, files_by_year[year], range(n_year_files), x_off, y_off, x_size, y_size, bands_list, gdal_opts, -3000, np.nan)\n",
    "    skmap_bindings.transposeArray(NDVI_tmp, n_threads, NDVI_tmp_t)\n",
    "    skmap_bindings.nanMean(NDVI_tmp_t, n_threads, NDVI_integrals[i])\n",
    "ttprint(f\"Reading data and computing NDVI integrals: {(time.time() - start):.2f} sec\")\n",
    "\n"
   ]
  },
  {
   "cell_type": "code",
   "execution_count": 5,
   "id": "28d27fbc-f519-4239-8d2d-ea7b85dbf861",
   "metadata": {
    "tags": []
   },
   "outputs": [
    {
     "name": "stdout",
     "output_type": "stream",
     "text": [
      "[10:49:21] Computing C++ linear regression: 0.29 sec\n",
      "[10:49:22] Computing p-values: 1.47 sec\n"
     ]
    }
   ],
   "source": [
    "start = time.time()\n",
    "NDVI_integrals_t = np.empty((x_size * y_size, n_years), dtype=np.float32)\n",
    "skmap_bindings.transposeArray(NDVI_integrals, n_threads, NDVI_integrals_t)\n",
    "time_samples = np.arange(n_years).astype(np.float32)\n",
    "slope = np.empty((x_size * y_size,), dtype=np.float32)\n",
    "intercept = np.empty((x_size * y_size,), dtype=np.float32)\n",
    "skmap_bindings.linearRegression(NDVI_integrals_t, n_threads, time_samples, intercept, slope)\n",
    "ttprint(f\"Computing C++ linear regression: {(time.time() - start):.2f} sec\")   \n",
    "\n",
    "start = time.time()\n",
    "p_values = np.empty((x_size * y_size,), dtype=np.float32)\n",
    "skmap_bindings.computeMannKendallPValues(NDVI_integrals_t, n_threads, p_values)\n",
    "ttprint(f\"Computing p-values: {(time.time() - start):.2f} sec\")   \n"
   ]
  },
  {
   "cell_type": "code",
   "execution_count": null,
   "id": "0b179f32-e0e6-4f55-816a-84675226a345",
   "metadata": {
    "tags": []
   },
   "outputs": [],
   "source": [
    "plt.imshow(np.reshape(p_values,(x_size, y_size)))\n",
    "plt.colorbar()\n",
    "plt.show()\n",
    "plt.imshow(np.reshape(NDVI_integrals[0],(x_size, y_size)))\n",
    "plt.colorbar()\n",
    "plt.show()\n",
    "plt.imshow(np.reshape(slope,(x_size, y_size)))\n",
    "plt.colorbar()\n",
    "plt.show()"
   ]
  },
  {
   "cell_type": "code",
   "execution_count": null,
   "id": "c08efee4-ca2e-43c0-b113-0d79ecc8293b",
   "metadata": {
    "tags": []
   },
   "outputs": [],
   "source": [
    "# ttprint(f\"Processing file\")\n",
    "\n",
    "# start = time.time()\n",
    "# out_data = NDVI_tmp.copy()\n",
    "# # Some random example to get compilant with the required format\n",
    "# out_data[NDVI_tmp>8000] = incr\n",
    "# out_data[out_data>6000] = stable\n",
    "# out_data[out_data>4000] = stress\n",
    "# out_data[out_data>2000] = mod_decl\n",
    "# out_data[NDVI_tmp<=2000] = delc\n",
    "# out_data[NDVI_tmp==-3000] = no_data\n",
    "# ttprint(f\"Processing data: {(time.time() - start):.2f} segs\")\n",
    "\n",
    "# out_raseter = [f'test_Mirova_prod_subind_{i}' for i in range(len(out_data))]\n",
    "# base_raseter = [files_by_year[years[0]][0] for i in range(len(out_data))]\n",
    "\n",
    "# start = time.time()\n",
    "# skmap_bindings.writeByteData(out_data, n_threads, gdal_opts, base_raseter, f'/home/dconsoli/Desktop', out_raseter, range(len(out_raseter)),\n",
    "#     x_off, y_off, x_size, y_size, 0)\n",
    "# ttprint(f\"Saving data: {(time.time() - start):.2f} segs\")\n"
   ]
  }
 ],
 "metadata": {
  "kernelspec": {
   "display_name": "Python 3 (ipykernel)",
   "language": "python",
   "name": "python3"
  },
  "language_info": {
   "codemirror_mode": {
    "name": "ipython",
    "version": 3
   },
   "file_extension": ".py",
   "mimetype": "text/x-python",
   "name": "python",
   "nbconvert_exporter": "python",
   "pygments_lexer": "ipython3",
   "version": "3.8.16"
  }
 },
 "nbformat": 4,
 "nbformat_minor": 5
}
