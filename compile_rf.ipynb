{
 "cells": [
  {
   "cell_type": "code",
   "execution_count": 5,
   "id": "57b1560f-6883-4721-b153-6c13c4fa2759",
   "metadata": {
    "tags": []
   },
   "outputs": [],
   "source": [
    "import os\n",
    "os.environ['USE_PYGEOS'] = '0'\n",
    "os.environ['PROJ_LIB'] = '/opt/conda/share/proj/'\n",
    "n_cpus = os.cpu_count()\n",
    "n_threads = n_cpus\n",
    "os.environ['OMPI_MCA_rmaps_base_oversubscribe'] = '1'\n",
    "os.environ['USE_PYGEOS'] = '0'\n",
    "os.environ['PROJ_LIB'] = '/opt/conda/share/proj/'\n",
    "os.environ['NUMEXPR_MAX_THREADS'] = f'{n_threads}'\n",
    "os.environ['NUMEXPR_NUM_THREADS'] = f'{n_threads}'\n",
    "os.environ['OMP_THREAD_LIMIT'] = f'{n_threads}'\n",
    "os.environ[\"OPENBLAS_NUM_THREADS\"] = f'{n_threads}' \n",
    "os.environ[\"MKL_NUM_THREADS\"] = f'{n_threads}'\n",
    "os.environ[\"VECLIB_MAXIMUM_THREADS\"] = f'{n_threads}'\n",
    "os.environ[\"OMP_DYNAMIC\"] = f'TRUE'\n",
    "os.environ['TREELITE_BIND_THREADS'] = '0'\n",
    "os.environ[\"OMP_NUM_THREADS\"] = f'{n_threads}'\n",
    "os.environ[\"OPENBLAS_NUM_THREADS\"] = f'{n_threads}'\n",
    "os.environ[\"MKL_NUM_THREADS\"] = f'{n_threads}'\n",
    "os.environ[\"NUMEXPR_NUM_THREADS\"] = f'{n_threads}'\n",
    "from tl2cgen.contrib.util import _libext\n",
    "import pathlib\n",
    "import tl2cgen\n",
    "import treelite\n",
    "import joblib\n",
    "import numpy as np\n",
    "import skmap_bindings as sb\n",
    "from sklearn.ensemble import RandomForestClassifier\n",
    "from sklearn.datasets import load_iris\n",
    "import treelite.sklearn\n",
    "import warnings\n",
    "import numpy as np\n",
    "import time\n",
    "\n",
    "nthread = 96\n",
    "# RANDOM FOREST\n",
    "\n",
    "MODEL_PATH = '/mnt/slurm/jobs/global_soc'\n",
    "OUT_PATH = 'com_models'\n",
    "version = '20250122'\n",
    "prop = 'ocd'\n",
    "\n",
    "input_path=f'{MODEL_PATH}/model_rf.{prop}_production_v{version}.joblib'\n",
    "covs_path=f'{MODEL_PATH}/model_rf.{prop}_production.tl2cgen.intel_v{version}.covs'\n",
    "output_path=f'{MODEL_PATH}/model_rf.{prop}_production_v{version}.so'\n",
    "output_path_tl2cgen=f'{OUT_PATH}/model_rf.{prop}_production.tl2cgen_v{version}.so'\n",
    "output_path_tl2cgen_intel=f'{OUT_PATH}/model_rf.{prop}_production.tl2cgen.intel_v{version}.so'\n",
    "\n",
    "model_rf = joblib.load(input_path)\n",
    "treelite_model = treelite.sklearn.import_model(model_rf)\n",
    "with open(covs_path, \"w\") as file:\n",
    "    for item in list(model_rf.feature_names_in_):\n",
    "        file.write(item + \"\\n\")"
   ]
  },
  {
   "cell_type": "code",
   "execution_count": 6,
   "id": "bb67bad0-0dd5-4237-a5e5-6bbfd10adf8c",
   "metadata": {
    "tags": []
   },
   "outputs": [
    {
     "data": {
      "text/plain": [
       "'com_models/model_rf.ocd_production.tl2cgen.intel_v20250122.so'"
      ]
     },
     "execution_count": 6,
     "metadata": {},
     "output_type": "execute_result"
    }
   ],
   "source": [
    "output_path_tl2cgen_intel"
   ]
  },
  {
   "cell_type": "code",
   "execution_count": null,
   "id": "cba2243d-698c-4efe-b2a9-61732ebeb07a",
   "metadata": {
    "tags": []
   },
   "outputs": [],
   "source": [
    "tl2cgen.export_lib(treelite_model, toolchain=\"gcc\", libpath=output_path_tl2cgen, nthread = nthread, verbose=True,    params={\"parallel_comp\": nthread})"
   ]
  },
  {
   "cell_type": "code",
   "execution_count": 8,
   "id": "479d7069-333c-4e27-95aa-74beaf090bd7",
   "metadata": {
    "tags": []
   },
   "outputs": [
    {
     "name": "stderr",
     "output_type": "stream",
     "text": [
      "/home/opengeohub/.local/lib/python3.8/site-packages/treelite/core.py:25: UserWarning: [15:53:43] /mnt/ripley/global_soc/scikit-map/tl2cgen/build/_deps/treelite-src/src/serializer.cc:202: The model you are loading originated from a newer Treelite version; some functionalities may be unavailable.\n",
      "Currently running Treelite version 4.1.2\n",
      "The model checkpoint was generated from Treelite version 4.5.0\n",
      "  warnings.warn(py_str(msg))\n"
     ]
    },
    {
     "name": "stdout",
     "output_type": "stream",
     "text": [
      "[15:53:44] /mnt/ripley/global_soc/scikit-map/tl2cgen/src/compiler/ast/split.cc:35: Parallel compilation enabled; member trees will be divided into 96 translation units.\n",
      "Compiling sources files in directory /tmp/tmp7wtykh_s into object files (*.o)...\n",
      "Generating dynamic shared library /tmp/tmp7wtykh_s/predictor.so...\n",
      "Generated shared library in 217.69 seconds\n"
     ]
    },
    {
     "ename": "AttributeError",
     "evalue": "'PosixPath' object has no attribute 'rstrip'",
     "output_type": "error",
     "traceback": [
      "\u001b[0;31m---------------------------------------------------------------------------\u001b[0m",
      "\u001b[0;31mAttributeError\u001b[0m                            Traceback (most recent call last)",
      "Cell \u001b[0;32mIn[8], line 1\u001b[0m\n\u001b[0;32m----> 1\u001b[0m \u001b[43mtl2cgen\u001b[49m\u001b[38;5;241;43m.\u001b[39;49m\u001b[43mexport_lib\u001b[49m\u001b[43m(\u001b[49m\u001b[43mtreelite_model\u001b[49m\u001b[43m,\u001b[49m\n\u001b[1;32m      2\u001b[0m \u001b[43m                   \u001b[49m\u001b[43mlibpath\u001b[49m\u001b[43m \u001b[49m\u001b[38;5;241;43m=\u001b[39;49m\u001b[43m \u001b[49m\u001b[43mOUT_PATH\u001b[49m\u001b[43m,\u001b[49m\n\u001b[1;32m      3\u001b[0m \u001b[43m                   \u001b[49m\u001b[43mnthread\u001b[49m\u001b[43m \u001b[49m\u001b[38;5;241;43m=\u001b[39;49m\u001b[43m \u001b[49m\u001b[43mnthread\u001b[49m\u001b[43m,\u001b[49m\n\u001b[1;32m      4\u001b[0m \u001b[43m                   \u001b[49m\u001b[43mverbose\u001b[49m\u001b[38;5;241;43m=\u001b[39;49m\u001b[38;5;28;43;01mTrue\u001b[39;49;00m\u001b[43m,\u001b[49m\n\u001b[1;32m      5\u001b[0m \u001b[43m                   \u001b[49m\u001b[43mtoolchain\u001b[49m\u001b[38;5;241;43m=\u001b[39;49m\u001b[43m \u001b[49m\u001b[38;5;124;43m'\u001b[39;49m\u001b[38;5;124;43m/opt/intel/oneapi/compiler/2024.0/bin/icx-cc -O3 -xCORE-AVX512 -qopt-zmm-usage=high\u001b[39;49m\u001b[38;5;124;43m'\u001b[39;49m\u001b[43m,\u001b[49m\n\u001b[1;32m      6\u001b[0m \u001b[43m                   \u001b[49m\u001b[43mparams\u001b[49m\u001b[38;5;241;43m=\u001b[39;49m\u001b[43m{\u001b[49m\n\u001b[1;32m      7\u001b[0m \u001b[43m                        \u001b[49m\u001b[38;5;124;43m\"\u001b[39;49m\u001b[38;5;124;43mverbose\u001b[39;49m\u001b[38;5;124;43m\"\u001b[39;49m\u001b[43m:\u001b[49m\u001b[43m \u001b[49m\u001b[38;5;241;43m1\u001b[39;49m\u001b[43m,\u001b[49m\n\u001b[1;32m      8\u001b[0m \u001b[43m                        \u001b[49m\u001b[38;5;124;43m\"\u001b[39;49m\u001b[38;5;124;43mquantize\u001b[39;49m\u001b[38;5;124;43m\"\u001b[39;49m\u001b[43m:\u001b[49m\u001b[43m \u001b[49m\u001b[38;5;241;43m1\u001b[39;49m\u001b[43m,\u001b[49m\n\u001b[1;32m      9\u001b[0m \u001b[43m                        \u001b[49m\u001b[38;5;124;43m\"\u001b[39;49m\u001b[38;5;124;43mparallel_comp\u001b[39;49m\u001b[38;5;124;43m\"\u001b[39;49m\u001b[43m:\u001b[49m\u001b[43m \u001b[49m\u001b[38;5;241;43m96\u001b[39;49m\u001b[43m,\u001b[49m\n\u001b[1;32m     10\u001b[0m \u001b[43m                   \u001b[49m\u001b[43m}\u001b[49m\u001b[43m)\u001b[49m\n",
      "File \u001b[0;32m~/.local/lib/python3.8/site-packages/tl2cgen/shortcuts.py:89\u001b[0m, in \u001b[0;36mexport_lib\u001b[0;34m(model, toolchain, libpath, params, nthread, verbose, options)\u001b[0m\n\u001b[1;32m     87\u001b[0m \u001b[38;5;28;01mif\u001b[39;00m libpath\u001b[38;5;241m.\u001b[39mis_file():\n\u001b[1;32m     88\u001b[0m     libpath\u001b[38;5;241m.\u001b[39munlink()\n\u001b[0;32m---> 89\u001b[0m \u001b[43mshutil\u001b[49m\u001b[38;5;241;43m.\u001b[39;49m\u001b[43mmove\u001b[49m\u001b[43m(\u001b[49m\u001b[43mtemp_libpath\u001b[49m\u001b[43m,\u001b[49m\u001b[43m \u001b[49m\u001b[43mlibpath\u001b[49m\u001b[43m)\u001b[49m\n",
      "File \u001b[0;32m/opt/conda/lib/python3.8/shutil.py:787\u001b[0m, in \u001b[0;36mmove\u001b[0;34m(src, dst, copy_function)\u001b[0m\n\u001b[1;32m    784\u001b[0m     os\u001b[38;5;241m.\u001b[39mrename(src, dst)\n\u001b[1;32m    785\u001b[0m     \u001b[38;5;28;01mreturn\u001b[39;00m\n\u001b[0;32m--> 787\u001b[0m real_dst \u001b[38;5;241m=\u001b[39m os\u001b[38;5;241m.\u001b[39mpath\u001b[38;5;241m.\u001b[39mjoin(dst, \u001b[43m_basename\u001b[49m\u001b[43m(\u001b[49m\u001b[43msrc\u001b[49m\u001b[43m)\u001b[49m)\n\u001b[1;32m    788\u001b[0m \u001b[38;5;28;01mif\u001b[39;00m os\u001b[38;5;241m.\u001b[39mpath\u001b[38;5;241m.\u001b[39mexists(real_dst):\n\u001b[1;32m    789\u001b[0m     \u001b[38;5;28;01mraise\u001b[39;00m Error(\u001b[38;5;124m\"\u001b[39m\u001b[38;5;124mDestination path \u001b[39m\u001b[38;5;124m'\u001b[39m\u001b[38;5;132;01m%s\u001b[39;00m\u001b[38;5;124m'\u001b[39m\u001b[38;5;124m already exists\u001b[39m\u001b[38;5;124m\"\u001b[39m \u001b[38;5;241m%\u001b[39m real_dst)\n",
      "File \u001b[0;32m/opt/conda/lib/python3.8/shutil.py:750\u001b[0m, in \u001b[0;36m_basename\u001b[0;34m(path)\u001b[0m\n\u001b[1;32m    746\u001b[0m \u001b[38;5;28;01mdef\u001b[39;00m \u001b[38;5;21m_basename\u001b[39m(path):\n\u001b[1;32m    747\u001b[0m     \u001b[38;5;66;03m# A basename() variant which first strips the trailing slash, if present.\u001b[39;00m\n\u001b[1;32m    748\u001b[0m     \u001b[38;5;66;03m# Thus we always get the last component of the path, even for directories.\u001b[39;00m\n\u001b[1;32m    749\u001b[0m     sep \u001b[38;5;241m=\u001b[39m os\u001b[38;5;241m.\u001b[39mpath\u001b[38;5;241m.\u001b[39msep \u001b[38;5;241m+\u001b[39m (os\u001b[38;5;241m.\u001b[39mpath\u001b[38;5;241m.\u001b[39maltsep \u001b[38;5;129;01mor\u001b[39;00m \u001b[38;5;124m'\u001b[39m\u001b[38;5;124m'\u001b[39m)\n\u001b[0;32m--> 750\u001b[0m     \u001b[38;5;28;01mreturn\u001b[39;00m os\u001b[38;5;241m.\u001b[39mpath\u001b[38;5;241m.\u001b[39mbasename(\u001b[43mpath\u001b[49m\u001b[38;5;241;43m.\u001b[39;49m\u001b[43mrstrip\u001b[49m(sep))\n",
      "\u001b[0;31mAttributeError\u001b[0m: 'PosixPath' object has no attribute 'rstrip'"
     ]
    }
   ],
   "source": [
    "tl2cgen.export_lib(treelite_model,\n",
    "                   libpath = OUT_PATH,\n",
    "                   nthread = nthread,\n",
    "                   verbose=True,\n",
    "                   toolchain= '/opt/intel/oneapi/compiler/2024.0/bin/icx-cc -O3 -xCORE-AVX512 -qopt-zmm-usage=high',\n",
    "                   params={\n",
    "                        \"verbose\": 1,\n",
    "                        \"quantize\": 1,\n",
    "                        \"parallel_comp\": 96,\n",
    "                   })"
   ]
  },
  {
   "cell_type": "code",
   "execution_count": null,
   "id": "56e5bf5b-4a96-4fcc-bc53-2a3756aa5444",
   "metadata": {
    "tags": []
   },
   "outputs": [],
   "source": [
    "# treelite_model.export_lib(\n",
    "#     toolchain= '/opt/intel/oneapi/compiler/2024.0/bin/icx-cc -O3 -xCORE-AVX512 -qopt-zmm-usage=high',\n",
    "#     libpath=output_path,\n",
    "#     params={\n",
    "#         \"verbose\": 1,\n",
    "#         \"quantize\": 1,\n",
    "#         \"parallel_comp\": 96,\n",
    "#         \"code_folding_req\": 64., # tune this\n",
    "#     }\n",
    "# )\n"
   ]
  },
  {
   "cell_type": "code",
   "execution_count": 3,
   "id": "883d0034-e553-4c66-8b88-f21c3193f289",
   "metadata": {
    "tags": []
   },
   "outputs": [],
   "source": [
    "data = np.load(\"data30m.npy\")\n",
    "# data = np.load(\"data240m.npy\")\n",
    "\n",
    "if str(treelite_model.input_type) != str(data.dtype):\n",
    "    if data.dtype == np.float64:\n",
    "        data_cast = np.empty(data.shape, dtype='float32')\n",
    "        sb.castFloat64ToFloat32(data, n_threads, data_cast)\n",
    "    if data.dtype == np.float32:\n",
    "        data_cast = np.empty(data.shape, dtype='float64')\n",
    "        sb.castFloat32ToFloat64(data, n_threads, data_cast)\n",
    "else:\n",
    "    data_cast = data\n",
    "\n",
    "predictor = treelite_runtime.Predictor(output_path, nthread=nthread)\n",
    "predictor2  = tl2cgen.Predictor(output_path_tl2cgen_intel, nthread=nthread)\n",
    "predictor3  = tl2cgen.Predictor(output_path_tl2cgen, nthread=nthread)"
   ]
  },
  {
   "cell_type": "code",
   "execution_count": 4,
   "id": "1c582b31-2143-4170-bdba-fcf1fbfa7874",
   "metadata": {
    "tags": []
   },
   "outputs": [
    {
     "name": "stdout",
     "output_type": "stream",
     "text": [
      "@@@@@@@@@@@@@@ TreeLite DMatrix: 13.08 s\n",
      "@@@@@@@@@@@@@@ TreeLite Predict: 8.36 s\n",
      "@@@@@@@@@@@@@@@@@@@@@@@@@@@ TreeLite: 21.44 s\n",
      "XXXXXXXXXXXXXX tl2cgen DMatrix: 1.04 s\n",
      "XXXXXXXXX tl2cgen Predict: 7.17 s\n",
      "XXXXXXXXXXXXXXXXXXX tl2cgen: 8.20 s\n"
     ]
    },
    {
     "name": "stderr",
     "output_type": "stream",
     "text": [
      "/home/opengeohub/.local/lib/python3.8/site-packages/sklearn/base.py:465: UserWarning: X does not have valid feature names, but RandomForestRegressor was fitted with feature names\n",
      "  warnings.warn(\n"
     ]
    },
    {
     "name": "stdout",
     "output_type": "stream",
     "text": [
      "oooooooooooooo Sklearn: 21.44 s\n"
     ]
    }
   ],
   "source": [
    "\n",
    "start = time.time()\n",
    "data_dm = treelite_runtime.DMatrix(data, dtype='float32')\n",
    "print(f\"@@@@@@@@@@@@@@ TreeLite DMatrix: {(time.time() - start):.2f} s\")\n",
    "start1 = time.time()\n",
    "rest1 = predictor.predict(data_dm)\n",
    "print(f\"@@@@@@@@@@@@@@ TreeLite Predict: {(time.time() - start1):.2f} s\")\n",
    "print(f\"@@@@@@@@@@@@@@@@@@@@@@@@@@@ TreeLite: {(time.time() - start):.2f} s\")\n",
    "\n",
    "start = time.time()\n",
    "dmat = tl2cgen.DMatrix(data, dtype='float32')\n",
    "print(f\"XXXXXXXXXXXXXX tl2cgen DMatrix: {(time.time() - start):.2f} s\")\n",
    "start1 = time.time()\n",
    "# rest2 = predictor2.predict(dmat)\n",
    "rest2 = predictor3.predict(dmat)\n",
    "if rest2.shape[-1] == 1:\n",
    "    rest2 = np.squeeze(rest2, axis=-1)\n",
    "if rest2.shape[-1] == 1:\n",
    "    rest2 = np.squeeze(rest2, axis=-1)\n",
    "print(f\"XXXXXXXXX tl2cgen Predict: {(time.time() - start1):.2f} s\")\n",
    "print(f\"XXXXXXXXXXXXXXXXXXX tl2cgen: {(time.time() - start):.2f} s\")\n",
    "\n",
    "start = time.time()\n",
    "rest3 = model_rf.predict(data, )\n",
    "print(f\"oooooooooooooo Sklearn: {(time.time() - start):.2f} s\")\n",
    "\n",
    "# start = time.time()\n",
    "# data_float64 = np.empty(data.shape, dtype='float64')\n",
    "# sb.castFloat32ToFloat64(data, nthread, data_float64)\n",
    "# rest = treelite.gtil.predict_per_tree(model=treelite_model, data=data_cast, nthread=nthread)\n",
    "# if rest.shape[-1] == 1:\n",
    "#     rest = np.squeeze(rest, axis=-1)\n",
    "# print(f\"############################ Per tree manual casting: {(time.time() - start):.2f} s\")\n",
    "\n",
    "\n",
    "# rest.shape"
   ]
  },
  {
   "cell_type": "code",
   "execution_count": 5,
   "id": "0b1d3fa7-01ba-4c76-b581-d3529d9a7447",
   "metadata": {
    "tags": []
   },
   "outputs": [
    {
     "data": {
      "text/plain": [
       "array([3.40355592, 3.40355592, 3.40355592, ..., 3.03323275, 3.03323275,\n",
       "       3.03323275])"
      ]
     },
     "execution_count": 5,
     "metadata": {},
     "output_type": "execute_result"
    }
   ],
   "source": [
    "rest3"
   ]
  },
  {
   "cell_type": "code",
   "execution_count": 6,
   "id": "3a94e151-8bb2-4895-bcad-5c5a5c47626e",
   "metadata": {
    "tags": []
   },
   "outputs": [
    {
     "data": {
      "text/plain": [
       "array([3.40355592, 3.40355592, 3.40355592, ..., 3.03323275, 3.03323275,\n",
       "       3.03323275])"
      ]
     },
     "execution_count": 6,
     "metadata": {},
     "output_type": "execute_result"
    }
   ],
   "source": [
    "rest2"
   ]
  },
  {
   "cell_type": "code",
   "execution_count": 7,
   "id": "a146576b-9cf9-4b80-9a4b-afbd58a387f3",
   "metadata": {
    "tags": []
   },
   "outputs": [
    {
     "data": {
      "text/plain": [
       "array([3.40355592, 3.40355592, 3.40355592, ..., 3.03323275, 3.03323275,\n",
       "       3.03323275])"
      ]
     },
     "execution_count": 7,
     "metadata": {},
     "output_type": "execute_result"
    }
   ],
   "source": [
    "rest1"
   ]
  },
  {
   "cell_type": "code",
   "execution_count": 8,
   "id": "d9779946-8704-4651-87ef-6f7ba763f600",
   "metadata": {
    "tags": []
   },
   "outputs": [
    {
     "data": {
      "text/plain": [
       "2.38649309331379e-16"
      ]
     },
     "execution_count": 8,
     "metadata": {},
     "output_type": "execute_result"
    }
   ],
   "source": [
    "np.linalg.norm(rest3-rest2)/np.linalg.norm(rest3)"
   ]
  },
  {
   "cell_type": "code",
   "execution_count": 9,
   "id": "c9a3f2bf-300d-4eba-bcfb-5859630a0373",
   "metadata": {
    "tags": []
   },
   "outputs": [
    {
     "data": {
      "text/plain": [
       "3.2069207157551277e-16"
      ]
     },
     "execution_count": 9,
     "metadata": {},
     "output_type": "execute_result"
    }
   ],
   "source": [
    "np.linalg.norm(rest3-rest1)/np.linalg.norm(rest3)"
   ]
  },
  {
   "cell_type": "code",
   "execution_count": null,
   "id": "a07b67db-64d4-4ef8-b01d-a699e5cf9076",
   "metadata": {},
   "outputs": [],
   "source": []
  },
  {
   "cell_type": "code",
   "execution_count": 14,
   "id": "e8ed8739-f71e-423d-94f8-6f9bdcd37b13",
   "metadata": {},
   "outputs": [
    {
     "name": "stdout",
     "output_type": "stream",
     "text": [
      "MISO\n"
     ]
    }
   ],
   "source": [
    "if \"8\":\n",
    "    print(\"MISO\")"
   ]
  },
  {
   "cell_type": "code",
   "execution_count": 15,
   "id": "70257d66-6b67-4c0b-999e-05c00e8a35de",
   "metadata": {
    "tags": []
   },
   "outputs": [
    {
     "ename": "NameError",
     "evalue": "name 'warning' is not defined",
     "output_type": "error",
     "traceback": [
      "\u001b[0;31m---------------------------------------------------------------------------\u001b[0m",
      "\u001b[0;31mNameError\u001b[0m                                 Traceback (most recent call last)",
      "Cell \u001b[0;32mIn[15], line 1\u001b[0m\n\u001b[0;32m----> 1\u001b[0m \u001b[43mwarning\u001b[49m(\u001b[38;5;124m\"\u001b[39m\u001b[38;5;124mmioai\u001b[39m\u001b[38;5;124m\"\u001b[39m)\n",
      "\u001b[0;31mNameError\u001b[0m: name 'warning' is not defined"
     ]
    }
   ],
   "source": [
    "warning(\"mioai\")"
   ]
  },
  {
   "cell_type": "code",
   "execution_count": 19,
   "id": "f980a6db-6e78-47f2-9a25-4098eaf905f0",
   "metadata": {
    "tags": []
   },
   "outputs": [
    {
     "data": {
      "text/plain": [
       "7.600000000000001"
      ]
     },
     "execution_count": 19,
     "metadata": {},
     "output_type": "execute_result"
    }
   ],
   "source": [
    "40%8.1"
   ]
  },
  {
   "cell_type": "code",
   "execution_count": 21,
   "id": "25c94beb-61b9-4842-b16a-960f389afcde",
   "metadata": {
    "tags": []
   },
   "outputs": [],
   "source": [
    "def wowo(a:str = None, \n",
    "                 b:int = None):\n",
    "    if a:\n",
    "        print(\"miao\")"
   ]
  },
  {
   "cell_type": "code",
   "execution_count": 24,
   "id": "e3fa43e6-20c6-4c9c-9c69-8721481c9e8a",
   "metadata": {
    "tags": []
   },
   "outputs": [],
   "source": [
    "wowo()"
   ]
  },
  {
   "cell_type": "code",
   "execution_count": null,
   "id": "099bc25e-aa1f-4f3a-9037-6b3ffc6e30f5",
   "metadata": {},
   "outputs": [],
   "source": []
  }
 ],
 "metadata": {
  "kernelspec": {
   "display_name": "Python 3 (ipykernel)",
   "language": "python",
   "name": "python3"
  },
  "language_info": {
   "codemirror_mode": {
    "name": "ipython",
    "version": 3
   },
   "file_extension": ".py",
   "mimetype": "text/x-python",
   "name": "python",
   "nbconvert_exporter": "python",
   "pygments_lexer": "ipython3",
   "version": "3.8.16"
  }
 },
 "nbformat": 4,
 "nbformat_minor": 5
}
