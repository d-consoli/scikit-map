{
 "cells": [
  {
   "cell_type": "markdown",
   "metadata": {
    "nteract": {
     "transient": {
      "deleting": false
     }
    }
   },
   "source": [
    "# Eumap Tutorial\n",
    "\n",
    "![TMWM](../../img/change_sign.png \"Change ahead\")"
   ]
  },
  {
   "cell_type": "markdown",
   "metadata": {},
   "source": [
    "Please access this using the new location:\n",
    "* **GitLab**: https://gitlab.com/geoharmonizer_inea/eumap/-/blob/master/docs/notebooks/04_landcover_mapping_advanced.ipynb\n",
    "* **Documentation**: https://eumap.readthedocs.org/notebooks/04_landcover_mapping_advanced.html"
   ]
  }
 ],
 "metadata": {
  "anaconda-cloud": {},
  "kernelspec": {
   "display_name": "Python 3",
   "language": "python",
   "name": "python3"
  },
  "language_info": {
   "codemirror_mode": {
    "name": "ipython",
    "version": 3
   },
   "file_extension": ".py",
   "mimetype": "text/x-python",
   "name": "python",
   "nbconvert_exporter": "python",
   "pygments_lexer": "ipython3",
   "version": "3.8.6"
  },
  "nteract": {
   "version": "0.25.0"
  }
 },
 "nbformat": 4,
 "nbformat_minor": 4
}
