{
 "cells": [
  {
   "cell_type": "code",
   "execution_count": 1,
   "metadata": {},
   "outputs": [
    {
     "data": {
      "text/plain": [
       "<eumap.qc.Test at 0x7f2000fccc10>"
      ]
     },
     "execution_count": 1,
     "metadata": {},
     "output_type": "execute_result"
    }
   ],
   "source": [
    "from eumap import qc\n",
    "\n",
    "bounds = (\n",
    "    4751935,\n",
    "    2420238,\n",
    "    4772117,\n",
    "    2444223,\n",
    ")\n",
    "\n",
    "test = qc.Test(\n",
    "    bounds=bounds,\n",
    "    crs='EPSG:3035', # optional\n",
    "    verbose=True,    # optional, defaults to False\n",
    ")\n",
    "\n",
    "test"
   ]
  },
  {
   "cell_type": "code",
   "execution_count": 2,
   "metadata": {},
   "outputs": [
    {
     "data": {
      "text/plain": [
       "title:    PNV - Probability distribution for Abies alba\n",
       "abstract: Overview:\n",
       "Potential Natural Vegetation (PNV): potential probability of occurrence for the Silver fir from 2018 to 2020\n",
       "\n",
       "Traceability (lineage):\n",
       "    This is an original dataset produced with a machine learning framework which used a combination of point datasets and raster datasets as inputs. Point dataset is a harmonized collection of tree occurrence data, comprising observations from National Forest Inventories (EU-Forest), GBIF and LUCAS. The complete dataset is available on Zenodo. Raster datasets used as input are: monthly time series air and surface temperature and precipitation from a reprocessed version of the Copernicus ERA5 dataset; long term averages of bioclimatic variables from CHELSA; elevation, slope and other elevation-derived metrics and long term monthly averages snow probability. For a more comprehensive list refer to Bonannella et al. (2022) (in review, preprint available at: https://doi.org/10.21203/rs.3.rs-1252972/v1). \n",
       "\n",
       "Scientific methodology:\n",
       "    Probability and uncertainty maps were the output of a spatiotemporal ensemble machine learning framework based on stacked regularization. Three base models (random forest, gradient boosted trees and generalized linear models) were first trained on the input dataset and their predictions were used to train an additional model (logistic regression) which provided the final predictions. More details on the whole workflow are available in the listed publication.\n",
       "\n",
       "Usability:\n",
       "    Probability maps are particularly useful when compared with existing products of potential distribution of species or when combined with maps of realized distribution: gaps in potential and realized distribution can be identified and used as information for future programs of tree planting or forest restoration.\n",
       "\n",
       "Uncertainty quantification:\n",
       "    Uncertainty is quantified by taking the standard deviation of the probabilities predicted by the three components of the spatiotemporal ensemble model.\n",
       "\n",
       "Data validation approaches:\n",
       "    Distribution maps were validated using a spatial 5-fold cross validation following the workflow detailed in the listed publication.\n",
       "\n",
       "Completeness:\n",
       "    The raster files perfectly cover the entire Geo-harmonizer region as defined by the landmask raster dataset available here.\n",
       "\n",
       "Consistency:\n",
       "    Areas which are outside of the calibration area of the point dataset (Iceland, Norway) usually have high uncertainty values. This is not only a problem of extrapolation but also of poor representation in the feature space available to the model of the conditions that are present in this countries.\n",
       "\n",
       "Positional accuracy:\n",
       "    The rasters have a spatial resolution of 30m.\n",
       "\n",
       "Temporal accuracy:\n",
       "    The maps cover the period 2018 - 2020\n",
       "\n",
       "Thematic accuracy:\n",
       "    Both probability and uncertainty maps contain values from 0 to 100: in the case of probability maps, they indicate the probability of occurrence of a single individual of the target species, while uncertainty maps indicate the standard deviation of the ensemble model.\n",
       "theme:    Vegetation"
      ]
     },
     "execution_count": 2,
     "metadata": {},
     "output_type": "execute_result"
    }
   ],
   "source": [
    "from eumap.datasets import Catalogue\n",
    "\n",
    "cat = Catalogue()\n",
    "\n",
    "asset = cat.search('pnv')[0]\n",
    "\n",
    "asset.meta"
   ]
  },
  {
   "cell_type": "code",
   "execution_count": 3,
   "metadata": {},
   "outputs": [
    {
     "data": {
      "text/plain": [
       "'https://s3.eu-central-1.wasabisys.com/eumap/veg/veg_abies.alba_pnv.eml_p_30m_0..0cm_2018..2020_eumap_epsg3035_v0.2.tif'"
      ]
     },
     "execution_count": 3,
     "metadata": {},
     "output_type": "execute_result"
    }
   ],
   "source": [
    "str(asset) # assets are just strings with metadata so we can use them as a url string"
   ]
  },
  {
   "cell_type": "code",
   "execution_count": 4,
   "metadata": {},
   "outputs": [
    {
     "name": "stdout",
     "output_type": "stream",
     "text": [
      "Dataset accessible:\n",
      "https://s3.eu-central-1.wasabisys.com/eumap/veg/veg_abies.alba_pnv.eml_p_30m_0..0cm_2018..2020_eumap_epsg3035_v0.2.tif\n"
     ]
    },
    {
     "data": {
      "text/plain": [
       "True"
      ]
     },
     "execution_count": 4,
     "metadata": {},
     "output_type": "execute_result"
    }
   ],
   "source": [
    "accessible = test.accessibility(asset)\n",
    "\n",
    "accessible"
   ]
  },
  {
   "cell_type": "code",
   "execution_count": 5,
   "metadata": {},
   "outputs": [
    {
     "name": "stdout",
     "output_type": "stream",
     "text": [
      "reader using 3 threads\n",
      "Completeness 100.0% for dataset:\n",
      "https://s3.eu-central-1.wasabisys.com/eumap/veg/veg_abies.alba_pnv.eml_p_30m_0..0cm_2018..2020_eumap_epsg3035_v0.2.tif\n"
     ]
    },
    {
     "data": {
      "text/plain": [
       "1.0"
      ]
     },
     "execution_count": 5,
     "metadata": {},
     "output_type": "execute_result"
    }
   ],
   "source": [
    "coverage = test.raster_land_coverage(asset)\n",
    "\n",
    "coverage"
   ]
  },
  {
   "cell_type": "code",
   "execution_count": 6,
   "metadata": {},
   "outputs": [
    {
     "name": "stdout",
     "output_type": "stream",
     "text": [
      "reader using 5 threads\n",
      "Completeness 100.0% for dataset:\n",
      "https://s3.eu-central-1.wasabisys.com/eumap/veg/veg_abies.alba_pnv.eml_p_30m_0..0cm_2018..2020_eumap_epsg3035_v0.2.tif\n"
     ]
    },
    {
     "data": {
      "text/plain": [
       "1.0"
      ]
     },
     "execution_count": 6,
     "metadata": {},
     "output_type": "execute_result"
    }
   ],
   "source": [
    "coverage = test.raster_land_coverage(\n",
    "    asset,\n",
    "    include_ice=True, # include snow and ice in coverage check\n",
    ")\n",
    "\n",
    "coverage"
   ]
  },
  {
   "cell_type": "code",
   "execution_count": 7,
   "metadata": {},
   "outputs": [
    {
     "name": "stdout",
     "output_type": "stream",
     "text": [
      "reader using 5 threads\n",
      "Completeness 100.0% for dataset:\n",
      "https://s3.eu-central-1.wasabisys.com/eumap/veg/veg_abies.alba_pnv.eml_p_30m_0..0cm_2018..2020_eumap_epsg3035_v0.2.tif\n"
     ]
    },
    {
     "data": {
      "text/plain": [
       "1.0"
      ]
     },
     "execution_count": 7,
     "metadata": {},
     "output_type": "execute_result"
    }
   ],
   "source": [
    "coverage = test.raster_land_coverage(\n",
    "    asset,\n",
    "    include_ice=True,\n",
    "    include_wetlands=True, # include wetlands in coverage check\n",
    ")\n",
    "\n",
    "coverage"
   ]
  }
 ],
 "metadata": {
  "kernelspec": {
   "display_name": "gis39",
   "language": "python",
   "name": "gis39"
  },
  "language_info": {
   "codemirror_mode": {
    "name": "ipython",
    "version": 3
   },
   "file_extension": ".py",
   "mimetype": "text/x-python",
   "name": "python",
   "nbconvert_exporter": "python",
   "pygments_lexer": "ipython3",
   "version": "3.9.2"
  }
 },
 "nbformat": 4,
 "nbformat_minor": 4
}
