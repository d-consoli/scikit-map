{
 "cells": [
  {
   "cell_type": "markdown",
   "metadata": {
    "nteract": {
     "transient": {
      "deleting": false
     }
    }
   },
   "source": [
    "# Eumap Tutorial\n",
    "\n",
    "![TMWM](https://github.com/scikit-map/scikit-map-/raw/master/img/change_sign.png?inline=false \"Change ahead\")"
   ]
  },
  {
   "cell_type": "markdown",
   "metadata": {},
   "source": [
    "Please access this using the new location:\n",
    "* **GitLab**: https://github.com/scikit-map/scikit-map-/blob/master/docs/notebooks/01_raster_gap_filling.ipynb\n",
    "* **Documentation**: https://eumap.readthedocs.io/en/latest/notebooks/01_raster_gap_filling.html"
   ]
  }
 ],
 "metadata": {
  "anaconda-cloud": {},
  "kernelspec": {
   "display_name": "Python 3 (ipykernel)",
   "language": "python",
   "name": "python3"
  },
  "language_info": {
   "codemirror_mode": {
    "name": "ipython",
    "version": 3
   },
   "file_extension": ".py",
   "mimetype": "text/x-python",
   "name": "python",
   "nbconvert_exporter": "python",
   "pygments_lexer": "ipython3",
   "version": "3.8.10"
  },
  "nteract": {
   "version": "0.25.0"
  }
 },
 "nbformat": 4,
 "nbformat_minor": 4
}
