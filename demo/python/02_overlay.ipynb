{
 "cells": [
  {
   "cell_type": "markdown",
   "metadata": {},
   "source": [
    "# PyEumap - Overlay Demonstration"
   ]
  },
  {
   "cell_type": "markdown",
   "metadata": {},
   "source": [
    "In this tutorial, we will use the pyeumap package to overlay all the points of a vector layer (*geopackage file*) on several raster layers (*geotiff files*), using the **SpaceOverlay** and **SpaceTimeOverlay** classes to handle with timeless and temporal layers, respectively. \n",
    "\n",
    "In our dataset the elevation and slope, based on digital terrain model, are timeless and the landsat composites (7 spectral bands, 4 seasons and 3 percentiles) and night light (VIIRS Night Band) layers are temporal (from 2000 to 2020)."
   ]
  },
  {
   "cell_type": "markdown",
   "metadata": {},
   "source": [
    "First, let's import the necessary modules"
   ]
  },
  {
   "cell_type": "code",
   "execution_count": 1,
   "metadata": {},
   "outputs": [],
   "source": [
    "import os\n",
    "from pathlib import Path\n",
    "import sys\n",
    "\n",
    "import pandas as pd\n",
    "import geopandas as gpd\n",
    "\n",
    "# Add the repository root in the path\n",
    "# If the pyeumap isn't instaled you should do it   \n",
    "sys.path.append('../../')\n",
    "\n",
    "from pyeumap.overlay import SpaceOverlay, SpaceTimeOverlay"
   ]
  },
  {
   "cell_type": "markdown",
   "metadata": {},
   "source": [
    "## Dataset "
   ]
  },
  {
   "cell_type": "markdown",
   "metadata": {},
   "source": [
    "Our dataset refers to 1 tile, located in Sweden, extracted from a tiling system created for European Union (7,042 tiles) by [GeoHarmonizer Project](https://opendatascience.eu)."
   ]
  },
  {
   "cell_type": "code",
   "execution_count": 2,
   "metadata": {},
   "outputs": [
    {
     "name": "stdout",
     "output_type": "stream",
     "text": [
      "644.77 MB downloaded, unpacking...                    \n",
      "Download complete.\n"
     ]
    }
   ],
   "source": [
    "from pyeumap import datasets\n",
    "\n",
    "tile = datasets.TILES[0]\n",
    "datasets.get_data(tile+'_rasters_gapfilled.zip')\n",
    "\n",
    "data_root = datasets.DATA_ROOT_NAME\n",
    "tile_dir = Path(os.getcwd()).joinpath(data_root,tile)"
   ]
  },
  {
   "cell_type": "markdown",
   "metadata": {},
   "source": [
    "For this tile we have a **geopackage** file containing the points"
   ]
  },
  {
   "cell_type": "code",
   "execution_count": 3,
   "metadata": {},
   "outputs": [
    {
     "name": "stdout",
     "output_type": "stream",
     "text": [
      "0.17 MB downloaded, unpacking...                    \n",
      "Download complete.\n"
     ]
    },
    {
     "data": {
      "text/html": [
       "<div>\n",
       "<style scoped>\n",
       "    .dataframe tbody tr th:only-of-type {\n",
       "        vertical-align: middle;\n",
       "    }\n",
       "\n",
       "    .dataframe tbody tr th {\n",
       "        vertical-align: top;\n",
       "    }\n",
       "\n",
       "    .dataframe thead th {\n",
       "        text-align: right;\n",
       "    }\n",
       "</style>\n",
       "<table border=\"1\" class=\"dataframe\">\n",
       "  <thead>\n",
       "    <tr style=\"text-align: right;\">\n",
       "      <th></th>\n",
       "      <th>lucas</th>\n",
       "      <th>survey_date</th>\n",
       "      <th>confidence</th>\n",
       "      <th>lc_class</th>\n",
       "      <th>tile_id</th>\n",
       "      <th>geometry</th>\n",
       "    </tr>\n",
       "  </thead>\n",
       "  <tbody>\n",
       "    <tr>\n",
       "      <th>0</th>\n",
       "      <td>True</td>\n",
       "      <td>2012-05-29</td>\n",
       "      <td>100</td>\n",
       "      <td>312</td>\n",
       "      <td>22497</td>\n",
       "      <td>POINT (4650000.166 4483999.711)</td>\n",
       "    </tr>\n",
       "    <tr>\n",
       "      <th>1</th>\n",
       "      <td>True</td>\n",
       "      <td>2012-05-16</td>\n",
       "      <td>100</td>\n",
       "      <td>312</td>\n",
       "      <td>22497</td>\n",
       "      <td>POINT (4650000.255 4471999.472)</td>\n",
       "    </tr>\n",
       "    <tr>\n",
       "      <th>2</th>\n",
       "      <td>False</td>\n",
       "      <td>2000-06-30</td>\n",
       "      <td>85</td>\n",
       "      <td>411</td>\n",
       "      <td>22497</td>\n",
       "      <td>POINT (4650097.582 4470351.405)</td>\n",
       "    </tr>\n",
       "    <tr>\n",
       "      <th>3</th>\n",
       "      <td>False</td>\n",
       "      <td>2012-06-30</td>\n",
       "      <td>85</td>\n",
       "      <td>411</td>\n",
       "      <td>22497</td>\n",
       "      <td>POINT (4650097.582 4470351.405)</td>\n",
       "    </tr>\n",
       "    <tr>\n",
       "      <th>4</th>\n",
       "      <td>False</td>\n",
       "      <td>2018-06-30</td>\n",
       "      <td>85</td>\n",
       "      <td>411</td>\n",
       "      <td>22497</td>\n",
       "      <td>POINT (4650097.582 4470351.405)</td>\n",
       "    </tr>\n",
       "    <tr>\n",
       "      <th>...</th>\n",
       "      <td>...</td>\n",
       "      <td>...</td>\n",
       "      <td>...</td>\n",
       "      <td>...</td>\n",
       "      <td>...</td>\n",
       "      <td>...</td>\n",
       "    </tr>\n",
       "    <tr>\n",
       "      <th>675</th>\n",
       "      <td>True</td>\n",
       "      <td>2018-07-23</td>\n",
       "      <td>50</td>\n",
       "      <td>124</td>\n",
       "      <td>22497</td>\n",
       "      <td>POINT (4666000.000 4490000.000)</td>\n",
       "    </tr>\n",
       "    <tr>\n",
       "      <th>676</th>\n",
       "      <td>True</td>\n",
       "      <td>2012-05-21</td>\n",
       "      <td>50</td>\n",
       "      <td>122</td>\n",
       "      <td>22497</td>\n",
       "      <td>POINT (4678000.201 4472000.124)</td>\n",
       "    </tr>\n",
       "    <tr>\n",
       "      <th>677</th>\n",
       "      <td>True</td>\n",
       "      <td>2012-05-21</td>\n",
       "      <td>50</td>\n",
       "      <td>124</td>\n",
       "      <td>22497</td>\n",
       "      <td>POINT (4678000.201 4472000.124)</td>\n",
       "    </tr>\n",
       "    <tr>\n",
       "      <th>678</th>\n",
       "      <td>True</td>\n",
       "      <td>2018-09-13</td>\n",
       "      <td>50</td>\n",
       "      <td>122</td>\n",
       "      <td>22497</td>\n",
       "      <td>POINT (4678000.000 4472000.000)</td>\n",
       "    </tr>\n",
       "    <tr>\n",
       "      <th>679</th>\n",
       "      <td>True</td>\n",
       "      <td>2018-09-13</td>\n",
       "      <td>50</td>\n",
       "      <td>124</td>\n",
       "      <td>22497</td>\n",
       "      <td>POINT (4678000.000 4472000.000)</td>\n",
       "    </tr>\n",
       "  </tbody>\n",
       "</table>\n",
       "<p>680 rows × 6 columns</p>\n",
       "</div>"
      ],
      "text/plain": [
       "     lucas survey_date confidence  lc_class  tile_id  \\\n",
       "0     True  2012-05-29        100       312    22497   \n",
       "1     True  2012-05-16        100       312    22497   \n",
       "2    False  2000-06-30         85       411    22497   \n",
       "3    False  2012-06-30         85       411    22497   \n",
       "4    False  2018-06-30         85       411    22497   \n",
       "..     ...         ...        ...       ...      ...   \n",
       "675   True  2018-07-23         50       124    22497   \n",
       "676   True  2012-05-21         50       122    22497   \n",
       "677   True  2012-05-21         50       124    22497   \n",
       "678   True  2018-09-13         50       122    22497   \n",
       "679   True  2018-09-13         50       124    22497   \n",
       "\n",
       "                            geometry  \n",
       "0    POINT (4650000.166 4483999.711)  \n",
       "1    POINT (4650000.255 4471999.472)  \n",
       "2    POINT (4650097.582 4470351.405)  \n",
       "3    POINT (4650097.582 4470351.405)  \n",
       "4    POINT (4650097.582 4470351.405)  \n",
       "..                               ...  \n",
       "675  POINT (4666000.000 4490000.000)  \n",
       "676  POINT (4678000.201 4472000.124)  \n",
       "677  POINT (4678000.201 4472000.124)  \n",
       "678  POINT (4678000.000 4472000.000)  \n",
       "679  POINT (4678000.000 4472000.000)  \n",
       "\n",
       "[680 rows x 6 columns]"
      ]
     },
     "execution_count": 3,
     "metadata": {},
     "output_type": "execute_result"
    }
   ],
   "source": [
    "datasets.get_data(tile+'_landcover_samples.gpkg')\n",
    "\n",
    "fn_points = Path(os.getcwd()).joinpath(data_root, tile, tile+'_landcover_samples.gpkg')\n",
    "\n",
    "points = gpd.read_file(fn_points)\n",
    "points"
   ]
  },
  {
   "cell_type": "markdown",
   "metadata": {},
   "source": [
    "... some **timeless** raster layers "
   ]
  },
  {
   "cell_type": "code",
   "execution_count": 4,
   "metadata": {},
   "outputs": [
    {
     "name": "stdout",
     "output_type": "stream",
     "text": [
      "Number of timeless layers: 2\n"
     ]
    }
   ],
   "source": [
    "dir_timeless_layers = os.path.join(tile_dir, 'timeless')\n",
    "fn_timeless_layers = list(Path(dir_timeless_layers).glob('**/*.tif'))\n",
    "\n",
    "print(f'Number of timeless layers: {len(fn_timeless_layers)}')"
   ]
  },
  {
   "cell_type": "markdown",
   "metadata": {},
   "source": [
    "... and several **temporal** layers."
   ]
  },
  {
   "cell_type": "code",
   "execution_count": 5,
   "metadata": {},
   "outputs": [
    {
     "name": "stdout",
     "output_type": "stream",
     "text": [
      "1743 temporal layers from 2000 to 2020\n"
     ]
    }
   ],
   "source": [
    "dir_temporal_layers = os.path.join(tile_dir)\n",
    "fn_temporal_layers = list(Path(dir_temporal_layers).glob('????/*.tif'))\n",
    "\n",
    "print(f'{len(fn_temporal_layers)} temporal layers from 2000 to 2020')"
   ]
  },
  {
   "cell_type": "markdown",
   "metadata": {},
   "source": [
    "The association between the points and the temporal layers will occurs using the **survey_date** column"
   ]
  },
  {
   "cell_type": "code",
   "execution_count": 6,
   "metadata": {},
   "outputs": [
    {
     "name": "stdout",
     "output_type": "stream",
     "text": [
      "Number of samples per year:\n"
     ]
    },
    {
     "data": {
      "text/plain": [
       "2012    190\n",
       "2018    175\n",
       "2006    152\n",
       "2000    152\n",
       "2015     10\n",
       "2016      1\n",
       "Name: survey_date, dtype: int64"
      ]
     },
     "execution_count": 6,
     "metadata": {},
     "output_type": "execute_result"
    }
   ],
   "source": [
    "col_date = 'survey_date'\n",
    "\n",
    "print('Number of samples per year:')\n",
    "pd.to_datetime(points[col_date]).dt.year.value_counts()"
   ]
  },
  {
   "cell_type": "markdown",
   "metadata": {},
   "source": [
    "... and the name of **temporal** directories."
   ]
  },
  {
   "cell_type": "code",
   "execution_count": 7,
   "metadata": {},
   "outputs": [
    {
     "name": "stdout",
     "output_type": "stream",
     "text": [
      "Temporal directories:\n",
      " - 2000: 85 layers\n",
      " - 2001: 85 layers\n",
      " - 2002: 85 layers\n",
      " - 2003: 85 layers\n",
      " - 2004: 85 layers\n",
      " - 2005: 85 layers\n",
      " - 2006: 85 layers\n",
      " - 2007: 85 layers\n",
      " - 2008: 85 layers\n",
      " - 2009: 85 layers\n",
      " - 2010: 85 layers\n",
      " - 2011: 85 layers\n",
      " - 2012: 85 layers\n",
      " - 2013: 85 layers\n",
      " - 2014: 85 layers\n",
      " - 2015: 85 layers\n",
      " - 2016: 85 layers\n",
      " - 2017: 85 layers\n",
      " - 2018: 85 layers\n",
      " - 2019: 85 layers\n",
      " - 2020: 43 layers\n"
     ]
    }
   ],
   "source": [
    "dirs = list(Path(dir_temporal_layers).glob('????'))\n",
    "dirs.sort()\n",
    "\n",
    "print('Temporal directories:')\n",
    "for dir in dirs:\n",
    "    n_layers = len(list(Path(os.path.join(dir_temporal_layers,dir)).glob('*.tif')))\n",
    "    print(f' - {dir.name}: {n_layers} layers')"
   ]
  },
  {
   "cell_type": "markdown",
   "metadata": {},
   "source": [
    "## Space Overlay"
   ]
  },
  {
   "cell_type": "markdown",
   "metadata": {},
   "source": [
    "The points should be overlayed on all timeless layers, regardless the date information stored in survey_date column. In this case, we will use the **SpaceOverlay** class passing the arguments:\n",
    "- *fn_points*: the geopackage filepath\n",
    "- *dir_timeless_layers*: the directory containing the timeless raster files"
   ]
  },
  {
   "cell_type": "code",
   "execution_count": 8,
   "metadata": {},
   "outputs": [],
   "source": [
    "spc_overlay = SpaceOverlay(fn_points, dir_timeless_layers, verbose=False)\n",
    "timeless_data = spc_overlay.run()"
   ]
  },
  {
   "cell_type": "markdown",
   "metadata": {},
   "source": [
    "Now we have the elevation and slope information for each points:"
   ]
  },
  {
   "cell_type": "code",
   "execution_count": 9,
   "metadata": {},
   "outputs": [
    {
     "data": {
      "text/html": [
       "<div>\n",
       "<style scoped>\n",
       "    .dataframe tbody tr th:only-of-type {\n",
       "        vertical-align: middle;\n",
       "    }\n",
       "\n",
       "    .dataframe tbody tr th {\n",
       "        vertical-align: top;\n",
       "    }\n",
       "\n",
       "    .dataframe thead th {\n",
       "        text-align: right;\n",
       "    }\n",
       "</style>\n",
       "<table border=\"1\" class=\"dataframe\">\n",
       "  <thead>\n",
       "    <tr style=\"text-align: right;\">\n",
       "      <th></th>\n",
       "      <th>lucas</th>\n",
       "      <th>survey_date</th>\n",
       "      <th>confidence</th>\n",
       "      <th>lc_class</th>\n",
       "      <th>tile_id</th>\n",
       "      <th>geometry</th>\n",
       "      <th>overlay_id</th>\n",
       "      <th>dtm_elevation</th>\n",
       "      <th>dtm_slope</th>\n",
       "    </tr>\n",
       "  </thead>\n",
       "  <tbody>\n",
       "    <tr>\n",
       "      <th>0</th>\n",
       "      <td>True</td>\n",
       "      <td>2012-05-29</td>\n",
       "      <td>100</td>\n",
       "      <td>312</td>\n",
       "      <td>22497</td>\n",
       "      <td>POINT (4650000.166 4483999.711)</td>\n",
       "      <td>1</td>\n",
       "      <td>239.0</td>\n",
       "      <td>2.946278</td>\n",
       "    </tr>\n",
       "    <tr>\n",
       "      <th>1</th>\n",
       "      <td>True</td>\n",
       "      <td>2012-05-16</td>\n",
       "      <td>100</td>\n",
       "      <td>312</td>\n",
       "      <td>22497</td>\n",
       "      <td>POINT (4650000.255 4471999.472)</td>\n",
       "      <td>2</td>\n",
       "      <td>391.0</td>\n",
       "      <td>5.559027</td>\n",
       "    </tr>\n",
       "    <tr>\n",
       "      <th>2</th>\n",
       "      <td>False</td>\n",
       "      <td>2000-06-30</td>\n",
       "      <td>85</td>\n",
       "      <td>411</td>\n",
       "      <td>22497</td>\n",
       "      <td>POINT (4650097.582 4470351.405)</td>\n",
       "      <td>3</td>\n",
       "      <td>416.0</td>\n",
       "      <td>1.666667</td>\n",
       "    </tr>\n",
       "    <tr>\n",
       "      <th>3</th>\n",
       "      <td>False</td>\n",
       "      <td>2012-06-30</td>\n",
       "      <td>85</td>\n",
       "      <td>411</td>\n",
       "      <td>22497</td>\n",
       "      <td>POINT (4650097.582 4470351.405)</td>\n",
       "      <td>4</td>\n",
       "      <td>416.0</td>\n",
       "      <td>1.666667</td>\n",
       "    </tr>\n",
       "    <tr>\n",
       "      <th>4</th>\n",
       "      <td>False</td>\n",
       "      <td>2018-06-30</td>\n",
       "      <td>85</td>\n",
       "      <td>411</td>\n",
       "      <td>22497</td>\n",
       "      <td>POINT (4650097.582 4470351.405)</td>\n",
       "      <td>5</td>\n",
       "      <td>416.0</td>\n",
       "      <td>1.666667</td>\n",
       "    </tr>\n",
       "    <tr>\n",
       "      <th>...</th>\n",
       "      <td>...</td>\n",
       "      <td>...</td>\n",
       "      <td>...</td>\n",
       "      <td>...</td>\n",
       "      <td>...</td>\n",
       "      <td>...</td>\n",
       "      <td>...</td>\n",
       "      <td>...</td>\n",
       "      <td>...</td>\n",
       "    </tr>\n",
       "    <tr>\n",
       "      <th>675</th>\n",
       "      <td>True</td>\n",
       "      <td>2018-07-23</td>\n",
       "      <td>50</td>\n",
       "      <td>124</td>\n",
       "      <td>22497</td>\n",
       "      <td>POINT (4666000.000 4490000.000)</td>\n",
       "      <td>676</td>\n",
       "      <td>215.0</td>\n",
       "      <td>3.726780</td>\n",
       "    </tr>\n",
       "    <tr>\n",
       "      <th>676</th>\n",
       "      <td>True</td>\n",
       "      <td>2012-05-21</td>\n",
       "      <td>50</td>\n",
       "      <td>122</td>\n",
       "      <td>22497</td>\n",
       "      <td>POINT (4678000.201 4472000.124)</td>\n",
       "      <td>677</td>\n",
       "      <td>102.0</td>\n",
       "      <td>0.000000</td>\n",
       "    </tr>\n",
       "    <tr>\n",
       "      <th>677</th>\n",
       "      <td>True</td>\n",
       "      <td>2012-05-21</td>\n",
       "      <td>50</td>\n",
       "      <td>124</td>\n",
       "      <td>22497</td>\n",
       "      <td>POINT (4678000.201 4472000.124)</td>\n",
       "      <td>678</td>\n",
       "      <td>102.0</td>\n",
       "      <td>0.000000</td>\n",
       "    </tr>\n",
       "    <tr>\n",
       "      <th>678</th>\n",
       "      <td>True</td>\n",
       "      <td>2018-09-13</td>\n",
       "      <td>50</td>\n",
       "      <td>122</td>\n",
       "      <td>22497</td>\n",
       "      <td>POINT (4678000.000 4472000.000)</td>\n",
       "      <td>679</td>\n",
       "      <td>102.0</td>\n",
       "      <td>0.000000</td>\n",
       "    </tr>\n",
       "    <tr>\n",
       "      <th>679</th>\n",
       "      <td>True</td>\n",
       "      <td>2018-09-13</td>\n",
       "      <td>50</td>\n",
       "      <td>124</td>\n",
       "      <td>22497</td>\n",
       "      <td>POINT (4678000.000 4472000.000)</td>\n",
       "      <td>680</td>\n",
       "      <td>102.0</td>\n",
       "      <td>0.000000</td>\n",
       "    </tr>\n",
       "  </tbody>\n",
       "</table>\n",
       "<p>680 rows × 9 columns</p>\n",
       "</div>"
      ],
      "text/plain": [
       "     lucas survey_date confidence  lc_class  tile_id  \\\n",
       "0     True  2012-05-29        100       312    22497   \n",
       "1     True  2012-05-16        100       312    22497   \n",
       "2    False  2000-06-30         85       411    22497   \n",
       "3    False  2012-06-30         85       411    22497   \n",
       "4    False  2018-06-30         85       411    22497   \n",
       "..     ...         ...        ...       ...      ...   \n",
       "675   True  2018-07-23         50       124    22497   \n",
       "676   True  2012-05-21         50       122    22497   \n",
       "677   True  2012-05-21         50       124    22497   \n",
       "678   True  2018-09-13         50       122    22497   \n",
       "679   True  2018-09-13         50       124    22497   \n",
       "\n",
       "                            geometry  overlay_id  dtm_elevation  dtm_slope  \n",
       "0    POINT (4650000.166 4483999.711)           1          239.0   2.946278  \n",
       "1    POINT (4650000.255 4471999.472)           2          391.0   5.559027  \n",
       "2    POINT (4650097.582 4470351.405)           3          416.0   1.666667  \n",
       "3    POINT (4650097.582 4470351.405)           4          416.0   1.666667  \n",
       "4    POINT (4650097.582 4470351.405)           5          416.0   1.666667  \n",
       "..                               ...         ...            ...        ...  \n",
       "675  POINT (4666000.000 4490000.000)         676          215.0   3.726780  \n",
       "676  POINT (4678000.201 4472000.124)         677          102.0   0.000000  \n",
       "677  POINT (4678000.201 4472000.124)         678          102.0   0.000000  \n",
       "678  POINT (4678000.000 4472000.000)         679          102.0   0.000000  \n",
       "679  POINT (4678000.000 4472000.000)         680          102.0   0.000000  \n",
       "\n",
       "[680 rows x 9 columns]"
      ]
     },
     "execution_count": 9,
     "metadata": {},
     "output_type": "execute_result"
    }
   ],
   "source": [
    "timeless_data"
   ]
  },
  {
   "cell_type": "markdown",
   "metadata": {},
   "source": [
    "## Space-Time Overlay"
   ]
  },
  {
   "cell_type": "markdown",
   "metadata": {},
   "source": [
    "For the temporal layers, the points should be filtered by year and overlayed on the right raster files. The **SpaceTimeOverlay** class implements this approach using the parameter:\n",
    "* *timeless_data*: The result of SpaceOverlay (GeoPandas DataFrame) \n",
    "* *col_date*: The column that contains the date information (2018-09-13)\n",
    "* *dir_temporal_layers*: The directory where the temporal raster files are stored, organized by year"
   ]
  },
  {
   "cell_type": "code",
   "execution_count": 10,
   "metadata": {},
   "outputs": [],
   "source": [
    "spc_time_Overlay = SpaceTimeOverlay(timeless_data, col_date, dir_temporal_layers, verbose=False)\n",
    "overlayed_data = spc_time_Overlay.run()"
   ]
  },
  {
   "cell_type": "markdown",
   "metadata": {},
   "source": [
    "Now we have the elevation, slope, landsat and the night light data for each points:"
   ]
  },
  {
   "cell_type": "code",
   "execution_count": 11,
   "metadata": {},
   "outputs": [
    {
     "data": {
      "text/html": [
       "<div>\n",
       "<style scoped>\n",
       "    .dataframe tbody tr th:only-of-type {\n",
       "        vertical-align: middle;\n",
       "    }\n",
       "\n",
       "    .dataframe tbody tr th {\n",
       "        vertical-align: top;\n",
       "    }\n",
       "\n",
       "    .dataframe thead th {\n",
       "        text-align: right;\n",
       "    }\n",
       "</style>\n",
       "<table border=\"1\" class=\"dataframe\">\n",
       "  <thead>\n",
       "    <tr style=\"text-align: right;\">\n",
       "      <th></th>\n",
       "      <th>lucas</th>\n",
       "      <th>survey_date</th>\n",
       "      <th>confidence</th>\n",
       "      <th>lc_class</th>\n",
       "      <th>tile_id</th>\n",
       "      <th>geometry</th>\n",
       "      <th>overlay_id</th>\n",
       "      <th>dtm_elevation</th>\n",
       "      <th>dtm_slope</th>\n",
       "      <th>landsat_ard_fall_blue_p75</th>\n",
       "      <th>...</th>\n",
       "      <th>landsat_ard_winter_thermal_p25</th>\n",
       "      <th>landsat_ard_winter_swir1_p50</th>\n",
       "      <th>landsat_ard_winter_swir2_p25</th>\n",
       "      <th>landsat_ard_winter_swir2_p50</th>\n",
       "      <th>landsat_ard_winter_swir1_p25</th>\n",
       "      <th>landsat_ard_winter_swir2_p75</th>\n",
       "      <th>landsat_ard_winter_nir_p50</th>\n",
       "      <th>landsat_ard_winter_thermal_p50</th>\n",
       "      <th>landsat_ard_winter_thermal_p75</th>\n",
       "      <th>night_lights</th>\n",
       "    </tr>\n",
       "  </thead>\n",
       "  <tbody>\n",
       "    <tr>\n",
       "      <th>0</th>\n",
       "      <td>True</td>\n",
       "      <td>2012-05-29</td>\n",
       "      <td>100</td>\n",
       "      <td>312</td>\n",
       "      <td>22497</td>\n",
       "      <td>POINT (4650000.166 4483999.711)</td>\n",
       "      <td>1</td>\n",
       "      <td>239.0</td>\n",
       "      <td>2.946278</td>\n",
       "      <td>3.0</td>\n",
       "      <td>...</td>\n",
       "      <td>183.0</td>\n",
       "      <td>24.0</td>\n",
       "      <td>8.0</td>\n",
       "      <td>9.0</td>\n",
       "      <td>23.0</td>\n",
       "      <td>9.0</td>\n",
       "      <td>48.0</td>\n",
       "      <td>183.0</td>\n",
       "      <td>183.0</td>\n",
       "      <td>0.059711</td>\n",
       "    </tr>\n",
       "    <tr>\n",
       "      <th>1</th>\n",
       "      <td>True</td>\n",
       "      <td>2012-05-16</td>\n",
       "      <td>100</td>\n",
       "      <td>312</td>\n",
       "      <td>22497</td>\n",
       "      <td>POINT (4650000.255 4471999.472)</td>\n",
       "      <td>2</td>\n",
       "      <td>391.0</td>\n",
       "      <td>5.559027</td>\n",
       "      <td>2.0</td>\n",
       "      <td>...</td>\n",
       "      <td>182.0</td>\n",
       "      <td>23.0</td>\n",
       "      <td>8.0</td>\n",
       "      <td>8.0</td>\n",
       "      <td>23.0</td>\n",
       "      <td>8.0</td>\n",
       "      <td>55.0</td>\n",
       "      <td>183.0</td>\n",
       "      <td>183.0</td>\n",
       "      <td>0.009072</td>\n",
       "    </tr>\n",
       "    <tr>\n",
       "      <th>3</th>\n",
       "      <td>False</td>\n",
       "      <td>2012-06-30</td>\n",
       "      <td>85</td>\n",
       "      <td>411</td>\n",
       "      <td>22497</td>\n",
       "      <td>POINT (4650097.582 4470351.405)</td>\n",
       "      <td>3</td>\n",
       "      <td>416.0</td>\n",
       "      <td>1.666667</td>\n",
       "      <td>6.0</td>\n",
       "      <td>...</td>\n",
       "      <td>184.0</td>\n",
       "      <td>49.0</td>\n",
       "      <td>23.0</td>\n",
       "      <td>23.0</td>\n",
       "      <td>49.0</td>\n",
       "      <td>24.0</td>\n",
       "      <td>68.0</td>\n",
       "      <td>184.0</td>\n",
       "      <td>184.0</td>\n",
       "      <td>0.030172</td>\n",
       "    </tr>\n",
       "    <tr>\n",
       "      <th>14</th>\n",
       "      <td>False</td>\n",
       "      <td>2012-06-30</td>\n",
       "      <td>85</td>\n",
       "      <td>312</td>\n",
       "      <td>22497</td>\n",
       "      <td>POINT (4651001.339 4472046.880)</td>\n",
       "      <td>4</td>\n",
       "      <td>357.0</td>\n",
       "      <td>8.700255</td>\n",
       "      <td>2.0</td>\n",
       "      <td>...</td>\n",
       "      <td>182.0</td>\n",
       "      <td>21.0</td>\n",
       "      <td>7.0</td>\n",
       "      <td>8.0</td>\n",
       "      <td>20.0</td>\n",
       "      <td>8.0</td>\n",
       "      <td>39.0</td>\n",
       "      <td>182.0</td>\n",
       "      <td>182.0</td>\n",
       "      <td>-0.012674</td>\n",
       "    </tr>\n",
       "    <tr>\n",
       "      <th>16</th>\n",
       "      <td>False</td>\n",
       "      <td>2012-06-30</td>\n",
       "      <td>85</td>\n",
       "      <td>312</td>\n",
       "      <td>22497</td>\n",
       "      <td>POINT (4651217.720 4488931.650)</td>\n",
       "      <td>5</td>\n",
       "      <td>133.0</td>\n",
       "      <td>23.109041</td>\n",
       "      <td>3.0</td>\n",
       "      <td>...</td>\n",
       "      <td>183.0</td>\n",
       "      <td>24.0</td>\n",
       "      <td>8.0</td>\n",
       "      <td>8.0</td>\n",
       "      <td>23.0</td>\n",
       "      <td>9.0</td>\n",
       "      <td>47.0</td>\n",
       "      <td>183.0</td>\n",
       "      <td>183.0</td>\n",
       "      <td>0.200448</td>\n",
       "    </tr>\n",
       "    <tr>\n",
       "      <th>...</th>\n",
       "      <td>...</td>\n",
       "      <td>...</td>\n",
       "      <td>...</td>\n",
       "      <td>...</td>\n",
       "      <td>...</td>\n",
       "      <td>...</td>\n",
       "      <td>...</td>\n",
       "      <td>...</td>\n",
       "      <td>...</td>\n",
       "      <td>...</td>\n",
       "      <td>...</td>\n",
       "      <td>...</td>\n",
       "      <td>...</td>\n",
       "      <td>...</td>\n",
       "      <td>...</td>\n",
       "      <td>...</td>\n",
       "      <td>...</td>\n",
       "      <td>...</td>\n",
       "      <td>...</td>\n",
       "      <td>...</td>\n",
       "      <td>...</td>\n",
       "    </tr>\n",
       "    <tr>\n",
       "      <th>211</th>\n",
       "      <td>True</td>\n",
       "      <td>2015-10-29</td>\n",
       "      <td>100</td>\n",
       "      <td>312</td>\n",
       "      <td>22497</td>\n",
       "      <td>POINT (4668000.057 4493999.655)</td>\n",
       "      <td>6</td>\n",
       "      <td>207.0</td>\n",
       "      <td>17.834112</td>\n",
       "      <td>4.0</td>\n",
       "      <td>...</td>\n",
       "      <td>183.0</td>\n",
       "      <td>20.0</td>\n",
       "      <td>8.0</td>\n",
       "      <td>8.0</td>\n",
       "      <td>20.0</td>\n",
       "      <td>8.0</td>\n",
       "      <td>44.0</td>\n",
       "      <td>183.0</td>\n",
       "      <td>183.0</td>\n",
       "      <td>0.859678</td>\n",
       "    </tr>\n",
       "    <tr>\n",
       "      <th>270</th>\n",
       "      <td>True</td>\n",
       "      <td>2015-10-29</td>\n",
       "      <td>100</td>\n",
       "      <td>312</td>\n",
       "      <td>22497</td>\n",
       "      <td>POINT (4670000.156 4491999.887)</td>\n",
       "      <td>7</td>\n",
       "      <td>172.0</td>\n",
       "      <td>21.122986</td>\n",
       "      <td>2.0</td>\n",
       "      <td>...</td>\n",
       "      <td>183.0</td>\n",
       "      <td>19.0</td>\n",
       "      <td>6.0</td>\n",
       "      <td>6.0</td>\n",
       "      <td>18.0</td>\n",
       "      <td>7.0</td>\n",
       "      <td>46.0</td>\n",
       "      <td>183.0</td>\n",
       "      <td>183.0</td>\n",
       "      <td>0.925818</td>\n",
       "    </tr>\n",
       "    <tr>\n",
       "      <th>280</th>\n",
       "      <td>True</td>\n",
       "      <td>2015-07-27</td>\n",
       "      <td>100</td>\n",
       "      <td>511</td>\n",
       "      <td>22497</td>\n",
       "      <td>POINT (4662000.000 4478000.000)</td>\n",
       "      <td>8</td>\n",
       "      <td>113.0</td>\n",
       "      <td>0.000000</td>\n",
       "      <td>3.0</td>\n",
       "      <td>...</td>\n",
       "      <td>182.0</td>\n",
       "      <td>14.0</td>\n",
       "      <td>4.0</td>\n",
       "      <td>4.0</td>\n",
       "      <td>12.0</td>\n",
       "      <td>5.0</td>\n",
       "      <td>19.0</td>\n",
       "      <td>182.0</td>\n",
       "      <td>183.0</td>\n",
       "      <td>0.900600</td>\n",
       "    </tr>\n",
       "    <tr>\n",
       "      <th>353</th>\n",
       "      <td>True</td>\n",
       "      <td>2015-10-29</td>\n",
       "      <td>100</td>\n",
       "      <td>311</td>\n",
       "      <td>22497</td>\n",
       "      <td>POINT (4676000.000 4488000.000)</td>\n",
       "      <td>9</td>\n",
       "      <td>40.0</td>\n",
       "      <td>15.023130</td>\n",
       "      <td>3.0</td>\n",
       "      <td>...</td>\n",
       "      <td>182.0</td>\n",
       "      <td>9.0</td>\n",
       "      <td>2.0</td>\n",
       "      <td>3.0</td>\n",
       "      <td>8.0</td>\n",
       "      <td>4.0</td>\n",
       "      <td>14.0</td>\n",
       "      <td>182.0</td>\n",
       "      <td>183.0</td>\n",
       "      <td>2.580281</td>\n",
       "    </tr>\n",
       "    <tr>\n",
       "      <th>415</th>\n",
       "      <td>True</td>\n",
       "      <td>2015-10-29</td>\n",
       "      <td>100</td>\n",
       "      <td>312</td>\n",
       "      <td>22497</td>\n",
       "      <td>POINT (4672000.026 4487999.706)</td>\n",
       "      <td>10</td>\n",
       "      <td>156.0</td>\n",
       "      <td>9.877725</td>\n",
       "      <td>6.0</td>\n",
       "      <td>...</td>\n",
       "      <td>184.0</td>\n",
       "      <td>40.0</td>\n",
       "      <td>15.0</td>\n",
       "      <td>15.0</td>\n",
       "      <td>39.0</td>\n",
       "      <td>15.0</td>\n",
       "      <td>67.0</td>\n",
       "      <td>184.0</td>\n",
       "      <td>184.0</td>\n",
       "      <td>0.814704</td>\n",
       "    </tr>\n",
       "  </tbody>\n",
       "</table>\n",
       "<p>680 rows × 94 columns</p>\n",
       "</div>"
      ],
      "text/plain": [
       "     lucas survey_date confidence  lc_class  tile_id  \\\n",
       "0     True  2012-05-29        100       312    22497   \n",
       "1     True  2012-05-16        100       312    22497   \n",
       "3    False  2012-06-30         85       411    22497   \n",
       "14   False  2012-06-30         85       312    22497   \n",
       "16   False  2012-06-30         85       312    22497   \n",
       "..     ...         ...        ...       ...      ...   \n",
       "211   True  2015-10-29        100       312    22497   \n",
       "270   True  2015-10-29        100       312    22497   \n",
       "280   True  2015-07-27        100       511    22497   \n",
       "353   True  2015-10-29        100       311    22497   \n",
       "415   True  2015-10-29        100       312    22497   \n",
       "\n",
       "                            geometry  overlay_id  dtm_elevation  dtm_slope  \\\n",
       "0    POINT (4650000.166 4483999.711)           1          239.0   2.946278   \n",
       "1    POINT (4650000.255 4471999.472)           2          391.0   5.559027   \n",
       "3    POINT (4650097.582 4470351.405)           3          416.0   1.666667   \n",
       "14   POINT (4651001.339 4472046.880)           4          357.0   8.700255   \n",
       "16   POINT (4651217.720 4488931.650)           5          133.0  23.109041   \n",
       "..                               ...         ...            ...        ...   \n",
       "211  POINT (4668000.057 4493999.655)           6          207.0  17.834112   \n",
       "270  POINT (4670000.156 4491999.887)           7          172.0  21.122986   \n",
       "280  POINT (4662000.000 4478000.000)           8          113.0   0.000000   \n",
       "353  POINT (4676000.000 4488000.000)           9           40.0  15.023130   \n",
       "415  POINT (4672000.026 4487999.706)          10          156.0   9.877725   \n",
       "\n",
       "     landsat_ard_fall_blue_p75  ...  landsat_ard_winter_thermal_p25  \\\n",
       "0                          3.0  ...                           183.0   \n",
       "1                          2.0  ...                           182.0   \n",
       "3                          6.0  ...                           184.0   \n",
       "14                         2.0  ...                           182.0   \n",
       "16                         3.0  ...                           183.0   \n",
       "..                         ...  ...                             ...   \n",
       "211                        4.0  ...                           183.0   \n",
       "270                        2.0  ...                           183.0   \n",
       "280                        3.0  ...                           182.0   \n",
       "353                        3.0  ...                           182.0   \n",
       "415                        6.0  ...                           184.0   \n",
       "\n",
       "     landsat_ard_winter_swir1_p50  landsat_ard_winter_swir2_p25  \\\n",
       "0                            24.0                           8.0   \n",
       "1                            23.0                           8.0   \n",
       "3                            49.0                          23.0   \n",
       "14                           21.0                           7.0   \n",
       "16                           24.0                           8.0   \n",
       "..                            ...                           ...   \n",
       "211                          20.0                           8.0   \n",
       "270                          19.0                           6.0   \n",
       "280                          14.0                           4.0   \n",
       "353                           9.0                           2.0   \n",
       "415                          40.0                          15.0   \n",
       "\n",
       "     landsat_ard_winter_swir2_p50  landsat_ard_winter_swir1_p25  \\\n",
       "0                             9.0                          23.0   \n",
       "1                             8.0                          23.0   \n",
       "3                            23.0                          49.0   \n",
       "14                            8.0                          20.0   \n",
       "16                            8.0                          23.0   \n",
       "..                            ...                           ...   \n",
       "211                           8.0                          20.0   \n",
       "270                           6.0                          18.0   \n",
       "280                           4.0                          12.0   \n",
       "353                           3.0                           8.0   \n",
       "415                          15.0                          39.0   \n",
       "\n",
       "     landsat_ard_winter_swir2_p75  landsat_ard_winter_nir_p50  \\\n",
       "0                             9.0                        48.0   \n",
       "1                             8.0                        55.0   \n",
       "3                            24.0                        68.0   \n",
       "14                            8.0                        39.0   \n",
       "16                            9.0                        47.0   \n",
       "..                            ...                         ...   \n",
       "211                           8.0                        44.0   \n",
       "270                           7.0                        46.0   \n",
       "280                           5.0                        19.0   \n",
       "353                           4.0                        14.0   \n",
       "415                          15.0                        67.0   \n",
       "\n",
       "     landsat_ard_winter_thermal_p50  landsat_ard_winter_thermal_p75  \\\n",
       "0                             183.0                           183.0   \n",
       "1                             183.0                           183.0   \n",
       "3                             184.0                           184.0   \n",
       "14                            182.0                           182.0   \n",
       "16                            183.0                           183.0   \n",
       "..                              ...                             ...   \n",
       "211                           183.0                           183.0   \n",
       "270                           183.0                           183.0   \n",
       "280                           182.0                           183.0   \n",
       "353                           182.0                           183.0   \n",
       "415                           184.0                           184.0   \n",
       "\n",
       "     night_lights  \n",
       "0        0.059711  \n",
       "1        0.009072  \n",
       "3        0.030172  \n",
       "14      -0.012674  \n",
       "16       0.200448  \n",
       "..            ...  \n",
       "211      0.859678  \n",
       "270      0.925818  \n",
       "280      0.900600  \n",
       "353      2.580281  \n",
       "415      0.814704  \n",
       "\n",
       "[680 rows x 94 columns]"
      ]
     },
     "execution_count": 11,
     "metadata": {},
     "output_type": "execute_result"
    }
   ],
   "source": [
    "overlayed_data"
   ]
  },
  {
   "cell_type": "markdown",
   "metadata": {},
   "source": [
    "## Save to CSV and GeoPackage files"
   ]
  },
  {
   "cell_type": "markdown",
   "metadata": {},
   "source": [
    "At last, we need to save the overlayed points to access it in other softwares (QGIS) and eumap tutorial:"
   ]
  },
  {
   "cell_type": "code",
   "execution_count": 12,
   "metadata": {},
   "outputs": [
    {
     "name": "stdout",
     "output_type": "stream",
     "text": [
      "Saving /home/leandro/Code/eumap/demo/python/eumap_data/22497_sweden/22497_sweden_landcover_samples_overlayed.csv.gz\n"
     ]
    }
   ],
   "source": [
    "csv_output = os.path.join(tile_dir, tile + '_landcover_samples_overlayed.csv.gz')\n",
    "\n",
    "print(f\"Saving {csv_output}\")\n",
    "overlayed_data.to_csv(csv_output, compression='gzip')"
   ]
  },
  {
   "cell_type": "code",
   "execution_count": 13,
   "metadata": {},
   "outputs": [
    {
     "name": "stdout",
     "output_type": "stream",
     "text": [
      "Saving /home/leandro/Code/eumap/demo/python/eumap_data/22497_sweden/22497_sweden_landcover_samples_overlayed.gpkg\n"
     ]
    }
   ],
   "source": [
    "gpkg_output =  os.path.join(tile_dir, tile + '_landcover_samples_overlayed.gpkg')\n",
    "\n",
    "print(f\"Saving {gpkg_output}\")\n",
    "overlayed_data.to_file(gpkg_output,  driver=\"GPKG\")"
   ]
  },
  {
   "cell_type": "markdown",
   "metadata": {},
   "source": [
    "## Overlay Benchmarks\n",
    "\n",
    "Here we will show the performance of `pyeumap`'s overlay method against classic raster sampling methods using `rasterio`. First, let's time the overlay executions on the same dataset as in the tutorial above."
   ]
  },
  {
   "cell_type": "code",
   "execution_count": null,
   "metadata": {
    "execution": {
     "iopub.execute_input": "2020-09-27T22:10:22.720Z",
     "iopub.status.busy": "2020-09-27T22:10:22.705Z",
     "iopub.status.idle": "2020-09-27T22:10:23.199Z",
     "shell.execute_reply": "2020-09-27T22:10:23.229Z"
    }
   },
   "outputs": [],
   "source": [
    "from pathlib import Path\n",
    "import geopandas as gpd\n",
    "import rasterio as rio\n",
    "import numpy as np\n",
    "import multiprocessing as mp\n",
    "\n",
    "import warnings\n",
    "warnings.filterwarnings('ignore')\n",
    "\n",
    "from pyeumap.overlay import SpaceOverlay\n",
    "\n",
    "max_workers = 8\n",
    "\n",
    "points = gpd.read_file(fn_points)\n",
    "print('Sample size:', points.index.size)"
   ]
  },
  {
   "cell_type": "markdown",
   "metadata": {},
   "source": [
    "Serial sampling with `rasterio`:"
   ]
  },
  {
   "cell_type": "code",
   "execution_count": null,
   "metadata": {
    "execution": {
     "iopub.execute_input": "2020-09-27T22:10:30.006Z",
     "iopub.status.busy": "2020-09-27T22:10:29.984Z",
     "iopub.status.idle": "2020-09-27T22:12:18.870Z",
     "shell.execute_reply": "2020-09-27T22:12:18.887Z"
    }
   },
   "outputs": [],
   "source": [
    "def serial_sampling(points, layers_dir):\n",
    "    sources = [\n",
    "        rio.open(fn)\n",
    "        for fn in sorted(layers_dir.glob('**/*.tif'))\n",
    "    ]\n",
    "\n",
    "    coordinates = np.c_[\n",
    "        points.geometry.x,\n",
    "        points.geometry.y,\n",
    "    ]\n",
    "\n",
    "    results = points.copy()\n",
    "    for src in sources:\n",
    "        layer_name = Path(src.name).stem\n",
    "        results[layer_name] = np.stack(src.sample(coordinates)).ravel()\n",
    "\n",
    "%timeit -n 1 -r 1 serial_sampling(points, tile_dir)"
   ]
  },
  {
   "cell_type": "markdown",
   "metadata": {},
   "source": [
    "Parallel sampling with `rasterio`:"
   ]
  },
  {
   "cell_type": "code",
   "execution_count": null,
   "metadata": {
    "execution": {
     "iopub.execute_input": "2020-09-27T22:12:35.367Z",
     "iopub.status.busy": "2020-09-27T22:12:35.349Z",
     "iopub.status.idle": "2020-09-27T22:12:50.566Z",
     "shell.execute_reply": "2020-09-27T22:12:50.605Z"
    }
   },
   "outputs": [],
   "source": [
    "def sample_one_layer(args):\n",
    "    fn, coordinates = args\n",
    "    layer_name = fn.stem\n",
    "    with rio.open(fn) as src:\n",
    "        data = np.stack(src.sample(coordinates)).ravel()\n",
    "    return layer_name, data\n",
    "\n",
    "def parallel_sampling(points, layers_dir):\n",
    "    files = sorted(layers_dir.glob('**/*.tif'))\n",
    "\n",
    "    coordinates = np.c_[\n",
    "        points.geometry.x,\n",
    "        points.geometry.y,\n",
    "    ]\n",
    "\n",
    "    results = points.copy()\n",
    "\n",
    "    arg_gen = (\n",
    "        (fn, coordinates)\n",
    "        for fn in files\n",
    "    )\n",
    "\n",
    "    with mp.Pool(max_workers) as pool:\n",
    "        for layer_name, data in pool.map(\n",
    "            sample_one_layer,\n",
    "            arg_gen,\n",
    "        ):\n",
    "            results[layer_name] = data\n",
    "\n",
    "%timeit -n 1 -r 1 parallel_sampling(points, tile_dir)"
   ]
  },
  {
   "cell_type": "markdown",
   "metadata": {},
   "source": [
    "Parallel sampling with `pyeumap.overlay.SpaceOverlay`:"
   ]
  },
  {
   "cell_type": "code",
   "execution_count": null,
   "metadata": {
    "execution": {
     "iopub.execute_input": "2020-09-27T22:12:58.379Z",
     "iopub.status.busy": "2020-09-27T22:12:58.366Z",
     "iopub.status.idle": "2020-09-27T22:13:26.251Z",
     "shell.execute_reply": "2020-09-27T22:13:26.271Z"
    }
   },
   "outputs": [],
   "source": [
    "def pyeumap_sampling(points, layers_dir):\n",
    "    ovr = SpaceOverlay(\n",
    "        points,\n",
    "        layers_dir,\n",
    "        max_workers=max_workers,\n",
    "        verbose=False,\n",
    "    )\n",
    "    data = ovr.run()\n",
    "\n",
    "%timeit -n 1 -r 1 pyeumap_sampling(points, tile_dir)"
   ]
  },
  {
   "cell_type": "markdown",
   "metadata": {},
   "source": [
    "Sampling optimizations done in `pyeumap` generate some overhead which outweighs the speedup when used on smaller datasets. However, if we quadruple the sample size:"
   ]
  },
  {
   "cell_type": "code",
   "execution_count": null,
   "metadata": {
    "execution": {
     "iopub.execute_input": "2020-09-27T22:13:38.132Z",
     "iopub.status.busy": "2020-09-27T22:13:38.118Z",
     "iopub.status.idle": "2020-09-27T22:13:38.162Z",
     "shell.execute_reply": "2020-09-27T22:13:38.176Z"
    }
   },
   "outputs": [],
   "source": [
    "for i in range(2):\n",
    "    points = points.append(points, ignore_index=True)\n",
    "\n",
    "print('sample size:', points.index.size)"
   ]
  },
  {
   "cell_type": "markdown",
   "metadata": {},
   "source": [
    "Parallel sampling with `rasterio`:"
   ]
  },
  {
   "cell_type": "code",
   "execution_count": null,
   "metadata": {
    "execution": {
     "iopub.execute_input": "2020-09-27T22:13:42.081Z",
     "iopub.status.busy": "2020-09-27T22:13:42.065Z",
     "iopub.status.idle": "2020-09-27T22:14:35.690Z",
     "shell.execute_reply": "2020-09-27T22:14:35.711Z"
    }
   },
   "outputs": [],
   "source": [
    "%timeit -n 1 -r 1 parallel_sampling(points, tile_dir)"
   ]
  },
  {
   "cell_type": "markdown",
   "metadata": {},
   "source": [
    "Parallel sampling with `pyeumap`:"
   ]
  },
  {
   "cell_type": "code",
   "execution_count": null,
   "metadata": {
    "execution": {
     "iopub.execute_input": "2020-09-27T22:14:42.602Z",
     "iopub.status.busy": "2020-09-27T22:14:42.588Z",
     "iopub.status.idle": "2020-09-27T22:15:19.348Z",
     "shell.execute_reply": "2020-09-27T22:15:19.368Z"
    }
   },
   "outputs": [],
   "source": [
    "%timeit -n 1 -r 1 pyeumap_sampling(points, tile_dir)"
   ]
  },
  {
   "cell_type": "markdown",
   "metadata": {},
   "source": [
    "As seen above, the optimized overlay's execution time has much more favorable scaling with dataset size than is the case with raw parallelization."
   ]
  }
 ],
 "metadata": {
  "kernelspec": {
   "display_name": "Python 3",
   "language": "python",
   "name": "python3"
  },
  "language_info": {
   "codemirror_mode": {
    "name": "ipython",
    "version": 3
   },
   "file_extension": ".py",
   "mimetype": "text/x-python",
   "name": "python",
   "nbconvert_exporter": "python",
   "pygments_lexer": "ipython3",
   "version": "3.8.2"
  }
 },
 "nbformat": 4,
 "nbformat_minor": 4
}
