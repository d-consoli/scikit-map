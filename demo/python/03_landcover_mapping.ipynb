{
 "cells": [
  {
   "cell_type": "markdown",
   "metadata": {},
   "source": [
    "# PyEumap - Land Cover Mapping"
   ]
  },
  {
   "cell_type": "markdown",
   "metadata": {},
   "source": [
    "In this tutorial, we will use the overlaid points (see [Overlay tutorial](02_overlay.ipynb)) to train a ML-model and predict the land cover (LC) in the last two decades, using the **LandMapper** class.\n",
    "\n",
    "The training step will use **elevation**, **slope**, **landsat** (*7 spectral bands, 4 seasons and 3 percentiles per year*) and **night light** (*VIIRS Night Band*) data to predict the follow LC classes:\n",
    "* 231: Pastures,\n",
    "* 312: Coniferous forest,\n",
    "* 321: Natural grasslands,\n",
    "* 322: Moors and heathland,\n",
    "* 324: Transitional woodland-shrub,\n",
    "* 332: Bare rocks,\n",
    "* 333: Sparsely vegetated areas,\n",
    "* 335: Glaciers and perpetual snow."
   ]
  },
  {
   "cell_type": "markdown",
   "metadata": {},
   "source": [
    "First, let's import the necessary modules"
   ]
  },
  {
   "cell_type": "code",
   "execution_count": 1,
   "metadata": {},
   "outputs": [],
   "source": [
    "import sys\n",
    "sys.path.append('../../')\n",
    "\n",
    "import os\n",
    "import gdal\n",
    "from pathlib import Path\n",
    "import pandas as pd\n",
    "import geopandas as gpd\n",
    "from pyeumap.mapper import LandMapper"
   ]
  },
  {
   "cell_type": "markdown",
   "metadata": {},
   "source": [
    "## Dataset"
   ]
  },
  {
   "cell_type": "markdown",
   "metadata": {},
   "source": [
    "Our dataset refers to one tile, located in Switzerland, extracted from a tiling system created for Continental European (7,042 tiles) by GeoHarmonizer Project."
   ]
  },
  {
   "cell_type": "code",
   "execution_count": 2,
   "metadata": {},
   "outputs": [
    {
     "name": "stdout",
     "output_type": "stream",
     "text": [
      "data_dir = /home/jupyter/leandro/Code/eumap/demo/python/eumap_data/10636_switzerland\n"
     ]
    }
   ],
   "source": [
    "from pyeumap import datasets\n",
    "\n",
    "tile = datasets.TILES[0]\n",
    "\n",
    "data_root = datasets.DATA_ROOT_NAME\n",
    "data_dir = Path(os.getcwd()).joinpath(data_root,tile)\n",
    "\n",
    "print(f'data_dir = {data_dir}')"
   ]
  },
  {
   "cell_type": "markdown",
   "metadata": {},
   "source": [
    "Let's load the overlaid points"
   ]
  },
  {
   "cell_type": "code",
   "execution_count": 3,
   "metadata": {},
   "outputs": [
    {
     "data": {
      "text/html": [
       "<div>\n",
       "<style scoped>\n",
       "    .dataframe tbody tr th:only-of-type {\n",
       "        vertical-align: middle;\n",
       "    }\n",
       "\n",
       "    .dataframe tbody tr th {\n",
       "        vertical-align: top;\n",
       "    }\n",
       "\n",
       "    .dataframe thead th {\n",
       "        text-align: right;\n",
       "    }\n",
       "</style>\n",
       "<table border=\"1\" class=\"dataframe\">\n",
       "  <thead>\n",
       "    <tr style=\"text-align: right;\">\n",
       "      <th></th>\n",
       "      <th>lucas</th>\n",
       "      <th>survey_date</th>\n",
       "      <th>confidence</th>\n",
       "      <th>tile_id</th>\n",
       "      <th>lc_class</th>\n",
       "      <th>overlay_id</th>\n",
       "      <th>dtm_elevation</th>\n",
       "      <th>dtm_slope</th>\n",
       "      <th>landsat_ard_winter_green_p75</th>\n",
       "      <th>landsat_ard_spring_green_p75</th>\n",
       "      <th>...</th>\n",
       "      <th>landsat_ard_summer_thermal_p75</th>\n",
       "      <th>landsat_ard_winter_thermal_p50</th>\n",
       "      <th>landsat_ard_winter_blue_p25</th>\n",
       "      <th>landsat_ard_fall_thermal_p50</th>\n",
       "      <th>landsat_ard_summer_thermal_p50</th>\n",
       "      <th>landsat_ard_spring_blue_p50</th>\n",
       "      <th>landsat_ard_fall_blue_p25</th>\n",
       "      <th>landsat_ard_spring_blue_p25</th>\n",
       "      <th>landsat_ard_summer_blue_p50</th>\n",
       "      <th>geometry</th>\n",
       "    </tr>\n",
       "  </thead>\n",
       "  <tbody>\n",
       "    <tr>\n",
       "      <th>0</th>\n",
       "      <td>False</td>\n",
       "      <td>2006-06-30T00:00:00</td>\n",
       "      <td>85</td>\n",
       "      <td>10636</td>\n",
       "      <td>321</td>\n",
       "      <td>1</td>\n",
       "      <td>1948.0</td>\n",
       "      <td>36.313705</td>\n",
       "      <td>148.0</td>\n",
       "      <td>19.0</td>\n",
       "      <td>...</td>\n",
       "      <td>183.0</td>\n",
       "      <td>176.0</td>\n",
       "      <td>128.0</td>\n",
       "      <td>185.0</td>\n",
       "      <td>183.0</td>\n",
       "      <td>11.0</td>\n",
       "      <td>5.0</td>\n",
       "      <td>11.0</td>\n",
       "      <td>8.0</td>\n",
       "      <td>POINT (4145221.759 2594636.440)</td>\n",
       "    </tr>\n",
       "    <tr>\n",
       "      <th>1</th>\n",
       "      <td>False</td>\n",
       "      <td>2006-06-30T00:00:00</td>\n",
       "      <td>85</td>\n",
       "      <td>10636</td>\n",
       "      <td>321</td>\n",
       "      <td>2</td>\n",
       "      <td>2209.0</td>\n",
       "      <td>7.917305</td>\n",
       "      <td>135.0</td>\n",
       "      <td>159.0</td>\n",
       "      <td>...</td>\n",
       "      <td>182.0</td>\n",
       "      <td>176.0</td>\n",
       "      <td>118.0</td>\n",
       "      <td>183.0</td>\n",
       "      <td>182.0</td>\n",
       "      <td>120.0</td>\n",
       "      <td>5.0</td>\n",
       "      <td>96.0</td>\n",
       "      <td>5.0</td>\n",
       "      <td>POINT (4142366.664 2598169.380)</td>\n",
       "    </tr>\n",
       "    <tr>\n",
       "      <th>2</th>\n",
       "      <td>False</td>\n",
       "      <td>2006-06-30T00:00:00</td>\n",
       "      <td>85</td>\n",
       "      <td>10636</td>\n",
       "      <td>321</td>\n",
       "      <td>3</td>\n",
       "      <td>1990.0</td>\n",
       "      <td>32.722038</td>\n",
       "      <td>142.0</td>\n",
       "      <td>19.0</td>\n",
       "      <td>...</td>\n",
       "      <td>185.0</td>\n",
       "      <td>179.0</td>\n",
       "      <td>100.0</td>\n",
       "      <td>187.0</td>\n",
       "      <td>185.0</td>\n",
       "      <td>10.0</td>\n",
       "      <td>4.0</td>\n",
       "      <td>10.0</td>\n",
       "      <td>9.0</td>\n",
       "      <td>POINT (4140249.007 2596954.755)</td>\n",
       "    </tr>\n",
       "    <tr>\n",
       "      <th>3</th>\n",
       "      <td>False</td>\n",
       "      <td>2006-06-30T00:00:00</td>\n",
       "      <td>85</td>\n",
       "      <td>10636</td>\n",
       "      <td>322</td>\n",
       "      <td>4</td>\n",
       "      <td>2142.0</td>\n",
       "      <td>49.800537</td>\n",
       "      <td>47.0</td>\n",
       "      <td>36.0</td>\n",
       "      <td>...</td>\n",
       "      <td>179.0</td>\n",
       "      <td>175.0</td>\n",
       "      <td>48.0</td>\n",
       "      <td>179.0</td>\n",
       "      <td>179.0</td>\n",
       "      <td>37.0</td>\n",
       "      <td>7.0</td>\n",
       "      <td>37.0</td>\n",
       "      <td>2.0</td>\n",
       "      <td>POINT (4148638.412 2595538.585)</td>\n",
       "    </tr>\n",
       "    <tr>\n",
       "      <th>4</th>\n",
       "      <td>False</td>\n",
       "      <td>2006-06-30T00:00:00</td>\n",
       "      <td>85</td>\n",
       "      <td>10636</td>\n",
       "      <td>332</td>\n",
       "      <td>5</td>\n",
       "      <td>2420.0</td>\n",
       "      <td>27.018671</td>\n",
       "      <td>233.0</td>\n",
       "      <td>221.0</td>\n",
       "      <td>...</td>\n",
       "      <td>188.0</td>\n",
       "      <td>178.0</td>\n",
       "      <td>228.0</td>\n",
       "      <td>188.0</td>\n",
       "      <td>188.0</td>\n",
       "      <td>201.0</td>\n",
       "      <td>16.0</td>\n",
       "      <td>184.0</td>\n",
       "      <td>16.0</td>\n",
       "      <td>POINT (4156286.754 2595790.720)</td>\n",
       "    </tr>\n",
       "    <tr>\n",
       "      <th>...</th>\n",
       "      <td>...</td>\n",
       "      <td>...</td>\n",
       "      <td>...</td>\n",
       "      <td>...</td>\n",
       "      <td>...</td>\n",
       "      <td>...</td>\n",
       "      <td>...</td>\n",
       "      <td>...</td>\n",
       "      <td>...</td>\n",
       "      <td>...</td>\n",
       "      <td>...</td>\n",
       "      <td>...</td>\n",
       "      <td>...</td>\n",
       "      <td>...</td>\n",
       "      <td>...</td>\n",
       "      <td>...</td>\n",
       "      <td>...</td>\n",
       "      <td>...</td>\n",
       "      <td>...</td>\n",
       "      <td>...</td>\n",
       "      <td>...</td>\n",
       "    </tr>\n",
       "    <tr>\n",
       "      <th>1119</th>\n",
       "      <td>False</td>\n",
       "      <td>2000-06-30T00:00:00</td>\n",
       "      <td>85</td>\n",
       "      <td>10636</td>\n",
       "      <td>312</td>\n",
       "      <td>277</td>\n",
       "      <td>1729.0</td>\n",
       "      <td>16.108473</td>\n",
       "      <td>46.0</td>\n",
       "      <td>29.0</td>\n",
       "      <td>...</td>\n",
       "      <td>183.0</td>\n",
       "      <td>177.0</td>\n",
       "      <td>41.0</td>\n",
       "      <td>185.0</td>\n",
       "      <td>182.0</td>\n",
       "      <td>4.0</td>\n",
       "      <td>6.0</td>\n",
       "      <td>3.0</td>\n",
       "      <td>3.0</td>\n",
       "      <td>POINT (4140414.076 2582953.315)</td>\n",
       "    </tr>\n",
       "    <tr>\n",
       "      <th>1120</th>\n",
       "      <td>False</td>\n",
       "      <td>2000-06-30T00:00:00</td>\n",
       "      <td>85</td>\n",
       "      <td>10636</td>\n",
       "      <td>332</td>\n",
       "      <td>278</td>\n",
       "      <td>2562.0</td>\n",
       "      <td>31.661921</td>\n",
       "      <td>37.0</td>\n",
       "      <td>91.0</td>\n",
       "      <td>...</td>\n",
       "      <td>181.0</td>\n",
       "      <td>170.0</td>\n",
       "      <td>44.0</td>\n",
       "      <td>178.0</td>\n",
       "      <td>181.0</td>\n",
       "      <td>93.0</td>\n",
       "      <td>7.0</td>\n",
       "      <td>93.0</td>\n",
       "      <td>9.0</td>\n",
       "      <td>POINT (4157045.539 2609917.600)</td>\n",
       "    </tr>\n",
       "    <tr>\n",
       "      <th>1121</th>\n",
       "      <td>False</td>\n",
       "      <td>2000-06-30T00:00:00</td>\n",
       "      <td>85</td>\n",
       "      <td>10636</td>\n",
       "      <td>321</td>\n",
       "      <td>279</td>\n",
       "      <td>2174.0</td>\n",
       "      <td>15.649096</td>\n",
       "      <td>169.0</td>\n",
       "      <td>19.0</td>\n",
       "      <td>...</td>\n",
       "      <td>185.0</td>\n",
       "      <td>177.0</td>\n",
       "      <td>145.0</td>\n",
       "      <td>186.0</td>\n",
       "      <td>185.0</td>\n",
       "      <td>8.0</td>\n",
       "      <td>5.0</td>\n",
       "      <td>6.0</td>\n",
       "      <td>5.0</td>\n",
       "      <td>POINT (4141237.722 2583848.400)</td>\n",
       "    </tr>\n",
       "    <tr>\n",
       "      <th>1122</th>\n",
       "      <td>False</td>\n",
       "      <td>2000-06-30T00:00:00</td>\n",
       "      <td>85</td>\n",
       "      <td>10636</td>\n",
       "      <td>333</td>\n",
       "      <td>280</td>\n",
       "      <td>2368.0</td>\n",
       "      <td>21.605083</td>\n",
       "      <td>84.0</td>\n",
       "      <td>69.0</td>\n",
       "      <td>...</td>\n",
       "      <td>187.0</td>\n",
       "      <td>177.0</td>\n",
       "      <td>82.0</td>\n",
       "      <td>188.0</td>\n",
       "      <td>187.0</td>\n",
       "      <td>50.0</td>\n",
       "      <td>28.0</td>\n",
       "      <td>47.0</td>\n",
       "      <td>22.0</td>\n",
       "      <td>POINT (4141257.016 2584469.100)</td>\n",
       "    </tr>\n",
       "    <tr>\n",
       "      <th>1123</th>\n",
       "      <td>False</td>\n",
       "      <td>2000-06-30T00:00:00</td>\n",
       "      <td>85</td>\n",
       "      <td>10636</td>\n",
       "      <td>322</td>\n",
       "      <td>281</td>\n",
       "      <td>900.0</td>\n",
       "      <td>27.319332</td>\n",
       "      <td>24.0</td>\n",
       "      <td>26.0</td>\n",
       "      <td>...</td>\n",
       "      <td>191.0</td>\n",
       "      <td>189.0</td>\n",
       "      <td>15.0</td>\n",
       "      <td>191.0</td>\n",
       "      <td>190.0</td>\n",
       "      <td>14.0</td>\n",
       "      <td>13.0</td>\n",
       "      <td>11.0</td>\n",
       "      <td>12.0</td>\n",
       "      <td>POINT (4140716.302 2580458.165)</td>\n",
       "    </tr>\n",
       "  </tbody>\n",
       "</table>\n",
       "<p>1124 rows × 94 columns</p>\n",
       "</div>"
      ],
      "text/plain": [
       "      lucas          survey_date  confidence  tile_id  lc_class  overlay_id  \\\n",
       "0     False  2006-06-30T00:00:00          85    10636       321           1   \n",
       "1     False  2006-06-30T00:00:00          85    10636       321           2   \n",
       "2     False  2006-06-30T00:00:00          85    10636       321           3   \n",
       "3     False  2006-06-30T00:00:00          85    10636       322           4   \n",
       "4     False  2006-06-30T00:00:00          85    10636       332           5   \n",
       "...     ...                  ...         ...      ...       ...         ...   \n",
       "1119  False  2000-06-30T00:00:00          85    10636       312         277   \n",
       "1120  False  2000-06-30T00:00:00          85    10636       332         278   \n",
       "1121  False  2000-06-30T00:00:00          85    10636       321         279   \n",
       "1122  False  2000-06-30T00:00:00          85    10636       333         280   \n",
       "1123  False  2000-06-30T00:00:00          85    10636       322         281   \n",
       "\n",
       "      dtm_elevation  dtm_slope  landsat_ard_winter_green_p75  \\\n",
       "0            1948.0  36.313705                         148.0   \n",
       "1            2209.0   7.917305                         135.0   \n",
       "2            1990.0  32.722038                         142.0   \n",
       "3            2142.0  49.800537                          47.0   \n",
       "4            2420.0  27.018671                         233.0   \n",
       "...             ...        ...                           ...   \n",
       "1119         1729.0  16.108473                          46.0   \n",
       "1120         2562.0  31.661921                          37.0   \n",
       "1121         2174.0  15.649096                         169.0   \n",
       "1122         2368.0  21.605083                          84.0   \n",
       "1123          900.0  27.319332                          24.0   \n",
       "\n",
       "      landsat_ard_spring_green_p75  ...  landsat_ard_summer_thermal_p75  \\\n",
       "0                             19.0  ...                           183.0   \n",
       "1                            159.0  ...                           182.0   \n",
       "2                             19.0  ...                           185.0   \n",
       "3                             36.0  ...                           179.0   \n",
       "4                            221.0  ...                           188.0   \n",
       "...                            ...  ...                             ...   \n",
       "1119                          29.0  ...                           183.0   \n",
       "1120                          91.0  ...                           181.0   \n",
       "1121                          19.0  ...                           185.0   \n",
       "1122                          69.0  ...                           187.0   \n",
       "1123                          26.0  ...                           191.0   \n",
       "\n",
       "      landsat_ard_winter_thermal_p50  landsat_ard_winter_blue_p25  \\\n",
       "0                              176.0                        128.0   \n",
       "1                              176.0                        118.0   \n",
       "2                              179.0                        100.0   \n",
       "3                              175.0                         48.0   \n",
       "4                              178.0                        228.0   \n",
       "...                              ...                          ...   \n",
       "1119                           177.0                         41.0   \n",
       "1120                           170.0                         44.0   \n",
       "1121                           177.0                        145.0   \n",
       "1122                           177.0                         82.0   \n",
       "1123                           189.0                         15.0   \n",
       "\n",
       "      landsat_ard_fall_thermal_p50  landsat_ard_summer_thermal_p50  \\\n",
       "0                            185.0                           183.0   \n",
       "1                            183.0                           182.0   \n",
       "2                            187.0                           185.0   \n",
       "3                            179.0                           179.0   \n",
       "4                            188.0                           188.0   \n",
       "...                            ...                             ...   \n",
       "1119                         185.0                           182.0   \n",
       "1120                         178.0                           181.0   \n",
       "1121                         186.0                           185.0   \n",
       "1122                         188.0                           187.0   \n",
       "1123                         191.0                           190.0   \n",
       "\n",
       "      landsat_ard_spring_blue_p50  landsat_ard_fall_blue_p25  \\\n",
       "0                            11.0                        5.0   \n",
       "1                           120.0                        5.0   \n",
       "2                            10.0                        4.0   \n",
       "3                            37.0                        7.0   \n",
       "4                           201.0                       16.0   \n",
       "...                           ...                        ...   \n",
       "1119                          4.0                        6.0   \n",
       "1120                         93.0                        7.0   \n",
       "1121                          8.0                        5.0   \n",
       "1122                         50.0                       28.0   \n",
       "1123                         14.0                       13.0   \n",
       "\n",
       "      landsat_ard_spring_blue_p25  landsat_ard_summer_blue_p50  \\\n",
       "0                            11.0                          8.0   \n",
       "1                            96.0                          5.0   \n",
       "2                            10.0                          9.0   \n",
       "3                            37.0                          2.0   \n",
       "4                           184.0                         16.0   \n",
       "...                           ...                          ...   \n",
       "1119                          3.0                          3.0   \n",
       "1120                         93.0                          9.0   \n",
       "1121                          6.0                          5.0   \n",
       "1122                         47.0                         22.0   \n",
       "1123                         11.0                         12.0   \n",
       "\n",
       "                             geometry  \n",
       "0     POINT (4145221.759 2594636.440)  \n",
       "1     POINT (4142366.664 2598169.380)  \n",
       "2     POINT (4140249.007 2596954.755)  \n",
       "3     POINT (4148638.412 2595538.585)  \n",
       "4     POINT (4156286.754 2595790.720)  \n",
       "...                               ...  \n",
       "1119  POINT (4140414.076 2582953.315)  \n",
       "1120  POINT (4157045.539 2609917.600)  \n",
       "1121  POINT (4141237.722 2583848.400)  \n",
       "1122  POINT (4141257.016 2584469.100)  \n",
       "1123  POINT (4140716.302 2580458.165)  \n",
       "\n",
       "[1124 rows x 94 columns]"
      ]
     },
     "execution_count": 3,
     "metadata": {},
     "output_type": "execute_result"
    }
   ],
   "source": [
    "fn_points = Path(os.getcwd()).joinpath(data_dir, tile + '_landcover_samples_overlayed.gpkg')\n",
    "points = gpd.read_file(fn_points)\n",
    "points"
   ]
  },
  {
   "cell_type": "markdown",
   "metadata": {},
   "source": [
    "What are the columns avaiable to the ML-model ?"
   ]
  },
  {
   "cell_type": "code",
   "execution_count": 4,
   "metadata": {
    "scrolled": true
   },
   "outputs": [
    {
     "name": "stdout",
     "output_type": "stream",
     "text": [
      "Columns:\n",
      " - lucas (bool)\n",
      " - survey_date (object)\n",
      " - confidence (int64)\n",
      " - tile_id (int64)\n",
      " - lc_class (int64)\n",
      " - overlay_id (int64)\n",
      " - dtm_elevation (float64)\n",
      " - dtm_slope (float64)\n",
      " - landsat_ard_winter_green_p75 (float64)\n",
      " - landsat_ard_spring_green_p75 (float64)\n",
      " - landsat_ard_winter_nir_p75 (float64)\n",
      " - landsat_ard_summer_green_p75 (float64)\n",
      " - landsat_ard_winter_nir_p25 (float64)\n",
      " - landsat_ard_spring_nir_p50 (float64)\n",
      " - landsat_ard_fall_nir_p25 (float64)\n",
      " - landsat_ard_summer_nir_p75 (float64)\n",
      " - landsat_ard_summer_nir_p50 (float64)\n",
      " - landsat_ard_fall_green_p25 (float64)\n",
      " - landsat_ard_winter_green_p25 (float64)\n",
      " - landsat_ard_fall_nir_p75 (float64)\n",
      " - landsat_ard_winter_green_p50 (float64)\n",
      " - landsat_ard_spring_nir_p25 (float64)\n",
      " - landsat_ard_winter_nir_p50 (float64)\n",
      " - landsat_ard_spring_green_p25 (float64)\n",
      " - landsat_ard_spring_blue_p75 (float64)\n",
      " - landsat_ard_summer_nir_p25 (float64)\n",
      " - landsat_ard_fall_green_p75 (float64)\n",
      " - landsat_ard_summer_green_p50 (float64)\n",
      " - landsat_ard_summer_blue_p75 (float64)\n",
      " - landsat_ard_fall_red_p25 (float64)\n",
      " - landsat_ard_winter_blue_p75 (float64)\n",
      " - landsat_ard_spring_nir_p75 (float64)\n",
      " - landsat_ard_summer_red_p25 (float64)\n",
      " - landsat_ard_spring_red_p25 (float64)\n",
      " - landsat_ard_spring_green_p50 (float64)\n",
      " - landsat_ard_winter_red_p25 (float64)\n",
      " - landsat_ard_fall_blue_p75 (float64)\n",
      " - landsat_ard_summer_green_p25 (float64)\n",
      " - landsat_ard_fall_nir_p50 (float64)\n",
      " - landsat_ard_fall_green_p50 (float64)\n",
      " - landsat_ard_fall_red_p75 (float64)\n",
      " - landsat_ard_spring_red_p75 (float64)\n",
      " - landsat_ard_winter_red_p50 (float64)\n",
      " - landsat_ard_summer_red_p50 (float64)\n",
      " - landsat_ard_fall_red_p50 (float64)\n",
      " - landsat_ard_spring_red_p50 (float64)\n",
      " - landsat_ard_summer_swir1_p75 (float64)\n",
      " - landsat_ard_winter_swir2_p25 (float64)\n",
      " - landsat_ard_fall_swir1_p25 (float64)\n",
      " - landsat_ard_winter_swir2_p50 (float64)\n",
      " - landsat_ard_summer_swir1_p50 (float64)\n",
      " - landsat_ard_fall_swir1_p75 (float64)\n",
      " - landsat_ard_summer_red_p75 (float64)\n",
      " - landsat_ard_winter_swir1_p50 (float64)\n",
      " - landsat_ard_fall_swir1_p50 (float64)\n",
      " - landsat_ard_winter_swir1_p25 (float64)\n",
      " - landsat_ard_winter_swir1_p75 (float64)\n",
      " - landsat_ard_spring_swir2_p25 (float64)\n",
      " - landsat_ard_spring_swir2_p50 (float64)\n",
      " - landsat_ard_spring_swir1_p50 (float64)\n",
      " - landsat_ard_spring_swir2_p75 (float64)\n",
      " - landsat_ard_spring_swir1_p25 (float64)\n",
      " - landsat_ard_summer_swir2_p25 (float64)\n",
      " - landsat_ard_winter_red_p75 (float64)\n",
      " - landsat_ard_fall_swir2_p25 (float64)\n",
      " - landsat_ard_winter_swir2_p75 (float64)\n",
      " - landsat_ard_summer_swir1_p25 (float64)\n",
      " - landsat_ard_spring_swir1_p75 (float64)\n",
      " - landsat_ard_summer_swir2_p50 (float64)\n",
      " - night_lights (float64)\n",
      " - landsat_ard_summer_swir2_p75 (float64)\n",
      " - landsat_ard_winter_thermal_p25 (float64)\n",
      " - landsat_ard_fall_swir2_p75 (float64)\n",
      " - landsat_ard_spring_thermal_p25 (float64)\n",
      " - landsat_ard_summer_thermal_p25 (float64)\n",
      " - landsat_ard_fall_swir2_p50 (float64)\n",
      " - landsat_ard_spring_thermal_p75 (float64)\n",
      " - landsat_ard_fall_thermal_p75 (float64)\n",
      " - landsat_ard_fall_thermal_p25 (float64)\n",
      " - landsat_ard_winter_blue_p50 (float64)\n",
      " - landsat_ard_summer_blue_p25 (float64)\n",
      " - landsat_ard_winter_thermal_p75 (float64)\n",
      " - landsat_ard_spring_thermal_p50 (float64)\n",
      " - landsat_ard_fall_blue_p50 (float64)\n",
      " - landsat_ard_summer_thermal_p75 (float64)\n",
      " - landsat_ard_winter_thermal_p50 (float64)\n",
      " - landsat_ard_winter_blue_p25 (float64)\n",
      " - landsat_ard_fall_thermal_p50 (float64)\n",
      " - landsat_ard_summer_thermal_p50 (float64)\n",
      " - landsat_ard_spring_blue_p50 (float64)\n",
      " - landsat_ard_fall_blue_p25 (float64)\n",
      " - landsat_ard_spring_blue_p25 (float64)\n",
      " - landsat_ard_summer_blue_p50 (float64)\n",
      " - geometry (geometry)\n"
     ]
    }
   ],
   "source": [
    "print(\"Columns:\")\n",
    "columns = []\n",
    "for col_name, col_type in zip(points.columns, points.dtypes):\n",
    "    print(f' - {col_name} ({col_type})')"
   ]
  },
  {
   "cell_type": "markdown",
   "metadata": {},
   "source": [
    "## Training "
   ]
  },
  {
   "cell_type": "markdown",
   "metadata": {},
   "source": [
    "To map the land cover we will use the **LandMapper** class, which will train a ML-model and do spacetime predictions for diferent years. This class will receive a model implementation compatible with [sklearn](https://scikit-learn.org/stable/modules/classes.html) (e.g. [RandomForest](https://scikit-learn.org/stable/modules/generated/sklearn.ensemble.RandomForestClassifier.html), [SVC](https://scikit-learn.org/stable/modules/generated/sklearn.svm.SVC.html#sklearn.svm.SVC), [KerasClassifier](https://www.tensorflow.org/api_docs/python/tf/keras/wrappers/scikit_learn/KerasClassifier), [XGBClassifier](https://xgboost.readthedocs.io/en/latest/python/python_api.html#xgboost.XGBClassifier)), and a [BaseSearchCV](https://scikit-learn.org/stable/modules/grid_search.html#grid-search) implementation to find the best hyperparamenter for the specified model. For the hyperparameter optimization it's possible to select diferent [scoring metrics](https://scikit-learn.org/stable/modules/model_evaluation.html#scoring-parameter) and hyperparameter range values. In this example we will use the [f1-score](https://scikit-learn.org/stable/modules/generated/sklearn.metrics.f1_score.html), that is basically a weighted average between the [precision](https://scikit-learn.org/stable/modules/generated/sklearn.metrics.precision_score.html#sklearn.metrics.precision_score) and [recall](https://scikit-learn.org/stable/modules/generated/sklearn.metrics.recall_score.html#sklearn.metrics.recall_score). It's possible use other [evaluation metrics](https://scikit-learn.org/stable/modules/classes.html#module-sklearn.metrics) modifing ou creating a new python function, that will be passed as parameter for the LandMapper class."
   ]
  },
  {
   "cell_type": "markdown",
   "metadata": {},
   "source": [
    "In the remote sensing area the precision was renamed to Producer's Accuracy (the producer of the classification is interested in understand how well a specific area on Earth can be mapped) and the recall was renamed to User's Accuracy (the user of classification is interested in check how well the map represents what is really on the ground) ([Story, 1986](https://www.asprs.org/wp-content/uploads/pers/1986journal/mar/1986_mar_397-399.pdf))."
   ]
  },
  {
   "cell_type": "code",
   "execution_count": 5,
   "metadata": {},
   "outputs": [],
   "source": [
    "from sklearn.metrics import f1_score\n",
    "\n",
    "def f1_scorer(clf, X, y_true):\n",
    "    y_pred = clf.predict(X)\n",
    "    error = f1_score(y_true, y_pred, average='weighted')\n",
    "    return error"
   ]
  },
  {
   "cell_type": "code",
   "execution_count": 6,
   "metadata": {},
   "outputs": [],
   "source": [
    "from sklearn.model_selection import GridSearchCV\n",
    "from sklearn.ensemble import RandomForestClassifier\n",
    "\n",
    "estimator = RandomForestClassifier(n_estimators=100)\n",
    "\n",
    "hyperpar = GridSearchCV(\n",
    "    estimator = estimator,\n",
    "    scoring = f1_scorer,\n",
    "    param_grid = {\n",
    "     'max_depth': [5, None], \n",
    "     'max_features': [0.5, None]\n",
    "    }\n",
    ")"
   ]
  },
  {
   "cell_type": "markdown",
   "metadata": {},
   "source": [
    "The evaluation metric will be calculated using a cross validation strategy, using diferente parts of samples to train and validate the model. Here we will use a 5-fold cv, but others [validation strategies](https://scikit-learn.org/stable/modules/classes.html#module-sklearn.model_selection) are also supported by LandMapper class."
   ]
  },
  {
   "cell_type": "markdown",
   "metadata": {},
   "source": [
    "The LandMapper receives the follow parameters:\n",
    "* **points**: the geopackage filepath or [GeoPandas DataFrame](https://geopandas.org/reference/geopandas.GeoDataFrame.html) instance,\n",
    "* **feat_col_prfxs**: the prefix of all columns that should be included as covariates in the feature space,\n",
    "* **target_col**: the name of the column that should be considered as the target variable by the model,\n",
    "* **estimator**: the model implementation, which could be any one available in the [sklearn](https://scikit-learn.org/stable/modules/classes.html),\n",
    "* **hyperpar_selection**: the hyperparameter optimization implementation, which could be any one available in the [sklearn](https://scikit-learn.org/stable/modules/classes.html#hyper-parameter-optimizers),\n",
    "* **cv**: the cross-validation strategy according to [sklearn](https://scikit-learn.org/stable/modules/classes.html#splitter-classes),\n",
    "* **min_samples_per_class**: the minimum sample proportion per class (all the classes with less than 5% of samples will be removed from the training),\n",
    "* **verbose**: show debug information about the train and prediction steps."
   ]
  },
  {
   "cell_type": "code",
   "execution_count": 7,
   "metadata": {},
   "outputs": [
    {
     "name": "stdout",
     "output_type": "stream",
     "text": [
      "[15:53:00] Removing 74 samples due min_samples_per_class condition (< 0.05)\n",
      "[15:53:00] Transforming target variable:\n",
      "[15:53:00]  - Original classes: [231. 312. 321. 322. 324. 332. 333. 335.]\n",
      "[15:53:00]  - Transformed classes: [0 1 2 3 4 5 6 7]\n"
     ]
    }
   ],
   "source": [
    "feat_col_prfxs = ['landsat', 'dtm', 'night_lights']\n",
    "target_col = 'lc_class'\n",
    "\n",
    "min_samples_per_class = 0.05\n",
    "cv = 5\n",
    "\n",
    "landmapper = LandMapper(points=points, \n",
    "                        feat_col_prfxs = feat_col_prfxs, \n",
    "                        target_col = target_col, \n",
    "                        estimator = estimator, \n",
    "                        hyperpar_selection = hyperpar,\n",
    "                        cv = cv,\n",
    "                        min_samples_per_class=min_samples_per_class,\n",
    "                        verbose = True)"
   ]
  },
  {
   "cell_type": "markdown",
   "metadata": {},
   "source": [
    "Let's optimize and train the model:"
   ]
  },
  {
   "cell_type": "code",
   "execution_count": 8,
   "metadata": {},
   "outputs": [
    {
     "name": "stdout",
     "output_type": "stream",
     "text": [
      "[15:53:00] Optimizing hyperparameters for RandomForestClassifier\n",
      "[15:53:34]  -0.60044 (+/-0.09921) from {'max_depth': 5, 'max_features': 0.5}\n",
      "[15:53:34]  -0.59569 (+/-0.08735) from {'max_depth': 5, 'max_features': None}\n",
      "[15:53:34]  -0.71259 (+/-0.06021) from {'max_depth': None, 'max_features': 0.5}\n",
      "[15:53:34]  -0.70654 (+/-0.07443) from {'max_depth': None, 'max_features': None}\n",
      "[15:53:34] Best: 0.71259 using {'max_depth': None, 'max_features': 0.5}\n",
      "[15:53:34] Calculating evaluation metrics\n"
     ]
    },
    {
     "name": "stderr",
     "output_type": "stream",
     "text": [
      "[Parallel(n_jobs=1)]: Using backend SequentialBackend with 1 concurrent workers.\n"
     ]
    },
    {
     "name": "stdout",
     "output_type": "stream",
     "text": [
      "[15:53:42] Training RandomForestClassifier using all samples\n"
     ]
    },
    {
     "name": "stderr",
     "output_type": "stream",
     "text": [
      "[Parallel(n_jobs=1)]: Done   5 out of   5 | elapsed:    8.4s finished\n"
     ]
    }
   ],
   "source": [
    "landmapper.train()"
   ]
  },
  {
   "cell_type": "markdown",
   "metadata": {},
   "source": [
    "Let's understand what happened here:\n",
    "1. Diferent combinations of hyperparameters where evaluated\n",
    "2. The best one was chosen and all the samples were cross validated to derive other classification metrics\n",
    "3. A final model were trained using all the samples, without cv. This model will be used to classify the land-cover in future prediction"
   ]
  },
  {
   "cell_type": "markdown",
   "metadata": {},
   "source": [
    "We can check other classification metrics for the best classification models"
   ]
  },
  {
   "cell_type": "code",
   "execution_count": 9,
   "metadata": {},
   "outputs": [
    {
     "name": "stdout",
     "output_type": "stream",
     "text": [
      "Overall accuracy: 72.10%\n",
      "\n",
      "\n",
      "              precision    recall  f1-score   support\n",
      "\n",
      "           0       0.78      0.70      0.74        66\n",
      "           1       0.67      0.79      0.73       199\n",
      "           2       0.67      0.75      0.71       166\n",
      "           3       0.59      0.54      0.57       116\n",
      "           4       0.42      0.20      0.27        84\n",
      "           5       0.79      0.70      0.74       101\n",
      "           6       0.79      0.84      0.82       229\n",
      "           7       0.93      0.97      0.95        89\n",
      "\n",
      "    accuracy                           0.72      1050\n",
      "   macro avg       0.71      0.69      0.69      1050\n",
      "weighted avg       0.71      0.72      0.71      1050\n",
      "\n"
     ]
    }
   ],
   "source": [
    "print(f'Overall accuracy: {landmapper.eval_metrics[\"overall_acc\"] * 100:.2f}%\\n\\n')\n",
    "print(landmapper.eval_report)"
   ]
  },
  {
   "cell_type": "markdown",
   "metadata": {},
   "source": [
    "... and the complete confusion matrix:"
   ]
  },
  {
   "cell_type": "code",
   "execution_count": 10,
   "metadata": {},
   "outputs": [
    {
     "name": "stdout",
     "output_type": "stream",
     "text": [
      "Verifing the label order:\n",
      " - 0 => 231: Pastures\n",
      " - 1 => 312: Coniferous forest\n",
      " - 2 => 321: Natural grasslands\n",
      " - 3 => 322: Moors and heathland\n",
      " - 4 => 324: Transitional woodland-shrub\n",
      " - 5 => 332: Bare rocks\n",
      " - 6 => 333: Sparsely vegetated areas\n",
      " - 7 => 335: Glaciers and perpetual snow\n",
      "\n",
      "\n",
      "Confusion Matrix:\n"
     ]
    },
    {
     "data": {
      "text/plain": [
       "<sklearn.metrics._plot.confusion_matrix.ConfusionMatrixDisplay at 0x7fcf9c378760>"
      ]
     },
     "execution_count": 10,
     "metadata": {},
     "output_type": "execute_result"
    },
    {
     "data": {
      "image/png": "[encoded data removed]",
      "text/plain": [
       "<Figure size 432x288 with 2 Axes>"
      ]
     },
     "metadata": {
      "needs_background": "light"
     },
     "output_type": "display_data"
    }
   ],
   "source": [
    "from sklearn.metrics import ConfusionMatrixDisplay\n",
    "\n",
    "labels = [\n",
    "    '231: Pastures',\n",
    "    '312: Coniferous forest',\n",
    "    '321: Natural grasslands',\n",
    "    '322: Moors and heathland',\n",
    "    '324: Transitional woodland-shrub',\n",
    "    '332: Bare rocks',\n",
    "    '333: Sparsely vegetated areas',\n",
    "    '335: Glaciers and perpetual snow'\n",
    "]\n",
    "\n",
    "estimator = landmapper.estimator_list[0]\n",
    "print(\"Verifing the label order:\")\n",
    "for label, cl in zip(labels, estimator.classes_):\n",
    "    print(f' - {cl:.0f} => {label}')\n",
    "\n",
    "print(\"\\n\\nConfusion Matrix:\")\n",
    "confusion_matrix = landmapper.eval_metrics['confusion_matrix']\n",
    "disp = ConfusionMatrixDisplay(confusion_matrix = confusion_matrix, display_labels = labels)\n",
    "disp.plot(cmap='Blues', xticks_rotation='vertical')"
   ]
  },
  {
   "cell_type": "markdown",
   "metadata": {},
   "source": [
    "You can also can access the raw cv results:"
   ]
  },
  {
   "cell_type": "code",
   "execution_count": 11,
   "metadata": {},
   "outputs": [
    {
     "data": {
      "text/html": [
       "<div>\n",
       "<style scoped>\n",
       "    .dataframe tbody tr th:only-of-type {\n",
       "        vertical-align: middle;\n",
       "    }\n",
       "\n",
       "    .dataframe tbody tr th {\n",
       "        vertical-align: top;\n",
       "    }\n",
       "\n",
       "    .dataframe thead th {\n",
       "        text-align: right;\n",
       "    }\n",
       "</style>\n",
       "<table border=\"1\" class=\"dataframe\">\n",
       "  <thead>\n",
       "    <tr style=\"text-align: right;\">\n",
       "      <th></th>\n",
       "      <th>Expected LC-class</th>\n",
       "      <th>Predict LC-class</th>\n",
       "    </tr>\n",
       "  </thead>\n",
       "  <tbody>\n",
       "    <tr>\n",
       "      <th>0</th>\n",
       "      <td>2</td>\n",
       "      <td>2</td>\n",
       "    </tr>\n",
       "    <tr>\n",
       "      <th>1</th>\n",
       "      <td>2</td>\n",
       "      <td>2</td>\n",
       "    </tr>\n",
       "    <tr>\n",
       "      <th>2</th>\n",
       "      <td>2</td>\n",
       "      <td>2</td>\n",
       "    </tr>\n",
       "    <tr>\n",
       "      <th>3</th>\n",
       "      <td>3</td>\n",
       "      <td>3</td>\n",
       "    </tr>\n",
       "    <tr>\n",
       "      <th>4</th>\n",
       "      <td>5</td>\n",
       "      <td>6</td>\n",
       "    </tr>\n",
       "    <tr>\n",
       "      <th>...</th>\n",
       "      <td>...</td>\n",
       "      <td>...</td>\n",
       "    </tr>\n",
       "    <tr>\n",
       "      <th>1045</th>\n",
       "      <td>1</td>\n",
       "      <td>1</td>\n",
       "    </tr>\n",
       "    <tr>\n",
       "      <th>1046</th>\n",
       "      <td>5</td>\n",
       "      <td>6</td>\n",
       "    </tr>\n",
       "    <tr>\n",
       "      <th>1047</th>\n",
       "      <td>2</td>\n",
       "      <td>2</td>\n",
       "    </tr>\n",
       "    <tr>\n",
       "      <th>1048</th>\n",
       "      <td>6</td>\n",
       "      <td>6</td>\n",
       "    </tr>\n",
       "    <tr>\n",
       "      <th>1049</th>\n",
       "      <td>3</td>\n",
       "      <td>6</td>\n",
       "    </tr>\n",
       "  </tbody>\n",
       "</table>\n",
       "<p>1050 rows × 2 columns</p>\n",
       "</div>"
      ],
      "text/plain": [
       "      Expected LC-class  Predict LC-class\n",
       "0                     2                 2\n",
       "1                     2                 2\n",
       "2                     2                 2\n",
       "3                     3                 3\n",
       "4                     5                 6\n",
       "...                 ...               ...\n",
       "1045                  1                 1\n",
       "1046                  5                 6\n",
       "1047                  2                 2\n",
       "1048                  6                 6\n",
       "1049                  3                 6\n",
       "\n",
       "[1050 rows x 2 columns]"
      ]
     },
     "execution_count": 11,
     "metadata": {},
     "output_type": "execute_result"
    }
   ],
   "source": [
    "pd.DataFrame({\n",
    "    'Expected LC-class':landmapper.target,\n",
    "    'Predict LC-class': landmapper.eval_pred}\n",
    ")"
   ]
  },
  {
   "cell_type": "markdown",
   "metadata": {},
   "source": [
    "## Predictions"
   ]
  },
  {
   "cell_type": "markdown",
   "metadata": {},
   "source": [
    "Now we are ready to run the predictions. To do it the **LandMapper** needs receive as parameter:\n",
    "* **dirs_layers**: a list containing diferent folders that store the same raster layers used in the spacetive overlay and training phase,\n",
    "* **fn_output**: the file path to write the model output as geotiff."
   ]
  },
  {
   "cell_type": "markdown",
   "metadata": {},
   "source": [
    "First, let's predict only the year of 2000:"
   ]
  },
  {
   "cell_type": "code",
   "execution_count": 12,
   "metadata": {},
   "outputs": [
    {
     "name": "stdout",
     "output_type": "stream",
     "text": [
      "[15:53:45] Reading 87 raster files\n",
      "[15:53:51] Executing RandomForestClassifier\n",
      "[15:54:07] RandomForestClassifier prediction time: 16.46 segs\n",
      "Output files:\n",
      " - /home/jupyter/leandro/Code/eumap/demo/python/eumap_data/10636_switzerland/land_cover_2000.tif\n"
     ]
    }
   ],
   "source": [
    "dir_timeless_layers = os.path.join(data_dir, 'timeless') \n",
    "dir_2000_layers = os.path.join(data_dir, '2000')\n",
    "\n",
    "dirs_layers = [dir_2000_layers, dir_timeless_layers]\n",
    "fn_output = os.path.join(data_dir, 'land_cover_2000.tif')\n",
    "\n",
    "output_fn_files = landmapper.predict(dirs_layers=dirs_layers, fn_output=fn_output)\n",
    "\n",
    "print('Output files:')\n",
    "for output_fn_file in output_fn_files:\n",
    "    print(f' - {output_fn_file}')"
   ]
  },
  {
   "cell_type": "markdown",
   "metadata": {},
   "source": [
    "Now we are ready to predict multiple years, creating a list of **dirs_layers** and **fn_output**, and passing to the method **predict_multi**, which will perform this task in parallel:"
   ]
  },
  {
   "cell_type": "code",
   "execution_count": 13,
   "metadata": {},
   "outputs": [
    {
     "name": "stdout",
     "output_type": "stream",
     "text": [
      "[15:54:07] Reading 87 raster files\n",
      "[15:54:13] 1) Reading time: 5.45 segs\n",
      "[15:54:13] 1) Predicting 1000000 pixels\n",
      "[15:54:13] Reading 87 raster files\n",
      "[15:54:13] Executing RandomForestClassifier\n",
      "[15:54:18] 2) Reading time: 5.13 segs\n",
      "[15:54:18] Reading 87 raster files\n",
      "[15:54:23] 3) Reading time: 5.45 segs\n",
      "[15:54:23] Reading 87 raster files\n",
      "[15:54:29] 4) Reading time: 5.10 segs\n",
      "[15:54:30] RandomForestClassifier prediction time: 16.63 segs\n",
      "[15:54:30] 1) Predicting time: 16.63 segs\n",
      "[15:54:30] 2) Predicting 1000000 pixels\n",
      "[15:54:30] 1) Saving time: 0.05 segs\n",
      "[15:54:30] Executing RandomForestClassifier\n",
      "[15:54:47] RandomForestClassifier prediction time: 16.42 segs\n",
      "[15:54:47] 2) Predicting time: 16.43 segs\n",
      "[15:54:47] 3) Predicting 1000000 pixels\n",
      "[15:54:47] 2) Saving time: 0.03 segs\n",
      "[15:54:47] Executing RandomForestClassifier\n",
      "[15:55:02] RandomForestClassifier prediction time: 14.34 segs\n",
      "[15:55:02] 3) Predicting time: 14.35 segs\n",
      "[15:55:02] 4) Predicting 1000000 pixels\n",
      "[15:55:02] 3) Saving time: 0.03 segs\n",
      "[15:55:02] Executing RandomForestClassifier\n",
      "[15:55:19] RandomForestClassifier prediction time: 16.79 segs\n",
      "[15:55:19] 4) Predicting time: 16.80 segs\n",
      "[15:55:19] 4) Saving time: 0.04 segs\n",
      "Output files:\n",
      " - /home/jupyter/leandro/Code/eumap/demo/python/eumap_data/10636_switzerland/land_cover_2000.tif\n",
      " - /home/jupyter/leandro/Code/eumap/demo/python/eumap_data/10636_switzerland/land_cover_2001.tif\n",
      " - /home/jupyter/leandro/Code/eumap/demo/python/eumap_data/10636_switzerland/land_cover_2002.tif\n",
      " - /home/jupyter/leandro/Code/eumap/demo/python/eumap_data/10636_switzerland/land_cover_2003.tif\n"
     ]
    }
   ],
   "source": [
    "dir_timeless_layers = os.path.join(data_dir, 'timeless') \n",
    "\n",
    "dirs_layers_list = []\n",
    "fn_output_list = []\n",
    "\n",
    "for year in range(2000, 2004):\n",
    "    dir_time_layers = os.path.join(data_dir, str(year))\n",
    "    dirs_layers = [dir_time_layers, dir_timeless_layers]\n",
    "    fn_result = os.path.join(data_dir, f'land_cover_{year}.tif')\n",
    "    \n",
    "    dirs_layers_list.append(dirs_layers)\n",
    "    fn_output_list.append(fn_result)\n",
    "\n",
    "output_fn_files = landmapper.predict_multi(dirs_layers_list=dirs_layers_list, fn_output_list=fn_output_list)\n",
    "\n",
    "print('Output files:')\n",
    "for output_fn_file in output_fn_files:\n",
    "    print(f' - {output_fn_file}')"
   ]
  },
  {
   "cell_type": "markdown",
   "metadata": {},
   "source": [
    "The generated geotiff files will have the following pixel values. "
   ]
  },
  {
   "cell_type": "code",
   "execution_count": 14,
   "metadata": {},
   "outputs": [
    {
     "name": "stdout",
     "output_type": "stream",
     "text": [
      "Mapped land cover classes\n",
      " - 231 => pixel value 0 (red)\n",
      " - 312 => pixel value 1 (darkred)\n",
      " - 321 => pixel value 2 (springgreen)\n",
      " - 322 => pixel value 3 (green)\n",
      " - 324 => pixel value 4 (darkgreen)\n",
      " - 332 => pixel value 5 (yellow)\n",
      " - 333 => pixel value 6 (tan)\n",
      " - 335 => pixel value 7 (white)\n"
     ]
    }
   ],
   "source": [
    "import numpy as np\n",
    "from matplotlib.colors import ListedColormap\n",
    "\n",
    "lc_classes = landmapper.target_classes['original']\n",
    "pixel_values = landmapper.target_classes['transformed']\n",
    "colors = ListedColormap([\"red\", \"darkred\", \"springgreen\", \"green\", \"darkgreen\", \"yellow\", \"tan\", \"white\"])\n",
    "\n",
    "print(\"Mapped land cover classes\")\n",
    "for l, p, c in zip(lc_classes, pixel_values, colors.colors):\n",
    "    print(f' - {l:.0f} => pixel value {p} ({c})')"
   ]
  },
  {
   "cell_type": "markdown",
   "metadata": {},
   "source": [
    "Let's see the the prediction results:"
   ]
  },
  {
   "cell_type": "code",
   "execution_count": 17,
   "metadata": {},
   "outputs": [
    {
     "ename": "RasterioIOError",
     "evalue": "/home/jupyter/leandro/Code/eumap/demo/python/eumap_data/10636_switzerland/land_cover_2000.tif: No such file or directory",
     "output_type": "error",
     "traceback": [
      "\u001b[0;31m\u001b[0m",
      "\u001b[0;31mCPLE_OpenFailedError\u001b[0mTraceback (most recent call last)",
      "\u001b[0;32mrasterio/_base.pyx\u001b[0m in \u001b[0;36mrasterio._base.DatasetBase.__init__\u001b[0;34m()\u001b[0m\n",
      "\u001b[0;32mrasterio/_shim.pyx\u001b[0m in \u001b[0;36mrasterio._shim.open_dataset\u001b[0;34m()\u001b[0m\n",
      "\u001b[0;32mrasterio/_err.pyx\u001b[0m in \u001b[0;36mrasterio._err.exc_wrap_pointer\u001b[0;34m()\u001b[0m\n",
      "\u001b[0;31mCPLE_OpenFailedError\u001b[0m: /home/jupyter/leandro/Code/eumap/demo/python/eumap_data/10636_switzerland/land_cover_2000.tif: No such file or directory",
      "\nDuring handling of the above exception, another exception occurred:\n",
      "\u001b[0;31mRasterioIOError\u001b[0mTraceback (most recent call last)",
      "\u001b[0;32m<ipython-input-17-edfda34da3f0>\u001b[0m in \u001b[0;36m<module>\u001b[0;34m\u001b[0m\n\u001b[1;32m      2\u001b[0m \u001b[0;34m\u001b[0m\u001b[0m\n\u001b[1;32m      3\u001b[0m \u001b[0mtitles\u001b[0m \u001b[0;34m=\u001b[0m \u001b[0mrange\u001b[0m\u001b[0;34m(\u001b[0m\u001b[0;36m2000\u001b[0m\u001b[0;34m,\u001b[0m \u001b[0;36m2000\u001b[0m\u001b[0;34m+\u001b[0m\u001b[0mlen\u001b[0m\u001b[0;34m(\u001b[0m\u001b[0mlc_classes\u001b[0m\u001b[0;34m)\u001b[0m\u001b[0;34m)\u001b[0m\u001b[0;34m\u001b[0m\u001b[0;34m\u001b[0m\u001b[0m\n\u001b[0;32m----> 4\u001b[0;31m \u001b[0mplot_rasters\u001b[0m\u001b[0;34m(\u001b[0m\u001b[0;34m*\u001b[0m\u001b[0moutput_fn_files\u001b[0m\u001b[0;34m,\u001b[0m \u001b[0mcmaps\u001b[0m \u001b[0;34m=\u001b[0m \u001b[0mcolors\u001b[0m\u001b[0;34m,\u001b[0m \u001b[0mtitles\u001b[0m \u001b[0;34m=\u001b[0m \u001b[0mtitles\u001b[0m\u001b[0;34m)\u001b[0m\u001b[0;34m\u001b[0m\u001b[0;34m\u001b[0m\u001b[0m\n\u001b[0m",
      "\u001b[0;32m~/leandro/Code/eumap/pyeumap/plotter.py\u001b[0m in \u001b[0;36mplot_rasters\u001b[0;34m(out_file, vertical_layout, figsize, spacing, cmaps, titles, dpi, nodata, *rasters)\u001b[0m\n\u001b[1;32m     44\u001b[0m         \u001b[0;32mfor\u001b[0m \u001b[0mi\u001b[0m\u001b[0;34m,\u001b[0m \u001b[0mr\u001b[0m \u001b[0;32min\u001b[0m \u001b[0menumerate\u001b[0m\u001b[0;34m(\u001b[0m\u001b[0mrasters\u001b[0m\u001b[0;34m)\u001b[0m\u001b[0;34m:\u001b[0m\u001b[0;34m\u001b[0m\u001b[0;34m\u001b[0m\u001b[0m\n\u001b[1;32m     45\u001b[0m                 \u001b[0;32mif\u001b[0m \u001b[0misinstance\u001b[0m\u001b[0;34m(\u001b[0m\u001b[0mr\u001b[0m\u001b[0;34m,\u001b[0m \u001b[0;34m(\u001b[0m\u001b[0mstr\u001b[0m\u001b[0;34m,\u001b[0m \u001b[0mPath\u001b[0m\u001b[0;34m)\u001b[0m\u001b[0;34m)\u001b[0m\u001b[0;34m:\u001b[0m\u001b[0;34m\u001b[0m\u001b[0;34m\u001b[0m\u001b[0m\n\u001b[0;32m---> 46\u001b[0;31m                         \u001b[0;32mwith\u001b[0m \u001b[0mrio\u001b[0m\u001b[0;34m.\u001b[0m\u001b[0mopen\u001b[0m\u001b[0;34m(\u001b[0m\u001b[0mr\u001b[0m\u001b[0;34m)\u001b[0m \u001b[0;32mas\u001b[0m \u001b[0msrc\u001b[0m\u001b[0;34m:\u001b[0m\u001b[0;34m\u001b[0m\u001b[0;34m\u001b[0m\u001b[0m\n\u001b[0m\u001b[1;32m     47\u001b[0m                                 \u001b[0mrasters\u001b[0m\u001b[0;34m[\u001b[0m\u001b[0mi\u001b[0m\u001b[0;34m]\u001b[0m \u001b[0;34m=\u001b[0m \u001b[0msrc\u001b[0m\u001b[0;34m.\u001b[0m\u001b[0mread\u001b[0m\u001b[0;34m(\u001b[0m\u001b[0;36m1\u001b[0m\u001b[0;34m)\u001b[0m\u001b[0;34m\u001b[0m\u001b[0;34m\u001b[0m\u001b[0m\n\u001b[1;32m     48\u001b[0m                                 \u001b[0;32mif\u001b[0m \u001b[0mnodata\u001b[0m\u001b[0;34m[\u001b[0m\u001b[0mi\u001b[0m\u001b[0;34m]\u001b[0m \u001b[0;32mis\u001b[0m \u001b[0;32mNone\u001b[0m\u001b[0;34m:\u001b[0m\u001b[0;34m\u001b[0m\u001b[0;34m\u001b[0m\u001b[0m\n",
      "\u001b[0;32m/opt/conda/lib/python3.8/site-packages/rasterio/env.py\u001b[0m in \u001b[0;36mwrapper\u001b[0;34m(*args, **kwds)\u001b[0m\n\u001b[1;32m    431\u001b[0m \u001b[0;34m\u001b[0m\u001b[0m\n\u001b[1;32m    432\u001b[0m         \u001b[0;32mwith\u001b[0m \u001b[0menv_ctor\u001b[0m\u001b[0;34m(\u001b[0m\u001b[0msession\u001b[0m\u001b[0;34m=\u001b[0m\u001b[0msession\u001b[0m\u001b[0;34m)\u001b[0m\u001b[0;34m:\u001b[0m\u001b[0;34m\u001b[0m\u001b[0;34m\u001b[0m\u001b[0m\n\u001b[0;32m--> 433\u001b[0;31m             \u001b[0;32mreturn\u001b[0m \u001b[0mf\u001b[0m\u001b[0;34m(\u001b[0m\u001b[0;34m*\u001b[0m\u001b[0margs\u001b[0m\u001b[0;34m,\u001b[0m \u001b[0;34m**\u001b[0m\u001b[0mkwds\u001b[0m\u001b[0;34m)\u001b[0m\u001b[0;34m\u001b[0m\u001b[0;34m\u001b[0m\u001b[0m\n\u001b[0m\u001b[1;32m    434\u001b[0m \u001b[0;34m\u001b[0m\u001b[0m\n\u001b[1;32m    435\u001b[0m     \u001b[0;32mreturn\u001b[0m \u001b[0mwrapper\u001b[0m\u001b[0;34m\u001b[0m\u001b[0;34m\u001b[0m\u001b[0m\n",
      "\u001b[0;32m/opt/conda/lib/python3.8/site-packages/rasterio/__init__.py\u001b[0m in \u001b[0;36mopen\u001b[0;34m(fp, mode, driver, width, height, count, crs, transform, dtype, nodata, sharing, **kwargs)\u001b[0m\n\u001b[1;32m    219\u001b[0m         \u001b[0;31m# None.\u001b[0m\u001b[0;34m\u001b[0m\u001b[0;34m\u001b[0m\u001b[0;34m\u001b[0m\u001b[0m\n\u001b[1;32m    220\u001b[0m         \u001b[0;32mif\u001b[0m \u001b[0mmode\u001b[0m \u001b[0;34m==\u001b[0m \u001b[0;34m'r'\u001b[0m\u001b[0;34m:\u001b[0m\u001b[0;34m\u001b[0m\u001b[0;34m\u001b[0m\u001b[0m\n\u001b[0;32m--> 221\u001b[0;31m             \u001b[0ms\u001b[0m \u001b[0;34m=\u001b[0m \u001b[0mDatasetReader\u001b[0m\u001b[0;34m(\u001b[0m\u001b[0mpath\u001b[0m\u001b[0;34m,\u001b[0m \u001b[0mdriver\u001b[0m\u001b[0;34m=\u001b[0m\u001b[0mdriver\u001b[0m\u001b[0;34m,\u001b[0m \u001b[0msharing\u001b[0m\u001b[0;34m=\u001b[0m\u001b[0msharing\u001b[0m\u001b[0;34m,\u001b[0m \u001b[0;34m**\u001b[0m\u001b[0mkwargs\u001b[0m\u001b[0;34m)\u001b[0m\u001b[0;34m\u001b[0m\u001b[0;34m\u001b[0m\u001b[0m\n\u001b[0m\u001b[1;32m    222\u001b[0m         \u001b[0;32melif\u001b[0m \u001b[0mmode\u001b[0m \u001b[0;34m==\u001b[0m \u001b[0;34m\"r+\"\u001b[0m\u001b[0;34m:\u001b[0m\u001b[0;34m\u001b[0m\u001b[0;34m\u001b[0m\u001b[0m\n\u001b[1;32m    223\u001b[0m             s = get_writer_for_path(path, driver=driver)(\n",
      "\u001b[0;32mrasterio/_base.pyx\u001b[0m in \u001b[0;36mrasterio._base.DatasetBase.__init__\u001b[0;34m()\u001b[0m\n",
      "\u001b[0;31mRasterioIOError\u001b[0m: /home/jupyter/leandro/Code/eumap/demo/python/eumap_data/10636_switzerland/land_cover_2000.tif: No such file or directory"
     ]
    }
   ],
   "source": [
    "from pyeumap.plotter import plot_rasters\n",
    "\n",
    "titles = range(2000, 2000+len(lc_classes))\n",
    "plot_rasters(*output_fn_files, cmaps = colors, titles = titles)"
   ]
  }
 ],
 "metadata": {
  "kernelspec": {
   "display_name": "Python 3",
   "language": "python",
   "name": "python3"
  },
  "language_info": {
   "codemirror_mode": {
    "name": "ipython",
    "version": 3
   },
   "file_extension": ".py",
   "mimetype": "text/x-python",
   "name": "python",
   "nbconvert_exporter": "python",
   "pygments_lexer": "ipython3",
   "version": "3.8.6"
  }
 },
 "nbformat": 4,
 "nbformat_minor": 4
}
