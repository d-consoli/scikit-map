{
 "cells": [
  {
   "cell_type": "code",
   "execution_count": 1,
   "id": "4f4b9736-ef0d-439f-ba47-a99121e98ced",
   "metadata": {
    "tags": []
   },
   "outputs": [],
   "source": [
    "def _raster_paths(df_features, ftype, tile = None, year = None):\n",
    "    mask = (df_features['type'] == ftype)\n",
    "    path_col = 'path'\n",
    "    if ftype == 'landsat':\n",
    "        df_features['ypath'] = df_features[mask]['path'].apply(lambda p: p.replace('{tile}', tile).replace('{year}', str(year)))\n",
    "        path_col = 'ypath'\n",
    "    ids_list = list(df_features[mask]['idx'])\n",
    "    raster_files = list(df_features[mask][path_col])\n",
    "    return raster_files, ids_list"
   ]
  },
  {
   "cell_type": "code",
   "execution_count": 2,
   "id": "e83cd74e-1080-4591-a9a6-2d3da0925acb",
   "metadata": {
    "tags": []
   },
   "outputs": [],
   "source": [
    "def _get_static_layers_info(tiles_gpkg, features_csv, tile):\n",
    "    tiles = gpd.read_file(tiles_gpkg)\n",
    "    df_features = pd.read_csv(features_csv)\n",
    "    min_x, _, _, max_y = tiles[tiles['TILE'] == tile].iloc[0].geometry.bounds\n",
    "    static_files, _ = _raster_paths(df_features, 'static')\n",
    "    gidal_ds = gdal.Open(static_files[0]) # It is assumed to be the same for all static layers\n",
    "    gt = gidal_ds.GetGeoTransform()\n",
    "    gti = gdal.InvGeoTransform(gt)\n",
    "    x_off_s, y_off_s = gdal.ApplyGeoTransform(gti, min_x, max_y)\n",
    "    x_off_s, y_off_s = int(x_off_s), int(y_off_s)\n",
    "    return static_files, x_off_s, y_off_s"
   ]
  },
  {
   "cell_type": "code",
   "execution_count": 3,
   "id": "a029a114-3408-460f-b778-1170b3ce0a91",
   "metadata": {
    "tags": []
   },
   "outputs": [],
   "source": [
    "import numpy as np\n",
    "import skmap_bindings\n",
    "from skmap.misc import find_files\n",
    "import time\n",
    "import tempfile\n",
    "from pathlib import Path\n",
    "from osgeo import gdal, gdal_array\n",
    "import pandas as pd\n",
    "import os\n",
    "os.environ['USE_PYGEOS'] = '0'\n",
    "import geopandas as gpd\n",
    "\n",
    "x_off = 2\n",
    "y_off = 2\n",
    "x_size = 4000\n",
    "y_size = 4000\n",
    "n_pix = x_size * y_size\n",
    "\n",
    "tile = '120E_46N'\n",
    "file_loc = f'http://192.168.49.35:8333/prod-landsat-ard2/{tile}/seasconv/blue_glad.SeasConv.ard2_m_30m_s_20000101_20000228_go_epsg.4326_v20230908.tif'\n",
    "conf_GDAL = {\"CPL_VSIL_CURL_ALLOWED_EXTENSIONS\": \".tif\",\n",
    "             \"GDAL_HTTP_VERSION\": \"1.0\"}\n",
    "lon_lat = np.zeros((2,n_pix), dtype=np.float32)\n",
    "n_threads = 96\n",
    "\n",
    "skmap_bindings.getLatLonArray(lon_lat, n_threads, conf_GDAL, file_loc,\n",
    "               x_off, y_off, x_size, y_size)\n",
    "latitude = lon_lat[1,:].copy()"
   ]
  },
  {
   "cell_type": "code",
   "execution_count": 4,
   "id": "46549e1f-c92c-43c6-a123-f2fc817ae820",
   "metadata": {
    "tags": []
   },
   "outputs": [
    {
     "name": "stdout",
     "output_type": "stream",
     "text": [
      "static/dtm.bareearth_ensemble_p10_30m_s_2018_go_epsg4326_v20230210.vrt\n",
      "[[12741. 12752. 12762. ...  7643.  7633.  7630.]]\n"
     ]
    }
   ],
   "source": [
    "tiles_gpkg = 'ard2_final_status.gpkg'\n",
    "features_csv = './model/features.csv'\n",
    "static_files, x_off_s, y_off_s = _get_static_layers_info(tiles_gpkg, features_csv, tile)\n",
    "n_static = len(static_files)\n",
    "idx_static = range(n_static)\n",
    "dtm_file = str(find_files('./static', '*.vrt')[47])\n",
    "print(dtm_file)\n",
    "bands_list = [1,]\n",
    "elevation = np.zeros((1,n_pix), dtype=np.float32)\n",
    "skmap_bindings.readData(elevation, n_threads, [dtm_file,], [0,], x_off_s, y_off_s, x_size, y_size, bands_list, conf_GDAL)\n",
    "print(elevation)"
   ]
  },
  {
   "cell_type": "code",
   "execution_count": 5,
   "id": "de007fc6-a4ed-44e8-b7a6-fdd549a6cdee",
   "metadata": {
    "tags": []
   },
   "outputs": [
    {
     "name": "stdout",
     "output_type": "stream",
     "text": [
      "[[-495. -496. -497. ... -106. -105. -105.]\n",
      " [1202. 1202. 1201. ... 1564. 1565. 1565.]\n",
      " [1761. 1760. 1760. ... 2114. 2114. 2114.]]\n"
     ]
    }
   ],
   "source": [
    "days_of_year = [20., 140., 200.]\n",
    "result_indices = [0, 1, 2]\n",
    "geom_temp = np.zeros((len(days_of_year), n_pix), dtype=np.float32)\n",
    "result_scaling = 100.\n",
    "a = 37.03043\n",
    "b = -15.43029\n",
    "elev_scaling = 0.1\n",
    "skmap_bindings.computeGeometricTemperature(geom_temp, n_threads, latitude, elevation, elev_scaling, a, b, result_scaling, result_indices, days_of_year)\n",
    "print(geom_temp)"
   ]
  },
  {
   "cell_type": "code",
   "execution_count": null,
   "id": "ba78f7dd-5347-45c3-96f0-7d61f5c220b3",
   "metadata": {},
   "outputs": [],
   "source": []
  }
 ],
 "metadata": {
  "kernelspec": {
   "display_name": "Python 3 (ipykernel)",
   "language": "python",
   "name": "python3"
  },
  "language_info": {
   "codemirror_mode": {
    "name": "ipython",
    "version": 3
   },
   "file_extension": ".py",
   "mimetype": "text/x-python",
   "name": "python",
   "nbconvert_exporter": "python",
   "pygments_lexer": "ipython3",
   "version": "3.8.16"
  }
 },
 "nbformat": 4,
 "nbformat_minor": 5
}
