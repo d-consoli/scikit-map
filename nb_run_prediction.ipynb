{
 "cells": [
  {
   "cell_type": "markdown",
   "id": "35751297-8c66-4986-bd76-e8d6738a5e47",
   "metadata": {},
   "source": [
    "# Fill the shared array with data"
   ]
  },
  {
   "cell_type": "code",
   "execution_count": 2,
   "id": "f6daeecb-e711-402e-95d4-b6146cafb7dd",
   "metadata": {
    "tags": []
   },
   "outputs": [],
   "source": [
    "import numpy as np\n",
    "import skmap_bindings\n",
    "import time\n",
    "import tempfile\n",
    "from pathlib import Path\n",
    "from osgeo import gdal, gdal_array\n",
    "import pandas as pd\n",
    "import geopandas as gpd\n",
    "\n",
    "def _model_input(tile, start_year = 2000, end_year = 2022, bands = ['blue', 'green', 'red', 'nir', 'swir1', 'swir2', 'thermal'], base_url='http://192.168.49.30:8333'):\n",
    "    prediction_layers = []\n",
    "\n",
    "    for year in range(start_year, end_year + 1):\n",
    "        for band in bands:\n",
    "            prediction_layers += [\n",
    "            f'{base_url}/prod-landsat-ard2/{tile}/seasconv/{band}_glad.SeasConv.ard2_m_30m_s_' + f'{year}0101_{year}0228_go_epsg.4326_v20230908.tif',\n",
    "            f'{base_url}/prod-landsat-ard2/{tile}/seasconv/{band}_glad.SeasConv.ard2_m_30m_s_' + f'{year}0301_{year}0430_go_epsg.4326_v20230908.tif',\n",
    "            f'{base_url}/prod-landsat-ard2/{tile}/seasconv/{band}_glad.SeasConv.ard2_m_30m_s_' + f'{year}0501_{year}0630_go_epsg.4326_v20230908.tif',\n",
    "            f'{base_url}/prod-landsat-ard2/{tile}/seasconv/{band}_glad.SeasConv.ard2_m_30m_s_' + f'{year}0701_{year}0831_go_epsg.4326_v20230908.tif',\n",
    "            f'{base_url}/prod-landsat-ard2/{tile}/seasconv/{band}_glad.SeasConv.ard2_m_30m_s_' + f'{year}0901_{year}1031_go_epsg.4326_v20230908.tif',\n",
    "            f'{base_url}/prod-landsat-ard2/{tile}/seasconv/{band}_glad.SeasConv.ard2_m_30m_s_' + f'{year}1101_{year}1231_go_epsg.4326_v20230908.tif'\n",
    "            ]\n",
    "\n",
    "    return prediction_layers\n",
    "\n",
    "def _find_connected_indices(raster_files, str1, str2):\n",
    "    list1 = []\n",
    "    list2 = []    \n",
    "    for i, elem1 in enumerate(raster_files):\n",
    "        if str1 in elem1:\n",
    "            for j, elem2 in enumerate(raster_files):\n",
    "                if str2 in elem2 and elem1.split(str1)[-1] == elem2.split(str2)[-1]:\n",
    "                    list1.append(i)\n",
    "                    list2.append(j)\n",
    "                    break                \n",
    "    return list1, list2\n",
    "\n",
    "def _raster_paths(df_features, ftype, tile = None, year = None):\n",
    "    mask = (df_features['type'] == ftype)\n",
    "    path_col = 'path'\n",
    "    if ftype == 'landsat':\n",
    "        df_features['ypath'] = df_features[mask]['path'].apply(lambda p: p.replace('{tile}', tile).replace('{year}', str(year)))\n",
    "        path_col = 'ypath'\n",
    "    ids_list = list(df_features[mask]['idx'])\n",
    "    raster_files = list(df_features[mask][path_col])\n",
    "    return raster_files, ids_list\n",
    "\n",
    "def _get_static_layers_info(tiles_gpkg, features_csv, tile):\n",
    "    tiles = gpd.read_file(tiles_gpkg)\n",
    "    df_features = pd.read_csv(features_csv)\n",
    "    min_x, _, _, max_y = tiles[tiles['TILE'] == tile].iloc[0].geometry.bounds\n",
    "    static_files, _ = _raster_paths(df_features, 'static')\n",
    "    gidal_ds = gdal.Open(static_files[0]) # It is assumed to be the same for all static layers\n",
    "    gt = gidal_ds.GetGeoTransform()\n",
    "    gti = gdal.InvGeoTransform(gt)\n",
    "    x_off_s, y_off_s = gdal.ApplyGeoTransform(gti, min_x, max_y)\n",
    "    x_off_s, y_off_s = int(x_off_s), int(y_off_s)\n",
    "    return static_files, x_off_s, y_off_s"
   ]
  },
  {
   "cell_type": "markdown",
   "id": "fc21fff8-48c2-48d5-94c0-abc0846639e5",
   "metadata": {},
   "source": [
    "# Parameters setup"
   ]
  },
  {
   "cell_type": "code",
   "execution_count": 28,
   "id": "662b6e2a-d3af-42d3-bd29-38a98d56f548",
   "metadata": {
    "tags": []
   },
   "outputs": [
    {
     "name": "stdout",
     "output_type": "stream",
     "text": [
      "Parameters setup done\n"
     ]
    }
   ],
   "source": [
    "tile = '029E_51N'\n",
    "conf_GDAL = {\"CPL_VSIL_CURL_ALLOWED_EXTENSIONS\": \".tif\",\n",
    "             \"GDAL_HTTP_VERSION\": \"1.0\"}\n",
    "bands_list = [1,] # The first band is indexed as 1\n",
    "x_size = 4000\n",
    "y_size = 4000\n",
    "n_threads = 96\n",
    "\n",
    "tiles_gpkg = 'ard2_final_status.gpkg'\n",
    "features_csv = './model/features.csv'\n",
    "static_files, x_off_s, y_off_s = _get_static_layers_info(tiles_gpkg, features_csv, tile)\n",
    "n_static = len(static_files)\n",
    "idx_static = range(n_static)\n",
    "\n",
    "x_off_d = 2\n",
    "y_off_d = 2\n",
    "dynamic_files = _model_input(tile, start_year = 2000, end_year = 2020, bands = ['blue', 'green', 'red', 'nir', 'swir1', 'swir2', 'thermal'], base_url=f'http://{subnet}.30:8333')\n",
    "subnet = '192.168.49'\n",
    "hosts = [ f'{subnet}.{i}:8333' for i in range(30,43) ]\n",
    "dynamic_files = [str(r).replace(f\"{subnet}.30\", f\"{subnet}.{30 + int.from_bytes(Path(r).stem.encode(), 'little') % len(hosts)}\") for r in dynamic_files]\n",
    "n_dynamic = len(dynamic_files)\n",
    "idx_dynamic = range(n_static, n_static+n_dynamic) # row indices of the array where each tiff contenct will go (starting from first element of file_urls)\n",
    "\n",
    "list_red, list_nir = _find_connected_indices(static_files + dynamic_files, 'red_glad', 'nir_glad')\n",
    "n_indices = len(list_red)\n",
    "idx_indices = range(n_static + n_dynamic, n_static + n_dynamic + n_indices)\n",
    "\n",
    "n_feat = n_static + n_dynamic + n_indices\n",
    "data = np.empty((n_feat,x_size*y_size), dtype=np.float32, order='C')\n",
    "print(\"Parameters setup done\")"
   ]
  },
  {
   "cell_type": "code",
   "execution_count": 33,
   "id": "c6ce35f2-df65-427e-a444-752429320c84",
   "metadata": {},
   "outputs": [
    {
     "name": "stdout",
     "output_type": "stream",
     "text": [
      "Reading static layers done in 3.01 s\n",
      "[[  181.   181.   181. ...   146.   146.   146.]\n",
      " [14516. 14516. 14516. ... 14683. 14684. 14684.]\n",
      " [13564. 13564. 13564. ... 13497. 13497. 13497.]\n",
      " ...\n",
      " [  207.   208.   208. ...   207.   205.   208.]\n",
      " [  215.   219.   214. ...   215.   215.   215.]\n",
      " [  219.   219.   219. ...   216.   220.   221.]]\n",
      "(1092, 16000000)\n"
     ]
    },
    {
     "name": "stderr",
     "output_type": "stream",
     "text": [
      "Warning 1: /vsicurl/http://192.168.49.41:8333/global/lcv/lcv_water.distance_glad.interanual.dynamic.classes_pxl_100m_0..0cm_1999..2021_v2021.tif: This file used to have optimizations in its layout, but those have been, at least partly, invalidated by later changes\n"
     ]
    }
   ],
   "source": [
    "start = time.time()\n",
    "skmap_bindings.readData(data, n_threads, static_files, idx_static, x_off_s, y_off_s, x_size, y_size, bands_list, conf_GDAL)\n",
    "print(f\"Reading static layers done in {time.time() - start:.2f} s\")\n",
    "print(data)\n",
    "print(data.shape)"
   ]
  },
  {
   "cell_type": "code",
   "execution_count": 29,
   "id": "6088dd8b-9733-420b-bf68-b7a8edd9633a",
   "metadata": {
    "tags": []
   },
   "outputs": [
    {
     "name": "stdout",
     "output_type": "stream",
     "text": [
      "Starting\n",
      "C++ reading done in 3.81 s\n",
      "[[0. 0. 0. ... 0. 0. 0.]\n",
      " [0. 0. 0. ... 0. 0. 0.]\n",
      " [0. 0. 0. ... 0. 0. 0.]\n",
      " ...\n",
      " [0. 0. 0. ... 0. 0. 0.]\n",
      " [0. 0. 0. ... 0. 0. 0.]\n",
      " [0. 0. 0. ... 0. 0. 0.]]\n",
      "(1092, 16000000)\n"
     ]
    }
   ],
   "source": [
    "print(\"Starting\")\n",
    "start = time.time()\n",
    "skmap_bindings.readData(data, n_threads, dynamic_files, idx_dynamic, x_off_d, y_off_d, x_size, y_size, bands_list, conf_GDAL, 255., np.nan)\n",
    "print(f\"Reading dynamic layers done in {time.time() - start:.2f} s\")\n",
    "print(data)\n",
    "print(data.shape)"
   ]
  },
  {
   "cell_type": "code",
   "execution_count": 30,
   "id": "3624ea2c-ca11-47d2-908f-4842cce2df8e",
   "metadata": {
    "tags": []
   },
   "outputs": [
    {
     "name": "stdout",
     "output_type": "stream",
     "text": [
      "Starting\n",
      "C++ ND done in 0.82 s\n",
      "[[  0.   0.   0. ...   0.   0.   0.]\n",
      " [  0.   0.   0. ...   0.   0.   0.]\n",
      " [  0.   0.   0. ...   0.   0.   0.]\n",
      " ...\n",
      " [207. 208. 208. ... 207. 205. 208.]\n",
      " [215. 219. 214. ... 215. 215. 215.]\n",
      " [219. 219. 219. ... 216. 220. 221.]]\n"
     ]
    }
   ],
   "source": [
    "print(\"Starting\")\n",
    "start = time.time()\n",
    "skmap_bindings.computeNormalizedDifference(data, n_threads,\n",
    "                            list_nir, list_red, idx_indices,\n",
    "                            0.004, 0.004, 125., 125.)\n",
    "print(f\"C++ ND done in {time.time() - start:.2f} s\")\n",
    "print(data)\n"
   ]
  },
  {
   "cell_type": "code",
   "execution_count": null,
   "id": "d09cdf16-2d1c-47bc-b75b-b33f4395026e",
   "metadata": {},
   "outputs": [],
   "source": []
  }
 ],
 "metadata": {
  "kernelspec": {
   "display_name": "Python 3 (ipykernel)",
   "language": "python",
   "name": "python3"
  },
  "language_info": {
   "codemirror_mode": {
    "name": "ipython",
    "version": 3
   },
   "file_extension": ".py",
   "mimetype": "text/x-python",
   "name": "python",
   "nbconvert_exporter": "python",
   "pygments_lexer": "ipython3",
   "version": "3.8.16"
  }
 },
 "nbformat": 4,
 "nbformat_minor": 5
}
