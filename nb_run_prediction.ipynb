{
 "cells": [
  {
   "cell_type": "markdown",
   "id": "35751297-8c66-4986-bd76-e8d6738a5e47",
   "metadata": {},
   "source": [
    "# Fill the shared array with data"
   ]
  },
  {
   "cell_type": "code",
   "execution_count": 11,
   "id": "f6daeecb-e711-402e-95d4-b6146cafb7dd",
   "metadata": {
    "tags": []
   },
   "outputs": [],
   "source": [
    "import numpy as np\n",
    "import skmap_bindings\n",
    "import time"
   ]
  },
  {
   "cell_type": "code",
   "execution_count": 12,
   "id": "662b6e2a-d3af-42d3-bd29-38a98d56f548",
   "metadata": {
    "tags": []
   },
   "outputs": [],
   "source": [
    "n_feat = 6\n",
    "n_threads = 48\n",
    "x_off = 2\n",
    "y_off = 2\n",
    "x_size = 4000\n",
    "y_size = 4000\n",
    "\n",
    "bands_list = [1,] # The first band is indexed as 1\n",
    "\n",
    "conf_GDAL = {\n",
    "             \"CPL_VSIL_CURL_ALLOWED_EXTENSIONS\": \".tif\",\n",
    "             \"GDAL_HTTP_MULTIRANGE\": \"SINGLE_GET\",\n",
    "             \"GDAL_HTTP_CONNECTTIMEOUT\": \"320\",\n",
    "             \"GDAL_HTTP_TIMEOUT\": \"320\",\n",
    "             \"CPL_VSIL_CURL_USE_HEAD\": \"NO\",\n",
    "             \"GDAL_HTTP_VERSION\": \"1.0\",\n",
    "             \"CPL_CURL_GZIP\": \"NO\"}\n",
    "\n",
    "out_dates = [\n",
    "        \"20090101_20090228\",\n",
    "        \"20090501_20090630\",\n",
    "        \"20090701_20090831\",\n",
    "        \"20090701_20090831\",\n",
    "        \"20091101_20091231\"]\n",
    "file_urls = []\n",
    "for i in range(len(out_dates)):\n",
    "    file_urls.append(f\"http://192.168.1.30:8333/prod-landsat-ard2/120E_46N/agg/swir2_glad.ard2_m_30m_s_{out_dates[i]}_go_epsg.4326_v20230908.tif\")\n",
    "    \n",
    "perm_vec =  [0, 2, 4, 5, 3] # row indices of the array where each tiff contenct will go (starting from first element of file_urls)"
   ]
  },
  {
   "cell_type": "code",
   "execution_count": 13,
   "id": "3624ea2c-ca11-47d2-908f-4842cce2df8e",
   "metadata": {
    "tags": []
   },
   "outputs": [
    {
     "name": "stdout",
     "output_type": "stream",
     "text": [
      "Starting\n",
      "C++ part done in 0.27 s\n",
      "[[255. 255. 255. ... 255. 255. 255.]\n",
      " [  0.   0.   0. ...   0.   0.   0.]\n",
      " [ 35.  34.  31. ...  42.  41.  41.]\n",
      " [255. 255. 255. ... 255. 255. 255.]\n",
      " [ 27.  27.  26. ...  44.  43.  43.]\n",
      " [ 27.  27.  26. ...  44.  43.  43.]]\n",
      "(6, 16000000)\n"
     ]
    }
   ],
   "source": [
    "data = np.empty((n_feat,x_size*y_size), dtype=np.float32, order='C')\n",
    "print(\"Starting\")\n",
    "start = time.time()\n",
    "skmap_bindings.parReadFiles(data, n_threads, file_urls, perm_vec, x_off, y_off, x_size, y_size, bands_list, conf_GDAL)\n",
    "print(f\"C++ part done in {time.time() - start:.2f} s\")\n",
    "print(data)\n",
    "print(data.shape)"
   ]
  },
  {
   "cell_type": "code",
   "execution_count": null,
   "id": "5933c004-fe4f-4d8d-82e5-a2c17ad84c87",
   "metadata": {},
   "outputs": [],
   "source": []
  }
 ],
 "metadata": {
  "kernelspec": {
   "display_name": "Python 3 (ipykernel)",
   "language": "python",
   "name": "python3"
  },
  "language_info": {
   "codemirror_mode": {
    "name": "ipython",
    "version": 3
   },
   "file_extension": ".py",
   "mimetype": "text/x-python",
   "name": "python",
   "nbconvert_exporter": "python",
   "pygments_lexer": "ipython3",
   "version": "3.8.16"
  }
 },
 "nbformat": 4,
 "nbformat_minor": 5
}
