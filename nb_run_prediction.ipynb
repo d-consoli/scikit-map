{
 "cells": [
  {
   "cell_type": "markdown",
   "id": "78a69a12-5eed-445c-a3af-d77c8d2d7ef7",
   "metadata": {},
   "source": [
    "# Setup the production pipeline"
   ]
  },
  {
   "cell_type": "code",
   "execution_count": 3,
   "id": "a840d373-5266-4d48-9020-31ccd0fe8d39",
   "metadata": {
    "tags": []
   },
   "outputs": [],
   "source": [
    "import rasterio\n",
    "from osgeo import gdal, gdal_array\n",
    "\n",
    "import numpy as np\n",
    "import multiprocessing\n",
    "import ctypes\n",
    "from multiprocessing import RawArray\n",
    "import time\n",
    "import concurrent\n",
    "from concurrent.futures.process import ProcessPoolExecutor\n",
    "from concurrent.futures.thread import ThreadPoolExecutor\n",
    "from multiprocessing import shared_memory\n",
    "import math\n",
    "import tempfile\n",
    "from pathlib import Path\n",
    "import SharedArray as sa\n",
    "\n",
    "import multiprocessing as mp\n",
    "TMP_DIR = tempfile.gettempdir()\n",
    "\n",
    "from skmap.mapper import LandMapper\n",
    "from skmap.misc import find_files\n",
    "from skmap.misc import vrt_warp, ttprint\n",
    "from skmap.mapper import LandMapper\n",
    "from skmap.misc import find_files\n",
    "import geopandas as gpd\n",
    "import numexpr as ne\n",
    "import numpy as np\n",
    "import traceback\n",
    "import os\n",
    "\n",
    "from pathlib import Path\n",
    "import time\n",
    "from typing import Callable, Iterator, List,    Union\n",
    "from osgeo import gdal, gdal_array\n",
    "import numpy as np\n",
    "import SharedArray as sa\n",
    "gdal_opts = {\n",
    " #'GDAL_HTTP_MULTIRANGE': 'SINGLE_GET',\n",
    " #'GDAL_HTTP_MERGE_CONSECUTIVE_RANGES': 'NO',\n",
    " 'GDAL_HTTP_VERSION': '1.0',\n",
    " #'GDAL_DISABLE_READDIR_ON_OPEN': 'EMPTY_DIR',\n",
    " #'VSI_CACHE': 'FALSE',\n",
    " 'CPL_VSIL_CURL_ALLOWED_EXTENSIONS': '.tif',\n",
    " #'GDAL_HTTP_CONNECTTIMEOUT': '320',\n",
    " #'CPL_VSIL_CURL_USE_HEAD': 'NO',\n",
    " #'GDAL_HTTP_TIMEOUT': '320',\n",
    " #'CPL_CURL_GZIP': 'NO'\n",
    "}"
   ]
  },
  {
   "cell_type": "code",
   "execution_count": 4,
   "id": "e05599ca-01e7-4251-b813-0e4e7ada6bc6",
   "metadata": {
    "tags": []
   },
   "outputs": [],
   "source": [
    "def _model_input(tile, start_year = 2000, end_year = 2022, bands = ['blue', 'green', 'red', 'nir', 'swir1', 'swir2', 'thermal'], base_url='http://192.168.1.30:8333'):\n",
    "    prediction_layers = []\n",
    "    \n",
    "    for year in range(start_year, end_year + 1):\n",
    "        for band in bands:\n",
    "            prediction_layers += [\n",
    "                f'{base_url}/prod-landsat-ard2/{tile}/seasconv/{band}_glad.SeasConv.ard2_m_30m_s_' + '{year}0101_{year}0228_go_epsg.4326_v20230908.tif',\n",
    "                f'{base_url}/prod-landsat-ard2/{tile}/seasconv/{band}_glad.SeasConv.ard2_m_30m_s_' + '{year}0301_{year}0430_go_epsg.4326_v20230908.tif',\n",
    "                f'{base_url}/prod-landsat-ard2/{tile}/seasconv/{band}_glad.SeasConv.ard2_m_30m_s_' + '{year}0501_{year}0630_go_epsg.4326_v20230908.tif',\n",
    "                f'{base_url}/prod-landsat-ard2/{tile}/seasconv/{band}_glad.SeasConv.ard2_m_30m_s_' + '{year}0701_{year}0831_go_epsg.4326_v20230908.tif',\n",
    "                f'{base_url}/prod-landsat-ard2/{tile}/seasconv/{band}_glad.SeasConv.ard2_m_30m_s_' + '{year}0901_{year}1031_go_epsg.4326_v20230908.tif',\n",
    "                f'{base_url}/prod-landsat-ard2/{tile}/seasconv/{band}_glad.SeasConv.ard2_m_30m_s_' + '{year}1101_{year}1231_go_epsg.4326_v20230908.tif'\n",
    "            ]\n",
    "    \n",
    "    raster_files = []\n",
    "    dict_layers_newnames = {}\n",
    "    for l in prediction_layers:\n",
    "    \n",
    "        key = Path(l).stem.replace('{year}', '')\n",
    "        value = Path(l).stem.replace('{year}', str(year))\n",
    "        dict_layers_newnames[key] = value\n",
    "        raster_files.append('/vsicurl/' + l.replace('{year}', str(year)))\n",
    "    \n",
    "    hosts = [ f'192.168.49.{i}:8333' for i in range(30,43) ]\n",
    "    raster_files = [str(r).replace(\"192.168.49.30\", f\"192.168.49.{30 + int.from_bytes(Path(r).stem.encode(), 'little') % len(hosts)}\") for r in raster_files]\n",
    "    \n",
    "    return raster_files, dict_layers_newnames"
   ]
  },
  {
   "cell_type": "code",
   "execution_count": 5,
   "id": "23dc75ad-c941-420e-a3bf-af471278c096",
   "metadata": {
    "tags": []
   },
   "outputs": [],
   "source": [
    "def make_tempdir(basedir='skmap', make_subdir = True):\n",
    "    tempdir = Path(TMP_DIR).joinpath(basedir)\n",
    "    if make_subdir: \n",
    "        name = Path(tempfile.NamedTemporaryFile().name).name\n",
    "        tempdir = tempdir.joinpath(name)\n",
    "    tempdir.mkdir(parents=True, exist_ok=True)\n",
    "    return tempdir\n"
   ]
  },
  {
   "cell_type": "code",
   "execution_count": 6,
   "id": "eeb6f4c7-978f-495d-a4c8-f3e4d4c40e2c",
   "metadata": {
    "tags": []
   },
   "outputs": [],
   "source": [
    "def make_tempfile(basedir='skmap', prefix='', suffix='', make_subdir = False):\n",
    "    tempdir = make_tempdir(basedir, make_subdir=make_subdir)\n",
    "    return tempdir.joinpath(\n",
    "        Path(tempfile.NamedTemporaryFile(prefix=prefix, suffix=suffix).name).name\n",
    "    )"
   ]
  },
  {
   "cell_type": "code",
   "execution_count": 7,
   "id": "2cebd524-f54e-422a-b714-7053433f6fee",
   "metadata": {
    "tags": []
   },
   "outputs": [
    {
     "name": "stdout",
     "output_type": "stream",
     "text": [
      "Reading tiles gpkg\n"
     ]
    }
   ],
   "source": [
    "\n",
    "print(\"Reading tiles gpkg\")\n",
    "tiles = gpd.read_file('ard2_final_status.gpkg')\n",
    "\n",
    "tile = '047W_11S'\n",
    "year = 2020\n",
    "minx, miny, maxx, maxy = tiles[tiles['TILE'] == tile].iloc[0].geometry.bounds\n",
    "\n",
    "landsat_files, dict_layers_newnames = _model_input(tile, year, year)\n",
    "static_files = find_files('./static', '*.vrt')\n",
    "static_files = [ str(f) for f in static_files ]\n",
    "n_features = 172\n",
    "\n",
    "# shape = (4000, 4000, n_features)\n",
    "shape = (3, n_features)\n",
    "array_fn = 'file://' + str(make_tempfile(prefix='shm_array'))\n",
    "array = sa.create(array_fn, shape, dtype=float)\n",
    "array = sa.attach(array_fn, False)\n",
    "# array = array[:,:,0:169]\n",
    "array = array[:,0:3]\n",
    "    \n",
    "# start = time.time()\n",
    "# array = read_rasters(static_files, array_fn=array_fn, minx=minx, maxy=maxy)\n",
    "# print(f\"Reading static: {(time.time() - start):.2f} segs\")\n",
    "\n",
    "# start = time.time()\n",
    "# i = len(static_files) \n",
    "# array = read_rasters(landsat_files, array_i=i, array_fn=array_fn, minx=minx, maxy=maxy)\n",
    "# print(f\"Reading landsat: {(time.time() - start):.2f} segs\")\n",
    "\n",
    "# lockup = [ Path(l).stem for l in static_files ] + \\\n",
    "#              [ Path(l).stem.replace(f'{year}', '') for l in landsat_files ]\n",
    "# lockup = { lockup[i]: i for i in range(0, len(lockup)) }\n",
    "\n",
    "# start = time.time()\n",
    "# lockup, array = in_mem_calc(lockup, array)\n",
    "# print(f\"In memory calc: {(time.time() - start):.2f} segs\")\n",
    "# print(f\"Number of feature: {len(lockup)}\")\n",
    "# print(f\"Array shape: {array.shape}\")\n"
   ]
  },
  {
   "cell_type": "markdown",
   "id": "35751297-8c66-4986-bd76-e8d6738a5e47",
   "metadata": {},
   "source": [
    "# Fill the shared array with data"
   ]
  },
  {
   "cell_type": "code",
   "execution_count": 7,
   "id": "c4708ab8-6dbd-493c-b2fc-05923637f87f",
   "metadata": {
    "tags": []
   },
   "outputs": [],
   "source": [
    "# import matplotlib.pyplot as plt\n",
    "# import sys\n",
    "# import numpy as np\n",
    "# import os\n",
    "# from skmap.data import toy\n",
    "# from skmap.io import process\n",
    "# import importlib\n",
    "# import glob\n",
    "# import ctypes\n",
    "\n",
    "\n",
    "# n_pix = 5\n",
    "# n_feat = 12\n",
    "# d_type = np.double\n",
    "# data = np.random.rand(n_pix, n_feat).astype(d_type)\n",
    "# data[:,0:4] = np.nan\n",
    "# libfile = glob.glob('build/*/skmap_bindings*.so')[0]\n",
    "# skmap_bindings = ctypes.CDLL(libfile)\n",
    "# filled = np.empty(data.shape, dtype=d_type)\n",
    "# filled_qa = np.empty(data.shape, dtype=d_type)\n",
    "# skmap_bindings.parReadFiles.restype = ctypes.c_int\n",
    "# skmap_bindings.parReadFiles.argtypes = \\\n",
    "#     [ctypes.c_uint,\n",
    "#     ctypes.c_uint,\n",
    "#     np.ctypeslib.ndpointer(dtype=d_type, ndim=2, flags='WRITEABLE')]\n",
    "# res = skmap_bindings.parReadFiles(n_pix, n_feat, data[:])"
   ]
  },
  {
   "cell_type": "code",
   "execution_count": 2,
   "id": "f6daeecb-e711-402e-95d4-b6146cafb7dd",
   "metadata": {
    "tags": []
   },
   "outputs": [
    {
     "ename": "ImportError",
     "evalue": "/home/dconsoli/Documents/scikit-map-pasture-class/skmap_bindings.cpython-38-x86_64-linux-gnu.so: undefined symbol: _ZN11GDALDataset8RasterIOE10GDALRWFlagiiiiPvii12GDALDataTypeiPixxxP20GDALRasterIOExtraArg",
     "output_type": "error",
     "traceback": [
      "\u001b[0;31m---------------------------------------------------------------------------\u001b[0m",
      "\u001b[0;31mImportError\u001b[0m                               Traceback (most recent call last)",
      "Cell \u001b[0;32mIn[2], line 2\u001b[0m\n\u001b[1;32m      1\u001b[0m \u001b[38;5;28;01mimport\u001b[39;00m \u001b[38;5;21;01mnumpy\u001b[39;00m \u001b[38;5;28;01mas\u001b[39;00m \u001b[38;5;21;01mnp\u001b[39;00m\n\u001b[0;32m----> 2\u001b[0m \u001b[38;5;28;01mimport\u001b[39;00m \u001b[38;5;21;01mskmap_bindings\u001b[39;00m\n\u001b[1;32m      3\u001b[0m \u001b[38;5;28;01mimport\u001b[39;00m \u001b[38;5;21;01mtime\u001b[39;00m\n\u001b[1;32m      4\u001b[0m n_feat \u001b[38;5;241m=\u001b[39m \u001b[38;5;241m6\u001b[39m\n",
      "\u001b[0;31mImportError\u001b[0m: /home/dconsoli/Documents/scikit-map-pasture-class/skmap_bindings.cpython-38-x86_64-linux-gnu.so: undefined symbol: _ZN11GDALDataset8RasterIOE10GDALRWFlagiiiiPvii12GDALDataTypeiPixxxP20GDALRasterIOExtraArg"
     ]
    }
   ],
   "source": [
    "import numpy as np\n",
    "import skmap_bindings\n",
    "import time\n",
    "n_feat = 6\n",
    "n_pix = 4004*4004\n",
    "n_threads = 48"
   ]
  },
  {
   "cell_type": "code",
   "execution_count": null,
   "id": "3f66d298-326a-4e9e-b210-ad58c7749ebc",
   "metadata": {
    "tags": []
   },
   "outputs": [],
   "source": [
    "test_np = np.ones((n_feat,n_pix), dtype=np.float32, order='C')\n",
    "print(\"Before\")\n",
    "start = time.time()\n",
    "skmap_bindings.parReadFiles(test_np, test_np.shape[0], test_np.shape[1], n_threads)\n",
    "print(f\"After C++ in {time.time() - start}\")\n",
    "print(test_np)"
   ]
  },
  {
   "cell_type": "code",
   "execution_count": null,
   "id": "3810d545-389d-4e82-9760-85576c4f7422",
   "metadata": {},
   "outputs": [],
   "source": []
  }
 ],
 "metadata": {
  "kernelspec": {
   "display_name": "Python 3 (ipykernel)",
   "language": "python",
   "name": "python3"
  },
  "language_info": {
   "codemirror_mode": {
    "name": "ipython",
    "version": 3
   },
   "file_extension": ".py",
   "mimetype": "text/x-python",
   "name": "python",
   "nbconvert_exporter": "python",
   "pygments_lexer": "ipython3",
   "version": "3.8.16"
  }
 },
 "nbformat": 4,
 "nbformat_minor": 5
}
