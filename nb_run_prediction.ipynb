{
 "cells": [
  {
   "cell_type": "markdown",
   "id": "35751297-8c66-4986-bd76-e8d6738a5e47",
   "metadata": {},
   "source": [
    "# Fill the shared array with data"
   ]
  },
  {
   "cell_type": "code",
   "execution_count": 1,
   "id": "f6daeecb-e711-402e-95d4-b6146cafb7dd",
   "metadata": {
    "tags": []
   },
   "outputs": [],
   "source": [
    "import numpy as np\n",
    "import skmap_bindings\n",
    "import time\n",
    "import tempfile\n",
    "from pathlib import Path\n",
    "from osgeo import gdal, gdal_array\n",
    "import pandas as pd\n",
    "import os\n",
    "os.environ['USE_PYGEOS'] = '0'\n",
    "import geopandas as gpd\n",
    "\n",
    "def _model_input(tile, start_year = 2000, end_year = 2022, bands = ['blue', 'green', 'red', 'nir', 'swir1', 'swir2', 'thermal'], base_url='http://192.168.49.30:8333'):\n",
    "    prediction_layers = []\n",
    "\n",
    "    for year in range(start_year, end_year + 1):\n",
    "        for band in bands:\n",
    "            prediction_layers += [\n",
    "            f'{base_url}/prod-landsat-ard2/{tile}/seasconv/{band}_glad.SeasConv.ard2_m_30m_s_' + f'{year}0101_{year}0228_go_epsg.4326_v20230908.tif',\n",
    "            f'{base_url}/prod-landsat-ard2/{tile}/seasconv/{band}_glad.SeasConv.ard2_m_30m_s_' + f'{year}0301_{year}0430_go_epsg.4326_v20230908.tif',\n",
    "            f'{base_url}/prod-landsat-ard2/{tile}/seasconv/{band}_glad.SeasConv.ard2_m_30m_s_' + f'{year}0501_{year}0630_go_epsg.4326_v20230908.tif',\n",
    "            f'{base_url}/prod-landsat-ard2/{tile}/seasconv/{band}_glad.SeasConv.ard2_m_30m_s_' + f'{year}0701_{year}0831_go_epsg.4326_v20230908.tif',\n",
    "            f'{base_url}/prod-landsat-ard2/{tile}/seasconv/{band}_glad.SeasConv.ard2_m_30m_s_' + f'{year}0901_{year}1031_go_epsg.4326_v20230908.tif',\n",
    "            f'{base_url}/prod-landsat-ard2/{tile}/seasconv/{band}_glad.SeasConv.ard2_m_30m_s_' + f'{year}1101_{year}1231_go_epsg.4326_v20230908.tif'\n",
    "            ]\n",
    "\n",
    "    return prediction_layers\n",
    "\n",
    "def _find_connected_indices(raster_files, str1, str2):\n",
    "    list1 = []\n",
    "    list2 = []    \n",
    "    for i, elem1 in enumerate(raster_files):\n",
    "        if str1 in elem1:\n",
    "            for j, elem2 in enumerate(raster_files):\n",
    "                if str2 in elem2 and elem1.split(str1)[-1] == elem2.split(str2)[-1]:\n",
    "                    list1.append(i)\n",
    "                    list2.append(j)\n",
    "                    break                \n",
    "    return list1, list2\n",
    "\n",
    "def _raster_paths(df_features, ftype, tile = None, year = None):\n",
    "    mask = (df_features['type'] == ftype)\n",
    "    path_col = 'path'\n",
    "    if ftype == 'landsat':\n",
    "        df_features['ypath'] = df_features[mask]['path'].apply(lambda p: p.replace('{tile}', tile).replace('{year}', str(year)))\n",
    "        path_col = 'ypath'\n",
    "    ids_list = list(df_features[mask]['idx'])\n",
    "    raster_files = list(df_features[mask][path_col])\n",
    "    return raster_files, ids_list\n",
    "\n",
    "def _get_static_layers_info(tiles_gpkg, features_csv, tile):\n",
    "    tiles = gpd.read_file(tiles_gpkg)\n",
    "    df_features = pd.read_csv(features_csv)\n",
    "    min_x, _, _, max_y = tiles[tiles['TILE'] == tile].iloc[0].geometry.bounds\n",
    "    static_files, _ = _raster_paths(df_features, 'static')\n",
    "    gidal_ds = gdal.Open(static_files[0]) # It is assumed to be the same for all static layers\n",
    "    gt = gidal_ds.GetGeoTransform()\n",
    "    gti = gdal.InvGeoTransform(gt)\n",
    "    x_off_s, y_off_s = gdal.ApplyGeoTransform(gti, min_x, max_y)\n",
    "    x_off_s, y_off_s = int(x_off_s), int(y_off_s)\n",
    "    return static_files, x_off_s, y_off_s"
   ]
  },
  {
   "cell_type": "markdown",
   "id": "fc21fff8-48c2-48d5-94c0-abc0846639e5",
   "metadata": {},
   "source": [
    "# Parameters setup"
   ]
  },
  {
   "cell_type": "code",
   "execution_count": 10,
   "id": "662b6e2a-d3af-42d3-bd29-38a98d56f548",
   "metadata": {
    "tags": []
   },
   "outputs": [
    {
     "name": "stdout",
     "output_type": "stream",
     "text": [
      "Parameters setup done\n"
     ]
    }
   ],
   "source": [
    "tile = '029E_51N'\n",
    "conf_GDAL = {\"CPL_VSIL_CURL_ALLOWED_EXTENSIONS\": \".tif\",\n",
    "             \"GDAL_HTTP_VERSION\": \"1.0\"}\n",
    "bands_list = [1,] # The first band is indexed as 1\n",
    "x_size = 4000\n",
    "y_size = 4000\n",
    "n_threads = 96\n",
    "\n",
    "tiles_gpkg = 'ard2_final_status.gpkg'\n",
    "features_csv = './model/features.csv'\n",
    "static_files, x_off_s, y_off_s = _get_static_layers_info(tiles_gpkg, features_csv, tile)\n",
    "n_static = len(static_files)\n",
    "idx_static = range(n_static)\n",
    "\n",
    "x_off_d = 2\n",
    "y_off_d = 2\n",
    "subnet = '192.168.49'\n",
    "dynamic_files = _model_input(tile, start_year = 2000, end_year = 2001, bands = ['blue', 'green', 'red', 'nir', 'swir1', 'swir2', 'thermal'], base_url=f'http://{subnet}.30:8333')\n",
    "hosts = [ f'{subnet}.{i}:8333' for i in range(30,43) ]\n",
    "dynamic_files = [str(r).replace(f\"{subnet}.30\", f\"{subnet}.{30 + int.from_bytes(Path(r).stem.encode(), 'little') % len(hosts)}\") for r in dynamic_files]\n",
    "n_dynamic = len(dynamic_files)\n",
    "idx_dynamic = range(n_static, n_static+n_dynamic) # row indices of the array where each tiff contenct will go (starting from first element of file_urls)\n",
    "\n",
    "list_red, list_nir = _find_connected_indices(static_files + dynamic_files, 'red_glad', 'nir_glad')\n",
    "list_swir1, list_blue = _find_connected_indices(static_files + dynamic_files, 'swir1_glad', 'blue_glad')\n",
    "list_swir2, _ = _find_connected_indices(static_files + dynamic_files, 'swir2_glad', 'blue_glad')\n",
    "n_index = len(list_red)\n",
    "n_indices = 7 * n_index\n",
    "idx_indices = range(n_static + n_dynamic, n_static + n_dynamic + n_indices)\n",
    "\n",
    "n_feat = n_static + n_dynamic + n_indices\n",
    "data = np.empty((n_feat,x_size*y_size), dtype=np.float32, order='C')\n",
    "print(\"Parameters setup done\")"
   ]
  },
  {
   "cell_type": "code",
   "execution_count": 11,
   "id": "c6ce35f2-df65-427e-a444-752429320c84",
   "metadata": {
    "tags": []
   },
   "outputs": [
    {
     "ename": "NameError",
     "evalue": "name 'idx_static' is not defined",
     "output_type": "error",
     "traceback": [
      "\u001b[0;31m---------------------------------------------------------------------------\u001b[0m",
      "\u001b[0;31mNameError\u001b[0m                                 Traceback (most recent call last)",
      "Cell \u001b[0;32mIn[11], line 2\u001b[0m\n\u001b[1;32m      1\u001b[0m start \u001b[38;5;241m=\u001b[39m time\u001b[38;5;241m.\u001b[39mtime()\n\u001b[0;32m----> 2\u001b[0m skmap_bindings\u001b[38;5;241m.\u001b[39mreadData(data, n_threads, static_files, \u001b[43midx_static\u001b[49m, x_off_s, y_off_s, x_size, y_size, bands_list, conf_GDAL)\n\u001b[1;32m      3\u001b[0m \u001b[38;5;28mprint\u001b[39m(\u001b[38;5;124mf\u001b[39m\u001b[38;5;124m\"\u001b[39m\u001b[38;5;124mReading static layers done in \u001b[39m\u001b[38;5;132;01m{\u001b[39;00mtime\u001b[38;5;241m.\u001b[39mtime()\u001b[38;5;250m \u001b[39m\u001b[38;5;241m-\u001b[39m\u001b[38;5;250m \u001b[39mstart\u001b[38;5;132;01m:\u001b[39;00m\u001b[38;5;124m.2f\u001b[39m\u001b[38;5;132;01m}\u001b[39;00m\u001b[38;5;124m s\u001b[39m\u001b[38;5;124m\"\u001b[39m)\n\u001b[1;32m      4\u001b[0m \u001b[38;5;28mprint\u001b[39m(data)\n",
      "\u001b[0;31mNameError\u001b[0m: name 'idx_static' is not defined"
     ]
    }
   ],
   "source": [
    "start = time.time()\n",
    "skmap_bindings.readData(data, n_threads, static_files, idx_static, x_off_s, y_off_s, x_size, y_size, bands_list, conf_GDAL)\n",
    "print(f\"Reading static layers done in {time.time() - start:.2f} s\")\n",
    "print(data)\n",
    "print(data.shape)"
   ]
  },
  {
   "cell_type": "code",
   "execution_count": 12,
   "id": "6088dd8b-9733-420b-bf68-b7a8edd9633a",
   "metadata": {
    "tags": []
   },
   "outputs": [
    {
     "name": "stdout",
     "output_type": "stream",
     "text": [
      "Starting\n",
      "Reading dynamic layers done in 3.64 s\n",
      "[[2. 0. 2. ... 3. 1. 1.]\n",
      " [3. 3. 4. ... 4. 4. 4.]\n",
      " [4. 4. 4. ... 4. 5. 5.]\n",
      " ...\n",
      " [0. 0. 0. ... 0. 0. 0.]\n",
      " [0. 0. 0. ... 0. 0. 0.]\n",
      " [0. 0. 0. ... 0. 0. 0.]]\n",
      "(168, 16000000)\n"
     ]
    }
   ],
   "source": [
    "print(\"Starting\")\n",
    "start = time.time()\n",
    "skmap_bindings.readData(data, n_threads, dynamic_files, idx_dynamic, x_off_d, y_off_d, x_size, y_size, bands_list, conf_GDAL, 255., np.nan)\n",
    "print(f\"Reading dynamic layers done in {time.time() - start:.2f} s\")\n",
    "print(data)\n",
    "print(data.shape)"
   ]
  },
  {
   "cell_type": "code",
   "execution_count": 13,
   "id": "c2f62ebc-b505-4fe5-a310-8f29e2747d09",
   "metadata": {
    "tags": []
   },
   "outputs": [
    {
     "data": {
      "text/plain": [
       "12"
      ]
     },
     "execution_count": 13,
     "metadata": {},
     "output_type": "execute_result"
    }
   ],
   "source": [
    "len(idx_indices[id_index*n_index:id_index*n_index+n_index])"
   ]
  },
  {
   "cell_type": "code",
   "execution_count": 14,
   "id": "3624ea2c-ca11-47d2-908f-4842cce2df8e",
   "metadata": {
    "tags": []
   },
   "outputs": [
    {
     "name": "stdout",
     "output_type": "stream",
     "text": [
      "Starting\n",
      "C++ ND done in 2.30 s\n",
      "[[  2.   0.   2. ...   3.   1.   1.]\n",
      " [  3.   3.   4. ...   4.   4.   4.]\n",
      " [  4.   4.   4. ...   4.   5.   5.]\n",
      " ...\n",
      " [204. 204. 203. ... 202. 201. 204.]\n",
      " [216. 219. 214. ... 212. 211. 214.]\n",
      " [221. 224. 219. ... 223. 220. 220.]]\n"
     ]
    }
   ],
   "source": [
    "print(\"Starting\")\n",
    "start = time.time()\n",
    "# NDVI\n",
    "band_scaling = 0.004\n",
    "result_scaling = 125.\n",
    "result_offset = 125.\n",
    "id_index = 0\n",
    "skmap_bindings.computeNormalizedDifference(data, n_threads,\n",
    "                            list_nir, list_red, idx_indices[id_index*n_index:id_index*n_index+n_index],\n",
    "                            band_scaling, band_scaling, result_scaling, result_offset)\n",
    "# NDWI\n",
    "id_index = 1\n",
    "skmap_bindings.computeNormalizedDifference(data, n_threads,\n",
    "                            list_nir, list_swir1, idx_indices[id_index*n_index:id_index*n_index+n_index],\n",
    "                            band_scaling, band_scaling, result_scaling, result_offset)\n",
    "# BSI\n",
    "id_index = 2\n",
    "skmap_bindings.computeBsi(data, n_threads,\n",
    "                            list_swir1, list_red, list_nir, list_blue, idx_indices[id_index*n_index:id_index*n_index+n_index],\n",
    "                            band_scaling, band_scaling, band_scaling, band_scaling, result_scaling, result_offset)\n",
    "# NDTI\n",
    "id_index = 3\n",
    "skmap_bindings.computeNormalizedDifference(data, n_threads,\n",
    "                            list_swir1, list_swir2, idx_indices[id_index*n_index:id_index*n_index+n_index],\n",
    "                            band_scaling, band_scaling, result_scaling, result_offset)\n",
    "# NIRV\n",
    "id_index = 4\n",
    "skmap_bindings.computeNirv(data, n_threads,\n",
    "                            list_red, list_nir, idx_indices[id_index*n_index:id_index*n_index+n_index],\n",
    "                            band_scaling, band_scaling, result_scaling, result_offset)\n",
    "# EVI\n",
    "id_index = 5\n",
    "skmap_bindings.computeEvi(data, n_threads,\n",
    "                            list_red, list_nir, list_blue, idx_indices[id_index*n_index:id_index*n_index+n_index],\n",
    "                            band_scaling, band_scaling, band_scaling, result_scaling, result_offset)\n",
    "# FAPAR\n",
    "id_index = 6\n",
    "skmap_bindings.computeFapar(data, n_threads,\n",
    "                            list_red, list_nir, idx_indices[id_index*n_index:id_index*n_index+n_index],\n",
    "                            band_scaling, band_scaling, result_scaling, result_offset)\n",
    "print(f\"C++ ND done in {time.time() - start:.2f} s\")\n",
    "print(data)\n"
   ]
  },
  {
   "cell_type": "code",
   "execution_count": null,
   "id": "114f58fd-f568-48b5-b45d-e2be36ca040a",
   "metadata": {},
   "outputs": [],
   "source": []
  }
 ],
 "metadata": {
  "kernelspec": {
   "display_name": "Python 3 (ipykernel)",
   "language": "python",
   "name": "python3"
  },
  "language_info": {
   "codemirror_mode": {
    "name": "ipython",
    "version": 3
   },
   "file_extension": ".py",
   "mimetype": "text/x-python",
   "name": "python",
   "nbconvert_exporter": "python",
   "pygments_lexer": "ipython3",
   "version": "3.8.16"
  }
 },
 "nbformat": 4,
 "nbformat_minor": 5
}
