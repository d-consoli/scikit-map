{
 "cells": [
  {
   "cell_type": "markdown",
   "id": "35751297-8c66-4986-bd76-e8d6738a5e47",
   "metadata": {},
   "source": [
    "# Fill the shared array with data"
   ]
  },
  {
   "cell_type": "code",
   "execution_count": 1,
   "id": "f6daeecb-e711-402e-95d4-b6146cafb7dd",
   "metadata": {
    "tags": []
   },
   "outputs": [],
   "source": [
    "import numpy as np\n",
    "import skmap_bindings\n",
    "import time\n",
    "import tempfile\n",
    "from pathlib import Path\n",
    "\n",
    "def _model_input(tile, start_year = 2000, end_year = 2022, bands = ['blue', 'green', 'red', 'nir', 'swir1', 'swir2', 'thermal'], base_url='http://192.168.49.30:8333'):\n",
    "    prediction_layers = []\n",
    "\n",
    "    for year in range(start_year, end_year + 1):\n",
    "        for band in bands:\n",
    "            prediction_layers += [\n",
    "            f'{base_url}/prod-landsat-ard2/{tile}/seasconv/{band}_glad.SeasConv.ard2_m_30m_s_' + f'{year}0101_{year}0228_go_epsg.4326_v20230908.tif',\n",
    "            f'{base_url}/prod-landsat-ard2/{tile}/seasconv/{band}_glad.SeasConv.ard2_m_30m_s_' + f'{year}0301_{year}0430_go_epsg.4326_v20230908.tif',\n",
    "            f'{base_url}/prod-landsat-ard2/{tile}/seasconv/{band}_glad.SeasConv.ard2_m_30m_s_' + f'{year}0501_{year}0630_go_epsg.4326_v20230908.tif',\n",
    "            f'{base_url}/prod-landsat-ard2/{tile}/seasconv/{band}_glad.SeasConv.ard2_m_30m_s_' + f'{year}0701_{year}0831_go_epsg.4326_v20230908.tif',\n",
    "            f'{base_url}/prod-landsat-ard2/{tile}/seasconv/{band}_glad.SeasConv.ard2_m_30m_s_' + f'{year}0901_{year}1031_go_epsg.4326_v20230908.tif',\n",
    "            f'{base_url}/prod-landsat-ard2/{tile}/seasconv/{band}_glad.SeasConv.ard2_m_30m_s_' + f'{year}1101_{year}1231_go_epsg.4326_v20230908.tif'\n",
    "            ]\n",
    "\n",
    "    return prediction_layers"
   ]
  },
  {
   "cell_type": "code",
   "execution_count": 2,
   "id": "662b6e2a-d3af-42d3-bd29-38a98d56f548",
   "metadata": {
    "tags": []
   },
   "outputs": [],
   "source": [
    "raster_files = _model_input(\"013E_61N\", start_year = 1997, end_year = 2001, bands = ['blue'], base_url='http://192.168.1.30:8333')\n",
    "hosts = [ f'192.168.1.{i}:8333' for i in range(30,43) ]\n",
    "raster_files = [str(r).replace(\"192.168.1.30\", f\"192.168.1.{30 + int.from_bytes(Path(r).stem.encode(), 'little') % len(hosts)}\") for r in raster_files]\n",
    "\n",
    "n_feat = len(raster_files)\n",
    "n_threads = 48\n",
    "x_off = 2\n",
    "y_off = 2\n",
    "x_size = 4000\n",
    "y_size = 4000\n",
    "\n",
    "bands_list = [1,] # The first band is indexed as 1\n",
    "\n",
    "conf_GDAL = {\n",
    "             \"CPL_VSIL_CURL_ALLOWED_EXTENSIONS\": \".tif\",\n",
    "             \"GDAL_HTTP_MULTIRANGE\": \"SINGLE_GET\",\n",
    "             \"GDAL_HTTP_CONNECTTIMEOUT\": \"320\",\n",
    "             \"GDAL_HTTP_TIMEOUT\": \"320\",\n",
    "             \"CPL_VSIL_CURL_USE_HEAD\": \"NO\",\n",
    "             \"GDAL_HTTP_VERSION\": \"1.0\",\n",
    "             \"CPL_CURL_GZIP\": \"NO\"}\n",
    "\n",
    "perm_vec = range(n_feat) # row indices of the array where each tiff contenct will go (starting from first element of file_urls)"
   ]
  },
  {
   "cell_type": "code",
   "execution_count": 3,
   "id": "3624ea2c-ca11-47d2-908f-4842cce2df8e",
   "metadata": {
    "tags": []
   },
   "outputs": [
    {
     "name": "stdout",
     "output_type": "stream",
     "text": [
      "Starting\n",
      "C++ part done in 1.05 s\n",
      "[[255. 255. 255. ... 255. 255. 255.]\n",
      " [255. 255. 255. ... 255. 255.   5.]\n",
      " [  8.   9.   9. ...   6.   6.   5.]\n",
      " ...\n",
      " [  4.   4.   4. ...   5.   5.   5.]\n",
      " [ 28.  30.  30. ...   4.   4.   5.]\n",
      " [ 28.  30.  30. ...   4.   4.   5.]]\n",
      "(30, 16000000)\n"
     ]
    }
   ],
   "source": [
    "data = np.empty((n_feat,x_size*y_size), dtype=np.float32, order='C')\n",
    "print(\"Starting\")\n",
    "start = time.time()\n",
    "skmap_bindings.parReadFiles(data, n_threads, raster_files, perm_vec, x_off, y_off, x_size, y_size, bands_list, conf_GDAL)\n",
    "print(f\"C++ part done in {time.time() - start:.2f} s\")\n",
    "print(data)\n",
    "print(data.shape)"
   ]
  }
 ],
 "metadata": {
  "kernelspec": {
   "display_name": "Python 3 (ipykernel)",
   "language": "python",
   "name": "python3"
  },
  "language_info": {
   "codemirror_mode": {
    "name": "ipython",
    "version": 3
   },
   "file_extension": ".py",
   "mimetype": "text/x-python",
   "name": "python",
   "nbconvert_exporter": "python",
   "pygments_lexer": "ipython3",
   "version": "3.8.16"
  }
 },
 "nbformat": 4,
 "nbformat_minor": 5
}
