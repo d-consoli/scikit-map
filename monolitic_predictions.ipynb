{
 "cells": [
  {
   "cell_type": "code",
   "execution_count": 1,
   "id": "864b16d0-59f5-4af3-a079-c293d473f9c4",
   "metadata": {
    "tags": []
   },
   "outputs": [
    {
     "name": "stdout",
     "output_type": "stream",
     "text": [
      "[[200. 200. 200.   0. 200.]\n",
      " [200. 200. 200.   0. 200.]\n",
      " [200. 200.   0.   0.   0.]\n",
      " [200. 200. 200.   0.   0.]\n",
      " [  0.   0.   0.   0.   0.]\n",
      " [200. 200. 200.   0.   0.]\n",
      " [200. 200.   0.   0.   0.]\n",
      " [  0.   0.   0.   0.   0.]\n",
      " [200. 200.   0.   0.   0.]\n",
      " [  0.   0.   0.   0.   0.]\n",
      " [ 20.  20.  40. 100.  60.]\n",
      " [ 40.  40.  80. 100. 100.]]\n"
     ]
    }
   ],
   "source": [
    "from typing import Callable, Iterator, List, Union\n",
    "from osgeo import gdal, gdal_array\n",
    "import numpy as np\n",
    "import SharedArray as sa\n",
    "import skmap_bindings\n",
    "\n",
    "\n",
    "data = np.zeros((12,5), dtype=np.float32)\n",
    "\n",
    "data[[8, 6, 3, 2], 0:2] = 200.\n",
    "data[[0, 1, 3, 5], 0:3] = 200.\n",
    "data[[0, 1], 4:5] = 200.\n",
    "indices_matrix = [[0,1,2,3,4],\n",
    "                  [5,6,7,8,9]]\n",
    "result_indices = [10, 11]\n",
    "th = 169.\n",
    "n_threads = 96\n",
    "result_scaling = 100.\n",
    "skmap_bindings.computeBsf(data, n_threads, indices_matrix, result_indices, th, result_scaling)\n",
    "print(data)"
   ]
  },
  {
   "cell_type": "code",
   "execution_count": 3,
   "id": "4da8be72-72c1-48c7-8e1a-9681e70096f4",
   "metadata": {},
   "outputs": [
    {
     "name": "stdout",
     "output_type": "stream",
     "text": [
      "data\n",
      "[[ 99.  99.  99.   0.]\n",
      " [ 99.  99.  99.   0.]\n",
      " [200. 200.   0.   0.]\n",
      " [ 99.  99.  99.   0.]\n",
      " [  0.   0.   0.   0.]\n",
      " [ 99.  99.  99.   0.]\n",
      " [200. 200.   0.   0.]\n",
      " [  0.   0.   0.   0.]\n",
      " [200. 200.   0.   0.]\n",
      " [  0.   0.   0.   0.]\n",
      " [  0.   0.   0.   0.]\n",
      " [  0.   0.   0.   0.]]\n",
      "reordered_data\n",
      "[[ 99.  99.  99.   0.   0.   0.   0.   0. 200. 200.   0.   0.]\n",
      " [ 99.  99.  99.   0. 200. 200.   0.   0.   0.   0.   0.   0.]\n",
      " [200. 200.   0.   0.  99.  99.  99.   0. 200. 200.   0.   0.]\n",
      " [ 99.  99.  99.   0.   0.   0.   0.   0.  99.  99.  99.   0.]\n",
      " [  0.   0.   0.   0.   0.   0.   0.   0.  99.  99.  99.   0.]]\n",
      "inverse_idx\n",
      "[[0 0]\n",
      " [0 1]\n",
      " [0 2]\n",
      " [1 0]\n",
      " [1 1]\n",
      " [1 2]\n",
      " [2 0]\n",
      " [2 1]\n",
      " [2 2]\n",
      " [3 0]\n",
      " [3 1]\n",
      " [3 2]\n",
      " [4 0]\n",
      " [4 1]\n",
      " [4 2]]\n",
      "inverse_reordered_data\n",
      "[[ 99.  99.  99.   0.]\n",
      " [ 99.  99.  99.   0.]\n",
      " [200. 200.   0.   0.]\n",
      " [ 99.  99.  99.   0.]\n",
      " [200. 200.   0.   0.]\n",
      " [ 99.  99.  99.   0.]\n",
      " [200. 200.   0.   0.]\n",
      " [ 99.  99.  99.   0.]\n",
      " [  0.   0.   0.   0.]\n",
      " [ 99.  99.  99.   0.]\n",
      " [  0.   0.   0.   0.]\n",
      " [ 99.  99.  99.   0.]\n",
      " [  0.   0.   0.   0.]\n",
      " [ 99.  99.  99.   0.]\n",
      " [200. 200.   0.   0.]]\n"
     ]
    }
   ],
   "source": [
    "from typing import Callable, Iterator, List, Union\n",
    "from osgeo import gdal, gdal_array\n",
    "import numpy as np\n",
    "import SharedArray as sa\n",
    "import skmap_bindings\n",
    "\n",
    "data = np.zeros((12,4), dtype=np.float32)\n",
    "reordered_data = np.zeros((5,12), dtype=np.float32)\n",
    "data[[8, 6, 3, 2], 0:2] = 200.\n",
    "data[[0, 1, 3, 5], 0:3] = 99.\n",
    "data[[0, 1], 4:5] = 1.\n",
    "indices_matrix = [[0,10,2],\n",
    "                  [5,6,7],\n",
    "                  [8,0,2],\n",
    "                  [1,4,5],\n",
    "                  [10,7,5]]\n",
    "n_threads = 96\n",
    "skmap_bindings.reorderArray(data, n_threads, reordered_data, indices_matrix)\n",
    "print(\"data\")\n",
    "print(data)\n",
    "print(\"reordered_data\")\n",
    "print(reordered_data)\n",
    "\n",
    "inverse_reordered_data = np.zeros((15,4), dtype=np.float32)\n",
    "subrows = np.arange(0, 3)\n",
    "rows = np.arange(0, 5)\n",
    "subrows_grid, rows_grid = np.meshgrid(subrows, rows)\n",
    "inverse_idx = np.empty((inverse_reordered_data.shape[0],2), dtype=np.uintc)\n",
    "inverse_idx[:,0] = rows_grid.flatten()\n",
    "inverse_idx[:,1] = subrows_grid.flatten()\n",
    "print(\"inverse_idx\")\n",
    "print(inverse_idx)\n",
    "skmap_bindings.inverseReorderArray(data, n_threads, inverse_reordered_data, inverse_idx)\n",
    "print(\"inverse_reordered_data\")\n",
    "print(inverse_reordered_data)"
   ]
  },
  {
   "cell_type": "code",
   "execution_count": 1,
   "id": "847d970e-1ff4-4dee-8bab-6d53e1eaafaa",
   "metadata": {},
   "outputs": [
    {
     "name": "stdout",
     "output_type": "stream",
     "text": [
      "13992422.0\n",
      "32000000\n"
     ]
    }
   ],
   "source": [
    "import numpy as np\n",
    "import skmap_bindings\n",
    "from skmap.misc import find_files\n",
    "import time\n",
    "import tempfile\n",
    "from pathlib import Path\n",
    "from osgeo import gdal, gdal_array\n",
    "import pandas as pd\n",
    "import os\n",
    "os.environ['USE_PYGEOS'] = '0'\n",
    "import geopandas as gpd\n",
    "\n",
    "x_off = 2\n",
    "y_off = 2\n",
    "x_size = 4000\n",
    "y_size = 4000\n",
    "n_pix = x_size * y_size\n",
    "\n",
    "tile = '120E_46N'\n",
    "file_loc = f'http://192.168.1.30:8333/gpw/landmask/{tile}.tif'\n",
    "conf_GDAL = {\"CPL_VSIL_CURL_ALLOWED_EXTENSIONS\": \".tif\",\n",
    "             \"GDAL_HTTP_VERSION\": \"1.0\"}\n",
    "mask = np.zeros((2,n_pix), dtype=np.float32)\n",
    "n_threads = 96\n",
    "skmap_bindings.readData(mask, n_threads, [file_loc,], [0,], x_off, y_off, x_size, y_size, [1,], conf_GDAL)\n",
    "print(np.sum(mask))\n",
    "print(mask.size)\n",
    "mask[1,:] = mask[0,:] * 100.\n",
    "mask[0,:] = mask[0,:] * 200.\n",
    "no_data_value = 255\n",
    "compression_command = \"gdal_translate -co COMPRESS=deflate -co ZLEVEL=9 -co TILED=TRUE -co BLOCKXSIZE=1024 -co BLOCKYSIZE=1024\"\n",
    "write_data_indices = [1, 0]\n",
    "s3_paths = [\"gaia/tmp-eumap-ai4sh/test/test/class\",\n",
    "             \"gaia/tmp-eumap-ai4sh/test/test\"]\n",
    "skmap_bindings.writeByteData(mask, n_threads, conf_GDAL, file_loc, './logo', ['test2','test1'], write_data_indices,\n",
    "        x_off, y_off, x_size, y_size, no_data_value, compression_command, s3_paths)\n",
    "\n"
   ]
  },
  {
   "cell_type": "code",
   "execution_count": 5,
   "id": "ce925893-5fa4-492b-816b-984f733c76c2",
   "metadata": {},
   "outputs": [
    {
     "name": "stdout",
     "output_type": "stream",
     "text": [
      "[[0 1 2 3]\n",
      " [0 1 2 3]\n",
      " [0 1 2 3]\n",
      " [0 1 2 3]\n",
      " [0 1 2 3]]\n",
      "[[0 0 0 0]\n",
      " [1 1 1 1]\n",
      " [2 2 2 2]\n",
      " [3 3 3 3]\n",
      " [4 4 4 4]]\n"
     ]
    }
   ],
   "source": []
  },
  {
   "cell_type": "code",
   "execution_count": null,
   "id": "349e8237-d3e6-45a5-aaa7-b3cd57ea3539",
   "metadata": {},
   "outputs": [],
   "source": []
  }
 ],
 "metadata": {
  "kernelspec": {
   "display_name": "Python 3 (ipykernel)",
   "language": "python",
   "name": "python3"
  },
  "language_info": {
   "codemirror_mode": {
    "name": "ipython",
    "version": 3
   },
   "file_extension": ".py",
   "mimetype": "text/x-python",
   "name": "python",
   "nbconvert_exporter": "python",
   "pygments_lexer": "ipython3",
   "version": "3.8.16"
  }
 },
 "nbformat": 4,
 "nbformat_minor": 5
}
