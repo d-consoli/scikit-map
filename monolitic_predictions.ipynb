{
 "cells": [
  {
   "cell_type": "code",
   "execution_count": 1,
   "id": "864b16d0-59f5-4af3-a079-c293d473f9c4",
   "metadata": {
    "tags": []
   },
   "outputs": [
    {
     "name": "stdout",
     "output_type": "stream",
     "text": [
      "[[200. 200. 200.   0. 200.]\n",
      " [200. 200. 200.   0. 200.]\n",
      " [200. 200.   0.   0.   0.]\n",
      " [200. 200. 200.   0.   0.]\n",
      " [  0.   0.   0.   0.   0.]\n",
      " [200. 200. 200.   0.   0.]\n",
      " [200. 200.   0.   0.   0.]\n",
      " [  0.   0.   0.   0.   0.]\n",
      " [200. 200.   0.   0.   0.]\n",
      " [  0.   0.   0.   0.   0.]\n",
      " [ 20.  20.  40. 100.  60.]\n",
      " [ 40.  40.  80. 100. 100.]]\n"
     ]
    }
   ],
   "source": [
    "from typing import Callable, Iterator, List, Union\n",
    "from osgeo import gdal, gdal_array\n",
    "import numpy as np\n",
    "import SharedArray as sa\n",
    "import skmap_bindings\n",
    "\n",
    "\n",
    "data = np.zeros((12,5), dtype=np.float32)\n",
    "\n",
    "data[[8, 6, 3, 2], 0:2] = 200.\n",
    "data[[0, 1, 3, 5], 0:3] = 200.\n",
    "data[[0, 1], 4:5] = 200.\n",
    "indices_matrix = [[0,1,2,3,4],\n",
    "                  [5,6,7,8,9]]\n",
    "result_indices = [10, 11]\n",
    "th = 169.\n",
    "n_threads = 96\n",
    "result_scaling = 100.\n",
    "skmap_bindings.computeBsf(data, n_threads, indices_matrix, result_indices, th, result_scaling)\n",
    "print(data)"
   ]
  },
  {
   "cell_type": "code",
   "execution_count": 2,
   "id": "4da8be72-72c1-48c7-8e1a-9681e70096f4",
   "metadata": {},
   "outputs": [
    {
     "name": "stdout",
     "output_type": "stream",
     "text": [
      "[[ 99.  99.  99.   0.   1.]\n",
      " [ 99.  99.  99.   0.   1.]\n",
      " [200. 200.   0.   0.   0.]\n",
      " [ 99.  99.  99.   0.   0.]\n",
      " [  0.   0.   0.   0.   0.]\n",
      " [ 99.  99.  99.   0.   0.]\n",
      " [200. 200.   0.   0.   0.]\n",
      " [  0.   0.   0.   0.   0.]\n",
      " [200. 200.   0.   0.   0.]\n",
      " [  0.   0.   0.   0.   0.]\n",
      " [  0.   0.   0.   0.   0.]\n",
      " [  0.   0.   0.   0.   0.]]\n",
      "[[ 99.  99.  99.   0.   1.   0.   0.   0.   0.   0. 200. 200.   0.   0.\n",
      "    0.]\n",
      " [ 99.  99.  99.   0.   0. 200. 200.   0.   0.   0.   0.   0.   0.   0.\n",
      "    0.]\n",
      " [200. 200.   0.   0.   0.  99.  99.  99.   0.   1. 200. 200.   0.   0.\n",
      "    0.]]\n",
      "[[ 99.  99. 200.]\n",
      " [ 99.  99. 200.]\n",
      " [ 99.  99.   0.]\n",
      " [  0.   0.   0.]\n",
      " [  1.   0.   0.]\n",
      " [  0. 200.  99.]\n",
      " [  0. 200.  99.]\n",
      " [  0.   0.  99.]\n",
      " [  0.   0.   0.]\n",
      " [  0.   0.   1.]\n",
      " [200.   0. 200.]\n",
      " [200.   0. 200.]\n",
      " [  0.   0.   0.]\n",
      " [  0.   0.   0.]\n",
      " [  0.   0.   0.]]\n",
      "[[ 99.  99. 200.]\n",
      " [ 99.  99. 200.]\n",
      " [ 99.  99.   0.]\n",
      " [  0.   0.   0.]\n",
      " [  1.   0.   0.]\n",
      " [  0. 200.  99.]\n",
      " [  0. 200.  99.]\n",
      " [  0.   0.  99.]\n",
      " [  0.   0.   0.]\n",
      " [  0.   0.   1.]\n",
      " [200.   0. 200.]\n",
      " [200.   0. 200.]\n",
      " [  0.   0.   0.]\n",
      " [  0.   0.   0.]\n",
      " [  0.   0.   0.]]\n"
     ]
    }
   ],
   "source": [
    "from typing import Callable, Iterator, List, Union\n",
    "from osgeo import gdal, gdal_array\n",
    "import numpy as np\n",
    "import SharedArray as sa\n",
    "import skmap_bindings\n",
    "\n",
    "data = np.zeros((12,5), dtype=np.float32)\n",
    "reordered_data = np.zeros((3,15), dtype=np.float32)\n",
    "reordered_transposed_data = np.zeros((15,3), dtype=np.float32)\n",
    "\n",
    "data[[8, 6, 3, 2], 0:2] = 200.\n",
    "data[[0, 1, 3, 5], 0:3] = 99.\n",
    "data[[0, 1], 4:5] = 1.\n",
    "indices_matrix = [[0,10,2],\n",
    "                  [5,6,7],\n",
    "                  [8,0,2]]\n",
    "n_threads = 96\n",
    "\n",
    "skmap_bindings.reorderArray(data, n_threads, reordered_data, indices_matrix)\n",
    "skmap_bindings.reorderTransposeArray(data, n_threads, reordered_transposed_data, indices_matrix)\n",
    "print(data)\n",
    "print(reordered_data)\n",
    "print(reordered_data.transpose())\n",
    "print(reordered_transposed_data)"
   ]
  },
  {
   "cell_type": "code",
   "execution_count": null,
   "id": "847d970e-1ff4-4dee-8bab-6d53e1eaafaa",
   "metadata": {},
   "outputs": [],
   "source": []
  }
 ],
 "metadata": {
  "kernelspec": {
   "display_name": "Python 3 (ipykernel)",
   "language": "python",
   "name": "python3"
  },
  "language_info": {
   "codemirror_mode": {
    "name": "ipython",
    "version": 3
   },
   "file_extension": ".py",
   "mimetype": "text/x-python",
   "name": "python",
   "nbconvert_exporter": "python",
   "pygments_lexer": "ipython3",
   "version": "3.8.16"
  }
 },
 "nbformat": 4,
 "nbformat_minor": 5
}
