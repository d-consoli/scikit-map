{
 "cells": [
  {
   "cell_type": "code",
   "execution_count": 1,
   "id": "caf1706e-3c37-4be0-ace7-f43dde1b2ca7",
   "metadata": {
    "tags": []
   },
   "outputs": [],
   "source": [
    "import os\n",
    "import shutil\n",
    "n_threads = 96\n",
    "os.environ['USE_PYGEOS'] = '0'\n",
    "os.environ['PROJ_LIB'] = '/opt/conda/share/proj/'\n",
    "os.environ['NUMEXPR_MAX_THREADS'] = f'{n_threads}'\n",
    "os.environ['NUMEXPR_NUM_THREADS'] = f'{n_threads}'\n",
    "os.environ['OMP_THREAD_LIMIT'] = f'{n_threads}'\n",
    "os.environ[\"OMP_NUM_THREADS\"] = f'{n_threads}'\n",
    "os.environ[\"OPENBLAS_NUM_THREADS\"] = f'{n_threads}' # export OPENBLAS_NUM_THREADS=4 \n",
    "os.environ[\"MKL_NUM_THREADS\"] = f'{n_threads}' # export MKL_NUM_THREADS=6\n",
    "os.environ[\"VECLIB_MAXIMUM_THREADS\"] = f'{n_threads}' # export VECLIB_MAXIMUM_THREADS=4\n",
    "import numpy as np\n",
    "import skmap_bindings as sb\n"
   ]
  },
  {
   "cell_type": "code",
   "execution_count": 9,
   "id": "cf609ef9-2343-4bdd-b4f1-30559a3faf00",
   "metadata": {
    "tags": []
   },
   "outputs": [
    {
     "name": "stdout",
     "output_type": "stream",
     "text": [
      "SAVI 0: 148.0\n",
      "SAVI 1: 153.0\n"
     ]
    }
   ],
   "source": [
    "def savi(nir, red):\n",
    "    res = (((nir*0.004) - (red*0.004))*1.5/((nir*0.004) + (red*0.004) + 0.5))* 125. + 125.\n",
    "    if res > 250.:\n",
    "        res = 250.\n",
    "    if res < 0.:\n",
    "        res = 0.\n",
    "    return np.round(res)\n",
    "\n",
    "nir0 = 120.\n",
    "nir1 = 90.\n",
    "red0 = 80.\n",
    "red1 = 50.\n",
    "\n",
    "savi0 = savi(nir0, red0)\n",
    "savi1 = savi(nir1, red1)\n",
    "print(f'SAVI 0: {savi0}')\n",
    "print(f'SAVI 1: {savi1}')"
   ]
  },
  {
   "cell_type": "code",
   "execution_count": 10,
   "id": "2ec1e2b0-2efe-4d73-b41e-f2cbbaa0b01f",
   "metadata": {
    "tags": []
   },
   "outputs": [
    {
     "name": "stdout",
     "output_type": "stream",
     "text": [
      "[[120.  90.]\n",
      " [ 80.  50.]\n",
      " [148. 153.]]\n"
     ]
    }
   ],
   "source": [
    "data = np.empty((3,2), dtype=np.float32)\n",
    "nir_idx = 0\n",
    "red_idx = 1\n",
    "savi_idx = 2\n",
    "data[nir_idx,0] = nir0\n",
    "data[nir_idx,1] = nir1\n",
    "data[red_idx,0] = red0\n",
    "data[red_idx,1] = red1\n",
    "\n",
    "band_scaling = 0.004\n",
    "result_scaling = 125.\n",
    "result_offset = 125.\n",
    "    \n",
    "sb.computeSavi(data, n_threads,\n",
    "            [red_idx], [nir_idx], [savi_idx],\n",
    "            band_scaling, band_scaling, result_scaling, result_offset, [0., 250.])\n",
    "\n",
    "print(data)"
   ]
  },
  {
   "cell_type": "code",
   "execution_count": null,
   "id": "753cee08-e0a9-426a-9f50-675ecd1879d6",
   "metadata": {},
   "outputs": [],
   "source": []
  }
 ],
 "metadata": {
  "kernelspec": {
   "display_name": "Python 3 (ipykernel)",
   "language": "python",
   "name": "python3"
  },
  "language_info": {
   "codemirror_mode": {
    "name": "ipython",
    "version": 3
   },
   "file_extension": ".py",
   "mimetype": "text/x-python",
   "name": "python",
   "nbconvert_exporter": "python",
   "pygments_lexer": "ipython3",
   "version": "3.8.16"
  }
 },
 "nbformat": 4,
 "nbformat_minor": 5
}
