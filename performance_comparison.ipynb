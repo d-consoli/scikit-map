{
 "cells": [
  {
   "cell_type": "markdown",
   "id": "35751297-8c66-4986-bd76-e8d6738a5e47",
   "metadata": {},
   "source": [
    "# Fill the shared array with data"
   ]
  },
  {
   "cell_type": "code",
   "execution_count": 2,
   "id": "f6daeecb-e711-402e-95d4-b6146cafb7dd",
   "metadata": {
    "tags": []
   },
   "outputs": [],
   "source": [
    "import numpy as np\n",
    "import skmap_bindings\n",
    "import time"
   ]
  },
  {
   "cell_type": "code",
   "execution_count": 3,
   "id": "335b15eb-9739-4f4d-a2a8-8009e5ee45f3",
   "metadata": {
    "tags": []
   },
   "outputs": [],
   "source": [
    "big_size = 200000\n",
    "small_size = 10000\n",
    "medium_size = 44721"
   ]
  },
  {
   "cell_type": "code",
   "execution_count": 8,
   "id": "9c66b5b4-cfb9-4a62-b577-81ab9a038607",
   "metadata": {
    "tags": []
   },
   "outputs": [
    {
     "name": "stdout",
     "output_type": "stream",
     "text": [
      "  C_CONTIGUOUS : True\n",
      "  F_CONTIGUOUS : False\n",
      "  OWNDATA : True\n",
      "  WRITEABLE : True\n",
      "  ALIGNED : True\n",
      "  WRITEBACKIFCOPY : False\n",
      "\n"
     ]
    }
   ],
   "source": [
    "a = np.ones((big_size,small_size), dtype=np.float32, order='C')\n",
    "print(a.flags)"
   ]
  },
  {
   "cell_type": "markdown",
   "id": "bb0e779c-df0d-4f13-b728-bf510316a430",
   "metadata": {},
   "source": [
    "## Parallel col - big row, small col"
   ]
  },
  {
   "cell_type": "code",
   "execution_count": 5,
   "id": "62f5b19c-d1de-429b-bc2b-0aa1e7c9d6aa",
   "metadata": {
    "tags": []
   },
   "outputs": [
    {
     "name": "stdout",
     "output_type": "stream",
     "text": [
      "Before\n",
      "Hello!\n",
      "Hello!\n",
      "After C++ in 9.273570775985718\n",
      "After Python\n",
      "[[ 0.  0.  0. ...  0.  0.  0.]\n",
      " [42. 50.  0. ...  0.  0.  0.]\n",
      " [ 0.  0.  0. ...  0.  0.  0.]\n",
      " ...\n",
      " [ 0.  0.  0. ...  0.  0.  0.]\n",
      " [ 0.  0.  0. ...  0.  0.  0.]\n",
      " [ 0.  0.  0. ...  0.  0.  0.]]\n"
     ]
    }
   ],
   "source": [
    "test_np = np.ones((big_size,small_size), dtype=np.float32, order='C')\n",
    "print(\"Before\")\n",
    "# print(test_np)\n",
    "start = time.time()\n",
    "skmap_bindings.parReadFiles(test_np.shape[0], test_np.shape[1], test_np)\n",
    "print(f\"After C++ in {time.time() - start}\")\n",
    "# print(test_np)\n",
    "test_np[1,1] = 50\n",
    "print(\"After Python\")\n",
    "print(test_np)"
   ]
  },
  {
   "cell_type": "markdown",
   "id": "ed936e7f-129f-4497-8889-b2b7ad0dc751",
   "metadata": {},
   "source": [
    "## Parallel col - small row, big col"
   ]
  },
  {
   "cell_type": "code",
   "execution_count": 6,
   "id": "2cf9959b-7f57-4e00-b0d0-df1ef7ab6923",
   "metadata": {
    "tags": []
   },
   "outputs": [
    {
     "name": "stdout",
     "output_type": "stream",
     "text": [
      "Before\n",
      "Hello!\n",
      "Hello!\n",
      "After C++ in 0.7261636257171631\n",
      "After Python\n",
      "[[ 0.  0.  0. ...  0.  0.  0.]\n",
      " [42. 50.  0. ...  0.  0.  0.]\n",
      " [ 0.  0.  0. ...  0.  0.  0.]\n",
      " ...\n",
      " [ 0.  0.  0. ...  0.  0.  0.]\n",
      " [ 0.  0.  0. ...  0.  0.  0.]\n",
      " [ 0.  0.  0. ...  0.  0.  0.]]\n"
     ]
    }
   ],
   "source": [
    "test_np = np.ones((small_size,big_size), dtype=np.float32, order='C')\n",
    "print(\"Before\")\n",
    "# print(test_np)\n",
    "start = time.time()\n",
    "skmap_bindings.parReadFiles(test_np.shape[0], test_np.shape[1], test_np)\n",
    "print(f\"After C++ in {time.time() - start}\")\n",
    "# print(test_np)\n",
    "test_np[1,1] = 50\n",
    "print(\"After Python\")\n",
    "print(test_np)"
   ]
  },
  {
   "cell_type": "markdown",
   "id": "667323ee-37db-41ba-a262-c991a7837e2a",
   "metadata": {},
   "source": [
    "## Parallel col - square"
   ]
  },
  {
   "cell_type": "code",
   "execution_count": 7,
   "id": "a9b1f8f6-ca82-4f0f-8f25-f337b9bc0097",
   "metadata": {
    "tags": []
   },
   "outputs": [
    {
     "name": "stdout",
     "output_type": "stream",
     "text": [
      "Before\n",
      "Hello!\n",
      "Hello!\n",
      "After C++ in 7.2585437297821045\n",
      "After Python\n",
      "[[ 0.  0.  0. ...  0.  0.  0.]\n",
      " [42. 50.  0. ...  0.  0.  0.]\n",
      " [ 0.  0.  0. ...  0.  0.  0.]\n",
      " ...\n",
      " [ 0.  0.  0. ...  0.  0.  0.]\n",
      " [ 0.  0.  0. ...  0.  0.  0.]\n",
      " [ 0.  0.  0. ...  0.  0.  0.]]\n"
     ]
    }
   ],
   "source": [
    "test_np = np.ones((medium_size,medium_size), dtype=np.float32, order='C')\n",
    "print(\"Before\")\n",
    "# print(test_np)\n",
    "start = time.time()\n",
    "skmap_bindings.parReadFiles(test_np.shape[0], test_np.shape[1], test_np)\n",
    "print(f\"After C++ in {time.time() - start}\")\n",
    "# print(test_np)\n",
    "test_np[1,1] = 50\n",
    "print(\"After Python\")\n",
    "print(test_np)"
   ]
  },
  {
   "cell_type": "markdown",
   "id": "c4b50d9c-b6eb-49dd-9c26-852641abddb1",
   "metadata": {},
   "source": [
    "## Parallel row - big row, small col"
   ]
  },
  {
   "cell_type": "code",
   "execution_count": 4,
   "id": "c326dd5c-a6cd-494b-8849-2bc6b159a0f5",
   "metadata": {
    "tags": []
   },
   "outputs": [
    {
     "name": "stdout",
     "output_type": "stream",
     "text": [
      "Before\n",
      "Hello!\n",
      "Hello!\n",
      "After C++ in 0.6263420581817627\n",
      "After Python\n",
      "[[ 0.  0.  0. ...  0.  0.  0.]\n",
      " [42. 50.  0. ...  0.  0.  0.]\n",
      " [ 0.  0.  0. ...  0.  0.  0.]\n",
      " ...\n",
      " [ 0.  0.  0. ...  0.  0.  0.]\n",
      " [ 0.  0.  0. ...  0.  0.  0.]\n",
      " [ 0.  0.  0. ...  0.  0.  0.]]\n"
     ]
    }
   ],
   "source": [
    "test_np = np.ones((big_size,small_size), dtype=np.float32, order='C')\n",
    "print(\"Before\")\n",
    "# print(test_np)\n",
    "start = time.time()\n",
    "skmap_bindings.parReadFiles(test_np.shape[0], test_np.shape[1], test_np)\n",
    "print(f\"After C++ in {time.time() - start}\")\n",
    "# print(test_np)\n",
    "test_np[1,1] = 50\n",
    "print(\"After Python\")\n",
    "print(test_np)"
   ]
  },
  {
   "cell_type": "markdown",
   "id": "7b987fea-4139-4b8f-8cd7-29b1c1389d9b",
   "metadata": {},
   "source": [
    "## Parallel row - small row, big col"
   ]
  },
  {
   "cell_type": "code",
   "execution_count": 5,
   "id": "1f5d5c21-c2b5-4656-b49c-6a2a7996eab0",
   "metadata": {
    "tags": []
   },
   "outputs": [
    {
     "name": "stdout",
     "output_type": "stream",
     "text": [
      "Before\n",
      "Hello!\n",
      "Hello!\n",
      "After C++ in 0.6090042591094971\n",
      "After Python\n",
      "[[ 0.  0.  0. ...  0.  0.  0.]\n",
      " [42. 50.  0. ...  0.  0.  0.]\n",
      " [ 0.  0.  0. ...  0.  0.  0.]\n",
      " ...\n",
      " [ 0.  0.  0. ...  0.  0.  0.]\n",
      " [ 0.  0.  0. ...  0.  0.  0.]\n",
      " [ 0.  0.  0. ...  0.  0.  0.]]\n"
     ]
    }
   ],
   "source": [
    "test_np = np.ones((small_size,big_size), dtype=np.float32, order='C')\n",
    "print(\"Before\")\n",
    "# print(test_np)\n",
    "start = time.time()\n",
    "skmap_bindings.parReadFiles(test_np.shape[0], test_np.shape[1], test_np)\n",
    "print(f\"After C++ in {time.time() - start}\")\n",
    "# print(test_np)\n",
    "test_np[1,1] = 50\n",
    "print(\"After Python\")\n",
    "print(test_np)"
   ]
  },
  {
   "cell_type": "markdown",
   "id": "fc91995c-1591-441f-8e1d-4afcfcd4bcdd",
   "metadata": {},
   "source": [
    "## Parallel row - square"
   ]
  },
  {
   "cell_type": "code",
   "execution_count": 7,
   "id": "3f66d298-326a-4e9e-b210-ad58c7749ebc",
   "metadata": {
    "tags": []
   },
   "outputs": [
    {
     "name": "stdout",
     "output_type": "stream",
     "text": [
      "Before\n",
      "Hello!\n",
      "Hello!\n",
      "After C++ in 0.6175146102905273\n",
      "After Python\n",
      "[[ 0.  0.  0. ...  0.  0.  0.]\n",
      " [42. 50.  0. ...  0.  0.  0.]\n",
      " [ 0.  0.  0. ...  0.  0.  0.]\n",
      " ...\n",
      " [ 0.  0.  0. ...  0.  0.  0.]\n",
      " [ 0.  0.  0. ...  0.  0.  0.]\n",
      " [ 0.  0.  0. ...  0.  0.  0.]]\n"
     ]
    }
   ],
   "source": [
    "test_np = np.ones((medium_size,medium_size), dtype=np.float32, order='C')\n",
    "print(\"Before\")\n",
    "# print(test_np)\n",
    "start = time.time()\n",
    "skmap_bindings.parReadFiles(test_np.shape[0], test_np.shape[1], test_np)\n",
    "print(f\"After C++ in {time.time() - start}\")\n",
    "# print(test_np)\n",
    "test_np[1,1] = 50\n",
    "print(\"After Python\")\n",
    "print(test_np)"
   ]
  },
  {
   "cell_type": "code",
   "execution_count": null,
   "id": "3810d545-389d-4e82-9760-85576c4f7422",
   "metadata": {},
   "outputs": [],
   "source": []
  }
 ],
 "metadata": {
  "kernelspec": {
   "display_name": "Python 3 (ipykernel)",
   "language": "python",
   "name": "python3"
  },
  "language_info": {
   "codemirror_mode": {
    "name": "ipython",
    "version": 3
   },
   "file_extension": ".py",
   "mimetype": "text/x-python",
   "name": "python",
   "nbconvert_exporter": "python",
   "pygments_lexer": "ipython3",
   "version": "3.8.16"
  }
 },
 "nbformat": 4,
 "nbformat_minor": 5
}
