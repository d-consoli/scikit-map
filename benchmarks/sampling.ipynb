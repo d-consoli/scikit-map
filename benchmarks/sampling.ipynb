{
 "cells": [
  {
   "cell_type": "markdown",
   "metadata": {
    "nteract": {
     "transient": {
      "deleting": false
     }
    }
   },
   "source": [
    "# `pyeumap` raster sampling benchmarks"
   ]
  },
  {
   "cell_type": "code",
   "execution_count": 1,
   "metadata": {
    "execution": {
     "iopub.execute_input": "2020-09-26T18:36:04.924Z",
     "iopub.status.busy": "2020-09-26T18:36:04.913Z",
     "iopub.status.idle": "2020-09-26T18:36:05.423Z",
     "shell.execute_reply": "2020-09-26T18:36:05.417Z"
    },
    "jupyter": {
     "outputs_hidden": false,
     "source_hidden": false
    },
    "nteract": {
     "transient": {
      "deleting": false
     }
    }
   },
   "outputs": [],
   "source": [
    "from pathlib import Path\n",
    "import geopandas as gpd\n",
    "import rasterio as rio\n",
    "import numpy as np\n",
    "import multiprocessing as mp\n",
    "\n",
    "import warnings\n",
    "warnings.filterwarnings('ignore')\n",
    "\n",
    "from pyeumap.overlay import SpaceOverlay\n",
    "\n",
    "data_dir = Path('/data/work/geoharmonizer/pilot_tiles/croatia_9529')\n",
    "layers_dir = data_dir.joinpath('images')\n",
    "\n",
    "points = gpd.read_file(data_dir.joinpath('training_samples.gpkg'))\n"
   ]
  },
  {
   "cell_type": "markdown",
   "metadata": {
    "nteract": {
     "transient": {
      "deleting": false
     }
    }
   },
   "source": [
    "## serial sampling with `rasterio`"
   ]
  },
  {
   "cell_type": "code",
   "execution_count": 2,
   "metadata": {
    "execution": {
     "iopub.execute_input": "2020-09-26T18:38:40.361Z",
     "iopub.status.busy": "2020-09-26T18:38:40.354Z",
     "iopub.status.idle": "2020-09-26T18:40:25.660Z",
     "shell.execute_reply": "2020-09-26T18:40:25.666Z"
    },
    "jupyter": {
     "outputs_hidden": false,
     "source_hidden": false
    },
    "nteract": {
     "transient": {
      "deleting": false
     }
    }
   },
   "outputs": [
    {
     "name": "stdout",
     "output_type": "stream",
     "text": [
      "1min 45s ± 0 ns per loop (mean ± std. dev. of 1 run, 1 loop each)\n"
     ]
    }
   ],
   "source": [
    "def serial_sampling(points, layers_dir):\n",
    "    sources = [\n",
    "        rio.open(fn)\n",
    "        for fn in sorted(layers_dir.glob('**/*.tif'))\n",
    "    ]\n",
    "\n",
    "    coordinates = np.c_[\n",
    "        points.geometry.x,\n",
    "        points.geometry.y,\n",
    "    ]\n",
    "\n",
    "    results = points.copy()\n",
    "    for src in sources:\n",
    "        layer_name = Path(src.name).stem\n",
    "        results[layer_name] = np.stack(src.sample(coordinates)).ravel()\n",
    "\n",
    "%timeit -n 1 -r 1 serial_sampling(points, layers_dir)"
   ]
  },
  {
   "cell_type": "markdown",
   "metadata": {
    "nteract": {
     "transient": {
      "deleting": false
     }
    }
   },
   "source": [
    "## parallel sampling with `rasterio`"
   ]
  },
  {
   "cell_type": "code",
   "execution_count": 3,
   "metadata": {
    "execution": {
     "iopub.execute_input": "2020-09-26T18:42:39.220Z",
     "iopub.status.busy": "2020-09-26T18:42:39.216Z",
     "iopub.status.idle": "2020-09-26T18:42:51.124Z",
     "shell.execute_reply": "2020-09-26T18:42:51.132Z"
    },
    "jupyter": {
     "outputs_hidden": false,
     "source_hidden": false
    },
    "nteract": {
     "transient": {
      "deleting": false
     }
    }
   },
   "outputs": [
    {
     "name": "stdout",
     "output_type": "stream",
     "text": [
      "11.9 s ± 0 ns per loop (mean ± std. dev. of 1 run, 1 loop each)\n"
     ]
    }
   ],
   "source": [
    "def sample_one_layer(args):\n",
    "    fn, coordinates = args\n",
    "    layer_name = fn.stem\n",
    "    with rio.open(fn) as src:\n",
    "        data = np.stack(src.sample(coordinates)).ravel()\n",
    "    return layer_name, data\n",
    "\n",
    "def parallel_sampling(points, layers_dir):\n",
    "    files = sorted(layers_dir.glob('**/*.tif'))\n",
    "\n",
    "    coordinates = np.c_[\n",
    "        points.geometry.x,\n",
    "        points.geometry.y,\n",
    "    ]\n",
    "\n",
    "    results = points.copy()\n",
    "\n",
    "    arg_gen = (\n",
    "        (fn, coordinates)\n",
    "        for fn in files\n",
    "    )\n",
    "\n",
    "    with mp.Pool(mp.cpu_count()) as pool:\n",
    "        for layer_name, data in pool.map(\n",
    "            sample_one_layer,\n",
    "            arg_gen,\n",
    "        ):\n",
    "            results[layer_name] = data\n",
    "\n",
    "%timeit -n 1 -r 1 parallel_sampling(points, layers_dir)"
   ]
  },
  {
   "cell_type": "markdown",
   "metadata": {
    "nteract": {
     "transient": {
      "deleting": false
     }
    }
   },
   "source": [
    "## parallel sampling with `pyeumap`"
   ]
  },
  {
   "cell_type": "code",
   "execution_count": 5,
   "metadata": {
    "execution": {
     "iopub.execute_input": "2020-09-26T18:44:04.233Z",
     "iopub.status.busy": "2020-09-26T18:44:04.222Z",
     "iopub.status.idle": "2020-09-26T18:44:32.444Z",
     "shell.execute_reply": "2020-09-26T18:44:32.459Z"
    },
    "jupyter": {
     "outputs_hidden": false,
     "source_hidden": false
    },
    "nteract": {
     "transient": {
      "deleting": false
     }
    }
   },
   "outputs": [
    {
     "name": "stdout",
     "output_type": "stream",
     "text": [
      "28.2 s ± 0 ns per loop (mean ± std. dev. of 1 run, 1 loop each)\n"
     ]
    }
   ],
   "source": [
    "def pyeumap_sampling(points, layers_dir):\n",
    "    ovr = SpaceOverlay(points, layers_dir, verbose=False)\n",
    "    data = ovr.run()\n",
    "\n",
    "%timeit -n 1 -r 1 pyeumap_sampling(points, layers_dir)"
   ]
  }
 ],
 "metadata": {
  "kernel_info": {
   "name": "python3"
  },
  "kernelspec": {
   "display_name": "Python 3",
   "language": "python",
   "name": "python3"
  },
  "language_info": {
   "codemirror_mode": {
    "name": "ipython",
    "version": 3
   },
   "file_extension": ".py",
   "mimetype": "text/x-python",
   "name": "python",
   "nbconvert_exporter": "python",
   "pygments_lexer": "ipython3",
   "version": "3.8.5"
  },
  "nteract": {
   "version": "0.25.0"
  }
 },
 "nbformat": 4,
 "nbformat_minor": 1
}
