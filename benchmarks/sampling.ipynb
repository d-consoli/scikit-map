{
 "cells": [
  {
   "cell_type": "markdown",
   "metadata": {},
   "source": [
    "# `pyeumap` raster sampling benchmarks"
   ]
  },
  {
   "cell_type": "code",
   "execution_count": 1,
   "metadata": {
    "execution": {
     "iopub.execute_input": "2020-09-27T22:10:22.720Z",
     "iopub.status.busy": "2020-09-27T22:10:22.705Z",
     "iopub.status.idle": "2020-09-27T22:10:23.199Z",
     "shell.execute_reply": "2020-09-27T22:10:23.229Z"
    }
   },
   "outputs": [
    {
     "name": "stdout",
     "output_type": "stream",
     "text": [
      "sample size: 759\n"
     ]
    }
   ],
   "source": [
    "from pathlib import Path\n",
    "import geopandas as gpd\n",
    "import rasterio as rio\n",
    "import numpy as np\n",
    "import multiprocessing as mp\n",
    "\n",
    "import warnings\n",
    "warnings.filterwarnings('ignore')\n",
    "\n",
    "from pyeumap.overlay import SpaceOverlay\n",
    "\n",
    "max_workers = 8\n",
    "\n",
    "data_dir = Path('/data/work/geoharmonizer/pilot_tiles/croatia_9529')\n",
    "layers_dir = data_dir.joinpath('images')\n",
    "points = gpd.read_file(data_dir.joinpath('training_samples.gpkg'))\n",
    "\n",
    "print('sample size:', points.index.size)"
   ]
  },
  {
   "cell_type": "markdown",
   "metadata": {},
   "source": [
    "Serial sampling with `rasterio`:"
   ]
  },
  {
   "cell_type": "code",
   "execution_count": 2,
   "metadata": {
    "execution": {
     "iopub.execute_input": "2020-09-27T22:10:30.006Z",
     "iopub.status.busy": "2020-09-27T22:10:29.984Z",
     "iopub.status.idle": "2020-09-27T22:12:18.870Z",
     "shell.execute_reply": "2020-09-27T22:12:18.887Z"
    }
   },
   "outputs": [
    {
     "name": "stdout",
     "output_type": "stream",
     "text": [
      "1min 48s ± 0 ns per loop (mean ± std. dev. of 1 run, 1 loop each)\n"
     ]
    }
   ],
   "source": [
    "def serial_sampling(points, layers_dir):\n",
    "    sources = [\n",
    "        rio.open(fn)\n",
    "        for fn in sorted(layers_dir.glob('**/*.tif'))\n",
    "    ]\n",
    "\n",
    "    coordinates = np.c_[\n",
    "        points.geometry.x,\n",
    "        points.geometry.y,\n",
    "    ]\n",
    "\n",
    "    results = points.copy()\n",
    "    for src in sources:\n",
    "        layer_name = Path(src.name).stem\n",
    "        results[layer_name] = np.stack(src.sample(coordinates)).ravel()\n",
    "\n",
    "%timeit -n 1 -r 1 serial_sampling(points, layers_dir)"
   ]
  },
  {
   "cell_type": "markdown",
   "metadata": {},
   "source": [
    "Parallel sampling with `rasterio`:"
   ]
  },
  {
   "cell_type": "code",
   "execution_count": 3,
   "metadata": {
    "execution": {
     "iopub.execute_input": "2020-09-27T22:12:35.367Z",
     "iopub.status.busy": "2020-09-27T22:12:35.349Z",
     "iopub.status.idle": "2020-09-27T22:12:50.566Z",
     "shell.execute_reply": "2020-09-27T22:12:50.605Z"
    }
   },
   "outputs": [
    {
     "name": "stdout",
     "output_type": "stream",
     "text": [
      "15.2 s ± 0 ns per loop (mean ± std. dev. of 1 run, 1 loop each)\n"
     ]
    }
   ],
   "source": [
    "def sample_one_layer(args):\n",
    "    fn, coordinates = args\n",
    "    layer_name = fn.stem\n",
    "    with rio.open(fn) as src:\n",
    "        data = np.stack(src.sample(coordinates)).ravel()\n",
    "    return layer_name, data\n",
    "\n",
    "def parallel_sampling(points, layers_dir):\n",
    "    files = sorted(layers_dir.glob('**/*.tif'))\n",
    "\n",
    "    coordinates = np.c_[\n",
    "        points.geometry.x,\n",
    "        points.geometry.y,\n",
    "    ]\n",
    "\n",
    "    results = points.copy()\n",
    "\n",
    "    arg_gen = (\n",
    "        (fn, coordinates)\n",
    "        for fn in files\n",
    "    )\n",
    "\n",
    "    with mp.Pool(max_workers) as pool:\n",
    "        for layer_name, data in pool.map(\n",
    "            sample_one_layer,\n",
    "            arg_gen,\n",
    "        ):\n",
    "            results[layer_name] = data\n",
    "\n",
    "%timeit -n 1 -r 1 parallel_sampling(points, layers_dir)"
   ]
  },
  {
   "cell_type": "markdown",
   "metadata": {},
   "source": [
    "Parallel sampling with `pyeumap`:"
   ]
  },
  {
   "cell_type": "code",
   "execution_count": 4,
   "metadata": {
    "execution": {
     "iopub.execute_input": "2020-09-27T22:12:58.379Z",
     "iopub.status.busy": "2020-09-27T22:12:58.366Z",
     "iopub.status.idle": "2020-09-27T22:13:26.251Z",
     "shell.execute_reply": "2020-09-27T22:13:26.271Z"
    }
   },
   "outputs": [
    {
     "name": "stdout",
     "output_type": "stream",
     "text": [
      "27.9 s ± 0 ns per loop (mean ± std. dev. of 1 run, 1 loop each)\n"
     ]
    }
   ],
   "source": [
    "def pyeumap_sampling(points, layers_dir):\n",
    "    ovr = SpaceOverlay(\n",
    "        points,\n",
    "        layers_dir,\n",
    "        max_workers=max_workers,\n",
    "        verbose=False,\n",
    "    )\n",
    "    data = ovr.run()\n",
    "\n",
    "%timeit -n 1 -r 1 pyeumap_sampling(points, layers_dir)"
   ]
  },
  {
   "cell_type": "markdown",
   "metadata": {},
   "source": [
    "`pyeumap` sampling optimizations generate some overhead which makes them unsuitable for smaller datasets. However, if we quadruple the sample size:"
   ]
  },
  {
   "cell_type": "code",
   "execution_count": 2,
   "metadata": {
    "execution": {
     "iopub.execute_input": "2020-09-27T22:13:38.132Z",
     "iopub.status.busy": "2020-09-27T22:13:38.118Z",
     "iopub.status.idle": "2020-09-27T22:13:38.162Z",
     "shell.execute_reply": "2020-09-27T22:13:38.176Z"
    }
   },
   "outputs": [
    {
     "name": "stdout",
     "output_type": "stream",
     "text": [
      "sample size: 3036\n"
     ]
    }
   ],
   "source": [
    "for i in range(2):\n",
    "    points = points.append(points, ignore_index=True)\n",
    "\n",
    "print('sample size:', points.index.size)"
   ]
  },
  {
   "cell_type": "markdown",
   "metadata": {},
   "source": [
    "Parallel sampling with `rasterio`:"
   ]
  },
  {
   "cell_type": "code",
   "execution_count": 6,
   "metadata": {
    "execution": {
     "iopub.execute_input": "2020-09-27T22:13:42.081Z",
     "iopub.status.busy": "2020-09-27T22:13:42.065Z",
     "iopub.status.idle": "2020-09-27T22:14:35.690Z",
     "shell.execute_reply": "2020-09-27T22:14:35.711Z"
    }
   },
   "outputs": [
    {
     "name": "stdout",
     "output_type": "stream",
     "text": [
      "53.6 s ± 0 ns per loop (mean ± std. dev. of 1 run, 1 loop each)\n"
     ]
    }
   ],
   "source": [
    "%timeit -n 1 -r 1 parallel_sampling(points, layers_dir)"
   ]
  },
  {
   "cell_type": "markdown",
   "metadata": {},
   "source": [
    "Parallel sampling with `pyeumap`:"
   ]
  },
  {
   "cell_type": "code",
   "execution_count": 7,
   "metadata": {
    "execution": {
     "iopub.execute_input": "2020-09-27T22:14:42.602Z",
     "iopub.status.busy": "2020-09-27T22:14:42.588Z",
     "iopub.status.idle": "2020-09-27T22:15:19.348Z",
     "shell.execute_reply": "2020-09-27T22:15:19.368Z"
    }
   },
   "outputs": [
    {
     "name": "stdout",
     "output_type": "stream",
     "text": [
      "36.8 s ± 0 ns per loop (mean ± std. dev. of 1 run, 1 loop each)\n"
     ]
    }
   ],
   "source": [
    "%timeit -n 1 -r 1 pyeumap_sampling(points, layers_dir)\n"
   ]
  }
 ],
 "metadata": {
  "anaconda-cloud": {},
  "kernelspec": {
   "display_name": "Python 3",
   "language": "python",
   "name": "python3"
  },
  "language_info": {
   "codemirror_mode": {
    "name": "ipython",
    "version": 3
   },
   "file_extension": ".py",
   "mimetype": "text/x-python",
   "name": "python",
   "nbconvert_exporter": "python",
   "pygments_lexer": "ipython3",
   "version": "3.8.5"
  },
  "nteract": {
   "version": "0.25.0"
  }
 },
 "nbformat": 4,
 "nbformat_minor": 4
}
