{
 "cells": [
  {
   "cell_type": "code",
   "execution_count": 1,
   "id": "9ef2da34-03b8-4c68-932b-9a30745f6a1f",
   "metadata": {
    "tags": []
   },
   "outputs": [],
   "source": [
    "from skmap.modeler import RFRegressor, RFRegressorTrees\n",
    "from skmap.catalog import DataCatalog\n",
    "from skmap.tiled_data import TiledData, TiledDataLoader, TiledDataExporter\n",
    "from skmap.misc import TimeTracker, ttprint, sb_arr\n",
    "import skmap_bindings as sb\n",
    "import sys, os, warnings\n",
    "import numpy as np\n",
    "warnings.filterwarnings(\"ignore\", module=\"sklearn\")\n",
    "import time\n",
    "\n",
    "gdal_opts = {\n",
    " 'GDAL_HTTP_VERSION': '1.0',\n",
    " 'CPL_VSIL_CURL_ALLOWED_EXTENSIONS': '.tif',\n",
    "}\n",
    "x_size, y_size = (4004, 4004)\n",
    "n_pix = x_size * y_size\n",
    "x_off, y_off = (0,0)\n",
    "bands_list = [1,]\n",
    "no_data_out = 32767\n",
    "compression_command = f\"gdal_translate -a_nodata {no_data_out} -a_scale 0.0001 -co COMPRESS=deflate -co PREDICTOR=2 -co TILED=TRUE -co BLOCKXSIZE=2048 -co BLOCKYSIZE=2048\"\n",
    "n_threads = 96\n",
    "\n",
    "in_file = \"gpw_short.veg.height_lgb.lr.trend.filt_m_30m_s_20000101_20221231_go_epsg.4326_v20240809.tif\""
   ]
  },
  {
   "cell_type": "code",
   "execution_count": 2,
   "id": "520c63c1-894c-424c-b0c7-0cebfd444948",
   "metadata": {
    "tags": []
   },
   "outputs": [],
   "source": [
    "in_data = sb_arr(1, n_pix)\n",
    "sb.readDataCore(in_data,n_threads,in_file,x_off,y_off,x_size,y_size,\n",
    "              bands_list,gdal_opts,None,np.nan)"
   ]
  },
  {
   "cell_type": "code",
   "execution_count": 3,
   "id": "ee1cabf4-1ef7-41cd-a09e-d8ed208abc6f",
   "metadata": {
    "tags": []
   },
   "outputs": [],
   "source": [
    "sb.writeInt16Data(in_data,n_threads,gdal_opts,[in_file],'.',[\"refInt16\"],\n",
    "                   [0],x_off,y_off,x_size,y_size,no_data_out,compression_command)"
   ]
  },
  {
   "cell_type": "code",
   "execution_count": 4,
   "id": "e3f47a55-16cf-41ab-938e-10a711ef6f71",
   "metadata": {
    "tags": []
   },
   "outputs": [],
   "source": [
    "sb.writeData(in_data,n_threads,gdal_opts,[in_file],'.',[\"testInt32\"],\n",
    "                   [0],x_off,y_off,x_size,y_size,no_data_out,\n",
    "                   \"int32\",compression_command)"
   ]
  },
  {
   "cell_type": "code",
   "execution_count": 5,
   "id": "e887bd14-a9ba-41ed-8e8b-65bc7b8fff66",
   "metadata": {
    "tags": []
   },
   "outputs": [],
   "source": [
    "sb.writeData(in_data,n_threads,gdal_opts,[in_file],'.',[\"testInt16.tif\"],\n",
    "                   [0],x_off,y_off,x_size,y_size,no_data_out,\n",
    "                   \"int16\",compression_command)"
   ]
  },
  {
   "cell_type": "code",
   "execution_count": null,
   "id": "9c458f3f-c60b-457e-b804-3aea139281ef",
   "metadata": {},
   "outputs": [],
   "source": []
  }
 ],
 "metadata": {
  "kernelspec": {
   "display_name": "Python 3 (ipykernel)",
   "language": "python",
   "name": "python3"
  },
  "language_info": {
   "codemirror_mode": {
    "name": "ipython",
    "version": 3
   },
   "file_extension": ".py",
   "mimetype": "text/x-python",
   "name": "python",
   "nbconvert_exporter": "python",
   "pygments_lexer": "ipython3",
   "version": "3.8.16"
  }
 },
 "nbformat": 4,
 "nbformat_minor": 5
}
